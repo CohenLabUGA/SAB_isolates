{
 "cells": [
  {
   "cell_type": "code",
   "execution_count": null,
   "id": "701473bf",
   "metadata": {},
   "outputs": [],
   "source": [
    "#if (!require(\"BiocManager\", quietly = TRUE))\n",
    "  #install.packages(\"BiocManager\")\n",
    "#BiocManager::install(\"DOSE\")\n",
    "library(clusterProfiler)\n",
    "library(tidyverse)\n",
    "library(forcats)\n",
    "library(ggrepel)\n",
    "library(enrichplot)\n",
    "library(tibble)\n",
    "library(ggupset)\n",
    "library(ggridges)\n",
    "library(gage)\n",
    "library(DOSE)\n",
    "library(pathview)\n",
    "library(ggpubr)"
   ]
  },
  {
   "cell_type": "markdown",
   "id": "5a7ea962",
   "metadata": {},
   "source": [
    "# Generate ranked list of ko_id's and LFC\n",
    "numeric vector: fold change or other type of numerical variable\n",
    "- here I sorted by differential expression, taking the sign from LFC and value of significance from adjusted pvalue.\n",
    "- top: most upregulated genes\n",
    "- middle: most insignificantly expressed genes\n",
    "- bottom: most downregulated genes\n",
    "\n",
    "named vector: every number has a name, the corresponding gene ID\n",
    "sorted vector: number should be sorted in decreasing order\n",
    "import your data from a csv file, the file should contains two columns, one for gene ID (no duplicated ID allowed) and another one for fold change.\n",
    "### Over expression analysis uses only DE genes\n",
    "### Gene set expression analysis uses all genes with DE values"
   ]
  },
  {
   "cell_type": "code",
   "execution_count": null,
   "id": "80642451-0ee3-48e0-a1f1-a29d88f23547",
   "metadata": {},
   "outputs": [],
   "source": [
    "read.data = function(df){\n",
    "    df = read.csv(paste(\"./de_res_files/\",df,\".csv\",sep=''))\n",
    "    colnames(df)[1] = 'ko_id'\n",
    "    df = filter(df, padj<=0.05)\n",
    "    # create a ranked gene list\n",
    "    genes=df$log2FoldChange\n",
    "    names(genes)=as.character(df$ko_id)\n",
    "    geneList=sort(genes, decreasing=T)\n",
    "    # geneList is a sorted list of genes with thier DE ranking and ko_id as list names\n",
    "    print(max(geneList))\n",
    "    geneList\n",
    "    }\n",
    "\n",
    "                       "
   ]
  },
  {
   "cell_type": "code",
   "execution_count": null,
   "id": "8dfc8ba5-eb24-4ffc-a861-a41bf2fe474f",
   "metadata": {},
   "outputs": [],
   "source": [
    "#High vs Low Fe\n",
    "HvL8.geneList = read.data('lfc8.k.HvL')\n",
    "HvL6.geneList = read.data('lfc6.k.HvL')\n",
    "HvL13.geneList = read.data('lfc13.k.HvL')\n",
    "#Fe ammendment vs Low Fe\n",
    "AvL4.geneList = read.data('lfc4.k.AvL')\n",
    "AvL8.geneList = read.data('lfc8.k.AvL')\n",
    "AvL6.geneList = read.data('lfc6.k.AvL')\n",
    "AvL13.geneList = read.data('lfc13.k.AvL')\n",
    "#Fe ammendment vs High Fe\n",
    "AvH8.geneList = read.data('lfc8.k.AvH')\n",
    "AvH6.geneList = read.data('lfc6.k.AvH')\n",
    "AvH13.geneList = read.data('lfc13.k.AvH')\n",
    "tail(AvH13.geneList)"
   ]
  },
  {
   "cell_type": "markdown",
   "id": "591f9c90-af0f-4a94-ad14-f330eabc19ae",
   "metadata": {},
   "source": [
    "# Pull our Kegg Metabolism and cell cycle pathways\n",
    "This will only compare ko's to those which are annotated to metabolism and cell cycle pathways and not human diseases. "
   ]
  },
  {
   "cell_type": "code",
   "execution_count": null,
   "id": "8ab7b3b0-53bb-4438-bbbc-e38215db65cb",
   "metadata": {},
   "outputs": [],
   "source": [
    "kg.ko=kegg.gsets(species='ko', check.new=T) \n",
    "kegg.sigmet=kg.ko$kg.sets[kg.ko$sigmet.idx]\n",
    "kegg.sigmet.term2gene = data.frame(\n",
    "    TERM=str_remove(rep(names(kegg.sigmet), sapply(kegg.sigmet, length)), 'ko[[:digit:]]{5}'), \n",
    "    GENE= unlist(kegg.sigmet))\n",
    "\n",
    "kegg.met = kg.ko$kg.sets[kg.ko$met.idx]\n",
    "kegg.gs.term2gene = data.frame(\n",
    "    TERM=str_remove(rep(names(kegg.met), sapply(kegg.met, length)), 'ko[[:digit:]]{5}'), \n",
    "    GENE= unlist(kegg.met))\n",
    "head(kegg.gs.term2gene)"
   ]
  },
  {
   "cell_type": "code",
   "execution_count": null,
   "id": "a12cec58-f92e-49fa-b48d-445428370713",
   "metadata": {},
   "outputs": [],
   "source": [
    "a=kegg.met[1]\n",
    "a=data.frame(ko_id=unlist(a))\n",
    "#a= a %>% rownames_to_column('Path_name') \n",
    "head(a)\n",
    "#a$pat=str_split(a$Path_name, 'ko[[:digit:]]*', simplify = T)\n",
    "b = str_split_fixed(rownames(a), ' ',n = 2)\n",
    "b = as_tibble(b, .name_repair = make.names)\n",
    "colnames(b) = c('path_code','path_name')\n",
    "c=bind_cols(ko_id=a$ko_id, b)\n",
    "head(c)\n"
   ]
  },
  {
   "cell_type": "markdown",
   "id": "a6c93c42-9132-46a9-852e-d985ed7683ea",
   "metadata": {},
   "source": [
    "# Run GSE analysis "
   ]
  },
  {
   "cell_type": "code",
   "execution_count": null,
   "id": "75fdd95e-3fd8-4696-ad01-1d39aa2d3d4e",
   "metadata": {},
   "outputs": [],
   "source": [
    "run.gsea = function(geneList){\n",
    "    gsea = GSEA(geneList, minGSSize=5, eps = 0,\n",
    "                pvalueCutoff = 0.05, \n",
    "                pAdjustMethod = 'fdr',\n",
    "                TERM2GENE = kegg.gs.term2gene)\n",
    "    gsea    \n",
    "}              "
   ]
  },
  {
   "cell_type": "code",
   "execution_count": null,
   "id": "03ccb98f-344e-4094-9204-a991045f3a7e",
   "metadata": {},
   "outputs": [],
   "source": [
    "gsea.HvL8=run.gsea(HvL8.geneList)\n",
    "gsea.AvL8=run.gsea(AvL8.geneList)\n",
    "gsea.AvH8=run.gsea(AvH8.geneList)\n",
    "\n",
    "dotplot(gsea.HvL8, showCategory=100,split=\".sign\") + \n",
    "                    facet_grid(.~.sign)\n",
    "dotplot(gsea.AvL8, showCategory=100,split=\".sign\") + \n",
    "                    facet_grid(.~.sign)\n",
    "dotplot(gsea.AvH8, showCategory=100,split=\".sign\") + \n",
    "                    facet_grid(.~.sign)"
   ]
  },
  {
   "cell_type": "code",
   "execution_count": null,
   "id": "1fdc16a6-9cb3-450d-9b5f-bf193d664290",
   "metadata": {},
   "outputs": [],
   "source": [
    "gsea.HvL6=run.gsea(HvL6.geneList)\n",
    "gsea.AvL6=run.gsea(AvL6.geneList)\n",
    "gsea.AvH6=run.gsea(AvH6.geneList)\n",
    "\n",
    "dotplot(gsea.HvL6, showCategory=30,split=\".sign\") + \n",
    "                    facet_grid(.~.sign)\n",
    "dotplot(gsea.AvL6, showCategory=30,split=\".sign\") + \n",
    "                    facet_grid(.~.sign)\n",
    "dotplot(gsea.AvH6, showCategory=30,split=\".sign\") + \n",
    "                    facet_grid(.~.sign)\n"
   ]
  },
  {
   "cell_type": "code",
   "execution_count": null,
   "id": "e4791f3d-1391-400c-981c-7e2412dba775",
   "metadata": {},
   "outputs": [],
   "source": [
    "\n",
    "gsea.AvL4=run.gsea(AvL4.geneList)\n",
    "dotplot(gsea.AvL4, showCategory=30,split=\".sign\") + \n",
    "                    facet_grid(.~.sign)\n"
   ]
  },
  {
   "cell_type": "code",
   "execution_count": null,
   "id": "d6940a24-c84b-4b72-97c5-c9f57ddb09c2",
   "metadata": {},
   "outputs": [],
   "source": [
    "gsea.HvL13=run.gsea(HvL13.geneList)\n",
    "gsea.AvL13=run.gsea(AvL13.geneList)\n",
    "gsea.AvH13=run.gsea(AvH13.geneList)\n",
    "\n",
    "dotplot(gsea.HvL13, showCategory=30,split=\".sign\") + \n",
    "                    facet_grid(.~.sign)\n",
    "dotplot(gsea.AvL13, showCategory=30,split=\".sign\") + \n",
    "                    facet_grid(.~.sign)\n",
    "dotplot(gsea.AvH13, showCategory=30,split=\".sign\") + \n",
    "                    facet_grid(.~.sign)"
   ]
  },
  {
   "cell_type": "markdown",
   "id": "86b8e6f1-fdc2-44a5-950f-948dc1239b9e",
   "metadata": {},
   "source": [
    "## Pull out result DF and add organism name\n",
    "Create a df for each comparison "
   ]
  },
  {
   "cell_type": "code",
   "execution_count": null,
   "id": "1e7005de-15bf-4707-a053-b16fe911fb28",
   "metadata": {},
   "outputs": [],
   "source": [
    "Avl8=mutate(gsea.AvL8@result, organism='C. closterium UGA8')\n",
    "Avl4=mutate(gsea.AvL4@result, organism='C. closterium UGA4')\n",
    "Avl6=mutate(gsea.AvL6@result, organism='G. oceanica')\n",
    "Avl13=mutate(gsea.AvL13@result, organism='G. huxleyi')\n",
    "\n",
    "Avh8=mutate(gsea.AvH8@result, organism='C. closterium UGA8')\n",
    "Avh6=mutate(gsea.AvH6@result, organism='G. oceanica')\n",
    "Avh13=mutate(gsea.AvH13@result, organism='G. huxleyi')\n",
    "\n",
    "Hvl8=mutate(gsea.HvL8@result, organism='C. closterium UGA8')\n",
    "Hvl6=mutate(gsea.HvL6@result, organism='G. oceanica')\n",
    "Hvl13=mutate(gsea.HvL13@result, organism='G. huxleyi')\n",
    "\n",
    "Hvl = bind_rows(Hvl13,Hvl8,Hvl6)\n",
    "Avl = bind_rows(Avl4, Avl13, Avl8, Avl6)\n",
    "Avh = bind_rows(Avh13, Avh8, Avh6)\n"
   ]
  },
  {
   "cell_type": "markdown",
   "id": "14f79663-85ba-433d-892a-1531facf1765",
   "metadata": {},
   "source": [
    "## Plot enrichments"
   ]
  },
  {
   "cell_type": "markdown",
   "id": "3017957c-2c4f-43a8-9705-874e1f0d5e31",
   "metadata": {},
   "source": [
    "## Make dot plots\n",
    "First, make treatment column and filter enrichment by positive/negative NES\n",
    "Make dotplot with organisms on X and Description on Y. "
   ]
  },
  {
   "cell_type": "code",
   "execution_count": null,
   "id": "7a5d648e-bf58-4140-96df-532065805694",
   "metadata": {},
   "outputs": [],
   "source": [
    "Hvl$treatment = ifelse(Hvl$NES > 0, 'High Iron','Low Iron')\n",
    "Avl$treatment = ifelse(Avl$NES > 0, 'Iron Amendment', 'Low Iron')\n",
    "Avh$treatment = ifelse(Avh$NES > 0, 'Iron Amendment', 'High Iron')\n",
    "\n",
    "all.gsea.dotplot = function(df){\n",
    "    ggplot(df, aes(organism, Description, color=p.adjust, size=abs(NES)))+ \n",
    "   geom_point(stat = 'identity', size=20)+\n",
    "facet_grid(~treatment, scales='free_y')+\n",
    "theme_bw()+\n",
    "xlab(NULL) + \n",
    "ylab(element_blank()) +\n",
    "scale_y_discrete(labels=function(x) str_wrap(x, 35))+ #, expand=c(0.02,0.02)) +\n",
    "scale_x_discrete(labels=function(x) str_wrap(x, 15)) +\n",
    "scale_color_gradient(low = 'red', high='blue')+\n",
    "guides(color=guide_colorbar(title = 'Normalized enrichment score', reverse=TRUE, \n",
    "                            title.theme = element_text(size=20, face='bold'),\n",
    "                           title.position='top', label.theme=element_text(size=20),\n",
    "                           barwidth=30, barheight=2)) +\n",
    "theme(text = element_text(color='black', size=20), \n",
    "          panel.grid.minor = element_line(colour = 'grey'), \n",
    "          strip.text=element_text(size=25, face='bold'), \n",
    "          strip.background=element_rect(fill='white'), \n",
    "          axis.text.y=element_text(size=20, color='black'), \n",
    "          axis.text.x = element_text(size=20, face = 'italic', color='black'),\n",
    "    plot.margin=margin(0.2,0.2,0.2,3, unit='cm'))\n",
    "}\n",
    "\n",
    "#png(file = '../figs/gsea_dotplot_HvL.png',width = 10, height = 15)\n",
    "hvl.gsea.dotplot = all.gsea.dotplot(Hvl)    \n",
    "#print(hvl.gsea.dotplot)\n",
    "#dev.off()\n",
    "#ggsave(filename = '../figs/gsea_dotplot_HvL.png', hvl.gsea.dotplot, device='png', height = 10, width=15)\n",
    "                 \n",
    "#png(file = '../figs/gsea_dotplot_AvL.png',width = 10, height = 15)\n",
    "avl.gsea.dotplot = all.gsea.dotplot(Avl) \n",
    "#print(avl.gsea.dotplot)\n",
    "#dev.off()\n",
    "#ggsave(filename = '../figs/gsea_dotplot_AvL.png', avl.gsea.dotplot, device='png', height = 5, width=8)\n",
    "                 \n",
    "#png(file = '../figs/gsea_dotplot_AvH.png',width = 10, height = 15)\n",
    "avh.gsea.dotplot = all.gsea.dotplot(Avh)                \n",
    "#print(avh.gsea.dotplot)\n",
    "#dev.off()\n",
    "# ggsave(filename = '../figs/gsea_dotplot_AvH.png', avh.gsea.dotplot, device='png', height = 15, width=15)\n",
    "                 \n",
    "avl.gsea.dotplot"
   ]
  },
  {
   "cell_type": "code",
   "execution_count": null,
   "id": "71af8e67-ede1-44af-b541-bb55c90817ad",
   "metadata": {},
   "outputs": [],
   "source": [
    "                                  \n",
    "#gsea_dotplot_all= ggarrange(avl.gsea.dotplot, hvl.gsea.dotplot, ncol=1, common.legend=T, align='v', legend='right')      \n",
    "                 \n",
    "#ggsave(filename = '../figs/gsea_dotplot_all.png', gsea_dotplot_all, device='png', height = 25, width=19)\n",
    "\n",
    "gsea_dotplot_all= ggarrange(avl.gsea.dotplot, hvl.gsea.dotplot, ncol=1, common.legend=T, font.label = element_text(size=30, face='bold'),\n",
    "                            align='v', legend='bottom',labels = c('A','B'))  \n",
    "                 \n",
    "ggsave(filename = '../figs/gsea_dotplot_all2.png', gsea_dotplot_all, device='png', height = 25, width=23)"
   ]
  },
  {
   "cell_type": "code",
   "execution_count": null,
   "id": "f3a9fff4-a210-46f4-8e16-2b81800c2565",
   "metadata": {},
   "outputs": [],
   "source": [
    "gsea_dotplot_all"
   ]
  },
  {
   "cell_type": "markdown",
   "id": "1331726e-5f81-46fa-941f-1244cec0116a",
   "metadata": {},
   "source": [
    "# Make table of enrichment and genes within pathways."
   ]
  },
  {
   "cell_type": "code",
   "execution_count": null,
   "id": "c4c6257a-9b05-4691-ae8d-543e0d6f54af",
   "metadata": {},
   "outputs": [],
   "source": [
    "colnames(Hvl)\n",
    "split_into_multiple <- function(column, pattern = \"/\", into_prefix){\n",
    "    #adapted from post on stack overflow\n",
    "    cols <- str_split_fixed(column, pattern, n = Inf)\n",
    "  # Replace empty matrix indicies with NA's \n",
    "    cols[which(cols == \"\")] <- NA\n",
    "  # turn matrix into a table with unique but arbitraty column names  \n",
    "    cols <- as_tibble(cols, .name_repair = make.names)\n",
    "  # where m = # columns in tibble 'cols'\n",
    "    m <- dim(cols)[2]\n",
    "  # assign column names as 'into_prefix_1', 'into_prefix_2', ..., 'into_prefix_m' \n",
    "    names(cols) <- paste(into_prefix, 1:m, sep = \"_\")\n",
    "    print('# of values in matrix w/o NA:')\n",
    "    print(sum(!is.na(cols)))\n",
    "    return(cols)\n",
    "}\n",
    "\n",
    "clean_ko <- function(df){\n",
    "    ko_iterations <- split_into_multiple(df$core_enrichment, \"/\", \"ko:\")\n",
    "    df = df %>% select(c('Description','organism','treatment','NES')) %>% bind_cols(ko_iterations)\n",
    "    df_clean = pivot_longer(df, cols = !c('Description','organism','treatment','NES'), \n",
    "                            values_drop_na = T,\n",
    "                            values_to = 'ko_id', names_to = 'ko_count')\n",
    "    df_clean=df_clean %>% select(!'ko_count')\n",
    "    df_clean\n",
    "    }\n",
    "\n",
    "core.ko.Hvl=clean_ko(Hvl)\n",
    "core.ko.Avl=clean_ko(Avl)\n",
    "core.ko.Avh=clean_ko(Avh)\n",
    "head(core.ko.Avl)"
   ]
  },
  {
   "cell_type": "code",
   "execution_count": null,
   "id": "76c549e2-7d0a-4760-8ace-b4b6a5226c5f",
   "metadata": {},
   "outputs": [],
   "source": [
    "ko.def=read.csv('../kegg_names/ko_def.csv')\n",
    "ko.def$name=str_remove(ko.def$name, '\\\\[EC:.+')\n",
    "\n",
    "core.ko.Hvl = right_join(ko.def, core.ko.Hvl, by='ko_id')\n",
    "core.ko.Avl = right_join(ko.def, core.ko.Avl, by='ko_id')\n",
    "core.ko.Avh = right_join(ko.def, core.ko.Avh, by='ko_id')\n"
   ]
  },
  {
   "cell_type": "code",
   "execution_count": null,
   "id": "e6d4d7c5-77e2-4ef9-9016-372069d0bd2f",
   "metadata": {},
   "outputs": [],
   "source": [
    "write.csv(core.ko.Hvl,'./de_res_files/core.ko.Hvl.csv',  row.names=F)\n",
    "write.csv(core.ko.Avl,'./de_res_files/core.ko.Avl.csv',  row.names=F)\n",
    "write.csv(core.ko.Avh,'./de_res_files/core.ko.Avh.csv',  row.names=F)"
   ]
  }
 ],
 "metadata": {
  "kernelspec": {
   "display_name": "R",
   "language": "R",
   "name": "ir"
  },
  "language_info": {
   "codemirror_mode": "r",
   "file_extension": ".r",
   "mimetype": "text/x-r-source",
   "name": "R",
   "pygments_lexer": "r",
   "version": "4.3.2"
  }
 },
 "nbformat": 4,
 "nbformat_minor": 5
}
