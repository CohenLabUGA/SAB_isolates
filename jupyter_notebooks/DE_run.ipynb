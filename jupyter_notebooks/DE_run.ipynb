{
 "cells": [
  {
   "cell_type": "markdown",
   "id": "cbdaeac3",
   "metadata": {},
   "source": [
    "# Differential gene expression with DESeq2\n",
    "\n",
    "This notebook with create two of the following\n",
    "1. matrix of significant differentially expressed orf's from the results of the differential expression analysis\n",
    "2. matrix of VSD normalized counts ordered by variance across samples\n",
    "\n",
    "Both of these files will be created for transcript-level data and \"gene-level\" data using only transcripts with Kegg annotations and summing by Kegg annotation. \n",
    "<b>The second method will result in data with rownames as Kegg annotations, meaning each annotation appears once in the matrix. </b>"
   ]
  },
  {
   "cell_type": "markdown",
   "id": "2eeabfee",
   "metadata": {},
   "source": [
    "\n",
    "### Prepare environment\n",
    "----"
   ]
  },
  {
   "cell_type": "code",
   "execution_count": 1,
   "id": "da4d6982",
   "metadata": {
    "editable": true,
    "slideshow": {
     "slide_type": ""
    },
    "tags": []
   },
   "outputs": [
    {
     "name": "stderr",
     "output_type": "stream",
     "text": [
      "\n",
      "Attaching package: ‘BiocGenerics’\n",
      "\n",
      "\n",
      "The following objects are masked from ‘package:stats’:\n",
      "\n",
      "    IQR, mad, sd, var, xtabs\n",
      "\n",
      "\n",
      "The following objects are masked from ‘package:base’:\n",
      "\n",
      "    anyDuplicated, aperm, append, as.data.frame, basename, cbind,\n",
      "    colnames, dirname, do.call, duplicated, eval, evalq, Filter, Find,\n",
      "    get, grep, grepl, intersect, is.unsorted, lapply, Map, mapply,\n",
      "    match, mget, order, paste, pmax, pmax.int, pmin, pmin.int,\n",
      "    Position, rank, rbind, Reduce, rownames, sapply, setdiff, sort,\n",
      "    table, tapply, union, unique, unsplit, which.max, which.min\n",
      "\n",
      "\n",
      "\n",
      "Attaching package: ‘S4Vectors’\n",
      "\n",
      "\n",
      "The following object is masked from ‘package:utils’:\n",
      "\n",
      "    findMatches\n",
      "\n",
      "\n",
      "The following objects are masked from ‘package:base’:\n",
      "\n",
      "    expand.grid, I, unname\n",
      "\n",
      "\n",
      "\n",
      "Attaching package: ‘MatrixGenerics’\n",
      "\n",
      "\n",
      "The following objects are masked from ‘package:matrixStats’:\n",
      "\n",
      "    colAlls, colAnyNAs, colAnys, colAvgsPerRowSet, colCollapse,\n",
      "    colCounts, colCummaxs, colCummins, colCumprods, colCumsums,\n",
      "    colDiffs, colIQRDiffs, colIQRs, colLogSumExps, colMadDiffs,\n",
      "    colMads, colMaxs, colMeans2, colMedians, colMins, colOrderStats,\n",
      "    colProds, colQuantiles, colRanges, colRanks, colSdDiffs, colSds,\n",
      "    colSums2, colTabulates, colVarDiffs, colVars, colWeightedMads,\n",
      "    colWeightedMeans, colWeightedMedians, colWeightedSds,\n",
      "    colWeightedVars, rowAlls, rowAnyNAs, rowAnys, rowAvgsPerColSet,\n",
      "    rowCollapse, rowCounts, rowCummaxs, rowCummins, rowCumprods,\n",
      "    rowCumsums, rowDiffs, rowIQRDiffs, rowIQRs, rowLogSumExps,\n",
      "    rowMadDiffs, rowMads, rowMaxs, rowMeans2, rowMedians, rowMins,\n",
      "    rowOrderStats, rowProds, rowQuantiles, rowRanges, rowRanks,\n",
      "    rowSdDiffs, rowSds, rowSums2, rowTabulates, rowVarDiffs, rowVars,\n",
      "    rowWeightedMads, rowWeightedMeans, rowWeightedMedians,\n",
      "    rowWeightedSds, rowWeightedVars\n",
      "\n",
      "\n",
      "Welcome to Bioconductor\n",
      "\n",
      "    Vignettes contain introductory material; view with\n",
      "    'browseVignettes()'. To cite Bioconductor, see\n",
      "    'citation(\"Biobase\")', and for packages 'citation(\"pkgname\")'.\n",
      "\n",
      "\n",
      "\n",
      "Attaching package: ‘Biobase’\n",
      "\n",
      "\n",
      "The following object is masked from ‘package:MatrixGenerics’:\n",
      "\n",
      "    rowMedians\n",
      "\n",
      "\n",
      "The following objects are masked from ‘package:matrixStats’:\n",
      "\n",
      "    anyMissing, rowMedians\n",
      "\n",
      "\n",
      "── \u001b[1mAttaching core tidyverse packages\u001b[22m ────────────────────────────────────────────────────────────────────── tidyverse 2.0.0 ──\n",
      "\u001b[32m✔\u001b[39m \u001b[34mdplyr    \u001b[39m 1.1.4     \u001b[32m✔\u001b[39m \u001b[34mpurrr    \u001b[39m 1.0.2\n",
      "\u001b[32m✔\u001b[39m \u001b[34mforcats  \u001b[39m 1.0.0     \u001b[32m✔\u001b[39m \u001b[34mreadr    \u001b[39m 2.1.5\n",
      "\u001b[32m✔\u001b[39m \u001b[34mggplot2  \u001b[39m 3.4.4     \u001b[32m✔\u001b[39m \u001b[34mstringr  \u001b[39m 1.5.1\n",
      "\u001b[32m✔\u001b[39m \u001b[34mlubridate\u001b[39m 1.9.3     \u001b[32m✔\u001b[39m \u001b[34mtidyr    \u001b[39m 1.3.0\n",
      "── \u001b[1mConflicts\u001b[22m ──────────────────────────────────────────────────────────────────────────────────────── tidyverse_conflicts() ──\n",
      "\u001b[31m✖\u001b[39m \u001b[34mlubridate\u001b[39m::\u001b[32m%within%()\u001b[39m masks \u001b[34mIRanges\u001b[39m::%within%()\n",
      "\u001b[31m✖\u001b[39m \u001b[34mdplyr\u001b[39m::\u001b[32mcollapse()\u001b[39m     masks \u001b[34mIRanges\u001b[39m::collapse()\n",
      "\u001b[31m✖\u001b[39m \u001b[34mdplyr\u001b[39m::\u001b[32mcombine()\u001b[39m      masks \u001b[34mBiobase\u001b[39m::combine(), \u001b[34mBiocGenerics\u001b[39m::combine()\n",
      "\u001b[31m✖\u001b[39m \u001b[34mdplyr\u001b[39m::\u001b[32mcount()\u001b[39m        masks \u001b[34mmatrixStats\u001b[39m::count()\n",
      "\u001b[31m✖\u001b[39m \u001b[34mdplyr\u001b[39m::\u001b[32mdesc()\u001b[39m         masks \u001b[34mIRanges\u001b[39m::desc()\n",
      "\u001b[31m✖\u001b[39m \u001b[34mtidyr\u001b[39m::\u001b[32mexpand()\u001b[39m       masks \u001b[34mS4Vectors\u001b[39m::expand()\n",
      "\u001b[31m✖\u001b[39m \u001b[34mdplyr\u001b[39m::\u001b[32mfilter()\u001b[39m       masks \u001b[34mstats\u001b[39m::filter()\n",
      "\u001b[31m✖\u001b[39m \u001b[34mdplyr\u001b[39m::\u001b[32mfirst()\u001b[39m        masks \u001b[34mS4Vectors\u001b[39m::first()\n",
      "\u001b[31m✖\u001b[39m \u001b[34mdplyr\u001b[39m::\u001b[32mlag()\u001b[39m          masks \u001b[34mstats\u001b[39m::lag()\n",
      "\u001b[31m✖\u001b[39m \u001b[34mggplot2\u001b[39m::\u001b[32mPosition()\u001b[39m   masks \u001b[34mBiocGenerics\u001b[39m::Position(), \u001b[34mbase\u001b[39m::Position()\n",
      "\u001b[31m✖\u001b[39m \u001b[34mpurrr\u001b[39m::\u001b[32mreduce()\u001b[39m       masks \u001b[34mGenomicRanges\u001b[39m::reduce(), \u001b[34mIRanges\u001b[39m::reduce()\n",
      "\u001b[31m✖\u001b[39m \u001b[34mdplyr\u001b[39m::\u001b[32mrename()\u001b[39m       masks \u001b[34mS4Vectors\u001b[39m::rename()\n",
      "\u001b[31m✖\u001b[39m \u001b[34mlubridate\u001b[39m::\u001b[32msecond()\u001b[39m   masks \u001b[34mS4Vectors\u001b[39m::second()\n",
      "\u001b[31m✖\u001b[39m \u001b[34mlubridate\u001b[39m::\u001b[32msecond<-()\u001b[39m masks \u001b[34mS4Vectors\u001b[39m::second<-()\n",
      "\u001b[31m✖\u001b[39m \u001b[34mdplyr\u001b[39m::\u001b[32mslice()\u001b[39m        masks \u001b[34mIRanges\u001b[39m::slice()\n",
      "\u001b[36mℹ\u001b[39m Use the conflicted package (\u001b[3m\u001b[34m<http://conflicted.r-lib.org/>\u001b[39m\u001b[23m) to force all conflicts to become errors\n"
     ]
    }
   ],
   "source": [
    "library('tximport', quietly=T)\n",
    "library('DESeq2',quietly=T)\n",
    "library('ashr',quietly=T)\n",
    "library('tibble',quietly=T)\n",
    "library('tidyverse',quietly=T)"
   ]
  },
  {
   "cell_type": "markdown",
   "id": "c10b8cd6",
   "metadata": {},
   "source": [
    "## DE analysis on all open reading frames (ORFs)\n",
    "---\n",
    "### 1. Read in Salmon Counts\n",
    "First, the count data from Salmon are read with with the `read.in` function which takes:\n",
    "- a pattern matching all salmon output files\n",
    "- the directory to each salmon file\n",
    "\n",
    "My data were separated into different folders, one for each organism, and the salmon output were placed within each. The pattern and directory can be changed based on file organization scheme. The raw counts are finally read in with `Tximport` specifying that <i>Salmon<i> was used.\n",
    "\n",
    "Next metadata are created for each salmon file using information in the salmon file header. The header has all three metadata categories combined, organism_treatment_replicate, so I extract the column names and use patterns matching each to separate each accordingly. "
   ]
  },
  {
   "cell_type": "code",
   "execution_count": 2,
   "id": "020b7d25-9166-4aad-b31a-b6522d94eaf5",
   "metadata": {},
   "outputs": [
    {
     "name": "stderr",
     "output_type": "stream",
     "text": [
      "reading in files with read_tsv\n",
      "\n",
      "1 \n",
      "2 \n",
      "3 \n",
      "4 \n",
      "5 \n",
      "\n",
      "\n"
     ]
    },
    {
     "name": "stdout",
     "output_type": "stream",
     "text": [
      "           id isolate treatment rep\n",
      "1 04add_backA      04  Add_Back   A\n",
      "2 04add_backB      04  Add_Back   B\n",
      "3  04pFe21_9A      04  Low_Iron   A\n",
      "4  04pFe21_9B      04  Low_Iron   B\n",
      "5  04pFe21_9C      04  Low_Iron   C\n"
     ]
    },
    {
     "name": "stderr",
     "output_type": "stream",
     "text": [
      "reading in files with read_tsv\n",
      "\n",
      "1 \n",
      "2 \n",
      "3 \n",
      "4 \n",
      "5 \n",
      "6 \n",
      "7 \n",
      "8 \n",
      "\n",
      "\n"
     ]
    },
    {
     "name": "stdout",
     "output_type": "stream",
     "text": [
      "           id isolate treatment rep\n",
      "1 08add_backB      08  Add_Back   B\n",
      "2 08add_backC      08  Add_Back   C\n",
      "3    08pFe19A      08 High_Iron   A\n",
      "4    08pFe19B      08 High_Iron   B\n",
      "5    08pFe19C      08 High_Iron   C\n",
      "6  08pFe21_9A      08  Low_Iron   A\n",
      "7  08pFe21_9B      08  Low_Iron   B\n",
      "8  08pFe21_9C      08  Low_Iron   C\n"
     ]
    },
    {
     "name": "stderr",
     "output_type": "stream",
     "text": [
      "reading in files with read_tsv\n",
      "\n",
      "1 \n",
      "2 \n",
      "3 \n",
      "4 \n",
      "5 \n",
      "6 \n",
      "7 \n",
      "8 \n",
      "9 \n",
      "\n",
      "\n"
     ]
    },
    {
     "name": "stdout",
     "output_type": "stream",
     "text": [
      "           id isolate treatment rep\n",
      "1 06add_backA      06  Add_Back   A\n",
      "2 06add_backB      06  Add_Back   B\n",
      "3 06add_backC      06  Add_Back   C\n",
      "4    06pFe19A      06 High_Iron   A\n",
      "5    06pFe19B      06 High_Iron   B\n",
      "6    06pFe19C      06 High_Iron   C\n",
      "7  06pFe21_9A      06  Low_Iron   A\n",
      "8  06pFe21_9B      06  Low_Iron   B\n",
      "9  06pFe21_9C      06  Low_Iron   C\n"
     ]
    },
    {
     "name": "stderr",
     "output_type": "stream",
     "text": [
      "reading in files with read_tsv\n",
      "\n",
      "1 \n",
      "2 \n",
      "3 \n",
      "4 \n",
      "5 \n",
      "6 \n",
      "7 \n",
      "8 \n",
      "\n",
      "\n"
     ]
    },
    {
     "name": "stdout",
     "output_type": "stream",
     "text": [
      "           id isolate treatment rep\n",
      "1 13add_backA      13  Add_Back   A\n",
      "2 13add_backB      13  Add_Back   B\n",
      "3    13pFe19A      13 High_Iron   A\n",
      "4    13pFe19B      13 High_Iron   B\n",
      "5    13pFe19C      13 High_Iron   C\n",
      "6  13pFe21_9A      13  Low_Iron   A\n",
      "7  13pFe21_9B      13  Low_Iron   B\n",
      "8  13pFe21_9C      13  Low_Iron   C\n"
     ]
    }
   ],
   "source": [
    "pattern='[[:digit:]]{2}(add_back|pFe21_9|pFe19)(A|B|C)'\n",
    "\n",
    "read.in <- function(org){\n",
    "    dir <- paste(\"../expression_analysis/salmon/\",org,sep='')\n",
    "    files <- file.path(dir,list.files(dir,pattern=\".sf\",recursive=TRUE))\n",
    "    \n",
    "    names(files)=str_extract(files,pattern)\n",
    "    \n",
    "    if (all(file.exists(files)) == FALSE) {\n",
    "        print(\"ERROR IN FILE NAMES, not all files exist\")\n",
    "        print(paste(\"Directory:\", dir, sep=\"/n\"))\n",
    "        print(paste(\"Files:\", files, sep='/n'))\n",
    "    }\n",
    "    \n",
    "    raw_counts <- tximport(files, type='salmon', txOut = TRUE) \n",
    "}\n",
    "\n",
    "create.metadata=function(org){\n",
    "    dir <- paste(\"../expression_analysis/salmon/\",org,sep='')\n",
    "    files <- file.path(dir,list.files(dir,pattern=\".sf\",recursive=TRUE))\n",
    "    \n",
    "    id=str_extract(files,pattern)\n",
    "    metadata=data.frame('id'=id,\n",
    "                        'isolate'=org,\n",
    "                        'treatment'=str_extract(id,'[[:alpha:]]+(19|21_9|_back)'),\n",
    "                        'rep'=str_extract(id, 'A|B|C'))\n",
    "    metadata$treatment=str_replace_all(\n",
    "        metadata$treatment,\n",
    "        c('pFe19'='High_Iron', 'pFe21_9'='Low_Iron','add_back'='Add_Back'))\n",
    "    metadata\n",
    "    print(metadata)                    \n",
    "}\n",
    "counts_4=read.in('04')\n",
    "metadata_4=create.metadata('04')\n",
    "\n",
    "counts_8=read.in('08')\n",
    "metadata_8=create.metadata('08')\n",
    "\n",
    "counts_6=read.in('06')\n",
    "metadata_6=create.metadata('06')\n",
    "\n",
    "counts_13=read.in('13')\n",
    "metadata_13=create.metadata('13')"
   ]
  },
  {
   "cell_type": "markdown",
   "id": "c51c0ee4-0bc9-4760-aa73-3b0c8e6cee97",
   "metadata": {},
   "source": [
    "Note: 13 (G. huxleyi) add_backC did not sequence well, and was not included in the analysis."
   ]
  },
  {
   "cell_type": "code",
   "execution_count": 12,
   "id": "99a9c26a-898b-4718-b8dc-6d800794b334",
   "metadata": {},
   "outputs": [
    {
     "name": "stdout",
     "output_type": "stream",
     "text": [
      "           id isolate treatment rep\n",
      "1 13add_backA      13  Add_Back   A\n",
      "2 13add_backB      13  Add_Back   B\n",
      "3    13pFe19A      13 High_Iron   A\n",
      "4    13pFe19B      13 High_Iron   B\n",
      "5    13pFe19C      13 High_Iron   C\n",
      "6  13pFe21_9A      13  Low_Iron   A\n",
      "7  13pFe21_9B      13  Low_Iron   B\n",
      "8  13pFe21_9C      13  Low_Iron   C\n"
     ]
    }
   ],
   "source": [
    "print(metadata_13)"
   ]
  },
  {
   "cell_type": "markdown",
   "id": "6eb40913",
   "metadata": {},
   "source": [
    "### 2. Create DeSeq object\n",
    "---------\n",
    "A DESeq2 object must be made to perform the differential expression analysis; this is done with the `dds` function. Since `Tximport` was used to read in the data, I used `DESeqDataSetFromTximport`. The `dds` function will compete a few more tasks, setting the low iron treatment as the point of comparison (this will enable multiple comparisons between treatments), and filtering out ORFs with fewer than 5 counts, here <b>n = lowest # of replicates in any treatment.<b> "
   ]
  },
  {
   "cell_type": "code",
   "execution_count": null,
   "id": "21c648de-7e0c-477f-93ad-70b5d3a52b4c",
   "metadata": {
    "scrolled": true
   },
   "outputs": [],
   "source": [
    "dds <- function(raw_counts, metadata, n){\n",
    "    dds <- DESeqDataSetFromTximport(raw_counts,\n",
    "                             colData=metadata,\n",
    "                             design=~treatment)\n",
    "    dds$treatment <- relevel(dds$treatment, ref = \"Low_Iron\")\n",
    "    keep <- rowSums(counts(dds) >=5) >= n #filter out rows with too low expression\n",
    "    print(nrow(dds))\n",
    "    dds <- dds[keep, ]\n",
    "    print(nrow(dds))\n",
    "    dds\n",
    "}\n",
    "\n",
    "dds4 <- dds(counts_4, metadata_4, 2)\n",
    "dds8 <- dds(counts_8, metadata_8, 2)\n",
    "dds6 <- dds(counts_6, metadata_6, 3)\n",
    "dds13 <- dds(counts_13, metadata_13, 3)"
   ]
  },
  {
   "cell_type": "markdown",
   "id": "7c8cd7e6-b6e1-4ca4-b466-39ef1abeb7fc",
   "metadata": {},
   "source": [
    "### 3. Run differential expression analysis\n",
    "---\n",
    "Because the low iron treatment was set as the base level, only one differential expression test needs to be run. The results from each comparison (high iron vs low iron and iron amendment vs low iron) can be extracted with `results()` and specifying the contrast, or comparison. `tidy = TRUE` creates a clean dataframe. "
   ]
  },
  {
   "cell_type": "code",
   "execution_count": null,
   "id": "f311e5d6",
   "metadata": {},
   "outputs": [],
   "source": [
    "# Run differential expression test\n",
    "de4 <- DESeq(dds4)\n",
    "de8 <- DESeq(dds8)\n",
    "de6 <- DESeq(dds6)\n",
    "de13 <- DESeq(dds13)\n",
    "\n",
    "# Define contrasts\n",
    "HvL <- c(\"treatment\", \"High_Iron\", \"Low_Iron\")\n",
    "AvL <- c(\"treatment\", \"Add_Back\", \"Low_Iron\")\n",
    "\n",
    "#results from Iron ammendment vs Low Iron\n",
    "AvL4 <- results(de4, contrast=AvL, tidy=TRUE)\n",
    "AvL8 <- results(de8, contrast=AvL, tidy=TRUE)\n",
    "AvL6 <- results(de6, contrast=AvL, tidy=TRUE)\n",
    "AvL13 <- results(de13, contrast=AvL, tidy=TRUE)\n",
    "\n",
    "#results from High Iron vs Low Iron\n",
    "HvL8  <- results(de8, contrast=HvL, tidy=TRUE)\n",
    "HvL6  <- results(de6, contrast=HvL,  tidy=TRUE)\n",
    "HvL13  <- results(de13,contrast=HvL, tidy=TRUE)\n",
    "\n",
    "colnames(AvL4)[1] <- \"orfs\"\n",
    "colnames(AvL8)[1] <- \"orfs\"\n",
    "colnames(AvL6)[1] <- \"orfs\"\n",
    "colnames(AvL13)[1] <- \"orfs\"\n",
    "\n",
    "colnames(HvL8)[1] <- \"orfs\"\n",
    "colnames(HvL6)[1] <- \"orfs\"\n",
    "colnames(HvL13)[1] <- \"orfs\""
   ]
  },
  {
   "cell_type": "code",
   "execution_count": 45,
   "id": "5e8f7e65-2bdd-4344-bfbd-1ff7f2c13b70",
   "metadata": {},
   "outputs": [
    {
     "data": {
      "text/plain": [
       "DataFrame with 5 rows and 4 columns\n",
       "                     id     isolate treatment         rep\n",
       "            <character> <character>  <factor> <character>\n",
       "04add_backA 04add_backA          04  Add_Back           A\n",
       "04add_backB 04add_backB          04  Add_Back           B\n",
       "04pFe21_9A   04pFe21_9A          04  Low_Iron           A\n",
       "04pFe21_9B   04pFe21_9B          04  Low_Iron           B\n",
       "04pFe21_9C   04pFe21_9C          04  Low_Iron           C"
      ]
     },
     "metadata": {},
     "output_type": "display_data"
    }
   ],
   "source": [
    "head(dds4@colData)"
   ]
  },
  {
   "cell_type": "markdown",
   "id": "b4f9cf75-a4b4-4861-8dea-318f89da224a",
   "metadata": {},
   "source": [
    "### 4. Make table for differentially expressed ORFs\n",
    "---\n",
    "Now the results from the test have been extracted, the number and percent of differentially expressed genes (padj < 0.05) can be calculated and written to a csv file. \n",
    "\n",
    "This loop will go through each organism's de dataframe and loop through each contrast to extract the results, like above. Then the number and percent of significantly differentially expressed ORFs will be calculated and added to a dataframe. "
   ]
  },
  {
   "cell_type": "code",
   "execution_count": 13,
   "id": "43162d56",
   "metadata": {},
   "outputs": [
    {
     "data": {
      "text/html": [
       "<table class=\"dataframe\">\n",
       "<caption>A data.frame: 7 × 4</caption>\n",
       "<thead>\n",
       "\t<tr><th scope=col>Contrast</th><th scope=col>Organism</th><th scope=col>number_de</th><th scope=col>percent_de</th></tr>\n",
       "\t<tr><th scope=col>&lt;chr&gt;</th><th scope=col>&lt;chr&gt;</th><th scope=col>&lt;int&gt;</th><th scope=col>&lt;dbl&gt;</th></tr>\n",
       "</thead>\n",
       "<tbody>\n",
       "\t<tr><td>Add_Back </td><td>C. closterium UGA4</td><td> 883</td><td> 3.250745</td></tr>\n",
       "\t<tr><td>High_Iron</td><td>C. closterium UGA8</td><td>1646</td><td> 6.941047</td></tr>\n",
       "\t<tr><td>Add_Back </td><td>C. closterium UGA8</td><td>1914</td><td> 8.071182</td></tr>\n",
       "\t<tr><td>High_Iron</td><td>G. oceanica       </td><td>3150</td><td> 8.974103</td></tr>\n",
       "\t<tr><td>Add_Back </td><td>G. oceanica       </td><td>2195</td><td> 6.253383</td></tr>\n",
       "\t<tr><td>High_Iron</td><td>G. huxleyi        </td><td>2911</td><td>10.066395</td></tr>\n",
       "\t<tr><td>Add_Back </td><td>G. huxleyi        </td><td>2539</td><td> 8.779999</td></tr>\n",
       "</tbody>\n",
       "</table>\n"
      ],
      "text/latex": [
       "A data.frame: 7 × 4\n",
       "\\begin{tabular}{llll}\n",
       " Contrast & Organism & number\\_de & percent\\_de\\\\\n",
       " <chr> & <chr> & <int> & <dbl>\\\\\n",
       "\\hline\n",
       "\t Add\\_Back  & C. closterium UGA4 &  883 &  3.250745\\\\\n",
       "\t High\\_Iron & C. closterium UGA8 & 1646 &  6.941047\\\\\n",
       "\t Add\\_Back  & C. closterium UGA8 & 1914 &  8.071182\\\\\n",
       "\t High\\_Iron & G. oceanica        & 3150 &  8.974103\\\\\n",
       "\t Add\\_Back  & G. oceanica        & 2195 &  6.253383\\\\\n",
       "\t High\\_Iron & G. huxleyi         & 2911 & 10.066395\\\\\n",
       "\t Add\\_Back  & G. huxleyi         & 2539 &  8.779999\\\\\n",
       "\\end{tabular}\n"
      ],
      "text/markdown": [
       "\n",
       "A data.frame: 7 × 4\n",
       "\n",
       "| Contrast &lt;chr&gt; | Organism &lt;chr&gt; | number_de &lt;int&gt; | percent_de &lt;dbl&gt; |\n",
       "|---|---|---|---|\n",
       "| Add_Back  | C. closterium UGA4 |  883 |  3.250745 |\n",
       "| High_Iron | C. closterium UGA8 | 1646 |  6.941047 |\n",
       "| Add_Back  | C. closterium UGA8 | 1914 |  8.071182 |\n",
       "| High_Iron | G. oceanica        | 3150 |  8.974103 |\n",
       "| Add_Back  | G. oceanica        | 2195 |  6.253383 |\n",
       "| High_Iron | G. huxleyi         | 2911 | 10.066395 |\n",
       "| Add_Back  | G. huxleyi         | 2539 |  8.779999 |\n",
       "\n"
      ],
      "text/plain": [
       "  Contrast  Organism           number_de percent_de\n",
       "1 Add_Back  C. closterium UGA4  883       3.250745 \n",
       "2 High_Iron C. closterium UGA8 1646       6.941047 \n",
       "3 Add_Back  C. closterium UGA8 1914       8.071182 \n",
       "4 High_Iron G. oceanica        3150       8.974103 \n",
       "5 Add_Back  G. oceanica        2195       6.253383 \n",
       "6 High_Iron G. huxleyi         2911      10.066395 \n",
       "7 Add_Back  G. huxleyi         2539       8.779999 "
      ]
     },
     "metadata": {},
     "output_type": "display_data"
    }
   ],
   "source": [
    "contrast = list('HvL' = c(\"treatment\", \"High_Iron\", \"Low_Iron\"),\n",
    "                'AvL' =c(\"treatment\", \"Add_Back\", \"Low_Iron\"))\n",
    "de_output = data.frame('Contrast'=as.character(), 'Organism'=as.character(), \n",
    "                       'number_de'=as.numeric(), 'percent_de'=as.numeric())\n",
    "organism = list(de4, de8, de6, de13)\n",
    "\n",
    "for (o in organism) {\n",
    "     if (colData(o)[1,2] == colData(de4)[1,2]) {\n",
    "        isolate='C. closterium UGA4'\n",
    "    }else if (colData(o)[1,2] == colData(de8)[1,2]) {\n",
    "        isolate='C. closterium UGA8'\n",
    "    }else if (colData(o)[1,2] == colData(de6)[1,2]) {\n",
    "           isolate='G. oceanica'\n",
    "    }else if (colData(o)[1,2] == colData(de13)[1,2]) {            \n",
    "        isolate='G. huxleyi'}\n",
    "    for (c in contrast) {\n",
    "        if (isolate =='C. closterium UGA4' & c[2]=='High_Iron'){\n",
    "            next\n",
    "        }\n",
    "        de.c = results(o, contrast=c, tidy=TRUE)\n",
    "        de.percent = (nrow(filter(de.c,(padj < 0.05)==T))/nrow(o)*100)\n",
    "        de.num = nrow(filter(de.c,(padj < 0.05) ==T))\n",
    "        deAdd = data.frame('Contrast'= c[2], 'Organism'=isolate, 'number_de'=de.num, 'percent_de'=de.percent)\n",
    "        de_output = rbind(de_output, deAdd)\n",
    "    }\n",
    "              }\n",
    "\n",
    "de_output\n",
    "\n",
    "write.csv(de_output, '..//expression_analysis/de_res_files/de_output.csv', row.names=F)"
   ]
  },
  {
   "attachments": {},
   "cell_type": "markdown",
   "id": "9cf73541-df91-4470-aa4f-9b41f63bc91f",
   "metadata": {},
   "source": [
    "### 5. Normalization for visualization\n",
    "\n",
    "#### 5.1 Log fold change shrinkage \n",
    "---\n",
    "Using the `ashr` model, the `lfcShrink` function normalizes the differential expression results for later visualization. These results can be used in MA plots or PCA plots, and normalize the log fold change of an ORF between treatments.\n",
    "    This loop will use the lists organism and contrast from above in a similar fashion, moving through each de result and contrast to perform the log fold change shrinkage and save the file as 'lfc4.Add_Back.csv' for `o = de4` and `c = Add_Back vs Low Iron`. "
   ]
  },
  {
   "cell_type": "code",
   "execution_count": 41,
   "id": "18018ff5",
   "metadata": {},
   "outputs": [
    {
     "name": "stderr",
     "output_type": "stream",
     "text": [
      "using 'ashr' for LFC shrinkage. If used in published research, please cite:\n",
      "    Stephens, M. (2016) False discovery rates: a new deal. Biostatistics, 18:2.\n",
      "    https://doi.org/10.1093/biostatistics/kxw041\n",
      "\n",
      "using 'ashr' for LFC shrinkage. If used in published research, please cite:\n",
      "    Stephens, M. (2016) False discovery rates: a new deal. Biostatistics, 18:2.\n",
      "    https://doi.org/10.1093/biostatistics/kxw041\n",
      "\n",
      "using 'ashr' for LFC shrinkage. If used in published research, please cite:\n",
      "    Stephens, M. (2016) False discovery rates: a new deal. Biostatistics, 18:2.\n",
      "    https://doi.org/10.1093/biostatistics/kxw041\n",
      "\n",
      "using 'ashr' for LFC shrinkage. If used in published research, please cite:\n",
      "    Stephens, M. (2016) False discovery rates: a new deal. Biostatistics, 18:2.\n",
      "    https://doi.org/10.1093/biostatistics/kxw041\n",
      "\n",
      "using 'ashr' for LFC shrinkage. If used in published research, please cite:\n",
      "    Stephens, M. (2016) False discovery rates: a new deal. Biostatistics, 18:2.\n",
      "    https://doi.org/10.1093/biostatistics/kxw041\n",
      "\n",
      "using 'ashr' for LFC shrinkage. If used in published research, please cite:\n",
      "    Stephens, M. (2016) False discovery rates: a new deal. Biostatistics, 18:2.\n",
      "    https://doi.org/10.1093/biostatistics/kxw041\n",
      "\n",
      "using 'ashr' for LFC shrinkage. If used in published research, please cite:\n",
      "    Stephens, M. (2016) False discovery rates: a new deal. Biostatistics, 18:2.\n",
      "    https://doi.org/10.1093/biostatistics/kxw041\n",
      "\n"
     ]
    }
   ],
   "source": [
    "lfc.HvL.save = function(de,organism){\n",
    "    lfc.df = lfcShrink(de, contrast = c(\"treatment\", \"High_Iron\", \"Low_Iron\"), type='ashr')\n",
    "    lfc.df = lfc.df %>% as.data.frame() %>% rownames_to_column('orfs')\n",
    "    write.csv(lfc.df, paste('../expression_analysis/de_res_files/lfc',organism,'.HvL.csv',sep=''),\n",
    "              row.names=F)\n",
    "}\n",
    "lfc.AvL.save = function(de,organism){\n",
    "    lfc.df = lfcShrink(de, contrast = c('treatment','Add_Back','Low_Iron'), type='ashr')\n",
    "    lfc.df = lfc.df %>% as.data.frame() %>% rownames_to_column('orfs')\n",
    "    write.csv(lfc.df, paste('../expression_analysis/de_res_files/lfc',organism,'.AvL.csv',sep=''),\n",
    "              row.names=F)\n",
    "}\n",
    "\n",
    "lfc.HvL.save(de8,'8')\n",
    "lfc.HvL.save(de6,'6')\n",
    "lfc.HvL.save(de13,'13')\n",
    "\n",
    "lfc.AvL.save(de4,'4')\n",
    "lfc.AvL.save(de8,'8')\n",
    "lfc.AvL.save(de6,'6')\n",
    "lfc.AvL.save(de13,'13')  "
   ]
  },
  {
   "cell_type": "markdown",
   "id": "7f976821",
   "metadata": {},
   "source": [
    "#### 5.2 VSD Normalize counts \n",
    "---\n",
    "The count data can also be normalized for visualization in heatmaps. The `vsd.norm` function takes the counts of ORFs from the dds object (before the differential expression analysis was performed) and corrects for variance of ORFs between treatments. The normalized count data are then ordered by variance across treatment. Top rows will have highest variance in normalized counts between treatments. Save in vsd folder. "
   ]
  },
  {
   "cell_type": "code",
   "execution_count": 52,
   "id": "744d73cc",
   "metadata": {},
   "outputs": [
    {
     "name": "stderr",
     "output_type": "stream",
     "text": [
      "using 'avgTxLength' from assays(dds), correcting for library size\n",
      "\n",
      "using 'avgTxLength' from assays(dds), correcting for library size\n",
      "\n",
      "using 'avgTxLength' from assays(dds), correcting for library size\n",
      "\n",
      "using 'avgTxLength' from assays(dds), correcting for library size\n",
      "\n"
     ]
    },
    {
     "name": "stdout",
     "output_type": "stream",
     "text": [
      "[1] \"saving 04\"\n",
      "[1] \"saving 08\"\n",
      "[1] \"saving 06\"\n",
      "[1] \"saving 13\"\n"
     ]
    }
   ],
   "source": [
    "vsd.norm <- function(dds){\n",
    "    vst(dds,blind=FALSE)\n",
    "    }\n",
    "\n",
    "#full vsd deseq2 objects:\n",
    "vsd4 <- vsd.norm(dds4)\n",
    "vsd8 <- vsd.norm(dds8)\n",
    "vsd6 <- vsd.norm(dds6)\n",
    "vsd13 <- vsd.norm(dds13)\n",
    "\n",
    "## order the df's by decreasing variance. top rows have highest varience between \n",
    "## samples. write dataframe\n",
    "write.vsd <- function(vsd, org){\n",
    "    vsd <- assay(vsd)\n",
    "    vsd_order <- order(rowVars(vsd), decreasing=T)\n",
    "    vsd_new <- vsd[vsd_order, ]\n",
    "    print(paste('saving',org,sep=' '))\n",
    "    vsd_new <- as.data.frame(vsd_new) %>% rownames_to_column(\"orfs\")\n",
    "    colnames(vsd_new) = str_remove(colnames(vsd_new),'[[:digit:]]{2}')\n",
    "    write.csv(vsd_new, paste('..//expression_analysis/vsd_files/', org, \"vsd.csv\", sep=\"\"), row.names=FALSE)\n",
    "}\n",
    "\n",
    "write.vsd(vsd4, \"04\")\n",
    "write.vsd(vsd8, \"08\")\n",
    "write.vsd(vsd6, \"06\")\n",
    "write.vsd(vsd13, \"13\")"
   ]
  },
  {
   "cell_type": "code",
   "execution_count": 43,
   "id": "a4fd8a52-7c61-46a7-ae24-523a269d0e39",
   "metadata": {},
   "outputs": [
    {
     "data": {
      "text/plain": [
       "class: DESeqTransform \n",
       "dim: 6 5 \n",
       "metadata(1): version\n",
       "assays(1): ''\n",
       "rownames(6): NODE_10000_length_2060_cov_11.205335_g5364_i0.p1\n",
       "  NODE_10001_length_2060_cov_5.581278_g5365_i0.p1 ...\n",
       "  NODE_10003_length_2059_cov_28.617321_g5366_i1.p1\n",
       "  NODE_10004_length_2059_cov_25.532729_g4469_i1.p1\n",
       "rowData names(4): baseMean baseVar allZero dispFit\n",
       "colnames(5): 04add_backA 04add_backB 04pFe21_9A 04pFe21_9B 04pFe21_9C\n",
       "colData names(4): id isolate treatment rep"
      ]
     },
     "metadata": {},
     "output_type": "display_data"
    }
   ],
   "source": [
    "head(vsd4)"
   ]
  },
  {
   "cell_type": "markdown",
   "id": "ffdbed7d",
   "metadata": {},
   "source": [
    "## 2.4 Subset results tables by significance and save\n",
    "df's made into a list and looped through to order rows by adjusted p value and pull out significant rows. saving both files. Sorting the _res files positive or negative log2fold change will enable me to get the up regulated and down regulated genes."
   ]
  },
  {
   "cell_type": "code",
   "execution_count": 18,
   "id": "888d9e80",
   "metadata": {},
   "outputs": [
    {
     "name": "stdout",
     "output_type": "stream",
     "text": [
      "[1] \"contrast  HvL  for  4  not found\"\n"
     ]
    }
   ],
   "source": [
    "df.names <- list()\n",
    "samples <- c('4','8','6','13')\n",
    "contrasts <- c('AvL','HvL')\n",
    "\n",
    "for (s in samples){\n",
    "    for (c in contrasts){\n",
    "        if (exists(paste(c,s, sep=\"\")) == FALSE){\n",
    "            print(paste('contrast ', c, ' for ', s, ' not found'))\n",
    "            next}\n",
    "        df.names <- append(df.names, paste(s,c,sep=''))\n",
    "    }\n",
    "}\n",
    "\n",
    "res.ls <- list(AvL4, AvL8, AvL6, AvL13, HvL8, HvL6, HvL13)\n",
    "names(res.ls) <- df.names\n",
    "\n",
    "res.ls <- lapply(res.ls, function(df){   #order each df in list by p.value\n",
    "    arrange(df, padj)\n",
    "})\n",
    "\n",
    "#save each df ordered by p.value\n",
    "walk2(res.ls, paste0(\"../expression_analysis/de_res_files/\", names(res.ls), \"_res.csv\", sep=\"\"), write.csv,row.names=F)\n",
    "\n",
    "res.ls.sig <- lapply(res.ls, function(df){   #pull out significant DE's\n",
    "    filter(df, padj<=0.05)\n",
    "})\n",
    "\n",
    "#save significant de's for each df\n",
    "walk2(res.ls.sig, paste0(\"../expression_analysis/de_res_files/\", names(res.ls), \"sig_res.csv\", sep=\"\"), write.csv,row.names=F)"
   ]
  },
  {
   "cell_type": "markdown",
   "id": "4d8645be",
   "metadata": {},
   "source": [
    "# DE analysis on Kegg gene level\n",
    "\n",
    "## 1. Make df of raw counts and sum to kegg level.\n",
    "---\n",
    "#### Read in the list of ORF-to-Ko's from kegg notebook \n",
    "This list repeates orfs when multiple ko's were assigned to a single orf by eggnog. Using the 'orf' column from the organism specific ko list, we want to map the counts to each row of the orf-to-ko list. This will automatically repeat the counts for each repeated orf in the list and allow us to sum orfs with matching ko's later. \n",
    "\n",
    "<b/> Remember, not all rows from the counts table will have a ko assigned and thus will not appear in the orf-to-ko list. Additionally, not all orfs annotated by eggnog were counted by salmon. Thus we must remove any rows from the orf-to-ko table for which orfs are not found </b>\n",
    "\n",
    "Because some orfs had multiple ko assignments the merging relationship will be many-to-one, many orf-ko rows matching to one counts row. \"Each row in x (orf-to-ko list) matches at most 1 row in y (counts table).\"\n",
    "\n",
    "Once the two tables are merged, we can group by ko_id and sum counts which have the same ko_id. The result is a new raw counts table (matrix) which we can used in deseq. "
   ]
  },
  {
   "cell_type": "code",
   "execution_count": 34,
   "id": "b0702e78",
   "metadata": {},
   "outputs": [
    {
     "name": "stdout",
     "output_type": "stream",
     "text": [
      "[1] \" # unique ko_ids should equal number rows of ko-summed counts.\"\n",
      "[1] \"# unique ko_ids = \"\n",
      "[1] 4246\n",
      "[1] \" and # ko-summed counts = \"\n",
      "[1] 4246\n",
      "[1] \" # unique ko_ids should equal number rows of ko-summed counts.\"\n",
      "[1] \"# unique ko_ids = \"\n",
      "[1] 4438\n",
      "[1] \" and # ko-summed counts = \"\n",
      "[1] 4438\n",
      "[1] \" # unique ko_ids should equal number rows of ko-summed counts.\"\n",
      "[1] \"# unique ko_ids = \"\n",
      "[1] 5378\n",
      "[1] \" and # ko-summed counts = \"\n",
      "[1] 5378\n",
      "[1] \" # unique ko_ids should equal number rows of ko-summed counts.\"\n",
      "[1] \"# unique ko_ids = \"\n",
      "[1] 5273\n",
      "[1] \" and # ko-summed counts = \"\n",
      "[1] 5273\n"
     ]
    }
   ],
   "source": [
    "sum.kegg <- function(org, counts.raw){\n",
    "    ko_df= read.csv(paste('../expression_analysis/kegg_files/ko', org,'_ls.csv', sep=''))\n",
    "    #ko_df = organsim specific orf-to-ko list\n",
    "    ko_df <- select(ko_df, c('orfs', 'ko_id'))\n",
    "    # make raw counts matrix into a tibble\n",
    "    counts <- as_tibble(counts.raw$counts, rownames = \"orfs\")\n",
    "    # remove orfs that eggnog annotated but salmon did not count\n",
    "    ko <- filter(ko_df, (ko_df$orfs %in% counts$orfs)==TRUE)\n",
    "    \n",
    "    # remove orfs that did not have a matching kegg annotation\n",
    "    #counts.ko <- filter(counts, (counts$orfs%in%ko_df$orfs)==TRUE)\n",
    "    # merge the two, so orfs and thier counts are repeated when they match to multiple ko's\n",
    "    b <- left_join(x=ko, y=counts, by='orfs', relationship=\"many-to-one\")\n",
    "    if(all(ko$orfs%in% counts$orfs)==FALSE){\n",
    "        print(paste(\"ERROR: merged counts and ko_ids should be the same length as \n",
    "                    the ko_id df length of merged counts is \", nrow(b), \" and ko_ids is: \", \n",
    "                    nrow(ko), sep=''))\n",
    "    }\n",
    "    #group by ko_id and sum counts for each ko_id\n",
    "    b <- b %>% select(!orfs) %>% \n",
    "        group_by(ko_id) %>% \n",
    "        summarize(across(everything(), sum)) %>%\n",
    "        column_to_rownames(\"ko_id\") %>% \n",
    "        as.matrix\n",
    "    mode(b) <- 'integer'\n",
    "    print(' # unique ko_ids should equal number rows of ko-summed counts.')\n",
    "    print('# unique ko_ids = ')\n",
    "    print(length(unique(ko$ko_id)))\n",
    "    print(' and # ko-summed counts = ')\n",
    "    print(nrow(b))\n",
    "    b\n",
    "    }\n",
    "\n",
    "kcounts_4 <- sum.kegg('4', counts_4)\n",
    "kcounts_8 <- sum.kegg('8', counts_8)\n",
    "kcounts_6 <- sum.kegg('6', counts_6)\n",
    "kcounts_13 <- sum.kegg('13', counts_13)\n"
   ]
  },
  {
   "cell_type": "markdown",
   "id": "caaa05d6-416f-41c4-903c-72b605766e2e",
   "metadata": {},
   "source": [
    "## 2. Create DeSeq2 object for kegg-summed counts\n",
    "---\n",
    "Using `DESeqDataSetFromMatrix` because now counts are summed to the Kegg KO and in a matrix. This function is otherwise, just as the one used above. "
   ]
  },
  {
   "cell_type": "code",
   "execution_count": 35,
   "id": "2e23ed91",
   "metadata": {},
   "outputs": [
    {
     "name": "stderr",
     "output_type": "stream",
     "text": [
      "Warning message in DESeqDataSet(se, design = design, ignoreRank):\n",
      "“some variables in design formula are characters, converting to factors”\n",
      "Warning message in DESeqDataSet(se, design = design, ignoreRank):\n",
      "“some variables in design formula are characters, converting to factors”\n",
      "Warning message in DESeqDataSet(se, design = design, ignoreRank):\n",
      "“some variables in design formula are characters, converting to factors”\n",
      "Warning message in DESeqDataSet(se, design = design, ignoreRank):\n",
      "“some variables in design formula are characters, converting to factors”\n"
     ]
    }
   ],
   "source": [
    "## create deseq object from matrix\n",
    "k.dds <- function(k.counts, metadata,n){\n",
    "    #n = lowest number of reps in any treatment\n",
    "   dds <-  DESeqDataSetFromMatrix(\n",
    "       countData = k.counts, \n",
    "       colData = metadata, \n",
    "       design=~treatment)\n",
    "    dds$treatment <- relevel(dds$treatment, ref = \"Low_Iron\")\n",
    "    keep <- rowSums(counts(dds) >=10) >= n #filter out rows with too low expression\n",
    "    dds <- dds[keep, ]\n",
    "    dds}\n",
    "\n",
    "k.dds4 <- k.dds(kcounts_4, metadata_4, 2)\n",
    "k.dds8 <- k.dds(kcounts_8, metadata_8, 2)\n",
    "k.dds6 <- k.dds(kcounts_6, metadata_6, 3)\n",
    "k.dds13 <- k.dds(kcounts_13, metadata_13, 3)"
   ]
  },
  {
   "cell_type": "markdown",
   "id": "e3161862-8e5b-4ba3-883d-4b3955d612a4",
   "metadata": {},
   "source": [
    "## 3. Run differential expression on Kegg counts\n",
    "---\n",
    "This process works just like above, the <i>contrasts</i> or comparisons were already defined so they can be reused to extract the results. "
   ]
  },
  {
   "cell_type": "code",
   "execution_count": 36,
   "id": "efd1b41d-7da1-4b8f-a003-90b4f07db39e",
   "metadata": {},
   "outputs": [
    {
     "name": "stderr",
     "output_type": "stream",
     "text": [
      "estimating size factors\n",
      "\n",
      "estimating dispersions\n",
      "\n",
      "gene-wise dispersion estimates\n",
      "\n",
      "mean-dispersion relationship\n",
      "\n",
      "final dispersion estimates\n",
      "\n",
      "fitting model and testing\n",
      "\n",
      "estimating size factors\n",
      "\n",
      "estimating dispersions\n",
      "\n",
      "gene-wise dispersion estimates\n",
      "\n",
      "mean-dispersion relationship\n",
      "\n",
      "final dispersion estimates\n",
      "\n",
      "fitting model and testing\n",
      "\n",
      "estimating size factors\n",
      "\n",
      "estimating dispersions\n",
      "\n",
      "gene-wise dispersion estimates\n",
      "\n",
      "mean-dispersion relationship\n",
      "\n",
      "final dispersion estimates\n",
      "\n",
      "fitting model and testing\n",
      "\n",
      "estimating size factors\n",
      "\n",
      "estimating dispersions\n",
      "\n",
      "gene-wise dispersion estimates\n",
      "\n",
      "mean-dispersion relationship\n",
      "\n",
      "final dispersion estimates\n",
      "\n",
      "fitting model and testing\n",
      "\n"
     ]
    },
    {
     "ename": "ERROR",
     "evalue": "Error in eval(expr, envir, enclos): object 'AvL' not found\n",
     "output_type": "error",
     "traceback": [
      "Error in eval(expr, envir, enclos): object 'AvL' not found\nTraceback:\n",
      "1. results(de4.k, contrast = AvL, tidy = TRUE)"
     ]
    }
   ],
   "source": [
    "## run differential expression analysis\n",
    "de4.k <- DESeq(k.dds4)\n",
    "de8.k <- DESeq(k.dds8)\n",
    "de6.k <- DESeq(k.dds6)\n",
    "de13.k <- DESeq(k.dds13)\n",
    "\n",
    "#results from Iron ammendment vs Low Iron \n",
    "AvL4.k <- results(de4.k, contrast=AvL, tidy=TRUE)\n",
    "AvL8.k <- results(de8.k, contrast=AvL, tidy=T)\n",
    "AvL6.k <- results(de6.k, contrast=AvL, tidy=TRUE)\n",
    "AvL13.k <- results(de13.k, contrast=AvL, tidy=TRUE)\n",
    "\n",
    "#results from High Iron vs Low Iron\n",
    "HvL8.k  <- results(de8.k, contrast=HvL, tidy=TRUE)\n",
    "HvL6.k  <- results(de6.k, contrast=HvL,  tidy=TRUE)\n",
    "HvL13.k  <- results(de13.k,contrast=HvL, tidy=TRUE)\n",
    "\n",
    "#save deseq results\n",
    "\n",
    "AvL4.k %>% na.omit() %>% write.csv('../expression_analysis/de_res_files/AvL4.kegg.csv', row.names=F)\n",
    "AvL8.k%>% na.omit() %>% write.csv('../expression_analysis/de_res_files/AvL8.kegg.csv', row.names=F)\n",
    "AvL6.k %>% na.omit() %>% write.csv('../expression_analysis/de_res_files/AvL6.kegg.csv', row.names=F)\n",
    "AvL13.k %>% na.omit() %>% write.csv('../expression_analysis/de_res_files/AvL13.kegg.csv', row.names=F)\n",
    "\n",
    "HvL8.k %>% na.omit() %>% write.csv('../expression_analysis/de_res_files/HvL8.kegg.csv', row.names=F)\n",
    "HvL6.k %>% na.omit() %>% write.csv('../expression_analysis/de_res_files/HvL6.kegg.csv', row.names=F)\n",
    "HvL13.k %>% na.omit() %>% write.csv('../expression_analysis/de_res_files/HvL13.kegg.csv', row.names=F)"
   ]
  },
  {
   "cell_type": "markdown",
   "id": "5c59c3bd-7ea5-40c6-9067-469dc8730503",
   "metadata": {},
   "source": [
    "## 4. Make table for differentially expressed Kegg genes\n",
    "---\n",
    "This loop is identical to the previous one, but the organisms (de results data frames) refer to the kegg level de results."
   ]
  },
  {
   "cell_type": "code",
   "execution_count": 37,
   "id": "052b520e-afd7-43a2-a68f-174e42f1486a",
   "metadata": {},
   "outputs": [
    {
     "data": {
      "text/html": [
       "<table class=\"dataframe\">\n",
       "<caption>A data.frame: 7 × 4</caption>\n",
       "<thead>\n",
       "\t<tr><th scope=col>Contrast</th><th scope=col>Organism</th><th scope=col>number_de</th><th scope=col>percent_de</th></tr>\n",
       "\t<tr><th scope=col>&lt;chr&gt;</th><th scope=col>&lt;chr&gt;</th><th scope=col>&lt;int&gt;</th><th scope=col>&lt;dbl&gt;</th></tr>\n",
       "</thead>\n",
       "<tbody>\n",
       "\t<tr><td>Add_Back </td><td>C. closterium UGA4</td><td> 207</td><td> 6.569343</td></tr>\n",
       "\t<tr><td>High_Iron</td><td>C. closterium UGA8</td><td> 292</td><td> 9.624258</td></tr>\n",
       "\t<tr><td>Add_Back </td><td>C. closterium UGA8</td><td> 829</td><td>27.323665</td></tr>\n",
       "\t<tr><td>High_Iron</td><td>G. oceanica       </td><td>1382</td><td>27.617906</td></tr>\n",
       "\t<tr><td>Add_Back </td><td>G. oceanica       </td><td>1291</td><td>25.799361</td></tr>\n",
       "\t<tr><td>High_Iron</td><td>G. huxleyi        </td><td>1681</td><td>36.134996</td></tr>\n",
       "\t<tr><td>Add_Back </td><td>G. huxleyi        </td><td>1507</td><td>32.394669</td></tr>\n",
       "</tbody>\n",
       "</table>\n"
      ],
      "text/latex": [
       "A data.frame: 7 × 4\n",
       "\\begin{tabular}{llll}\n",
       " Contrast & Organism & number\\_de & percent\\_de\\\\\n",
       " <chr> & <chr> & <int> & <dbl>\\\\\n",
       "\\hline\n",
       "\t Add\\_Back  & C. closterium UGA4 &  207 &  6.569343\\\\\n",
       "\t High\\_Iron & C. closterium UGA8 &  292 &  9.624258\\\\\n",
       "\t Add\\_Back  & C. closterium UGA8 &  829 & 27.323665\\\\\n",
       "\t High\\_Iron & G. oceanica        & 1382 & 27.617906\\\\\n",
       "\t Add\\_Back  & G. oceanica        & 1291 & 25.799361\\\\\n",
       "\t High\\_Iron & G. huxleyi         & 1681 & 36.134996\\\\\n",
       "\t Add\\_Back  & G. huxleyi         & 1507 & 32.394669\\\\\n",
       "\\end{tabular}\n"
      ],
      "text/markdown": [
       "\n",
       "A data.frame: 7 × 4\n",
       "\n",
       "| Contrast &lt;chr&gt; | Organism &lt;chr&gt; | number_de &lt;int&gt; | percent_de &lt;dbl&gt; |\n",
       "|---|---|---|---|\n",
       "| Add_Back  | C. closterium UGA4 |  207 |  6.569343 |\n",
       "| High_Iron | C. closterium UGA8 |  292 |  9.624258 |\n",
       "| Add_Back  | C. closterium UGA8 |  829 | 27.323665 |\n",
       "| High_Iron | G. oceanica        | 1382 | 27.617906 |\n",
       "| Add_Back  | G. oceanica        | 1291 | 25.799361 |\n",
       "| High_Iron | G. huxleyi         | 1681 | 36.134996 |\n",
       "| Add_Back  | G. huxleyi         | 1507 | 32.394669 |\n",
       "\n"
      ],
      "text/plain": [
       "  Contrast  Organism           number_de percent_de\n",
       "1 Add_Back  C. closterium UGA4  207       6.569343 \n",
       "2 High_Iron C. closterium UGA8  292       9.624258 \n",
       "3 Add_Back  C. closterium UGA8  829      27.323665 \n",
       "4 High_Iron G. oceanica        1382      27.617906 \n",
       "5 Add_Back  G. oceanica        1291      25.799361 \n",
       "6 High_Iron G. huxleyi         1681      36.134996 \n",
       "7 Add_Back  G. huxleyi         1507      32.394669 "
      ]
     },
     "metadata": {},
     "output_type": "display_data"
    }
   ],
   "source": [
    "contrast = list('HvL' = c(\"treatment\", \"High_Iron\", \"Low_Iron\"),\n",
    "                'AvL' =c(\"treatment\", \"Add_Back\", \"Low_Iron\"))\n",
    "de_output = data.frame('Contrast'=as.character(), 'Organism'=as.character(), \n",
    "                       'number_de'=as.numeric(), 'percent_de'=as.numeric())\n",
    "ko.organism = list(de4.k, de8.k, de6.k, de13.k)\n",
    "\n",
    "for (o in ko.organism) {\n",
    "     if (colData(o)[1,2] == colData(de4.k)[1,2]) {\n",
    "        isolate='C. closterium UGA4'\n",
    "    }else if (colData(o)[1,2] == colData(de8.k)[1,2]) {\n",
    "        isolate='C. closterium UGA8'\n",
    "    }else if (colData(o)[1,2] == colData(de6.k)[1,2]) {\n",
    "           isolate='G. oceanica'\n",
    "    }else if (colData(o)[1,2] == colData(de13.k)[1,2]) {            \n",
    "        isolate='G. huxleyi'}\n",
    "    for (c in contrast) {\n",
    "        if (isolate =='C. closterium UGA4' & c[2]=='High_Iron'){\n",
    "            next\n",
    "        }\n",
    "        de.c = results(o, contrast=c, tidy=TRUE)\n",
    "        de.percent = (nrow(filter(de.c,(padj < 0.05)==T))/nrow(o)*100)\n",
    "        de.num = nrow(filter(de.c,(padj < 0.05) ==T))\n",
    "        deAdd = data.frame('Contrast'= c[2], 'Organism'=isolate, 'number_de'=de.num, 'percent_de'=de.percent)\n",
    "        de_output = rbind(de_output, deAdd)\n",
    "    }\n",
    "              }\n",
    "\n",
    "de_output\n",
    "\n",
    "write.csv(de_output, '../expression_analysis/de_res_files/de_ko_output.csv', row.names=F)\n"
   ]
  },
  {
   "cell_type": "markdown",
   "id": "d5cef1c8-fbfd-48d9-a3b6-aad9c5c14e8a",
   "metadata": {},
   "source": [
    "## 5. Normalization for visualization\n",
    "---\n",
    "### 5.1 Log fold change shrinkage on differential expression analysis results for PCA and MA plots"
   ]
  },
  {
   "cell_type": "code",
   "execution_count": 38,
   "id": "43f4ce13",
   "metadata": {},
   "outputs": [
    {
     "name": "stderr",
     "output_type": "stream",
     "text": [
      "using 'ashr' for LFC shrinkage. If used in published research, please cite:\n",
      "    Stephens, M. (2016) False discovery rates: a new deal. Biostatistics, 18:2.\n",
      "    https://doi.org/10.1093/biostatistics/kxw041\n",
      "\n",
      "using 'ashr' for LFC shrinkage. If used in published research, please cite:\n",
      "    Stephens, M. (2016) False discovery rates: a new deal. Biostatistics, 18:2.\n",
      "    https://doi.org/10.1093/biostatistics/kxw041\n",
      "\n",
      "using 'ashr' for LFC shrinkage. If used in published research, please cite:\n",
      "    Stephens, M. (2016) False discovery rates: a new deal. Biostatistics, 18:2.\n",
      "    https://doi.org/10.1093/biostatistics/kxw041\n",
      "\n",
      "using 'ashr' for LFC shrinkage. If used in published research, please cite:\n",
      "    Stephens, M. (2016) False discovery rates: a new deal. Biostatistics, 18:2.\n",
      "    https://doi.org/10.1093/biostatistics/kxw041\n",
      "\n",
      "using 'ashr' for LFC shrinkage. If used in published research, please cite:\n",
      "    Stephens, M. (2016) False discovery rates: a new deal. Biostatistics, 18:2.\n",
      "    https://doi.org/10.1093/biostatistics/kxw041\n",
      "\n",
      "using 'ashr' for LFC shrinkage. If used in published research, please cite:\n",
      "    Stephens, M. (2016) False discovery rates: a new deal. Biostatistics, 18:2.\n",
      "    https://doi.org/10.1093/biostatistics/kxw041\n",
      "\n",
      "using 'ashr' for LFC shrinkage. If used in published research, please cite:\n",
      "    Stephens, M. (2016) False discovery rates: a new deal. Biostatistics, 18:2.\n",
      "    https://doi.org/10.1093/biostatistics/kxw041\n",
      "\n"
     ]
    }
   ],
   "source": [
    "\n",
    "lfc.HvL.save = function(de,organism){\n",
    "    lfc.df = lfcShrink(de, contrast = c(\"treatment\", \"High_Iron\", \"Low_Iron\"), type='ashr')\n",
    "    lfc.df = lfc.df %>% as.data.frame() %>% rownames_to_column('ko_id')\n",
    "    write.csv(lfc.df, paste('../expression_analysis/de_res_files/lfc',organism,'.HvL.kegg.csv',sep=''),\n",
    "              row.names=F)\n",
    "}\n",
    "lfc.AvL.save = function(de,organism){\n",
    "    lfc.df = lfcShrink(de, contrast = c('treatment','Add_Back','Low_Iron'), type='ashr')\n",
    "    lfc.df = lfc.df %>% as.data.frame() %>% rownames_to_column('ko_id')\n",
    "    write.csv(lfc.df, paste('../expression_analysis/de_res_files/lfc',organism,'.AvL.kegg.csv',sep=''),\n",
    "              row.names=F)\n",
    "}\n",
    "\n",
    "lfc.HvL.save(de8.k,'8')\n",
    "lfc.HvL.save(de6.k,'6')\n",
    "lfc.HvL.save(de13.k,'13')\n",
    "\n",
    "lfc.AvL.save(de4.k,'4')\n",
    "lfc.AvL.save(de8.k,'8')\n",
    "lfc.AvL.save(de6.k,'6')\n",
    "lfc.AvL.save(de13.k,'13')    "
   ]
  },
  {
   "cell_type": "markdown",
   "id": "abde1c27-0e72-407b-83de-3a852c4d851d",
   "metadata": {},
   "source": [
    "### 5.2 VST normalization on kegg summed counts for heatmaps\n",
    "---"
   ]
  },
  {
   "cell_type": "code",
   "execution_count": 39,
   "id": "5cdb3b0f-b390-48d3-993d-cf2a29506447",
   "metadata": {},
   "outputs": [],
   "source": [
    "## vsd normalize and save ordered by variance\n",
    "vsd.norm <- function(dds){\n",
    "    varianceStabilizingTransformation(dds,blind=FALSE)\n",
    "    }\n",
    "k.vsd4 <- vsd.norm(k.dds4)\n",
    "k.vsd8 <- vsd.norm(k.dds8)\n",
    "k.vsd6 <- vsd.norm(k.dds6)\n",
    "k.vsd13 <- vsd.norm(k.dds13)\n",
    "\n",
    "write.vsd.k <- function(vsd, org){\n",
    "    vsd <- assay(vsd)\n",
    "    vsd_order <- order(rowVars(vsd), decreasing=T)\n",
    "    vsd_new <- vsd[vsd_order, ]\n",
    "    colnames(vsd_new) = str_remove(colnames(vsd_new),'[[:digit:]]{2}')\n",
    "    write.csv(vsd_new, paste('../expression_analysis/vsd_files/', org, \"vsd.kegg.csv\", sep=\"\"))\n",
    "}\n",
    "\n",
    "write.vsd.k(k.vsd4, '04')\n",
    "write.vsd.k(k.vsd8, '08')\n",
    "write.vsd.k(k.vsd6, '06')\n",
    "write.vsd.k(k.vsd13, '13')"
   ]
  },
  {
   "cell_type": "code",
   "execution_count": null,
   "id": "cd3053da-809b-4b7b-9cbb-cd365d75b183",
   "metadata": {},
   "outputs": [],
   "source": []
  }
 ],
 "metadata": {
  "kernelspec": {
   "display_name": "R",
   "language": "R",
   "name": "ir"
  },
  "language_info": {
   "codemirror_mode": "r",
   "file_extension": ".r",
   "mimetype": "text/x-r-source",
   "name": "R",
   "pygments_lexer": "r",
   "version": "4.3.2"
  }
 },
 "nbformat": 4,
 "nbformat_minor": 5
}
