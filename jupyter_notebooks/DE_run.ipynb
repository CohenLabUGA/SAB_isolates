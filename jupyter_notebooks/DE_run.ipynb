{
 "cells": [
  {
   "cell_type": "markdown",
   "id": "cbdaeac3",
   "metadata": {},
   "source": [
    "# Differential gene expression with DESeq2\n",
    "\n",
    "This notebook with create two of the following\n",
    "1. matrix of significant differentially expressed orf's from the results of the differential expression analysis\n",
    "2. matrix of VSD normalized counts ordered by variance across samples\n",
    "\n",
    "Both of these files will be created for transcript-level data and \"gene-level\" data using only transcripts with Kegg annotations and summing by Kegg annotation. \n",
    "<b>The second method will result in data with rownames as Kegg annotations, meaning each annotation appears once in the matrix. </b>"
   ]
  },
  {
   "cell_type": "markdown",
   "id": "2eeabfee",
   "metadata": {},
   "source": [
    "\n",
    "### Prepare environment\n",
    "----"
   ]
  },
  {
   "cell_type": "code",
   "execution_count": null,
   "id": "da4d6982",
   "metadata": {
    "editable": true,
    "slideshow": {
     "slide_type": ""
    },
    "tags": []
   },
   "outputs": [],
   "source": [
    "library('tximport', quietly=T)\n",
    "library('DESeq2',quietly=T)\n",
    "library('ashr',quietly=T)\n",
    "library('tibble',quietly=T)\n",
    "library('tidyverse',quietly=T)"
   ]
  },
  {
   "cell_type": "markdown",
   "id": "c10b8cd6",
   "metadata": {},
   "source": [
    "## DE analysis on all open reading frames (ORFs)\n",
    "---\n",
    "### 1. Read in Salmon Counts\n",
    "First, the count data from Salmon are read with with the `read.in` function which takes:\n",
    "- a pattern matching all salmon output files\n",
    "- the directory to each salmon file\n",
    "\n",
    "My data were separated into different folders, one for each organism, and the salmon output were placed within each. The pattern and directory can be changed based on file organization scheme. The raw counts are finally read in with `Tximport` specifying that <i>Salmon<i> was used.\n",
    "\n",
    "Next metadata are created for each salmon file using information in the salmon file header. The header has all three metadata categories combined, organism_treatment_replicate, so I extract the column names and use patterns matching each to separate each accordingly. "
   ]
  },
  {
   "cell_type": "code",
   "execution_count": null,
   "id": "020b7d25-9166-4aad-b31a-b6522d94eaf5",
   "metadata": {},
   "outputs": [],
   "source": [
    "pattern='[[:alpha:]]+([[:digit:]]{2}|_)(_9[[:alpha:]]|[[:alpha:]]*)'\n",
    "\n",
    "read.in <- function(org){\n",
    "    dir <- paste(\"/work/nclab/lucy/SAB/Assembly/\",org,\"/salmon\",sep='')\n",
    "    files <- file.path(dir,list.files(dir,pattern=\".sf\",recursive=TRUE))\n",
    "    \n",
    "    names(files)=str_extract(files,pattern)\n",
    "    names(files)=str_replace(names(files),'oFe', 'pFe') #correct a sample for 08 from oFe to pFe\n",
    "\n",
    "    if (all(file.exists(files)) == FALSE) {\n",
    "        print(\"ERROR IN FILE NAMES, not all files exist\")\n",
    "        print(paste(\"Directory:\", dir, sep=\"/n\"))\n",
    "        print(paste(\"Files:\", files, sep='/n'))\n",
    "    }\n",
    "    \n",
    "    raw_counts <- tximport(files, type='salmon', txOut = TRUE) \n",
    "}\n",
    "\n",
    "create.metadata=function(org){\n",
    "    dir <- paste(\"/work/nclab/lucy/SAB/Assembly/\",org,\"/salmon\",sep='')\n",
    "    files <- file.path(dir,list.files(dir,pattern=\".sf\",recursive=TRUE))\n",
    "    \n",
    "    id=str_extract(files,pattern)\n",
    "    id=str_replace(id,'oFe', 'pFe')\n",
    "    metadata=data.frame('id'=id,\n",
    "                        'isolate'=org,\n",
    "                        'treatment'=str_extract(id,'[[:alpha:]]+(19|21_9|_back)'),\n",
    "                        'rep'=str_extract(id, 'A|B|C'))\n",
    "    metadata$treatment=str_replace_all(\n",
    "        metadata$treatment,\n",
    "        c('pFe19'='High_Iron', 'pFe21_9'='Low_Iron','add_back'='Add_Back'))\n",
    "    metadata\n",
    "    print(metadata)                    \n",
    "}\n",
    "counts_4=read.in('04')\n",
    "metadata_4=create.metadata('04')\n",
    "\n",
    "counts_8=read.in('08')\n",
    "metadata_8=create.metadata('08')\n",
    "\n",
    "counts_6=read.in('06')\n",
    "metadata_6=create.metadata('06')\n",
    "\n",
    "counts_13=read.in('13')\n",
    "metadata_13=create.metadata('13')"
   ]
  },
  {
   "cell_type": "markdown",
   "id": "6eb40913",
   "metadata": {},
   "source": [
    "### 2. Create DeSeq object\n",
    "---------\n",
    "A DESeq2 object must be made to perform the differential expression analysis; this is done with the `dds` function. Since `Tximport` was used to read in the data, I used `DESeqDataSetFromTximport`. The `dds` function will compete a few more tasks, setting the low iron treatment as the point of comparison (this will enable multiple comparisons between treatments), and filtering out ORFs with fewer than 5 counts, here <b>n = lowest # of replicates in any treatment.<b> "
   ]
  },
  {
   "cell_type": "code",
   "execution_count": null,
   "id": "21c648de-7e0c-477f-93ad-70b5d3a52b4c",
   "metadata": {
    "scrolled": true
   },
   "outputs": [],
   "source": [
    "dds <- function(raw_counts, metadata, n){\n",
    "    dds <- DESeqDataSetFromTximport( raw_counts,\n",
    "                             colData=metadata,\n",
    "                             design=~treatment)\n",
    "    dds$treatment <- relevel(dds$treatment, ref = \"Low_Iron\")\n",
    "    keep <- rowSums(counts(dds) >=5) >= n #filter out rows with too low expression\n",
    "    print(nrow(dds))\n",
    "    dds <- dds[keep, ]\n",
    "    print(nrow(dds))\n",
    "    dds\n",
    "}\n",
    "\n",
    "dds4 <- dds(counts_4, metadata_4, 2)\n",
    "dds8 <- dds(counts_8, metadata_8, 2)\n",
    "dds6 <- dds(counts_6, metadata_6, 3)\n",
    "dds13 <- dds(counts_13, metadata_13, 3)"
   ]
  },
  {
   "cell_type": "markdown",
   "id": "7c8cd7e6-b6e1-4ca4-b466-39ef1abeb7fc",
   "metadata": {},
   "source": [
    "### 3. Run differential expression analysis\n",
    "---\n",
    "Because the low iron treatment was set as the base level, only one differential expression test needs to be run. The results from each comparison (high iron vs low iron and iron amendment vs low iron) can be extracted with `results()` and specifying the contrast, or comparison. `tidy = TRUE` creates a clean dataframe. "
   ]
  },
  {
   "cell_type": "code",
   "execution_count": null,
   "id": "f311e5d6",
   "metadata": {},
   "outputs": [],
   "source": [
    "# Run differential expression test\n",
    "de4 <- DESeq(dds4)\n",
    "de8 <- DESeq(dds8)\n",
    "de6 <- DESeq(dds6)\n",
    "de13 <- DESeq(dds13)\n",
    "\n",
    "# Define contrasts\n",
    "HvL <- c(\"treatment\", \"High_Iron\", \"Low_Iron\")\n",
    "AvL <- c(\"treatment\", \"Add_Back\", \"Low_Iron\")\n",
    "\n",
    "#results from Iron ammendment vs Low Iron\n",
    "AvL4 <- results(de4, contrast=AvL, tidy=TRUE)\n",
    "AvL8 <- results(de8, contrast=AvL, tidy=TRUE)\n",
    "AvL6 <- results(de6, contrast=AvL, tidy=TRUE)\n",
    "AvL13 <- results(de13, contrast=AvL, tidy=TRUE)\n",
    "\n",
    "#results from High Iron vs Low Iron\n",
    "HvL8  <- results(de8, contrast=HvL, tidy=TRUE)\n",
    "HvL6  <- results(de6, contrast=HvL,  tidy=TRUE)\n",
    "HvL13  <- results(de13,contrast=HvL, tidy=TRUE)\n",
    "\n",
    "colnames(AvL4)[1] <- \"orfs\"\n",
    "colnames(AvL8)[1] <- \"orfs\"\n",
    "colnames(AvL6)[1] <- \"orfs\"\n",
    "colnames(AvL13)[1] <- \"orfs\"\n",
    "\n",
    "colnames(HvL8)[1] <- \"orfs\"\n",
    "colnames(HvL6)[1] <- \"orfs\"\n",
    "colnames(HvL13)[1] <- \"orfs\""
   ]
  },
  {
   "cell_type": "markdown",
   "id": "b4f9cf75-a4b4-4861-8dea-318f89da224a",
   "metadata": {},
   "source": [
    "### 4. Make table for differentially expressed ORFs\n",
    "---\n",
    "Now the results from the test have been extracted, the number and percent of differentially expressed genes (padj < 0.05) can be calculated and written to a csv file. \n",
    "\n",
    "This loop will go through each organism's de dataframe and loop through each contrast to extract the results, like above. Then the number and percent of significantly differentially expressed ORFs will be calculated and added to a dataframe. "
   ]
  },
  {
   "cell_type": "code",
   "execution_count": null,
   "id": "43162d56",
   "metadata": {},
   "outputs": [],
   "source": [
    "contrast = list('HvL' = c(\"treatment\", \"High_Iron\", \"Low_Iron\"),\n",
    "                'AvL' =c(\"treatment\", \"Add_Back\", \"Low_Iron\"))\n",
    "de_output = data.frame('Contrast'=as.character(), 'Organism'=as.character(), \n",
    "                       'number_de'=as.numeric(), 'percent_de'=as.numeric())\n",
    "organism = list(de4, de8, de6, de13)\n",
    "\n",
    "for (o in organism) {\n",
    "     if (colData(o)[1,2] == colData(de4)[1,2]) {\n",
    "        isolate='C. closterium UGA4'\n",
    "    }else if (colData(o)[1,2] == colData(de8)[1,2]) {\n",
    "        isolate='C. closterium UGA8'\n",
    "    }else if (colData(o)[1,2] == colData(de6)[1,2]) {\n",
    "           isolate='G. oceanica'\n",
    "    }else if (colData(o)[1,2] == colData(de13)[1,2]) {            \n",
    "        isolate='G. huxleyi'}\n",
    "    for (c in contrast) {\n",
    "        if (isolate =='C. closterium UGA4' & c[2]=='High_Iron'){\n",
    "            next\n",
    "        }\n",
    "        de.c = results(o, contrast=c, tidy=TRUE)\n",
    "        de.percent = (nrow(filter(de.c,(padj < 0.05)==T))/nrow(o)*100)\n",
    "        de.num = nrow(filter(de.c,(padj < 0.05) ==T))\n",
    "        deAdd = data.frame('Contrast'= c[2], 'Organism'=isolate, 'number_de'=de.num, 'percent_de'=de.percent)\n",
    "        de_output = rbind(de_output, deAdd)\n",
    "    }\n",
    "              }\n",
    "\n",
    "de_output\n",
    "\n",
    "write.csv(de_output, './de_res_files/de_output.csv', row.names=F)"
   ]
  },
  {
   "attachments": {},
   "cell_type": "markdown",
   "id": "9cf73541-df91-4470-aa4f-9b41f63bc91f",
   "metadata": {},
   "source": [
    "### 5. Normalization for visualization\n",
    "\n",
    "#### 5.1 Log fold change shrinkage \n",
    "---\n",
    "Using the `ashr` model, the `lfcShrink` function normalizes the differential expression results for later visualization. These results can be used in MA plots or PCA plots, and normalize the log fold change of an ORF between treatments.\n",
    "    This loop will use the lists organism and contrast from above in a similar fashion, moving through each de result and contrast to perform the log fold change shrinkage and save the file as 'lfc4.Add_Back.csv' for `o = de4` and `c = Add_Back vs Low Iron`. "
   ]
  },
  {
   "cell_type": "code",
   "execution_count": null,
   "id": "18018ff5",
   "metadata": {},
   "outputs": [],
   "source": [
    "for (o in organism) {\n",
    "    for (c in contrast){ \n",
    "         if (isolate =='C. closterium UGA4' & c[2]=='High_Iron'){\n",
    "            next\n",
    "        lfc.df = lfcShrink(o, c, type='ashr')\n",
    "        lfc.df = lfc.df %>% as.data.frame() %>% rownames_to_column('orfs')\n",
    "        write.csv(lfc.df, paste('./de_res_files/lfc',colData(o)[1,2],'.',c[2],'.csv',sep=''), row.names=F) \n",
    "        }\n"
   ]
  },
  {
   "cell_type": "markdown",
   "id": "7f976821",
   "metadata": {},
   "source": [
    "#### 5.2 VSD Normalize counts \n",
    "---\n",
    "The count data can also be normalized for visualization in heatmaps. The `vsd.norm` function takes the counts of ORFs from the dds object (before the differential expression analysis was performed) and corrects for variance of ORFs between treatments. The normalized count data are then ordered by variance across treatment. Top rows will have highest variance in normalized counts between treatments. Save in vsd folder. "
   ]
  },
  {
   "cell_type": "code",
   "execution_count": null,
   "id": "744d73cc",
   "metadata": {},
   "outputs": [],
   "source": [
    "vsd.norm <- function(dds){\n",
    "    vst(dds,blind=FALSE)\n",
    "    }\n",
    "\n",
    "#full vsd deseq2 objects:\n",
    "vsd4 <- vsd.norm(dds4)\n",
    "vsd8 <- vsd.norm(dds8)\n",
    "vsd6 <- vsd.norm(dds6)\n",
    "vsd13 <- vsd.norm(dds13)\n",
    "\n",
    "## order the df's by decreasing variance. top rows have highest varience between \n",
    "## samples. write dataframe\n",
    "write.vsd <- function(vsd, org){\n",
    "    vsd <- assay(vsd)\n",
    "    vsd_order <- order(rowVars(vsd), decreasing=T)\n",
    "    vsd_new <- vsd[vsd_order, ]\n",
    "    print(paste('saving',org,sep=' '))\n",
    "    vsd_new <- as.data.frame(vsd_new) %>% rownames_to_column(\"orfs\")\n",
    "    write.csv(vsd_new, paste('./vsd_files/', org, \"vsd.csv\", sep=\"\"), row.names=FALSE)\n",
    "}\n",
    "\n",
    "write.vsd(vsd4, \"04\")\n",
    "write.vsd(vsd8, \"08\")\n",
    "write.vsd(vsd6, \"06\")\n",
    "write.vsd(vsd13, \"13\")"
   ]
  },
  {
   "cell_type": "markdown",
   "id": "ffdbed7d",
   "metadata": {},
   "source": [
    "## 2.4 Subset results tables by significance and save\n",
    "df's made into a list and looped through to order rows by adjusted p value and pull out significant rows. saving both files. Sorting the _res files positive or negative log2fold change will enable me to get the up regulated and down regulated genes."
   ]
  },
  {
   "cell_type": "code",
   "execution_count": null,
   "id": "888d9e80",
   "metadata": {},
   "outputs": [],
   "source": [
    "df.names <- list()\n",
    "samples <- c('4','8','6','13')\n",
    "contrasts <- c('AvL','HvL')\n",
    "\n",
    "for (s in samples){\n",
    "    for (c in contrasts){\n",
    "        if (exists(paste(c,s, sep=\"\")) == FALSE){\n",
    "            print(paste('contrast ', c, ' for ', s, ' not found'))\n",
    "            next}\n",
    "        df.names <- append(df.names, paste(s,c,sep=''))\n",
    "    }\n",
    "}\n",
    "\n",
    "res.ls <- list(AvL4, AvL8, AvL6, AvL13, HvL8, HvL6, HvL13)\n",
    "names(res.ls) <- df.names\n",
    "\n",
    "res.ls <- lapply(res.ls, function(df){   #order each df in list by p.value\n",
    "    arrange(df, padj)\n",
    "})\n",
    "\n",
    "#save each df ordered by p.value\n",
    "walk2(res.ls, paste0(\"./de_res_files/\", names(res.ls), \"_res.csv\", sep=\"\"), write.csv,row.names=F)\n",
    "\n",
    "res.ls.sig <- lapply(res.ls, function(df){   #pull out significant DE's\n",
    "    filter(df, padj<=0.05)\n",
    "})\n",
    "\n",
    "#save significant de's for each df\n",
    "walk2(res.ls.sig, paste0(\"./de_res_files/\", names(res.ls), \"sig_res.csv\", sep=\"\"), write.csv,row.names=F)"
   ]
  },
  {
   "cell_type": "markdown",
   "id": "4d8645be",
   "metadata": {},
   "source": [
    "# DE analysis on Kegg gene level\n",
    "\n",
    "## 1. Make df of raw counts and sum to kegg level.\n",
    "---\n",
    "#### Read in the list of ORF-to-Ko's from kegg notebook \n",
    "This list repeates orfs when multiple ko's were assigned to a single orf by eggnog. Using the 'orf' column from the organism specific ko list, we want to map the counts to each row of the orf-to-ko list. This will automatically repeat the counts for each repeated orf in the list and allow us to sum orfs with matching ko's later. \n",
    "\n",
    "<b/> Remember, not all rows from the counts table will have a ko assigned and thus will not appear in the orf-to-ko list. Additionally, not all orfs annotated by eggnog were counted by salmon. Thus we must remove any rows from the orf-to-ko table for which orfs are not found </b>\n",
    "\n",
    "Because some orfs had multiple ko assignments the merging relationship will be many-to-one, many orf-ko rows matching to one counts row. \"Each row in x (orf-to-ko list) matches at most 1 row in y (counts table).\"\n",
    "\n",
    "Once the two tables are merged, we can group by ko_id and sum counts which have the same ko_id. The result is a new raw counts table (matrix) which we can used in deseq. "
   ]
  },
  {
   "cell_type": "code",
   "execution_count": null,
   "id": "b0702e78",
   "metadata": {},
   "outputs": [],
   "source": [
    "sum.kegg <- function(org, counts.raw){\n",
    "    ko_df= read.csv(paste('../kegg_names/ko', org,'_ls.csv', sep=''))\n",
    "    #ko_df = organsim specific orf-to-ko list\n",
    "    ko_df <- select(ko_df, c('orfs', 'ko_id'))\n",
    "    # make raw counts matrix into a tibble\n",
    "    counts <- as_tibble(counts.raw$counts, rownames = \"orfs\")\n",
    "    # remove orfs that eggnog annotated but salmon did not count\n",
    "    ko <- filter(ko_df, (ko_df$orfs %in% counts$orfs)==TRUE)\n",
    "    \n",
    "    # remove orfs that did not have a matching kegg annotation\n",
    "    #counts.ko <- filter(counts, (counts$orfs%in%ko_df$orfs)==TRUE)\n",
    "    # merge the two, so orfs and thier counts are repeated when they match to multiple ko's\n",
    "    b <- left_join(x=ko, y=counts, by='orfs', relationship=\"many-to-one\")\n",
    "    if(all(ko$orfs%in% counts$orfs)==FALSE){\n",
    "        print(paste(\"ERROR: merged counts and ko_ids should be the same length as \n",
    "                    the ko_id df length of merged counts is \", nrow(b), \" and ko_ids is: \", \n",
    "                    nrow(ko), sep=''))\n",
    "    }\n",
    "    #group by ko_id and sum counts for each ko_id\n",
    "    b <- b %>% select(!orfs) %>% \n",
    "        group_by(ko_id) %>% \n",
    "        summarize(across(everything(), sum)) %>%\n",
    "        column_to_rownames(\"ko_id\") %>% \n",
    "        as.matrix\n",
    "    mode(b) <- 'integer'\n",
    "    print(' # unique ko_ids should equal number rows of ko-summed counts.')\n",
    "    print('# unique ko_ids = ')\n",
    "    print(length(unique(ko$ko_id)))\n",
    "    print(' and # ko-summed counts = ')\n",
    "    print(nrow(b))\n",
    "    b\n",
    "    }\n",
    "\n",
    "kcounts_4 <- sum.kegg('4', counts_4)\n",
    "kcounts_8 <- sum.kegg('8', counts_8)\n",
    "kcounts_6 <- sum.kegg('6', counts_6)\n",
    "kcounts_13 <- sum.kegg('13', counts_13)\n"
   ]
  },
  {
   "cell_type": "markdown",
   "id": "caaa05d6-416f-41c4-903c-72b605766e2e",
   "metadata": {},
   "source": [
    "## 2. Create DeSeq2 object for kegg-summed counts\n",
    "---\n",
    "Using `DESeqDataSetFromMatrix` because now counts are summed to the Kegg KO and in a matrix. This function is otherwise, just as the one used above. "
   ]
  },
  {
   "cell_type": "code",
   "execution_count": null,
   "id": "2e23ed91",
   "metadata": {},
   "outputs": [],
   "source": [
    "## create deseq object from matrix\n",
    "k.dds <- function(k.counts, metadata,n){\n",
    "    #n = lowest number of reps in any treatment\n",
    "   dds <-  DESeqDataSetFromMatrix(\n",
    "       countData = k.counts, \n",
    "       colData = metadata, \n",
    "       design=~treatment)\n",
    "    dds$treatment <- relevel(dds$treatment, ref = \"Low_Iron\")\n",
    "    keep <- rowSums(counts(dds) >=10) >= n #filter out rows with too low expression\n",
    "    dds <- dds[keep, ]\n",
    "    dds}\n",
    "\n",
    "k.dds4 <- k.dds(kcounts_4, metadata_4, 2)\n",
    "k.dds8 <- k.dds(kcounts_8, metadata_8, 2)\n",
    "k.dds6 <- k.dds(kcounts_6, metadata_6, 3)\n",
    "k.dds13 <- k.dds(kcounts_13, metadata_13, 3)"
   ]
  },
  {
   "cell_type": "markdown",
   "id": "e3161862-8e5b-4ba3-883d-4b3955d612a4",
   "metadata": {},
   "source": [
    "## 3. Run differential expression on Kegg counts\n",
    "---\n",
    "This process works just like above, the <i>contrasts</i> or comparisons were already defined so they can be reused to extract the results. "
   ]
  },
  {
   "cell_type": "code",
   "execution_count": null,
   "id": "efd1b41d-7da1-4b8f-a003-90b4f07db39e",
   "metadata": {},
   "outputs": [],
   "source": [
    "## run differential expression analysis\n",
    "de4.k <- DESeq(k.dds4)\n",
    "de8.k <- DESeq(k.dds8)\n",
    "de6.k <- DESeq(k.dds6)\n",
    "de13.k <- DESeq(k.dds13)\n",
    "\n",
    "#results from Iron ammendment vs Low Iron \n",
    "AvL4.k <- results(de4.k, contrast=AvL, tidy=TRUE)\n",
    "AvL8.k <- results(de8.k, contrast=AvL, tidy=T)\n",
    "AvL6.k <- results(de6.k, contrast=AvL, tidy=TRUE)\n",
    "AvL13.k <- results(de13.k, contrast=AvL, tidy=TRUE)\n",
    "\n",
    "#results from High Iron vs Low Iron\n",
    "HvL8.k  <- results(de8.k, contrast=HvL, tidy=TRUE)\n",
    "HvL6.k  <- results(de6.k, contrast=HvL,  tidy=TRUE)\n",
    "HvL13.k  <- results(de13.k,contrast=HvL, tidy=TRUE)\n",
    "\n",
    "#save deseq results\n",
    "\n",
    "AvL4.k %>% na.omit() %>% write.csv('./de_res_files/AvL4.k.csv', row.names=F)\n",
    "AvL8.k%>% na.omit() %>% write.csv('./de_res_files/AvL8.k.csv', row.names=F)\n",
    "AvL6.k %>% na.omit() %>% write.csv('./de_res_files/AvL6.k.csv', row.names=F)\n",
    "AvL13.k %>% na.omit() %>% write.csv('./de_res_files/AvL13.k.csv', row.names=F)\n",
    "\n",
    "HvL8.k %>% na.omit() %>% write.csv('./de_res_files/HvL8.k.csv', row.names=F)\n",
    "HvL6.k %>% na.omit() %>% write.csv('./de_res_files/HvL6.k.csv', row.names=F)\n",
    "HvL13.k %>% na.omit() %>% write.csv('./de_res_files/HvL13.k.csv', row.names=F)"
   ]
  },
  {
   "cell_type": "markdown",
   "id": "5c59c3bd-7ea5-40c6-9067-469dc8730503",
   "metadata": {},
   "source": [
    "## 4. Make table for differentially expressed Kegg genes\n",
    "---\n",
    "This loop is identical to the previous one, but the organisms (de results data frames) refer to the kegg level de results."
   ]
  },
  {
   "cell_type": "code",
   "execution_count": null,
   "id": "052b520e-afd7-43a2-a68f-174e42f1486a",
   "metadata": {},
   "outputs": [],
   "source": [
    "contrast = list('HvL' = c(\"treatment\", \"High_Iron\", \"Low_Iron\"),\n",
    "                'AvL' =c(\"treatment\", \"Add_Back\", \"Low_Iron\"))\n",
    "de_output = data.frame('Contrast'=as.character(), 'Organism'=as.character(), \n",
    "                       'number_de'=as.numeric(), 'percent_de'=as.numeric())\n",
    "ko.organism = list(de4.k, de8.k, de6.k, de13.k)\n",
    "\n",
    "for (o in ko.organism) {\n",
    "     if (colData(o)[1,2] == colData(de4.k)[1,2]) {\n",
    "        isolate='C. closterium UGA4'\n",
    "    }else if (colData(o)[1,2] == colData(de8.k)[1,2]) {\n",
    "        isolate='C. closterium UGA8'\n",
    "    }else if (colData(o)[1,2] == colData(de6.k)[1,2]) {\n",
    "           isolate='G. oceanica'\n",
    "    }else if (colData(o)[1,2] == colData(de13.k)[1,2]) {            \n",
    "        isolate='G. huxleyi'}\n",
    "    for (c in contrast) {\n",
    "        if (isolate =='C. closterium UGA4' & c[2]=='High_Iron'){\n",
    "            next\n",
    "        }\n",
    "        de.c = results(o, contrast=c, tidy=TRUE)\n",
    "        de.percent = (nrow(filter(de.c,(padj < 0.05)==T))/nrow(o)*100)\n",
    "        de.num = nrow(filter(de.c,(padj < 0.05) ==T))\n",
    "        deAdd = data.frame('Contrast'= c[2], 'Organism'=isolate, 'number_de'=de.num, 'percent_de'=de.percent)\n",
    "        de_output = rbind(de_output, deAdd)\n",
    "    }\n",
    "              }\n",
    "\n",
    "de_output\n",
    "\n",
    "write.csv(de_output, './de_res_files/de_ko_output.csv', row.names=F)\n"
   ]
  },
  {
   "cell_type": "markdown",
   "id": "d5cef1c8-fbfd-48d9-a3b6-aad9c5c14e8a",
   "metadata": {},
   "source": [
    "## 5. Normalization for visualization\n",
    "---\n",
    "### 5.1 Log fold change shrinkage on differential expression analysis results for PCA and MA plots"
   ]
  },
  {
   "cell_type": "code",
   "execution_count": null,
   "id": "43f4ce13",
   "metadata": {},
   "outputs": [],
   "source": [
    "for (o in ko.organism) {\n",
    "    for (c in contrast){ \n",
    "         if (isolate =='C. closterium UGA4' & c[2]=='High_Iron'){\n",
    "            next\n",
    "        lfc.df = lfcShrink(o, c, type='ashr')\n",
    "        lfc.df = lfc.df %>% as.data.frame() %>% rownames_to_column('ko_id')\n",
    "        write.csv(lfc.df, paste('./de_res_files/lfc',colData(o)[1,2],'.k.',c[2],'.csv',sep=''), row.names=F) \n",
    "        }"
   ]
  },
  {
   "cell_type": "markdown",
   "id": "abde1c27-0e72-407b-83de-3a852c4d851d",
   "metadata": {},
   "source": [
    "### 5.2 VST normalization on kegg summed counts for heatmaps\n",
    "---"
   ]
  },
  {
   "cell_type": "code",
   "execution_count": null,
   "id": "5cdb3b0f-b390-48d3-993d-cf2a29506447",
   "metadata": {},
   "outputs": [],
   "source": [
    "## vsd normalize and save ordered by variance\n",
    "vsd.norm <- function(dds){\n",
    "    varianceStabilizingTransformation(dds,blind=FALSE)\n",
    "    }\n",
    "k.vsd4 <- vsd.norm(k.dds4)\n",
    "k.vsd8 <- vsd.norm(k.dds8)\n",
    "k.vsd6 <- vsd.norm(k.dds6)\n",
    "k.vsd13 <- vsd.norm(k.dds13)\n",
    "\n",
    "write.vsd.k <- function(vsd, org){\n",
    "    vsd <- assay(vsd)\n",
    "    vsd_order <- order(rowVars(vsd), decreasing=T)\n",
    "    vsd_new <- vsd[vsd_order, ]\n",
    "    write.csv(vsd_new, paste('./vsd_files/', org, \"vsd.k.csv\", sep=\"\"))\n",
    "}\n",
    "\n",
    "write.vsd.k(k.vsd4, '04')\n",
    "write.vsd.k(k.vsd8, '08')\n",
    "write.vsd.k(k.vsd6, '06')\n",
    "write.vsd.k(k.vsd13, '13')"
   ]
  }
 ],
 "metadata": {
  "kernelspec": {
   "display_name": "R",
   "language": "R",
   "name": "ir"
  },
  "language_info": {
   "codemirror_mode": "r",
   "file_extension": ".r",
   "mimetype": "text/x-r-source",
   "name": "R",
   "pygments_lexer": "r",
   "version": "4.3.3"
  }
 },
 "nbformat": 4,
 "nbformat_minor": 5
}
