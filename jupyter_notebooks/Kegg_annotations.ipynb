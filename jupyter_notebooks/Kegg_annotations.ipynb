{
 "cells": [
  {
   "cell_type": "markdown",
   "id": "9171cae8",
   "metadata": {},
   "source": [
    "# Kegg annotation tables \n",
    "\n",
    "- This notebook will use output from Eggnogmapper to create key tables used to sum ORF counts to the 'Kegg Ko gene level' and to translate Ko IDs into gene names for visualization. \n",
    "---\n",
    "## Prepare Environment"
   ]
  },
  {
   "cell_type": "code",
   "execution_count": 1,
   "id": "569719fe-78a8-4e44-8744-a2c9eb9cf706",
   "metadata": {},
   "outputs": [
    {
     "name": "stderr",
     "output_type": "stream",
     "text": [
      "── \u001b[1mAttaching core tidyverse packages\u001b[22m ────────────────────────────────────────────────────────────────────── tidyverse 2.0.0 ──\n",
      "\u001b[32m✔\u001b[39m \u001b[34mdplyr    \u001b[39m 1.1.4     \u001b[32m✔\u001b[39m \u001b[34mreadr    \u001b[39m 2.1.5\n",
      "\u001b[32m✔\u001b[39m \u001b[34mforcats  \u001b[39m 1.0.0     \u001b[32m✔\u001b[39m \u001b[34mstringr  \u001b[39m 1.5.1\n",
      "\u001b[32m✔\u001b[39m \u001b[34mggplot2  \u001b[39m 3.4.4     \u001b[32m✔\u001b[39m \u001b[34mtibble   \u001b[39m 3.2.1\n",
      "\u001b[32m✔\u001b[39m \u001b[34mlubridate\u001b[39m 1.9.3     \u001b[32m✔\u001b[39m \u001b[34mtidyr    \u001b[39m 1.3.0\n",
      "\u001b[32m✔\u001b[39m \u001b[34mpurrr    \u001b[39m 1.0.2     \n",
      "── \u001b[1mConflicts\u001b[22m ──────────────────────────────────────────────────────────────────────────────────────── tidyverse_conflicts() ──\n",
      "\u001b[31m✖\u001b[39m \u001b[34mdplyr\u001b[39m::\u001b[32mfilter()\u001b[39m masks \u001b[34mstats\u001b[39m::filter()\n",
      "\u001b[31m✖\u001b[39m \u001b[34mdplyr\u001b[39m::\u001b[32mlag()\u001b[39m    masks \u001b[34mstats\u001b[39m::lag()\n",
      "\u001b[36mℹ\u001b[39m Use the conflicted package (\u001b[3m\u001b[34m<http://conflicted.r-lib.org/>\u001b[39m\u001b[23m) to force all conflicts to become errors\n",
      "\n",
      "Attaching package: ‘RCurl’\n",
      "\n",
      "\n",
      "The following object is masked from ‘package:tidyr’:\n",
      "\n",
      "    complete\n",
      "\n",
      "\n"
     ]
    }
   ],
   "source": [
    "library('tidyverse')\n",
    "library('tibble') \n",
    "library('KEGGREST')\n",
    "library('RCurl')"
   ]
  },
  {
   "cell_type": "markdown",
   "id": "070bb3bf",
   "metadata": {},
   "source": [
    "# 1. Read in eggnog annotation tables\n",
    "---\n",
    "The `get.eggnog` function reads in eggnog annotation tables. Changing the directory and file name to the organism number (4,8,6 or 13) is specific to how I organized my files. The only columns of interest are subset from the annotation table.  "
   ]
  },
  {
   "cell_type": "code",
   "execution_count": 2,
   "id": "66403180",
   "metadata": {},
   "outputs": [],
   "source": [
    "get.eggnog <- function(org){\n",
    "    emap <- read.csv(paste('../expression_analysis/eggnog_annotations/',org,\".emapper.annotations\", sep=\"\"),\n",
    "                 sep = \"\\t\",\n",
    "                 comment.char = \"#\",\n",
    "                 header = FALSE,\n",
    "                 na.strings = \"-\")\n",
    "    \n",
    "    colnames(emap) <- c(\n",
    "        'orfs', 'seed_ortholog', 'evalue', 'score', 'eggNOG_OGs', 'max_annot_lvl', 'COG_category', 'Description', \n",
    "        'Preferred_name', 'GOs', 'EC', 'ko_id', 'KEGG_Pathway', 'KEGG_Module', 'KEGG_Reaction', \n",
    "        'KEGG_rclass',  'BRITE', 'KEGG_TC', 'CAZy', 'BiGG_Reaction', 'PFAMs')\n",
    "    \n",
    "    emap[, c(\"orfs\", \"seed_ortholog\", \"EC\",\"GOs\",\"ko_id\",'KEGG_Pathway', 'KEGG_Module', 'KEGG_Reaction', \n",
    "       'KEGG_rclass',  'BRITE', 'KEGG_TC', 'CAZy', 'BiGG_Reaction',\"PFAMs\")]\n",
    "    }\n",
    "\n",
    "emap4 <- get.eggnog('04')\n",
    "emap8 <- get.eggnog('08')\n",
    "emap6 <- get.eggnog('06')\n",
    "emap13 <- get.eggnog('13')"
   ]
  },
  {
   "cell_type": "markdown",
   "id": "6f41c467",
   "metadata": {},
   "source": [
    "### 1.2 Create df for each organism with annotation of choice, removing the rows with NA's"
   ]
  },
  {
   "cell_type": "code",
   "execution_count": 3,
   "id": "bf728468",
   "metadata": {},
   "outputs": [],
   "source": [
    "get.anno <- function(emap, anno){\n",
    "    #extract query column and annotation of choice, ex: pfams\n",
    "    vars <- c(\"orfs\", anno)\n",
    "    df <- select(emap, all_of(vars))\n",
    "    df <- df %>% filter(is.na(df[,ncol(df)])==FALSE)\n",
    "    }\n",
    "\n",
    "ko4_ls <- get.anno(emap4,\"ko_id\")\n",
    "ko8_ls <- get.anno(emap8,\"ko_id\")\n",
    "ko6_ls <- get.anno(emap6,\"ko_id\")\n",
    "ko13_ls <- get.anno(emap13,\"ko_id\")"
   ]
  },
  {
   "cell_type": "code",
   "execution_count": 4,
   "id": "7b85a4ef-cb81-406c-8760-b6e772427773",
   "metadata": {},
   "outputs": [],
   "source": [
    "pfam4_ls = get.anno(emap4, 'PFAMs')\n",
    "pfam8_ls = get.anno(emap8, 'PFAMs')\n",
    "pfam6_ls = get.anno(emap6, 'PFAMs')\n",
    "pfam13_ls = get.anno(emap13, 'PFAMs')\n"
   ]
  },
  {
   "cell_type": "markdown",
   "id": "e8aa3b7a",
   "metadata": {},
   "source": [
    "# 2. Create a ko-to-orf mapping table\n",
    "---\n",
    "The ko-to-orf mapping table will associate each ORF to a Kegg Ko, and can be used as a key. Because some ORFs were assigned multiple Ko's, these will be split into multiple columns with the `split into multiple` function adapted from a stack overflow post. ORFs with multiple Ko's will appear as many times as a Ko was assigned and the ko_iteration numbers from 1-n ko's assigned. \n",
    "Then, `clean_ko` pivots the table into three columns, ORF, Ko, and Ko_iteration, dropping the Ko prefix 'Ko:'.  "
   ]
  },
  {
   "cell_type": "code",
   "execution_count": 5,
   "id": "c1440559",
   "metadata": {},
   "outputs": [
    {
     "name": "stdout",
     "output_type": "stream",
     "text": [
      "[1] \"# of values in matrix w/o NA: 14281\"\n",
      "[1] \"# rows in final df:  14281\"\n",
      "[1] \"# of values in matrix w/o NA: 35251\"\n",
      "[1] \"# rows in final df:  35251\"\n",
      "[1] \"# of values in matrix w/o NA: 12765\"\n",
      "[1] \"# rows in final df:  12765\"\n",
      "[1] \"# of values in matrix w/o NA: 30911\"\n",
      "[1] \"# rows in final df:  30911\"\n"
     ]
    },
    {
     "data": {
      "text/html": [
       "<table class=\"dataframe\">\n",
       "<caption>A tibble: 6 × 3</caption>\n",
       "<thead>\n",
       "\t<tr><th scope=col>orfs</th><th scope=col>ko_iteration</th><th scope=col>ko_id</th></tr>\n",
       "\t<tr><th scope=col>&lt;chr&gt;</th><th scope=col>&lt;chr&gt;</th><th scope=col>&lt;chr&gt;</th></tr>\n",
       "</thead>\n",
       "<tbody>\n",
       "\t<tr><td>NODE_10001_length_2060_cov_5.581278_g5365_i0.p1 </td><td>ko:_1</td><td>K00914</td></tr>\n",
       "\t<tr><td>NODE_10002_length_2059_cov_37.920947_g5366_i0.p1</td><td>ko:_1</td><td>K06911</td></tr>\n",
       "\t<tr><td>NODE_10003_length_2059_cov_28.617321_g5366_i1.p1</td><td>ko:_1</td><td>K06911</td></tr>\n",
       "\t<tr><td>NODE_10009_length_2059_cov_5.150050_g5369_i0.p1 </td><td>ko:_1</td><td>K21797</td></tr>\n",
       "\t<tr><td>NODE_10010_length_2058_cov_58.211083_g5370_i0.p1</td><td>ko:_1</td><td>K18038</td></tr>\n",
       "\t<tr><td>NODE_10011_length_2058_cov_52.328967_g4722_i3.p3</td><td>ko:_1</td><td>K03020</td></tr>\n",
       "</tbody>\n",
       "</table>\n"
      ],
      "text/latex": [
       "A tibble: 6 × 3\n",
       "\\begin{tabular}{lll}\n",
       " orfs & ko\\_iteration & ko\\_id\\\\\n",
       " <chr> & <chr> & <chr>\\\\\n",
       "\\hline\n",
       "\t NODE\\_10001\\_length\\_2060\\_cov\\_5.581278\\_g5365\\_i0.p1  & ko:\\_1 & K00914\\\\\n",
       "\t NODE\\_10002\\_length\\_2059\\_cov\\_37.920947\\_g5366\\_i0.p1 & ko:\\_1 & K06911\\\\\n",
       "\t NODE\\_10003\\_length\\_2059\\_cov\\_28.617321\\_g5366\\_i1.p1 & ko:\\_1 & K06911\\\\\n",
       "\t NODE\\_10009\\_length\\_2059\\_cov\\_5.150050\\_g5369\\_i0.p1  & ko:\\_1 & K21797\\\\\n",
       "\t NODE\\_10010\\_length\\_2058\\_cov\\_58.211083\\_g5370\\_i0.p1 & ko:\\_1 & K18038\\\\\n",
       "\t NODE\\_10011\\_length\\_2058\\_cov\\_52.328967\\_g4722\\_i3.p3 & ko:\\_1 & K03020\\\\\n",
       "\\end{tabular}\n"
      ],
      "text/markdown": [
       "\n",
       "A tibble: 6 × 3\n",
       "\n",
       "| orfs &lt;chr&gt; | ko_iteration &lt;chr&gt; | ko_id &lt;chr&gt; |\n",
       "|---|---|---|\n",
       "| NODE_10001_length_2060_cov_5.581278_g5365_i0.p1  | ko:_1 | K00914 |\n",
       "| NODE_10002_length_2059_cov_37.920947_g5366_i0.p1 | ko:_1 | K06911 |\n",
       "| NODE_10003_length_2059_cov_28.617321_g5366_i1.p1 | ko:_1 | K06911 |\n",
       "| NODE_10009_length_2059_cov_5.150050_g5369_i0.p1  | ko:_1 | K21797 |\n",
       "| NODE_10010_length_2058_cov_58.211083_g5370_i0.p1 | ko:_1 | K18038 |\n",
       "| NODE_10011_length_2058_cov_52.328967_g4722_i3.p3 | ko:_1 | K03020 |\n",
       "\n"
      ],
      "text/plain": [
       "  orfs                                             ko_iteration ko_id \n",
       "1 NODE_10001_length_2060_cov_5.581278_g5365_i0.p1  ko:_1        K00914\n",
       "2 NODE_10002_length_2059_cov_37.920947_g5366_i0.p1 ko:_1        K06911\n",
       "3 NODE_10003_length_2059_cov_28.617321_g5366_i1.p1 ko:_1        K06911\n",
       "4 NODE_10009_length_2059_cov_5.150050_g5369_i0.p1  ko:_1        K21797\n",
       "5 NODE_10010_length_2058_cov_58.211083_g5370_i0.p1 ko:_1        K18038\n",
       "6 NODE_10011_length_2058_cov_52.328967_g4722_i3.p3 ko:_1        K03020"
      ]
     },
     "metadata": {},
     "output_type": "display_data"
    }
   ],
   "source": [
    "split_into_multiple <- function(column, pattern = \",\", into_prefix){\n",
    "    #adapted from post on stack overflow\n",
    "    cols <- str_split_fixed(column, pattern, n = Inf)\n",
    "  # Replace empty matrix indicies with NA's \n",
    "    cols[which(cols == \"\")] <- NA\n",
    "  # turn matrix into a table with unique but arbitraty column names  \n",
    "    cols <- as_tibble(cols, .name_repair = make.names)\n",
    "  # where m = # columns in tibble 'cols'\n",
    "    m <- dim(cols)[2]\n",
    "  # assign column names as 'into_prefix_1', 'into_prefix_2', ..., 'into_prefix_m' \n",
    "    names(cols) <- paste(into_prefix, 1:m, sep = \"_\")\n",
    "    print(paste('# of values in matrix w/o NA:',sum(!is.na(cols)),sep=' '))\n",
    "    return(cols)\n",
    "}\n",
    "clean_ko <- function(df, org, into_prefix, value_col='ko_id',name_col='ko_iteration'){\n",
    "  # split up ko_id's into multiple columns naming each column \n",
    "  # ko:_1 to ko:_n \n",
    "  # (remember at this point we have the same number of rows but \n",
    "  # far more columns)\n",
    "    anno_iterations <- split_into_multiple(df[,2], \",\", into_prefix)\n",
    "  # select the orfs column from original df and bind to to \n",
    "  # split columns \n",
    "    df = df %>% select(orfs) %>% bind_cols(anno_iterations)\n",
    "    df_clean = pivot_longer(df, cols = !orfs, values_drop_na = T,\n",
    "                            values_to = value_col, names_to = name_col)\n",
    "    if(str_detect(colnames(df_clean[3]),'ko_id')==T){\n",
    "    df_clean$ko_id <- gsub(into_prefix, '', df_clean$ko_id)\n",
    "        }\n",
    "  # the final df should have same number of rows as sum(!na(cols))\n",
    "    print(paste('# rows in final df:',nrow(df_clean), sep='  '))\n",
    "    #write.csv(df_clean, paste('../kegg_names/ko',org, '_ls.csv', sep=''), row.names=F)\n",
    "    df_clean\n",
    "    }\n",
    "\n",
    "ko4 <- clean_ko(ko4_ls,'4','ko:')\n",
    "ko6 <- clean_ko(ko6_ls,'6','ko:')\n",
    "ko8 <- clean_ko(ko8_ls,'8','ko:')\n",
    "ko13 <- clean_ko(ko13_ls,'13','ko:')\n",
    "head(ko4)"
   ]
  },
  {
   "cell_type": "code",
   "execution_count": null,
   "id": "0d8cd705-031e-4f22-97fc-91703f2b27f7",
   "metadata": {},
   "outputs": [],
   "source": []
  },
  {
   "cell_type": "code",
   "execution_count": null,
   "id": "b16d6e16-30e3-4f18-b89c-f37813885f2c",
   "metadata": {},
   "outputs": [],
   "source": []
  },
  {
   "cell_type": "markdown",
   "id": "d7cca5c9",
   "metadata": {},
   "source": [
    "## 2.1 Add ISIP and PTOX transcript ORFs \n",
    "The tables created above have tidy df of query (ORF) and annotation (Ko_id) for mapping to counts, but need the ISIP annotations. To do this I: \n",
    "- Read in ISIP isoform annotations\n",
    "- Make a tidy df of all ISIP isoforms for each organism\n",
    "- Check that ISIP's were also counted by Salmon, remove any which were not"
   ]
  },
  {
   "cell_type": "code",
   "execution_count": 6,
   "id": "5863d89e",
   "metadata": {},
   "outputs": [
    {
     "data": {
      "text/html": [
       "<table class=\"dataframe\">\n",
       "<caption>A data.frame: 6 × 3</caption>\n",
       "<thead>\n",
       "\t<tr><th></th><th scope=col>orfs</th><th scope=col>ko_iteration</th><th scope=col>ko_id</th></tr>\n",
       "\t<tr><th></th><th scope=col>&lt;chr&gt;</th><th scope=col>&lt;chr&gt;</th><th scope=col>&lt;chr&gt;</th></tr>\n",
       "</thead>\n",
       "<tbody>\n",
       "\t<tr><th scope=row>V1</th><td>NODE_11480_length_1968_cov_823.584169_g5802_i0.p2 </td><td>ko:_1</td><td>isip_2a</td></tr>\n",
       "\t<tr><th scope=row>V2</th><td>NODE_12355_length_1900_cov_867.879037_g5802_i1.p2 </td><td>ko:_1</td><td>isip_2a</td></tr>\n",
       "\t<tr><th scope=row>V3</th><td>NODE_14509_length_1755_cov_775.599287_g5802_i2.p2 </td><td>ko:_1</td><td>isip_2a</td></tr>\n",
       "\t<tr><th scope=row>V4</th><td>NODE_1485_length_3787_cov_81.809908_g739_i0.p1    </td><td>ko:_1</td><td>isip_2a</td></tr>\n",
       "\t<tr><th scope=row>V5</th><td>NODE_19097_length_1503_cov_1567.323776_g9985_i0.p2</td><td>ko:_1</td><td>isip_2a</td></tr>\n",
       "\t<tr><th scope=row>V6</th><td>NODE_29963_length_1047_cov_1763.823409_g3409_i1.p3</td><td>ko:_1</td><td>isip_2a</td></tr>\n",
       "</tbody>\n",
       "</table>\n"
      ],
      "text/latex": [
       "A data.frame: 6 × 3\n",
       "\\begin{tabular}{r|lll}\n",
       "  & orfs & ko\\_iteration & ko\\_id\\\\\n",
       "  & <chr> & <chr> & <chr>\\\\\n",
       "\\hline\n",
       "\tV1 & NODE\\_11480\\_length\\_1968\\_cov\\_823.584169\\_g5802\\_i0.p2  & ko:\\_1 & isip\\_2a\\\\\n",
       "\tV2 & NODE\\_12355\\_length\\_1900\\_cov\\_867.879037\\_g5802\\_i1.p2  & ko:\\_1 & isip\\_2a\\\\\n",
       "\tV3 & NODE\\_14509\\_length\\_1755\\_cov\\_775.599287\\_g5802\\_i2.p2  & ko:\\_1 & isip\\_2a\\\\\n",
       "\tV4 & NODE\\_1485\\_length\\_3787\\_cov\\_81.809908\\_g739\\_i0.p1     & ko:\\_1 & isip\\_2a\\\\\n",
       "\tV5 & NODE\\_19097\\_length\\_1503\\_cov\\_1567.323776\\_g9985\\_i0.p2 & ko:\\_1 & isip\\_2a\\\\\n",
       "\tV6 & NODE\\_29963\\_length\\_1047\\_cov\\_1763.823409\\_g3409\\_i1.p3 & ko:\\_1 & isip\\_2a\\\\\n",
       "\\end{tabular}\n"
      ],
      "text/markdown": [
       "\n",
       "A data.frame: 6 × 3\n",
       "\n",
       "| <!--/--> | orfs &lt;chr&gt; | ko_iteration &lt;chr&gt; | ko_id &lt;chr&gt; |\n",
       "|---|---|---|---|\n",
       "| V1 | NODE_11480_length_1968_cov_823.584169_g5802_i0.p2  | ko:_1 | isip_2a |\n",
       "| V2 | NODE_12355_length_1900_cov_867.879037_g5802_i1.p2  | ko:_1 | isip_2a |\n",
       "| V3 | NODE_14509_length_1755_cov_775.599287_g5802_i2.p2  | ko:_1 | isip_2a |\n",
       "| V4 | NODE_1485_length_3787_cov_81.809908_g739_i0.p1     | ko:_1 | isip_2a |\n",
       "| V5 | NODE_19097_length_1503_cov_1567.323776_g9985_i0.p2 | ko:_1 | isip_2a |\n",
       "| V6 | NODE_29963_length_1047_cov_1763.823409_g3409_i1.p3 | ko:_1 | isip_2a |\n",
       "\n"
      ],
      "text/plain": [
       "   orfs                                               ko_iteration ko_id  \n",
       "V1 NODE_11480_length_1968_cov_823.584169_g5802_i0.p2  ko:_1        isip_2a\n",
       "V2 NODE_12355_length_1900_cov_867.879037_g5802_i1.p2  ko:_1        isip_2a\n",
       "V3 NODE_14509_length_1755_cov_775.599287_g5802_i2.p2  ko:_1        isip_2a\n",
       "V4 NODE_1485_length_3787_cov_81.809908_g739_i0.p1     ko:_1        isip_2a\n",
       "V5 NODE_19097_length_1503_cov_1567.323776_g9985_i0.p2 ko:_1        isip_2a\n",
       "V6 NODE_29963_length_1047_cov_1763.823409_g3409_i1.p3 ko:_1        isip_2a"
      ]
     },
     "metadata": {},
     "output_type": "display_data"
    }
   ],
   "source": [
    "## read in the files\n",
    "dir <- \"../expression_analysis/eggnog_annotations/\"\n",
    "\n",
    "read.isip <- function(org, prot){\n",
    "    f = t(read.delim(file=paste(dir, org, 'isip', prot,'_hits.txt', sep=\"\"),\n",
    "                 sep = ' ',header = F,))\n",
    "    if (nrow(f) >=1){\n",
    "    f <- data.frame(\"orfs\"=f, \n",
    "                    \"ko_iteration\"=\"ko:_1\",\n",
    "                    \"ko_id\"=paste(\"isip_\", prot, sep=\"\"))}\n",
    "}\n",
    "\n",
    "i41 <- read.isip(\"04\", \"1\")\n",
    "i41a <- read.isip(\"04\", \"1a\")\n",
    "i41b <- read.isip(\"04\", \"1b\")\n",
    "i42a <- read.isip(\"04\", \"2a\")\n",
    "i43 <- read.isip(\"04\", \"3\")\n",
    "isip4 <- rbind(i41a, i41b, i42a, i43)\n",
    "isip4 <- distinct(isip4, orfs, .keep_all = T)\n",
    "\n",
    "i81 <- read.isip(\"08\", \"1\")\n",
    "i81a <- read.isip(\"08\", \"1a\")\n",
    "i81b <- read.isip(\"08\", \"1b\")\n",
    "i82a <- read.isip(\"08\", \"2a\")\n",
    "i83 <- read.isip(\"08\", \"3\")\n",
    "isip8 <- rbind( i81a, i81b, i82a, i83)  \n",
    "isip8 <- distinct(isip8, orfs, .keep_all = T)\n",
    "\n",
    "\n",
    "i61 <- read.isip(\"06\", \"1\")\n",
    "i61a <- read.isip(\"06\", \"1a\")\n",
    "i61b <- read.isip(\"06\", \"1b\")\n",
    "i62a <- read.isip(\"06\", \"2a\")\n",
    "i63 <- read.isip(\"06\", \"3\")\n",
    "isip6 <- rbind(i61a, i61b, i62a, i63)\n",
    "isip6 <- distinct(isip6, orfs, .keep_all = T)\n",
    "\n",
    "i132a <- read.isip(\"13\", \"2a\")\n",
    "i133 <- read.isip(\"13\", \"3\")\n",
    "isip13 <- rbind(i132a, i133)\n",
    "isip13 <- distinct(isip13, orfs, .keep_all = T)\n",
    "\n",
    "head(isip13)"
   ]
  },
  {
   "cell_type": "code",
   "execution_count": 147,
   "id": "b21bfc78-4c3b-415f-a1b2-a65a1679b0e5",
   "metadata": {},
   "outputs": [
    {
     "data": {
      "text/html": [
       "<table class=\"dataframe\">\n",
       "<caption>A data.frame: 3 × 3</caption>\n",
       "<thead>\n",
       "\t<tr><th scope=col>orfs</th><th scope=col>ko_iteration</th><th scope=col>ko_id</th></tr>\n",
       "\t<tr><th scope=col>&lt;chr&gt;</th><th scope=col>&lt;chr&gt;</th><th scope=col>&lt;chr&gt;</th></tr>\n",
       "</thead>\n",
       "<tbody>\n",
       "\t<tr><td>NODE_13213_length_1462_cov_44.942405_g8755_i0.p1</td><td>ko:_1</td><td>ptox1</td></tr>\n",
       "\t<tr><td>NODE_13643_length_1430_cov_47.266765_g8755_i1.p1</td><td>ko:_1</td><td>ptox2</td></tr>\n",
       "\t<tr><td>NODE_6129_length_2224_cov_8.358438_g4005_i0.p2  </td><td>ko:_1</td><td>ptox3</td></tr>\n",
       "</tbody>\n",
       "</table>\n"
      ],
      "text/latex": [
       "A data.frame: 3 × 3\n",
       "\\begin{tabular}{lll}\n",
       " orfs & ko\\_iteration & ko\\_id\\\\\n",
       " <chr> & <chr> & <chr>\\\\\n",
       "\\hline\n",
       "\t NODE\\_13213\\_length\\_1462\\_cov\\_44.942405\\_g8755\\_i0.p1 & ko:\\_1 & ptox1\\\\\n",
       "\t NODE\\_13643\\_length\\_1430\\_cov\\_47.266765\\_g8755\\_i1.p1 & ko:\\_1 & ptox2\\\\\n",
       "\t NODE\\_6129\\_length\\_2224\\_cov\\_8.358438\\_g4005\\_i0.p2   & ko:\\_1 & ptox3\\\\\n",
       "\\end{tabular}\n"
      ],
      "text/markdown": [
       "\n",
       "A data.frame: 3 × 3\n",
       "\n",
       "| orfs &lt;chr&gt; | ko_iteration &lt;chr&gt; | ko_id &lt;chr&gt; |\n",
       "|---|---|---|\n",
       "| NODE_13213_length_1462_cov_44.942405_g8755_i0.p1 | ko:_1 | ptox1 |\n",
       "| NODE_13643_length_1430_cov_47.266765_g8755_i1.p1 | ko:_1 | ptox2 |\n",
       "| NODE_6129_length_2224_cov_8.358438_g4005_i0.p2   | ko:_1 | ptox3 |\n",
       "\n"
      ],
      "text/plain": [
       "  orfs                                             ko_iteration ko_id\n",
       "1 NODE_13213_length_1462_cov_44.942405_g8755_i0.p1 ko:_1        ptox1\n",
       "2 NODE_13643_length_1430_cov_47.266765_g8755_i1.p1 ko:_1        ptox2\n",
       "3 NODE_6129_length_2224_cov_8.358438_g4005_i0.p2   ko:_1        ptox3"
      ]
     },
     "metadata": {},
     "output_type": "display_data"
    }
   ],
   "source": [
    "read.ptox <- function(org){\n",
    "    f = read.delim(file=paste(dir, org,'ptox_hits.txt', sep=\"\"),sep = ' ',header = F,)\n",
    "    \n",
    "    f <- data.frame(\"orfs\"=f[,1], \n",
    "                    \"ko_iteration\"=\"ko:_1\")\n",
    "    m=nrow(f)\n",
    "    f$ko_id <- paste('ptox', 1:m, sep = \"\")\n",
    "    f\n",
    "}\n",
    "ptox4 = read.ptox('04')\n",
    "ptox8 = read.ptox('08') \n",
    "ptox6 = read.ptox('06') \n",
    "ptox13 = read.ptox('13') \n",
    "ptox8"
   ]
  },
  {
   "cell_type": "markdown",
   "id": "ebed5576",
   "metadata": {},
   "source": [
    "Combine ISIP and PTOX proteins and ko dataframes, checking not to repeat if the orf was already annotated.\n",
    "\n",
    "1. Merge full ko definition list with ko's in organism using many-to-one merge relationship.  Organism's ko df have repeated ko_id, as the same annotation could be matched to multiple ORFs. So many rows in organisms's df may match to one row in full ko definition df. The column ko_id is named the same for both objects and will be used to merge the two dataframes. For this we use dplyr's left-join with relationship=many-to-one. \n",
    "\n",
    "2. Isip df and ko df have column query in common. We create a list of ORF's that the isip df and ko df have in common. isip rows are added to ko df for those ORFs not in common."
   ]
  },
  {
   "cell_type": "code",
   "execution_count": 148,
   "id": "28e2fde7",
   "metadata": {},
   "outputs": [],
   "source": [
    "\n",
    "combine_save <- function(isip, ko_df, ptox, org){\n",
    "    \n",
    "    ko_fin <- bind_rows(ko_df, isip, ptox)\n",
    " \n",
    "    write.csv(ko_fin, paste(\"../expression_analysis/kegg_files/ko\", org,\"_ls.csv\", sep=\"\"), row.names=F)\n",
    "    ko_fin\n",
    "}\n",
    "\n",
    "\n",
    "ko4_def <- combine_save(isip4, ko4, ptox4, \"4\")\n",
    "ko8_def <- combine_save(isip8, ko8, ptox8, \"8\")\n",
    "ko6_def <- combine_save(isip6, ko6, ptox6, \"6\")\n",
    "ko13_def <- combine_save(isip13, ko13, ptox13, \"13\")"
   ]
  },
  {
   "cell_type": "markdown",
   "id": "b79a095a-58e6-4911-99b6-8fa877d556b8",
   "metadata": {},
   "source": [
    "# 3. Create a list of unique ko's found across all organisms. \n",
    "---\n",
    "Some formating the the list of unique ko's is made so that bash scripting can be used. This list is later used to find the name and symbol of the ko_id's and map it back to the organism-specific tables made above.  "
   ]
  },
  {
   "cell_type": "code",
   "execution_count": 9,
   "id": "562e1fe0-6593-4267-98ce-475f45b74de6",
   "metadata": {},
   "outputs": [
    {
     "data": {
      "text/html": [
       "7218"
      ],
      "text/latex": [
       "7218"
      ],
      "text/markdown": [
       "7218"
      ],
      "text/plain": [
       "[1] 7218"
      ]
     },
     "metadata": {},
     "output_type": "display_data"
    }
   ],
   "source": [
    "#create a df of all unique ko's found for all annotations\n",
    "all.ko <- bind_rows(ko4, ko6,ko8,ko13) %>% select(ko_id)\n",
    "\n",
    "all.ko <- distinct(all.ko, ko_id, .keep_all = T)\n",
    "nrow(all.ko)\n",
    "#so that bash will read my file correctly, I need to start with ko= \n",
    "#and surround all ko_id's by a single quote\n",
    "kk=c('ko=')\n",
    "q=c('\"') \n",
    "all.ko=rbind(kk, q, all.ko, q)\n",
    "\n",
    "#write to a .txt file with ko_id's separated by a space\n",
    "#write.table(all.ko, \"../expression_analysis/kegg_files/all.ko.txt\", quote=F, sep=\"\", eol=\" \", row.names = FALSE, col.names = FALSE)"
   ]
  },
  {
   "cell_type": "markdown",
   "id": "69dfdc59-41a8-4bb3-baca-e15a97f815bf",
   "metadata": {},
   "source": [
    "## 3.1 Run bash script `koNames.sh` in script folder\n",
    "a total of 7218 rows, or ko_id's \n",
    "\n",
    "## 3.2 Clean up ko_def table\n",
    "---\n",
    "Seperate the Ko ID, symbol, and name into different columns, add the ISIP genes and save. "
   ]
  },
  {
   "cell_type": "code",
   "execution_count": 10,
   "id": "df2c4ac5",
   "metadata": {},
   "outputs": [
    {
     "name": "stdout",
     "output_type": "stream",
     "text": [
      "[1] \"7192     =   all unique ko's found across organisms\"\n"
     ]
    },
    {
     "data": {
      "text/html": [
       "<table class=\"dataframe\">\n",
       "<caption>A data.frame: 6 × 3</caption>\n",
       "<thead>\n",
       "\t<tr><th></th><th scope=col>ko_id</th><th scope=col>symbol</th><th scope=col>name</th></tr>\n",
       "\t<tr><th></th><th scope=col>&lt;chr&gt;</th><th scope=col>&lt;chr&gt;</th><th scope=col>&lt;chr&gt;</th></tr>\n",
       "</thead>\n",
       "<tbody>\n",
       "\t<tr><th scope=row>7187</th><td>K11288 </td><td> TSPYL5</td><td> TSPY-like 5                  </td></tr>\n",
       "\t<tr><th scope=row>7188</th><td>K11289 </td><td> TSPYL6</td><td> TSPY-like 6                  </td></tr>\n",
       "\t<tr><th scope=row>7189</th><td>ptox   </td><td>PTOX   </td><td>Plastid termianl oxidase      </td></tr>\n",
       "\t<tr><th scope=row>7190</th><td>isip_1a</td><td>isip_1a</td><td>Iron stress induced protein 1a</td></tr>\n",
       "\t<tr><th scope=row>7191</th><td>isip_2a</td><td>isip_2a</td><td>Iron stress induced protein 2a</td></tr>\n",
       "\t<tr><th scope=row>7192</th><td>isip_3 </td><td>isip_3 </td><td>Iron stress induced protein 3 </td></tr>\n",
       "</tbody>\n",
       "</table>\n"
      ],
      "text/latex": [
       "A data.frame: 6 × 3\n",
       "\\begin{tabular}{r|lll}\n",
       "  & ko\\_id & symbol & name\\\\\n",
       "  & <chr> & <chr> & <chr>\\\\\n",
       "\\hline\n",
       "\t7187 & K11288  &  TSPYL5 &  TSPY-like 5                  \\\\\n",
       "\t7188 & K11289  &  TSPYL6 &  TSPY-like 6                  \\\\\n",
       "\t7189 & ptox    & PTOX    & Plastid termianl oxidase      \\\\\n",
       "\t7190 & isip\\_1a & isip\\_1a & Iron stress induced protein 1a\\\\\n",
       "\t7191 & isip\\_2a & isip\\_2a & Iron stress induced protein 2a\\\\\n",
       "\t7192 & isip\\_3  & isip\\_3  & Iron stress induced protein 3 \\\\\n",
       "\\end{tabular}\n"
      ],
      "text/markdown": [
       "\n",
       "A data.frame: 6 × 3\n",
       "\n",
       "| <!--/--> | ko_id &lt;chr&gt; | symbol &lt;chr&gt; | name &lt;chr&gt; |\n",
       "|---|---|---|---|\n",
       "| 7187 | K11288  |  TSPYL5 |  TSPY-like 5                   |\n",
       "| 7188 | K11289  |  TSPYL6 |  TSPY-like 6                   |\n",
       "| 7189 | ptox    | PTOX    | Plastid termianl oxidase       |\n",
       "| 7190 | isip_1a | isip_1a | Iron stress induced protein 1a |\n",
       "| 7191 | isip_2a | isip_2a | Iron stress induced protein 2a |\n",
       "| 7192 | isip_3  | isip_3  | Iron stress induced protein 3  |\n",
       "\n"
      ],
      "text/plain": [
       "     ko_id   symbol  name                          \n",
       "7187 K11288   TSPYL5  TSPY-like 5                  \n",
       "7188 K11289   TSPYL6  TSPY-like 6                  \n",
       "7189 ptox    PTOX    Plastid termianl oxidase      \n",
       "7190 isip_1a isip_1a Iron stress induced protein 1a\n",
       "7191 isip_2a isip_2a Iron stress induced protein 2a\n",
       "7192 isip_3  isip_3  Iron stress induced protein 3 "
      ]
     },
     "metadata": {},
     "output_type": "display_data"
    }
   ],
   "source": [
    "#read in table with name and symbol matches to kegg ko's\n",
    "#make tidy\n",
    "ko_def <- read.delim(\"../expression_analysis/kegg_files/ko_pathways.txt\", head=F,sep = \";\")\n",
    "id <- str_extract(ko_def$V1,'K[[:digit:]]*')\n",
    "sym <- str_remove(ko_def$V1, 'ko:K[[:digit:]]*')\n",
    "ko_def <- data.frame(ko_id = id, symbol=sym, name=ko_def$V2)\n",
    "\n",
    "isip_ptox=data.frame(ko_id=c('ptox','isip_1a','isip_2a','isip_3'), \n",
    "                symbol=c('PTOX','isip_1a','isip_2a','isip_3'),\n",
    "                name=c('Plastid termianl oxidase','Iron stress induced protein 1a',\n",
    "                       'Iron stress induced protein 2a', 'Iron stress induced protein 3'))\n",
    "ko_def=bind_rows(ko_def, isip_ptox)\n",
    "print(paste(nrow(ko_def), \"    =   all unique ko's found across organisms\"))\n",
    "write.csv(ko_def,'../expression_analysis/kegg_files/ko_def.csv', row.names=F)\n",
    "tail(ko_def)"
   ]
  },
  {
   "cell_type": "markdown",
   "id": "dd3ea4dd",
   "metadata": {},
   "source": [
    "# Using Kegg api for Kegg annotations \n",
    "To create a Kegg pathway key with ko_id, name, and symbol, for the pathways of interest, use the kegg api starting with the Kegg pathway codes:\n",
    "- Photosynthesis\n",
    "- Photosynthesis - antenna proteins\n",
    "- Carbon fixation in photosynthetic organisms\n",
    "- Nitrogen metabolism\n",
    "- Carotenoid biosynthesis\n",
    "Get the pathway name and all of the ko's within that path byloop through each path code and using Kegg api, extract this information. \n",
    "Get the kegg ko name and symbol for each pathway by looping through each ko_id.\n",
    "## After running each loop, we should have a dataframe with columns:\n",
    "- ko_id\n",
    "- name\n",
    "- symbol\n",
    "- pathway/module\n",
    "- sub_category\n",
    "- broad_category\n",
    "## Add in genes not on Kegg, or not associated with a pathway\n",
    "After adding the additional genes, clean up the table by adding appropriate pathway names and shortening gene names for the heatmap.\n",
    "## Extract all ko's from tables which appear in at least one sample\n",
    "We will use the resulting tables for subsetting data later in making heat maps. We can create heat maps based on pathway, module, or category. "
   ]
  },
  {
   "cell_type": "code",
   "execution_count": 106,
   "id": "979b4944-1ce8-4727-bcc9-0209a3350c31",
   "metadata": {},
   "outputs": [
    {
     "data": {
      "text/html": [
       "<table class=\"dataframe\">\n",
       "<caption>A data.frame: 6 × 6</caption>\n",
       "<thead>\n",
       "\t<tr><th></th><th scope=col>Path</th><th scope=col>ko_id</th><th scope=col>symbol</th><th scope=col>name</th><th scope=col>sub_category</th><th scope=col>path_name</th></tr>\n",
       "\t<tr><th></th><th scope=col>&lt;chr&gt;</th><th scope=col>&lt;chr&gt;</th><th scope=col>&lt;chr&gt;</th><th scope=col>&lt;chr&gt;</th><th scope=col>&lt;chr&gt;</th><th scope=col>&lt;chr&gt;</th></tr>\n",
       "</thead>\n",
       "<tbody>\n",
       "\t<tr><th scope=row>259</th><td>map00906</td><td>K22492</td><td>CYP175A  </td><td>beta-carotene 3-hydroxylase            </td><td>Carotenoid biosynthesis</td><td>Carotenoid biosynthesis</td></tr>\n",
       "\t<tr><th scope=row>260</th><td>map00906</td><td>K22502</td><td>crtY     </td><td>lycopene beta-cyclase                  </td><td>Carotenoid biosynthesis</td><td>Carotenoid biosynthesis</td></tr>\n",
       "\t<tr><th scope=row>261</th><td>map00906</td><td>K23037</td><td>CRTS, ASY</td><td>beta-carotene 4-ketolase/3-hydroxylase </td><td>Carotenoid biosynthesis</td><td>Carotenoid biosynthesis</td></tr>\n",
       "\t<tr><th scope=row>262</th><td>map00906</td><td>K25072</td><td>crtNc    </td><td>4,4'-diapolycopenoate synthase         </td><td>Carotenoid biosynthesis</td><td>Carotenoid biosynthesis</td></tr>\n",
       "\t<tr><th scope=row>263</th><td>map00906</td><td>K25073</td><td>cruO     </td><td>1'-hydroxy-gamma-carotene C-4' ketolase</td><td>Carotenoid biosynthesis</td><td>Carotenoid biosynthesis</td></tr>\n",
       "\t<tr><th scope=row>264</th><td>map00906</td><td>K25074</td><td>crtU     </td><td>carotenoid chi-ring synthase           </td><td>Carotenoid biosynthesis</td><td>Carotenoid biosynthesis</td></tr>\n",
       "</tbody>\n",
       "</table>\n"
      ],
      "text/latex": [
       "A data.frame: 6 × 6\n",
       "\\begin{tabular}{r|llllll}\n",
       "  & Path & ko\\_id & symbol & name & sub\\_category & path\\_name\\\\\n",
       "  & <chr> & <chr> & <chr> & <chr> & <chr> & <chr>\\\\\n",
       "\\hline\n",
       "\t259 & map00906 & K22492 & CYP175A   & beta-carotene 3-hydroxylase             & Carotenoid biosynthesis & Carotenoid biosynthesis\\\\\n",
       "\t260 & map00906 & K22502 & crtY      & lycopene beta-cyclase                   & Carotenoid biosynthesis & Carotenoid biosynthesis\\\\\n",
       "\t261 & map00906 & K23037 & CRTS, ASY & beta-carotene 4-ketolase/3-hydroxylase  & Carotenoid biosynthesis & Carotenoid biosynthesis\\\\\n",
       "\t262 & map00906 & K25072 & crtNc     & 4,4'-diapolycopenoate synthase          & Carotenoid biosynthesis & Carotenoid biosynthesis\\\\\n",
       "\t263 & map00906 & K25073 & cruO      & 1'-hydroxy-gamma-carotene C-4' ketolase & Carotenoid biosynthesis & Carotenoid biosynthesis\\\\\n",
       "\t264 & map00906 & K25074 & crtU      & carotenoid chi-ring synthase            & Carotenoid biosynthesis & Carotenoid biosynthesis\\\\\n",
       "\\end{tabular}\n"
      ],
      "text/markdown": [
       "\n",
       "A data.frame: 6 × 6\n",
       "\n",
       "| <!--/--> | Path &lt;chr&gt; | ko_id &lt;chr&gt; | symbol &lt;chr&gt; | name &lt;chr&gt; | sub_category &lt;chr&gt; | path_name &lt;chr&gt; |\n",
       "|---|---|---|---|---|---|---|\n",
       "| 259 | map00906 | K22492 | CYP175A   | beta-carotene 3-hydroxylase             | Carotenoid biosynthesis | Carotenoid biosynthesis |\n",
       "| 260 | map00906 | K22502 | crtY      | lycopene beta-cyclase                   | Carotenoid biosynthesis | Carotenoid biosynthesis |\n",
       "| 261 | map00906 | K23037 | CRTS, ASY | beta-carotene 4-ketolase/3-hydroxylase  | Carotenoid biosynthesis | Carotenoid biosynthesis |\n",
       "| 262 | map00906 | K25072 | crtNc     | 4,4'-diapolycopenoate synthase          | Carotenoid biosynthesis | Carotenoid biosynthesis |\n",
       "| 263 | map00906 | K25073 | cruO      | 1'-hydroxy-gamma-carotene C-4' ketolase | Carotenoid biosynthesis | Carotenoid biosynthesis |\n",
       "| 264 | map00906 | K25074 | crtU      | carotenoid chi-ring synthase            | Carotenoid biosynthesis | Carotenoid biosynthesis |\n",
       "\n"
      ],
      "text/plain": [
       "    Path     ko_id  symbol    name                                   \n",
       "259 map00906 K22492 CYP175A   beta-carotene 3-hydroxylase            \n",
       "260 map00906 K22502 crtY      lycopene beta-cyclase                  \n",
       "261 map00906 K23037 CRTS, ASY beta-carotene 4-ketolase/3-hydroxylase \n",
       "262 map00906 K25072 crtNc     4,4'-diapolycopenoate synthase         \n",
       "263 map00906 K25073 cruO      1'-hydroxy-gamma-carotene C-4' ketolase\n",
       "264 map00906 K25074 crtU      carotenoid chi-ring synthase           \n",
       "    sub_category            path_name              \n",
       "259 Carotenoid biosynthesis Carotenoid biosynthesis\n",
       "260 Carotenoid biosynthesis Carotenoid biosynthesis\n",
       "261 Carotenoid biosynthesis Carotenoid biosynthesis\n",
       "262 Carotenoid biosynthesis Carotenoid biosynthesis\n",
       "263 Carotenoid biosynthesis Carotenoid biosynthesis\n",
       "264 Carotenoid biosynthesis Carotenoid biosynthesis"
      ]
     },
     "metadata": {},
     "output_type": "display_data"
    },
    {
     "data": {
      "text/html": [
       "<style>\n",
       ".list-inline {list-style: none; margin:0; padding: 0}\n",
       ".list-inline>li {display: inline-block}\n",
       ".list-inline>li:not(:last-child)::after {content: \"\\00b7\"; padding: 0 .5ex}\n",
       "</style>\n",
       "<ol class=list-inline><li>264</li><li>6</li></ol>\n"
      ],
      "text/latex": [
       "\\begin{enumerate*}\n",
       "\\item 264\n",
       "\\item 6\n",
       "\\end{enumerate*}\n"
      ],
      "text/markdown": [
       "1. 264\n",
       "2. 6\n",
       "\n",
       "\n"
      ],
      "text/plain": [
       "[1] 264   6"
      ]
     },
     "metadata": {},
     "output_type": "display_data"
    }
   ],
   "source": [
    "#3. pathways\n",
    "## get name for each pathway\n",
    "## add pathway name to dataframe\n",
    "## get list of all ko's for each pathway\n",
    "## get name and symbol for each ko\n",
    "heatMapPath = data.frame('Pathway'=c('map00195','map00196','map00710','map00910','map00906'), \n",
    "                         sub_category=c('Photosynthesis','Photosynthesis-antenna proteins','Carbon fixation in photosynthetic organisms',\n",
    "                                       'Nitrogen metabolism','Carotenoid biosynthesis'))\n",
    "\n",
    "url=c(\"https://rest.kegg.jp/\")\n",
    "find.path=list()\n",
    "for (i in heatMapPath$Pathway){\n",
    "    p=getURL(paste(url,'find/pathway/', i, sep=''))\n",
    "    find.path=unname(c(find.path,p))\n",
    "}\n",
    "\n",
    "path_name=data.frame('path_name'=str_remove(find.path,'path:map[[:digit:]]{5}\\t'))\n",
    "path_name$path_name=str_remove(path_name$path_name, '\\n')\n",
    "\n",
    "sub_path=bind_cols(heatMapPath, path_name)\n",
    "colnames(sub_path)[1]='Path'\n",
    "\n",
    "p=list()\n",
    "for (i in sub_path$Path){\n",
    "    link.ko=getURL(paste(url,'link/ko/', i, sep=''))\n",
    "    #link.ko=str_extract(p, 'ko:K[[:digit:]]+')\n",
    "    p=c(p,link.ko)\n",
    "}\n",
    "\n",
    "p=data.frame(ko_id=unlist(str_extract_all(p,'K[[:digit:]]+')), \n",
    "               path=(unlist(str_extract_all(p, 'map[[:digit:]]{5}')))) \n",
    "symbol=list()\n",
    "name=list()\n",
    "for (i in p$ko_id){\n",
    "    g=getURL(paste(url,'find/ko/', i, sep=''))\n",
    "    symbol=c(symbol,str_remove(str_extract(unname(g), '\\t.+;'), ';'))\n",
    "    name=c(name, str_remove(str_extract(unname(g),'; .*'), '; '))\n",
    "}\n",
    "path_ko=data.frame('Path'=p$path,\n",
    "                   'ko_id'=p$ko_id,\n",
    "                   'symbol'=str_remove(unlist(symbol),'\\t'),\n",
    "                   'name'= str_remove(unlist(name), '\\\\[EC:.*\\\\]'))\n",
    "\n",
    "sub_path=left_join(path_ko, sub_path, by='Path', relationship='many-to-many')\n",
    "\n",
    "tail(sub_path)\n",
    "dim(sub_path)"
   ]
  },
  {
   "cell_type": "code",
   "execution_count": 84,
   "id": "f0f1f926-1a17-4553-9ded-3a87a89c4902",
   "metadata": {},
   "outputs": [
    {
     "data": {
      "text/html": [
       "123"
      ],
      "text/latex": [
       "123"
      ],
      "text/markdown": [
       "123"
      ],
      "text/plain": [
       "[1] 123"
      ]
     },
     "metadata": {},
     "output_type": "display_data"
    },
    {
     "data": {
      "text/html": [
       "<table class=\"dataframe\">\n",
       "<caption>A data.frame: 6 × 6</caption>\n",
       "<thead>\n",
       "\t<tr><th></th><th scope=col>ko_id</th><th scope=col>add_backA</th><th scope=col>add_backB</th><th scope=col>pFe21_9A</th><th scope=col>pFe21_9B</th><th scope=col>pFe21_9C</th></tr>\n",
       "\t<tr><th></th><th scope=col>&lt;chr&gt;</th><th scope=col>&lt;dbl&gt;</th><th scope=col>&lt;dbl&gt;</th><th scope=col>&lt;dbl&gt;</th><th scope=col>&lt;dbl&gt;</th><th scope=col>&lt;dbl&gt;</th></tr>\n",
       "</thead>\n",
       "<tbody>\n",
       "\t<tr><th scope=row>1</th><td>K02716</td><td>5.373751</td><td>5.460919</td><td>11.857661</td><td>11.913681</td><td>6.343930</td></tr>\n",
       "\t<tr><th scope=row>2</th><td>K08901</td><td>5.016798</td><td>4.902058</td><td>11.084455</td><td>11.179794</td><td>4.980414</td></tr>\n",
       "\t<tr><th scope=row>3</th><td>K03839</td><td>3.662303</td><td>3.662303</td><td> 9.575430</td><td> 9.820040</td><td>9.176647</td></tr>\n",
       "\t<tr><th scope=row>4</th><td>K10960</td><td>4.128536</td><td>4.496134</td><td>10.229170</td><td>10.456384</td><td>6.036990</td></tr>\n",
       "\t<tr><th scope=row>5</th><td>K02719</td><td>4.463043</td><td>5.006137</td><td>10.445567</td><td>10.519202</td><td>5.557129</td></tr>\n",
       "\t<tr><th scope=row>6</th><td>K02636</td><td>4.463043</td><td>4.369759</td><td> 9.577481</td><td> 9.712192</td><td>3.662303</td></tr>\n",
       "</tbody>\n",
       "</table>\n"
      ],
      "text/latex": [
       "A data.frame: 6 × 6\n",
       "\\begin{tabular}{r|llllll}\n",
       "  & ko\\_id & add\\_backA & add\\_backB & pFe21\\_9A & pFe21\\_9B & pFe21\\_9C\\\\\n",
       "  & <chr> & <dbl> & <dbl> & <dbl> & <dbl> & <dbl>\\\\\n",
       "\\hline\n",
       "\t1 & K02716 & 5.373751 & 5.460919 & 11.857661 & 11.913681 & 6.343930\\\\\n",
       "\t2 & K08901 & 5.016798 & 4.902058 & 11.084455 & 11.179794 & 4.980414\\\\\n",
       "\t3 & K03839 & 3.662303 & 3.662303 &  9.575430 &  9.820040 & 9.176647\\\\\n",
       "\t4 & K10960 & 4.128536 & 4.496134 & 10.229170 & 10.456384 & 6.036990\\\\\n",
       "\t5 & K02719 & 4.463043 & 5.006137 & 10.445567 & 10.519202 & 5.557129\\\\\n",
       "\t6 & K02636 & 4.463043 & 4.369759 &  9.577481 &  9.712192 & 3.662303\\\\\n",
       "\\end{tabular}\n"
      ],
      "text/markdown": [
       "\n",
       "A data.frame: 6 × 6\n",
       "\n",
       "| <!--/--> | ko_id &lt;chr&gt; | add_backA &lt;dbl&gt; | add_backB &lt;dbl&gt; | pFe21_9A &lt;dbl&gt; | pFe21_9B &lt;dbl&gt; | pFe21_9C &lt;dbl&gt; |\n",
       "|---|---|---|---|---|---|---|\n",
       "| 1 | K02716 | 5.373751 | 5.460919 | 11.857661 | 11.913681 | 6.343930 |\n",
       "| 2 | K08901 | 5.016798 | 4.902058 | 11.084455 | 11.179794 | 4.980414 |\n",
       "| 3 | K03839 | 3.662303 | 3.662303 |  9.575430 |  9.820040 | 9.176647 |\n",
       "| 4 | K10960 | 4.128536 | 4.496134 | 10.229170 | 10.456384 | 6.036990 |\n",
       "| 5 | K02719 | 4.463043 | 5.006137 | 10.445567 | 10.519202 | 5.557129 |\n",
       "| 6 | K02636 | 4.463043 | 4.369759 |  9.577481 |  9.712192 | 3.662303 |\n",
       "\n"
      ],
      "text/plain": [
       "  ko_id  add_backA add_backB pFe21_9A  pFe21_9B  pFe21_9C\n",
       "1 K02716 5.373751  5.460919  11.857661 11.913681 6.343930\n",
       "2 K08901 5.016798  4.902058  11.084455 11.179794 4.980414\n",
       "3 K03839 3.662303  3.662303   9.575430  9.820040 9.176647\n",
       "4 K10960 4.128536  4.496134  10.229170 10.456384 6.036990\n",
       "5 K02719 4.463043  5.006137  10.445567 10.519202 5.557129\n",
       "6 K02636 4.463043  4.369759   9.577481  9.712192 3.662303"
      ]
     },
     "metadata": {},
     "output_type": "display_data"
    }
   ],
   "source": [
    "read.vsd.k <- function(org){\n",
    "    vsd.k <- read.csv(paste('../expression_analysis/vsd_files/', org,'vsd.kegg.csv',sep=''))\n",
    "    colnames(vsd.k)[1] <- 'ko_id'\n",
    "    colnames(vsd.k) <- gsub('X', '', colnames(vsd.k))\n",
    "    vsd.k\n",
    "    }\n",
    "\n",
    "vsd.4.k = read.vsd.k('04')\n",
    "\n",
    "vsd.8.k = read.vsd.k('08')\n",
    "\n",
    "vsd.6.k = read.vsd.k('06')\n",
    "\n",
    "vsd.13.k = read.vsd.k('13')\n",
    "length(unique(heat.path$ko_id))\n",
    "head(vsd.4.k)"
   ]
  },
  {
   "cell_type": "code",
   "execution_count": 107,
   "id": "7ed7b7c8-dc5b-418a-9c01-f7935198ffdd",
   "metadata": {},
   "outputs": [
    {
     "data": {
      "text/html": [
       "73"
      ],
      "text/latex": [
       "73"
      ],
      "text/markdown": [
       "73"
      ],
      "text/plain": [
       "[1] 73"
      ]
     },
     "metadata": {},
     "output_type": "display_data"
    },
    {
     "data": {
      "text/html": [
       "81"
      ],
      "text/latex": [
       "81"
      ],
      "text/markdown": [
       "81"
      ],
      "text/plain": [
       "[1] 81"
      ]
     },
     "metadata": {},
     "output_type": "display_data"
    },
    {
     "data": {
      "text/html": [
       "83"
      ],
      "text/latex": [
       "83"
      ],
      "text/markdown": [
       "83"
      ],
      "text/plain": [
       "[1] 83"
      ]
     },
     "metadata": {},
     "output_type": "display_data"
    },
    {
     "data": {
      "text/html": [
       "64"
      ],
      "text/latex": [
       "64"
      ],
      "text/markdown": [
       "64"
      ],
      "text/plain": [
       "[1] 64"
      ]
     },
     "metadata": {},
     "output_type": "display_data"
    },
    {
     "data": {
      "text/html": [
       "76"
      ],
      "text/latex": [
       "76"
      ],
      "text/markdown": [
       "76"
      ],
      "text/plain": [
       "[1] 76"
      ]
     },
     "metadata": {},
     "output_type": "display_data"
    },
    {
     "data": {
      "text/html": [
       "88"
      ],
      "text/latex": [
       "88"
      ],
      "text/markdown": [
       "88"
      ],
      "text/plain": [
       "[1] 88"
      ]
     },
     "metadata": {},
     "output_type": "display_data"
    },
    {
     "data": {
      "text/html": [
       "99"
      ],
      "text/latex": [
       "99"
      ],
      "text/markdown": [
       "99"
      ],
      "text/plain": [
       "[1] 99"
      ]
     },
     "metadata": {},
     "output_type": "display_data"
    }
   ],
   "source": [
    "a=unique(vsd.4.k$ko_id)\n",
    "a=a[a%in%sub_path$ko_id]\n",
    "\n",
    "b=unique(vsd.8.k$ko_id)\n",
    "b=b[b%in%sub_path$ko_id]\n",
    "\n",
    "c=unique(vsd.6.k$ko_id)\n",
    "c=c[c%in%sub_path$ko_id]\n",
    "\n",
    "d=unique(vsd.13.k$ko_id)\n",
    "d=d[d%in%sub_path$ko_id]\n",
    "\n",
    "\n",
    "length(b)\n",
    "length(c)\n",
    "length(d)\n",
    "length(a)\n",
    "x=union(a,b)\n",
    "y=union(c,d)\n",
    "z=union(x,y)\n",
    "\n",
    "length(x)\n",
    "length(y)\n",
    "length(z)\n",
    "sub_path=sub_path[(sub_path$ko_id)%in%z,]"
   ]
  },
  {
   "cell_type": "code",
   "execution_count": 108,
   "id": "6d1233c9-2e29-4d76-b4c0-f0ff9f360af4",
   "metadata": {},
   "outputs": [
    {
     "name": "stderr",
     "output_type": "stream",
     "text": [
      "\u001b[1m\u001b[22mJoining with `by = join_by(Path, ko_id, symbol, name, sub_category, path_name)`\n"
     ]
    }
   ],
   "source": [
    "## add flavodoxin and ferredoxin genes \n",
    "flavodoxin=data.frame(Path='map00195', ko_id=c('K03839','K03840','K21567','K00528'), \n",
    "                      symbol=c('fldA, nifF, isiB','fldB','fnr','fpr'), \n",
    "                      name=c('flavodoxin I','flavodoxin II','ferredoxin/flavodoxin---NADP+ reductase',\n",
    "                            'ferredoxin/flavodoxin---NADP+ reductase'), sub_category='Photosynthesis',\n",
    "                      path_name='Photosynthesis')\n",
    "sub_path=bind_rows(sub_path, flavodoxin)  \n",
    "\n",
    "## add urea cycle genes\n",
    "urea_cycle = filter(ko_def, ko_id%in%c('K00611','K01940','K01755','K01476'))\n",
    "urea_cycle = mutate(urea_cycle, 'sub_category'='Urea cycle', 'path_name'='Nitrogen metabolism', 'Path'='map00910')\n",
    "sub_path = full_join(sub_path, urea_cycle)\n",
    "\n",
    "## add ISIP genes\n",
    "sub_path = bind_rows(sub_path, isip_ptox)\n"
   ]
  },
  {
   "cell_type": "markdown",
   "id": "c0d45d44-4ec5-4607-ba41-25d68c454d38",
   "metadata": {},
   "source": [
    "### Filter pathway table for genes found across organisms"
   ]
  },
  {
   "cell_type": "code",
   "execution_count": 109,
   "id": "236ac865-2880-4caa-ad72-4bc39f8bc3d7",
   "metadata": {},
   "outputs": [],
   "source": [
    "heat.path=(filter(sub_path, (ko_id %in% ko_def$ko_id)==T))"
   ]
  },
  {
   "cell_type": "markdown",
   "id": "b8dc412e-accc-4745-acd3-569f810b3326",
   "metadata": {},
   "source": [
    "### Correct any pathway names"
   ]
  },
  {
   "cell_type": "code",
   "execution_count": 110,
   "id": "e20c6ea9-c068-4428-9bf1-62dc1ea5e833",
   "metadata": {},
   "outputs": [],
   "source": [
    "heat.path$path_name[heat.path$path_name=='Photosynthesis - antenna proteins']='Photosynthesis'\n",
    "\n",
    "heat.path[str_detect(heat.path$symbol, 'ATP.*F'), 'path_name'] = 'F-Type ATP-ase'\n",
    "\n",
    "heat.path[str_detect(heat.path$name, 'violaxanthin|zeaxanthin|Iron stress.*|Plastid.*'), 'path_name'] = 'Photosynthesis'\n"
   ]
  },
  {
   "cell_type": "markdown",
   "id": "c9405bed-b881-45b8-b9b1-223775e839ef",
   "metadata": {},
   "source": [
    "### Correct subcategories"
   ]
  },
  {
   "cell_type": "code",
   "execution_count": 111,
   "id": "95c9ac8a-1e1e-4c73-950a-136add025d5b",
   "metadata": {},
   "outputs": [],
   "source": [
    "\n",
    "sub_symbol = function(sym_pat, new_sub_cat){\n",
    "    heat.path[str_detect(heat.path$symbol, sym_pat), 5] = new_sub_cat\n",
    "     heat.path\n",
    "    }\n",
    "heat.path=sub_symbol('DUF', 'NADH dehydrogenase')\n",
    "heat.path=sub_symbol(\"COX|cox|CYC\", \"cytochrome c\")\n",
    "heat.path=sub_symbol(\"ATP.*V\", \"V-Type ATP-ase\")\n",
    "heat.path=sub_symbol(\"ATP.*F\", \"F-Type ATP-ase\") \n",
    "heat.path=sub_symbol( 'maeB|ppdK', 'CAM light')\n",
    "heat.path=sub_symbol('MDH1|MDH2|mdh|ppc', 'CAM dark')\n",
    "heat.path=sub_symbol('CPS1', 'Urea cycle') \n",
    "heat.path=sub_symbol('psa', 'PSI') \n",
    "heat.path=sub_symbol('psb', 'PSII') \n",
    "heat.path=sub_symbol('LHCA', 'LHCA')\n",
    "heat.path=sub_symbol('LHCB', 'LHCB') \n",
    "heat.path=sub_symbol('isip', 'ISIP') \n",
    "heat.path=sub_symbol('PTOX', 'PSII') \n",
    "\n",
    "sub_name = function(name_pat, new_sub_cat){\n",
    "    heat.path[str_detect(heat.path$name, name_pat), 5] = new_sub_cat\n",
    "    heat.path\n",
    "    }\n",
    "heat.path=sub_name('carbonic anhydrase', 'Carbonic anhydrase')\n",
    "heat.path=sub_name('nitrate/nitrite transport', 'Nitrogen transporters')\n",
    "heat.path=sub_name('glutamate|glutamine', 'GS/GOGAT and GDH') \n",
    "heat.path=sub_name('nitrite reductase', 'Nitrite reductase')\n",
    "heat.path=sub_name('nitrate reductase', 'Nitrate reductase') \n",
    "heat.path=sub_name('violaxanthin|zeaxanthin', 'Xanthophyll cycle')\n",
    "\n",
    "heat.path[heat.path$ko_id %in% \n",
    "          c('K00855','K00927','K01100','K01601','K01623','K01624','K01783',\n",
    "            'K01803','K01807','K01808','K02446','K03841','K11532','K00134',\n",
    "            'K00615'), 'sub_category'] = 'Calvin cycle' \n",
    "\n",
    "heat.path$sub_category = str_replace(heat.path$sub_category, 'Photosynthesis', 'Electron transport chain')\n",
    "\n",
    "heat.path$sub_category = str_replace(heat.path$sub_category, 'Carbon fixation in photosynthetic organisms', 'C4 Dicarboxilic acid cycle')"
   ]
  },
  {
   "cell_type": "markdown",
   "id": "8a497095-85fb-40b6-93e1-7020a0ca00b6",
   "metadata": {},
   "source": [
    "### Correct gene names"
   ]
  },
  {
   "cell_type": "code",
   "execution_count": 112,
   "id": "3dae01e7-953c-4123-af59-69cfdd846cde",
   "metadata": {},
   "outputs": [],
   "source": [
    "heat.path[str_detect(heat.path$symbol, 'MDH1'), 'name'] = 'malate dehydrogenase 1'\n",
    "heat.path[str_detect(heat.path$symbol, 'MDH2'), 'name'] = 'malate dehydrogenase 2'\n",
    "\n",
    "heat.path$name= str_replace_all(heat.path$name, c(\n",
    "    'light-harvesting complex I '='LHCA ',\n",
    "    'light-harvesting complex II'='LHCB', \n",
    "    'chlorophyll'='Chl','photosystem I '='PSI ', \n",
    "    'photosystem II'='PSII', \n",
    "    'F-type .* subunit '='F-Type ATP-ase ', \n",
    "    'isip_'='Iron starvation induced protein ',\n",
    "    'fructose-bisphosphate aldolase'='FBA', \n",
    "    'ribulose-bisphosphate carboxylase'='RuBisCO',\n",
    "    'MFS transporter, NNP family, '=''))\n",
    "\n",
    "heat.path$name = str_remove(heat.path$name, '.(phosphorylating).')\n",
    "heat.path$name = str_remove(heat.path$name, '\\\\[.*\\\\]')"
   ]
  },
  {
   "cell_type": "code",
   "execution_count": 119,
   "id": "a6b0b0a9-a82e-4c6d-b768-dc5c2a8270fd",
   "metadata": {},
   "outputs": [
    {
     "data": {
      "text/html": [
       "<style>\n",
       ".list-inline {list-style: none; margin:0; padding: 0}\n",
       ".list-inline>li {display: inline-block}\n",
       ".list-inline>li:not(:last-child)::after {content: \"\\00b7\"; padding: 0 .5ex}\n",
       "</style>\n",
       "<ol class=list-inline><li>'F-Type ATP-ase'</li><li>'Electron transport chain'</li><li>'PSI'</li><li>'PSII'</li><li>'LHCA'</li><li>'LHCB'</li><li>'CAM dark'</li><li>'C4 Dicarboxilic acid cycle'</li><li>'CAM light'</li><li>'Calvin cycle'</li><li>'GDH'</li><li>'GS/GOGAT'</li><li>'Nitrite reductase'</li><li>'Nitrate reductase'</li><li>'Nitrogen recycling'</li><li>'Nitrogen metabolism'</li><li>'Carbonic anhydrase'</li><li>'Urea cycle'</li><li>'Nitrogen transporters'</li><li>'Carotenoid biosynthesis'</li><li>'Xanthophyll cycle'</li><li>'ISIP'</li><li>'Superoxide dismutase'</li></ol>\n"
      ],
      "text/latex": [
       "\\begin{enumerate*}\n",
       "\\item 'F-Type ATP-ase'\n",
       "\\item 'Electron transport chain'\n",
       "\\item 'PSI'\n",
       "\\item 'PSII'\n",
       "\\item 'LHCA'\n",
       "\\item 'LHCB'\n",
       "\\item 'CAM dark'\n",
       "\\item 'C4 Dicarboxilic acid cycle'\n",
       "\\item 'CAM light'\n",
       "\\item 'Calvin cycle'\n",
       "\\item 'GDH'\n",
       "\\item 'GS/GOGAT'\n",
       "\\item 'Nitrite reductase'\n",
       "\\item 'Nitrate reductase'\n",
       "\\item 'Nitrogen recycling'\n",
       "\\item 'Nitrogen metabolism'\n",
       "\\item 'Carbonic anhydrase'\n",
       "\\item 'Urea cycle'\n",
       "\\item 'Nitrogen transporters'\n",
       "\\item 'Carotenoid biosynthesis'\n",
       "\\item 'Xanthophyll cycle'\n",
       "\\item 'ISIP'\n",
       "\\item 'Superoxide dismutase'\n",
       "\\end{enumerate*}\n"
      ],
      "text/markdown": [
       "1. 'F-Type ATP-ase'\n",
       "2. 'Electron transport chain'\n",
       "3. 'PSI'\n",
       "4. 'PSII'\n",
       "5. 'LHCA'\n",
       "6. 'LHCB'\n",
       "7. 'CAM dark'\n",
       "8. 'C4 Dicarboxilic acid cycle'\n",
       "9. 'CAM light'\n",
       "10. 'Calvin cycle'\n",
       "11. 'GDH'\n",
       "12. 'GS/GOGAT'\n",
       "13. 'Nitrite reductase'\n",
       "14. 'Nitrate reductase'\n",
       "15. 'Nitrogen recycling'\n",
       "16. 'Nitrogen metabolism'\n",
       "17. 'Carbonic anhydrase'\n",
       "18. 'Urea cycle'\n",
       "19. 'Nitrogen transporters'\n",
       "20. 'Carotenoid biosynthesis'\n",
       "21. 'Xanthophyll cycle'\n",
       "22. 'ISIP'\n",
       "23. 'Superoxide dismutase'\n",
       "\n",
       "\n"
      ],
      "text/plain": [
       " [1] \"F-Type ATP-ase\"             \"Electron transport chain\"  \n",
       " [3] \"PSI\"                        \"PSII\"                      \n",
       " [5] \"LHCA\"                       \"LHCB\"                      \n",
       " [7] \"CAM dark\"                   \"C4 Dicarboxilic acid cycle\"\n",
       " [9] \"CAM light\"                  \"Calvin cycle\"              \n",
       "[11] \"GDH\"                        \"GS/GOGAT\"                  \n",
       "[13] \"Nitrite reductase\"          \"Nitrate reductase\"         \n",
       "[15] \"Nitrogen recycling\"         \"Nitrogen metabolism\"       \n",
       "[17] \"Carbonic anhydrase\"         \"Urea cycle\"                \n",
       "[19] \"Nitrogen transporters\"      \"Carotenoid biosynthesis\"   \n",
       "[21] \"Xanthophyll cycle\"          \"ISIP\"                      \n",
       "[23] \"Superoxide dismutase\"      "
      ]
     },
     "metadata": {},
     "output_type": "display_data"
    },
    {
     "data": {
      "text/html": [
       "<table class=\"dataframe\">\n",
       "<caption>A data.frame: 12 × 8</caption>\n",
       "<thead>\n",
       "\t<tr><th scope=col>Path</th><th scope=col>ko_id</th><th scope=col>symbol</th><th scope=col>name</th><th scope=col>sub_category</th><th scope=col>path_name</th><th scope=col>broad_category</th><th scope=col>name.2</th></tr>\n",
       "\t<tr><th scope=col>&lt;chr&gt;</th><th scope=col>&lt;chr&gt;</th><th scope=col>&lt;chr&gt;</th><th scope=col>&lt;chr&gt;</th><th scope=col>&lt;chr&gt;</th><th scope=col>&lt;chr&gt;</th><th scope=col>&lt;chr&gt;</th><th scope=col>&lt;chr&gt;</th></tr>\n",
       "</thead>\n",
       "<tbody>\n",
       "\t<tr><td>map00195</td><td>K02703</td><td>psbA </td><td>PSII P680 reaction center D1 protein   </td><td>PSII</td><td>Photosynthesis</td><td>NA</td><td>PSII P680 reaction center D1 protein   </td></tr>\n",
       "\t<tr><td>map00195</td><td>K02704</td><td>psbB </td><td>PSII CP47 Chl apoprotein               </td><td>PSII</td><td>Photosynthesis</td><td>NA</td><td>PSII CP47 Chl apoprotein               </td></tr>\n",
       "\t<tr><td>map00195</td><td>K02705</td><td>psbC </td><td>PSII CP43 Chl apoprotein               </td><td>PSII</td><td>Photosynthesis</td><td>NA</td><td>PSII CP43 Chl apoprotein               </td></tr>\n",
       "\t<tr><td>map00195</td><td>K02706</td><td>psbD </td><td>PSII P680 reaction center D2 protein   </td><td>PSII</td><td>Photosynthesis</td><td>NA</td><td>PSII P680 reaction center D2 protein   </td></tr>\n",
       "\t<tr><td>map00195</td><td>K02714</td><td>psbM </td><td>PSII PsbM protein                      </td><td>PSII</td><td>Photosynthesis</td><td>NA</td><td>PSII PsbM protein                      </td></tr>\n",
       "\t<tr><td>map00195</td><td>K02716</td><td>psbO </td><td>PSII oxygen-evolving enhancer protein 1</td><td>PSII</td><td>Photosynthesis</td><td>NA</td><td>PSII oxygen-evolving enhancer protein 1</td></tr>\n",
       "\t<tr><td>map00195</td><td>K02717</td><td>psbP </td><td>PSII oxygen-evolving enhancer protein 2</td><td>PSII</td><td>Photosynthesis</td><td>NA</td><td>PSII oxygen-evolving enhancer protein 2</td></tr>\n",
       "\t<tr><td>map00195</td><td>K02719</td><td>psbU </td><td>PSII PsbU protein                      </td><td>PSII</td><td>Photosynthesis</td><td>NA</td><td>PSII PsbU protein                      </td></tr>\n",
       "\t<tr><td>map00195</td><td>K08901</td><td>psbQ </td><td>PSII oxygen-evolving enhancer protein 3</td><td>PSII</td><td>Photosynthesis</td><td>NA</td><td>PSII oxygen-evolving enhancer protein 3</td></tr>\n",
       "\t<tr><td>map00195</td><td>K08902</td><td>psb27</td><td>PSII Psb27 protein                     </td><td>PSII</td><td>Photosynthesis</td><td>NA</td><td>PSII Psb27 protein                     </td></tr>\n",
       "\t<tr><td>map00195</td><td>K08903</td><td>psb28</td><td>PSII 13kDa protein                     </td><td>PSII</td><td>Photosynthesis</td><td>NA</td><td>PSII 13kDa protein                     </td></tr>\n",
       "\t<tr><td>NA      </td><td>ptox  </td><td>PTOX </td><td>Plastid termianl oxidase               </td><td>PSII</td><td>Photosynthesis</td><td>NA</td><td>Plastid termianl oxidase               </td></tr>\n",
       "</tbody>\n",
       "</table>\n"
      ],
      "text/latex": [
       "A data.frame: 12 × 8\n",
       "\\begin{tabular}{llllllll}\n",
       " Path & ko\\_id & symbol & name & sub\\_category & path\\_name & broad\\_category & name.2\\\\\n",
       " <chr> & <chr> & <chr> & <chr> & <chr> & <chr> & <chr> & <chr>\\\\\n",
       "\\hline\n",
       "\t map00195 & K02703 & psbA  & PSII P680 reaction center D1 protein    & PSII & Photosynthesis & NA & PSII P680 reaction center D1 protein   \\\\\n",
       "\t map00195 & K02704 & psbB  & PSII CP47 Chl apoprotein                & PSII & Photosynthesis & NA & PSII CP47 Chl apoprotein               \\\\\n",
       "\t map00195 & K02705 & psbC  & PSII CP43 Chl apoprotein                & PSII & Photosynthesis & NA & PSII CP43 Chl apoprotein               \\\\\n",
       "\t map00195 & K02706 & psbD  & PSII P680 reaction center D2 protein    & PSII & Photosynthesis & NA & PSII P680 reaction center D2 protein   \\\\\n",
       "\t map00195 & K02714 & psbM  & PSII PsbM protein                       & PSII & Photosynthesis & NA & PSII PsbM protein                      \\\\\n",
       "\t map00195 & K02716 & psbO  & PSII oxygen-evolving enhancer protein 1 & PSII & Photosynthesis & NA & PSII oxygen-evolving enhancer protein 1\\\\\n",
       "\t map00195 & K02717 & psbP  & PSII oxygen-evolving enhancer protein 2 & PSII & Photosynthesis & NA & PSII oxygen-evolving enhancer protein 2\\\\\n",
       "\t map00195 & K02719 & psbU  & PSII PsbU protein                       & PSII & Photosynthesis & NA & PSII PsbU protein                      \\\\\n",
       "\t map00195 & K08901 & psbQ  & PSII oxygen-evolving enhancer protein 3 & PSII & Photosynthesis & NA & PSII oxygen-evolving enhancer protein 3\\\\\n",
       "\t map00195 & K08902 & psb27 & PSII Psb27 protein                      & PSII & Photosynthesis & NA & PSII Psb27 protein                     \\\\\n",
       "\t map00195 & K08903 & psb28 & PSII 13kDa protein                      & PSII & Photosynthesis & NA & PSII 13kDa protein                     \\\\\n",
       "\t NA       & ptox   & PTOX  & Plastid termianl oxidase                & PSII & Photosynthesis & NA & Plastid termianl oxidase               \\\\\n",
       "\\end{tabular}\n"
      ],
      "text/markdown": [
       "\n",
       "A data.frame: 12 × 8\n",
       "\n",
       "| Path &lt;chr&gt; | ko_id &lt;chr&gt; | symbol &lt;chr&gt; | name &lt;chr&gt; | sub_category &lt;chr&gt; | path_name &lt;chr&gt; | broad_category &lt;chr&gt; | name.2 &lt;chr&gt; |\n",
       "|---|---|---|---|---|---|---|---|\n",
       "| map00195 | K02703 | psbA  | PSII P680 reaction center D1 protein    | PSII | Photosynthesis | NA | PSII P680 reaction center D1 protein    |\n",
       "| map00195 | K02704 | psbB  | PSII CP47 Chl apoprotein                | PSII | Photosynthesis | NA | PSII CP47 Chl apoprotein                |\n",
       "| map00195 | K02705 | psbC  | PSII CP43 Chl apoprotein                | PSII | Photosynthesis | NA | PSII CP43 Chl apoprotein                |\n",
       "| map00195 | K02706 | psbD  | PSII P680 reaction center D2 protein    | PSII | Photosynthesis | NA | PSII P680 reaction center D2 protein    |\n",
       "| map00195 | K02714 | psbM  | PSII PsbM protein                       | PSII | Photosynthesis | NA | PSII PsbM protein                       |\n",
       "| map00195 | K02716 | psbO  | PSII oxygen-evolving enhancer protein 1 | PSII | Photosynthesis | NA | PSII oxygen-evolving enhancer protein 1 |\n",
       "| map00195 | K02717 | psbP  | PSII oxygen-evolving enhancer protein 2 | PSII | Photosynthesis | NA | PSII oxygen-evolving enhancer protein 2 |\n",
       "| map00195 | K02719 | psbU  | PSII PsbU protein                       | PSII | Photosynthesis | NA | PSII PsbU protein                       |\n",
       "| map00195 | K08901 | psbQ  | PSII oxygen-evolving enhancer protein 3 | PSII | Photosynthesis | NA | PSII oxygen-evolving enhancer protein 3 |\n",
       "| map00195 | K08902 | psb27 | PSII Psb27 protein                      | PSII | Photosynthesis | NA | PSII Psb27 protein                      |\n",
       "| map00195 | K08903 | psb28 | PSII 13kDa protein                      | PSII | Photosynthesis | NA | PSII 13kDa protein                      |\n",
       "| NA       | ptox   | PTOX  | Plastid termianl oxidase                | PSII | Photosynthesis | NA | Plastid termianl oxidase                |\n",
       "\n"
      ],
      "text/plain": [
       "   Path     ko_id  symbol name                                    sub_category\n",
       "1  map00195 K02703 psbA   PSII P680 reaction center D1 protein    PSII        \n",
       "2  map00195 K02704 psbB   PSII CP47 Chl apoprotein                PSII        \n",
       "3  map00195 K02705 psbC   PSII CP43 Chl apoprotein                PSII        \n",
       "4  map00195 K02706 psbD   PSII P680 reaction center D2 protein    PSII        \n",
       "5  map00195 K02714 psbM   PSII PsbM protein                       PSII        \n",
       "6  map00195 K02716 psbO   PSII oxygen-evolving enhancer protein 1 PSII        \n",
       "7  map00195 K02717 psbP   PSII oxygen-evolving enhancer protein 2 PSII        \n",
       "8  map00195 K02719 psbU   PSII PsbU protein                       PSII        \n",
       "9  map00195 K08901 psbQ   PSII oxygen-evolving enhancer protein 3 PSII        \n",
       "10 map00195 K08902 psb27  PSII Psb27 protein                      PSII        \n",
       "11 map00195 K08903 psb28  PSII 13kDa protein                      PSII        \n",
       "12 NA       ptox   PTOX   Plastid termianl oxidase                PSII        \n",
       "   path_name      broad_category name.2                                 \n",
       "1  Photosynthesis NA             PSII P680 reaction center D1 protein   \n",
       "2  Photosynthesis NA             PSII CP47 Chl apoprotein               \n",
       "3  Photosynthesis NA             PSII CP43 Chl apoprotein               \n",
       "4  Photosynthesis NA             PSII P680 reaction center D2 protein   \n",
       "5  Photosynthesis NA             PSII PsbM protein                      \n",
       "6  Photosynthesis NA             PSII oxygen-evolving enhancer protein 1\n",
       "7  Photosynthesis NA             PSII oxygen-evolving enhancer protein 2\n",
       "8  Photosynthesis NA             PSII PsbU protein                      \n",
       "9  Photosynthesis NA             PSII oxygen-evolving enhancer protein 3\n",
       "10 Photosynthesis NA             PSII Psb27 protein                     \n",
       "11 Photosynthesis NA             PSII 13kDa protein                     \n",
       "12 Photosynthesis NA             Plastid termianl oxidase               "
      ]
     },
     "metadata": {},
     "output_type": "display_data"
    },
    {
     "data": {
      "text/html": [
       "<table class=\"dataframe\">\n",
       "<caption>A data.frame: 10 × 8</caption>\n",
       "<thead>\n",
       "\t<tr><th></th><th scope=col>Path</th><th scope=col>ko_id</th><th scope=col>symbol</th><th scope=col>name</th><th scope=col>sub_category</th><th scope=col>path_name</th><th scope=col>broad_category</th><th scope=col>name.2</th></tr>\n",
       "\t<tr><th></th><th scope=col>&lt;chr&gt;</th><th scope=col>&lt;chr&gt;</th><th scope=col>&lt;chr&gt;</th><th scope=col>&lt;chr&gt;</th><th scope=col>&lt;chr&gt;</th><th scope=col>&lt;chr&gt;</th><th scope=col>&lt;chr&gt;</th><th scope=col>&lt;chr&gt;</th></tr>\n",
       "</thead>\n",
       "<tbody>\n",
       "\t<tr><th scope=row>118</th><td>map1111</td><td>K04564</td><td> SOD2         </td><td> superoxide dismutase, Fe-Mn family         </td><td>Superoxide dismutase </td><td>Photosynthesis     </td><td>Photosynthesis     </td><td>SOD Fe-Mn family                           </td></tr>\n",
       "\t<tr><th scope=row>119</th><td>map1111</td><td>K08716</td><td> SLC14A       </td><td> solute carrier family 14 (urea transporter)</td><td>Nitrogen transporters</td><td>Nitrogen metabolism</td><td>Nitrogen metabolism</td><td>solute carrier family 14 (urea transporter)</td></tr>\n",
       "\t<tr><th scope=row>120</th><td>map1111</td><td>K04565</td><td> SOD1         </td><td> superoxide dismutase, Cu-Zn family         </td><td>Superoxide dismutase </td><td>Photosynthesis     </td><td>Photosynthesis     </td><td>SOD Cu-Zn family                           </td></tr>\n",
       "\t<tr><th scope=row>121</th><td>map1111</td><td>K01427</td><td> URE          </td><td> urease                                     </td><td>Urea cycle           </td><td>Nitrogen metabolism</td><td>Nitrogen metabolism</td><td>urease                                     </td></tr>\n",
       "\t<tr><th scope=row>122</th><td>map1111</td><td>K03320</td><td> amt, AMT, MEP</td><td> ammonium transporter, Amt family           </td><td>Nitrogen transporters</td><td>Nitrogen metabolism</td><td>Nitrogen metabolism</td><td>ammonium transporter, Amt family           </td></tr>\n",
       "\t<tr><th scope=row>123</th><td>map1111</td><td>K08717</td><td> utp          </td><td> urea transporter                           </td><td>Nitrogen transporters</td><td>Nitrogen metabolism</td><td>Nitrogen metabolism</td><td>urea transporter                           </td></tr>\n",
       "\t<tr><th scope=row>124</th><td>map1111</td><td>K04564</td><td> SOD2         </td><td> superoxide dismutase, Fe-Mn family         </td><td>Superoxide dismutase </td><td>Photosynthesis     </td><td>Photosynthesis     </td><td>SOD Fe-Mn family                           </td></tr>\n",
       "\t<tr><th scope=row>125</th><td>map1111</td><td>K08716</td><td> SLC14A       </td><td> solute carrier family 14 (urea transporter)</td><td>Nitrogen transporters</td><td>Nitrogen metabolism</td><td>Nitrogen metabolism</td><td>solute carrier family 14 (urea transporter)</td></tr>\n",
       "\t<tr><th scope=row>126</th><td>map1111</td><td>K04565</td><td> SOD1         </td><td> superoxide dismutase, Cu-Zn family         </td><td>Superoxide dismutase </td><td>Photosynthesis     </td><td>Photosynthesis     </td><td>SOD Cu-Zn family                           </td></tr>\n",
       "\t<tr><th scope=row>127</th><td>map1111</td><td>K01427</td><td> URE          </td><td> urease                                     </td><td>Urea cycle           </td><td>Nitrogen metabolism</td><td>Nitrogen metabolism</td><td>urease                                     </td></tr>\n",
       "</tbody>\n",
       "</table>\n"
      ],
      "text/latex": [
       "A data.frame: 10 × 8\n",
       "\\begin{tabular}{r|llllllll}\n",
       "  & Path & ko\\_id & symbol & name & sub\\_category & path\\_name & broad\\_category & name.2\\\\\n",
       "  & <chr> & <chr> & <chr> & <chr> & <chr> & <chr> & <chr> & <chr>\\\\\n",
       "\\hline\n",
       "\t118 & map1111 & K04564 &  SOD2          &  superoxide dismutase, Fe-Mn family          & Superoxide dismutase  & Photosynthesis      & Photosynthesis      & SOD Fe-Mn family                           \\\\\n",
       "\t119 & map1111 & K08716 &  SLC14A        &  solute carrier family 14 (urea transporter) & Nitrogen transporters & Nitrogen metabolism & Nitrogen metabolism & solute carrier family 14 (urea transporter)\\\\\n",
       "\t120 & map1111 & K04565 &  SOD1          &  superoxide dismutase, Cu-Zn family          & Superoxide dismutase  & Photosynthesis      & Photosynthesis      & SOD Cu-Zn family                           \\\\\n",
       "\t121 & map1111 & K01427 &  URE           &  urease                                      & Urea cycle            & Nitrogen metabolism & Nitrogen metabolism & urease                                     \\\\\n",
       "\t122 & map1111 & K03320 &  amt, AMT, MEP &  ammonium transporter, Amt family            & Nitrogen transporters & Nitrogen metabolism & Nitrogen metabolism & ammonium transporter, Amt family           \\\\\n",
       "\t123 & map1111 & K08717 &  utp           &  urea transporter                            & Nitrogen transporters & Nitrogen metabolism & Nitrogen metabolism & urea transporter                           \\\\\n",
       "\t124 & map1111 & K04564 &  SOD2          &  superoxide dismutase, Fe-Mn family          & Superoxide dismutase  & Photosynthesis      & Photosynthesis      & SOD Fe-Mn family                           \\\\\n",
       "\t125 & map1111 & K08716 &  SLC14A        &  solute carrier family 14 (urea transporter) & Nitrogen transporters & Nitrogen metabolism & Nitrogen metabolism & solute carrier family 14 (urea transporter)\\\\\n",
       "\t126 & map1111 & K04565 &  SOD1          &  superoxide dismutase, Cu-Zn family          & Superoxide dismutase  & Photosynthesis      & Photosynthesis      & SOD Cu-Zn family                           \\\\\n",
       "\t127 & map1111 & K01427 &  URE           &  urease                                      & Urea cycle            & Nitrogen metabolism & Nitrogen metabolism & urease                                     \\\\\n",
       "\\end{tabular}\n"
      ],
      "text/markdown": [
       "\n",
       "A data.frame: 10 × 8\n",
       "\n",
       "| <!--/--> | Path &lt;chr&gt; | ko_id &lt;chr&gt; | symbol &lt;chr&gt; | name &lt;chr&gt; | sub_category &lt;chr&gt; | path_name &lt;chr&gt; | broad_category &lt;chr&gt; | name.2 &lt;chr&gt; |\n",
       "|---|---|---|---|---|---|---|---|---|\n",
       "| 118 | map1111 | K04564 |  SOD2          |  superoxide dismutase, Fe-Mn family          | Superoxide dismutase  | Photosynthesis      | Photosynthesis      | SOD Fe-Mn family                            |\n",
       "| 119 | map1111 | K08716 |  SLC14A        |  solute carrier family 14 (urea transporter) | Nitrogen transporters | Nitrogen metabolism | Nitrogen metabolism | solute carrier family 14 (urea transporter) |\n",
       "| 120 | map1111 | K04565 |  SOD1          |  superoxide dismutase, Cu-Zn family          | Superoxide dismutase  | Photosynthesis      | Photosynthesis      | SOD Cu-Zn family                            |\n",
       "| 121 | map1111 | K01427 |  URE           |  urease                                      | Urea cycle            | Nitrogen metabolism | Nitrogen metabolism | urease                                      |\n",
       "| 122 | map1111 | K03320 |  amt, AMT, MEP |  ammonium transporter, Amt family            | Nitrogen transporters | Nitrogen metabolism | Nitrogen metabolism | ammonium transporter, Amt family            |\n",
       "| 123 | map1111 | K08717 |  utp           |  urea transporter                            | Nitrogen transporters | Nitrogen metabolism | Nitrogen metabolism | urea transporter                            |\n",
       "| 124 | map1111 | K04564 |  SOD2          |  superoxide dismutase, Fe-Mn family          | Superoxide dismutase  | Photosynthesis      | Photosynthesis      | SOD Fe-Mn family                            |\n",
       "| 125 | map1111 | K08716 |  SLC14A        |  solute carrier family 14 (urea transporter) | Nitrogen transporters | Nitrogen metabolism | Nitrogen metabolism | solute carrier family 14 (urea transporter) |\n",
       "| 126 | map1111 | K04565 |  SOD1          |  superoxide dismutase, Cu-Zn family          | Superoxide dismutase  | Photosynthesis      | Photosynthesis      | SOD Cu-Zn family                            |\n",
       "| 127 | map1111 | K01427 |  URE           |  urease                                      | Urea cycle            | Nitrogen metabolism | Nitrogen metabolism | urease                                      |\n",
       "\n"
      ],
      "text/plain": [
       "    Path    ko_id  symbol         name                                        \n",
       "118 map1111 K04564  SOD2           superoxide dismutase, Fe-Mn family         \n",
       "119 map1111 K08716  SLC14A         solute carrier family 14 (urea transporter)\n",
       "120 map1111 K04565  SOD1           superoxide dismutase, Cu-Zn family         \n",
       "121 map1111 K01427  URE            urease                                     \n",
       "122 map1111 K03320  amt, AMT, MEP  ammonium transporter, Amt family           \n",
       "123 map1111 K08717  utp            urea transporter                           \n",
       "124 map1111 K04564  SOD2           superoxide dismutase, Fe-Mn family         \n",
       "125 map1111 K08716  SLC14A         solute carrier family 14 (urea transporter)\n",
       "126 map1111 K04565  SOD1           superoxide dismutase, Cu-Zn family         \n",
       "127 map1111 K01427  URE            urease                                     \n",
       "    sub_category          path_name           broad_category     \n",
       "118 Superoxide dismutase  Photosynthesis      Photosynthesis     \n",
       "119 Nitrogen transporters Nitrogen metabolism Nitrogen metabolism\n",
       "120 Superoxide dismutase  Photosynthesis      Photosynthesis     \n",
       "121 Urea cycle            Nitrogen metabolism Nitrogen metabolism\n",
       "122 Nitrogen transporters Nitrogen metabolism Nitrogen metabolism\n",
       "123 Nitrogen transporters Nitrogen metabolism Nitrogen metabolism\n",
       "124 Superoxide dismutase  Photosynthesis      Photosynthesis     \n",
       "125 Nitrogen transporters Nitrogen metabolism Nitrogen metabolism\n",
       "126 Superoxide dismutase  Photosynthesis      Photosynthesis     \n",
       "127 Urea cycle            Nitrogen metabolism Nitrogen metabolism\n",
       "    name.2                                     \n",
       "118 SOD Fe-Mn family                           \n",
       "119 solute carrier family 14 (urea transporter)\n",
       "120 SOD Cu-Zn family                           \n",
       "121 urease                                     \n",
       "122 ammonium transporter, Amt family           \n",
       "123 urea transporter                           \n",
       "124 SOD Fe-Mn family                           \n",
       "125 solute carrier family 14 (urea transporter)\n",
       "126 SOD Cu-Zn family                           \n",
       "127 urease                                     "
      ]
     },
     "metadata": {},
     "output_type": "display_data"
    }
   ],
   "source": [
    "unique(heat.path$sub_category)\n",
    "addGenes=filter(ko_def, ko_id %in%c('K03320','K01427','K04564','K04565','K08717','K08716'))\n",
    "addGenes$name=str_remove(addGenes$name, '\\\\[.*\\\\]')\n",
    "addGenes= mutate(addGenes, Path='map1111', \n",
    "                 sub_category=c('Nitrogen transporters', 'Nitrogen transporters','Superoxide dismutase','Nitrogen transporters','Superoxide dismutase','Urea cycle'),\n",
    "                 broad_category=c('Nitrogen metabolism','Nitrogen metabolism','Photosynthesis','Nitrogen metabolism','Photosynthesis','Nitrogen metabolism'),\n",
    "                 path_name=c('Nitrogen metabolism','Nitrogen metabolism','Photosynthesis','Nitrogen metabolism','Photosynthesis','Nitrogen metabolism'))\n",
    "\n",
    "heat.path=bind_rows(heat.path, addGenes)\n",
    "\n",
    "heat.path$name.2=str_squish(heat.path$name)\n",
    "\n",
    "heat.path[heat.path$symbol==' ureG','name.2']='urease G'\n",
    "heat.path[heat.path$symbol==' ureF','name.2']='urease F'\n",
    "heat.path[heat.path$symbol=='CPS1','name.2']='carbamoyl-phosphate synthase 1'\n",
    "heat.path[heat.path$symbol=='SLC14A','name.2']='SCF 14 urea transporter'\n",
    "#filter(all.path, sub_category=='Superoxide dismutase')\n",
    "heat.path$name.2 = str_replace(heat.path$name.2,'.*superoxide dismutase,','SOD')\n",
    "\n",
    "#filter(all.path, sub_category=='Electron transport chain')\n",
    "heat.path[heat.path$symbol=='petC','name.2'] = 'cytochrome b6f iron-sulfur subunit'\n",
    "\n",
    "#filter(all.path, sub_category=='PSI')\n",
    "heat.path$name.2 = str_replace(heat.path$name.2, 'psa', 'PSI')\n",
    "\n",
    "filter(heat.path, sub_category=='PSII')\n",
    "heat.path$name.2 = str_replace(heat.path$name.2, 'psb', 'PSII')\n",
    "heat.path$name.2 = str_remove(heat.path$name.2, 'reaction center')\n",
    "heat.path$name.2 = str_replace(heat.path$name.2, 'oxygen-evolving enhancer', 'OEC')\n",
    "heat.path$name.2 = str_replace(heat.path$name.2, '13kDa', 'Psb28')\n",
    "#filter(all.path, sub_category%in%c('LHCA','LHCB'))\n",
    "heat.path$name.2 = str_remove(heat.path$name.2, 'Chl a/b binding protein ')\n",
    "heat.path$name.2 = str_remove(heat.path$name.2, 'catalytic subunit')\n",
    "heat.path$name.2 = str_remove(heat.path$name.2, '.system')\n",
    "heat.path$name.2= str_replace(heat.path$name.2, 'nitrate/nitrite transport substrate-binding protein', 'nitrate/nitrite transport substrate-binding\\nprotein')\n",
    "heat.path[str_detect(heat.path$name.2,'glutamate dehydrogenase'),'sub_category'] = 'GDH'\n",
    "heat.path$sub_category = str_remove(heat.path$sub_category, ' and GDH')\n",
    "heat.path[str_detect(heat.path$symbol,'ncd2|CYP55'),'sub_category'] = 'Nitrogen recycling'\n",
    "heat.path$name.2 = str_replace(heat.path$name.2, 'dehydrogenase \\\\(oxaloacetate', 'dehydrogenase\\n\\\\(oxaloacetate')\n",
    "heat.path[str_detect(heat.path$ko_id, 'K22502'),8] ='lycopene beta-cyclase a'\n",
    "heat.path[str_detect(heat.path$ko_id, 'K06443'),8] ='lycopene beta-cyclase b'\n",
    "heat.path[str_detect(heat.path$symbol, 'nrtC'), 8]='nitrate/nitrite transport ATP-binding protein C'\n",
    "heat.path[str_detect(heat.path$symbol, 'nrtD'), 8]='nitrate/nitrite transport ATP-binding protein D'\n",
    "heat.path[str_detect(heat.path$ko_id, 'K01673'), 8]='carbonic anhydrase 1'\n",
    "heat.path[str_detect(heat.path$ko_id, 'K01674'), 8]='carbonic anhydrase 2'\n",
    "\n",
    "tail(heat.path,10)\n"
   ]
  },
  {
   "cell_type": "code",
   "execution_count": 132,
   "id": "a9f64a83-9399-41ca-8c97-9b2911b9dde9",
   "metadata": {},
   "outputs": [
    {
     "data": {
      "text/html": [
       "<style>\n",
       ".list-inline {list-style: none; margin:0; padding: 0}\n",
       ".list-inline>li {display: inline-block}\n",
       ".list-inline>li:not(:last-child)::after {content: \"\\00b7\"; padding: 0 .5ex}\n",
       "</style>\n",
       "<ol class=list-inline><li>'F-Type ATP-ase'</li><li>'Photosynthesis'</li><li>'Carbon fixation in photosynthetic organisms'</li><li>'Nitrogen metabolism'</li><li>'Carotenoid biosynthesis'</li></ol>\n"
      ],
      "text/latex": [
       "\\begin{enumerate*}\n",
       "\\item 'F-Type ATP-ase'\n",
       "\\item 'Photosynthesis'\n",
       "\\item 'Carbon fixation in photosynthetic organisms'\n",
       "\\item 'Nitrogen metabolism'\n",
       "\\item 'Carotenoid biosynthesis'\n",
       "\\end{enumerate*}\n"
      ],
      "text/markdown": [
       "1. 'F-Type ATP-ase'\n",
       "2. 'Photosynthesis'\n",
       "3. 'Carbon fixation in photosynthetic organisms'\n",
       "4. 'Nitrogen metabolism'\n",
       "5. 'Carotenoid biosynthesis'\n",
       "\n",
       "\n"
      ],
      "text/plain": [
       "[1] \"F-Type ATP-ase\"                             \n",
       "[2] \"Photosynthesis\"                             \n",
       "[3] \"Carbon fixation in photosynthetic organisms\"\n",
       "[4] \"Nitrogen metabolism\"                        \n",
       "[5] \"Carotenoid biosynthesis\"                    "
      ]
     },
     "metadata": {},
     "output_type": "display_data"
    }
   ],
   "source": [
    "unique(heat.path$path_name)\n",
    "write.csv(heat.path, '../expression_analysis/kegg_files/pathwaysHeatMap.csv', row.names=F)"
   ]
  },
  {
   "cell_type": "markdown",
   "id": "bf03813d-c0b4-48a1-8297-ba90f4c57b77",
   "metadata": {},
   "source": [
    "### PFAM Rhodopsin protein\n",
    "\n",
    "pull out rhodopsins, and using the ko_ls dataframe, check what other proteins were assigned to each rhodopsin orf"
   ]
  },
  {
   "cell_type": "code",
   "execution_count": 31,
   "id": "5780e8ea-581e-4a17-99ce-c9b207351966",
   "metadata": {},
   "outputs": [
    {
     "name": "stdout",
     "output_type": "stream",
     "text": [
      "[1] \"# of values in matrix w/o NA: 44311\"\n",
      "[1] \"# rows in final df:  44311\"\n",
      "[1] \"# of values in matrix w/o NA: 37925\"\n",
      "[1] \"# rows in final df:  37925\"\n",
      "[1] \"# of values in matrix w/o NA: 68828\"\n",
      "[1] \"# rows in final df:  68828\"\n",
      "[1] \"# of values in matrix w/o NA: 61554\"\n",
      "[1] \"# rows in final df:  61554\"\n"
     ]
    }
   ],
   "source": [
    "pfam4 = clean_ko(pfam4_ls, '4','pfam', value_col = 'pfam_id',name_col = 'pfam_iteration')\n",
    "pfam8 = clean_ko(pfam8_ls, '8','pfam', value_col = 'pfam_id',name_col = 'pfam_iteration')\n",
    "pfam6 = clean_ko(pfam6_ls, '6','pfam', value_col = 'pfam_id',name_col = 'pfam_iteration')\n",
    "pfam13 = clean_ko(pfam13_ls, '13','pfam', value_col = 'pfam_id',name_col = 'pfam_iteration')\n",
    "\n",
    "write.csv(pfam4, '../expression_analysis/eggnog_annotations/pfam4.csv', row.names=F)\n",
    "write.csv(pfam8, '../expression_analysis/eggnog_annotations/pfam8.csv', row.names=F)\n",
    "write.csv(pfam6, '../expression_analysis/eggnog_annotations/pfam6.csv', row.names=F)\n",
    "write.csv(pfam13, '../expression_analysis/eggnog_annotations/pfam13.csv', row.names=F)"
   ]
  },
  {
   "cell_type": "code",
   "execution_count": 32,
   "id": "2e673f4d-3fc5-4d84-8fce-b5ad52885e3c",
   "metadata": {},
   "outputs": [],
   "source": [
    "rho4 = filter(pfam4, pfam_id =='7tm_1') %>% mutate('org'='4')\n",
    "rho6 = filter(pfam6, pfam_id =='7tm_1')%>% mutate('org'='6')\n",
    "rho13 = filter(pfam13, pfam_id =='7tm_1')%>% mutate('org'='13')\n",
    "rho_pfam = bind_rows(rho4,rho6,rho13)\n",
    "write.csv(rho_pfam, '../expression_analysis/eggnog_annotations/rho_pfam.csv', row.names=F)"
   ]
  },
  {
   "cell_type": "code",
   "execution_count": 46,
   "id": "55984342-1e7c-4924-93ab-994ee7be6ace",
   "metadata": {},
   "outputs": [
    {
     "data": {
      "text/html": [
       "<table class=\"dataframe\">\n",
       "<caption>A data.frame: 9 × 3</caption>\n",
       "<thead>\n",
       "\t<tr><th scope=col>ko_id</th><th scope=col>symbol</th><th scope=col>name</th></tr>\n",
       "\t<tr><th scope=col>&lt;chr&gt;</th><th scope=col>&lt;chr&gt;</th><th scope=col>&lt;chr&gt;</th></tr>\n",
       "</thead>\n",
       "<tbody>\n",
       "\t<tr><td>K08838</td><td> STK24_25_MST4</td><td> serine/threonine-protein kinase 24/25/MST4 [EC:2.7.11.1]       </td></tr>\n",
       "\t<tr><td>K16288</td><td> DSTYK, RIPK5 </td><td> dual serine/threonine and tyrosine protein kinase [EC:2.7.12.1]</td></tr>\n",
       "\t<tr><td>K14859</td><td> SSF1_2       </td><td> ribosome biogenesis protein SSF1/2                             </td></tr>\n",
       "\t<tr><td>K16911</td><td> DDX21        </td><td> ATP-dependent RNA helicase DDX21 [EC:3.6.4.13]                 </td></tr>\n",
       "\t<tr><td>K04412</td><td> STK3, MST2   </td><td> serine/threonine kinase 3                                      </td></tr>\n",
       "\t<tr><td>K17546</td><td> STKLD1       </td><td> serine/threonine kinase-like domain-containing protein STKLD1  </td></tr>\n",
       "\t<tr><td>K08433</td><td> GPR149       </td><td> G protein-coupled receptor 149                                 </td></tr>\n",
       "\t<tr><td>K14593</td><td> CCS1         </td><td> capsanthin/capsorubin synthase [EC:5.3.99.8]                   </td></tr>\n",
       "\t<tr><td>K08387</td><td> P2RY11       </td><td> P2Y purinoceptor 11                                            </td></tr>\n",
       "</tbody>\n",
       "</table>\n"
      ],
      "text/latex": [
       "A data.frame: 9 × 3\n",
       "\\begin{tabular}{lll}\n",
       " ko\\_id & symbol & name\\\\\n",
       " <chr> & <chr> & <chr>\\\\\n",
       "\\hline\n",
       "\t K08838 &  STK24\\_25\\_MST4 &  serine/threonine-protein kinase 24/25/MST4 {[}EC:2.7.11.1{]}       \\\\\n",
       "\t K16288 &  DSTYK, RIPK5  &  dual serine/threonine and tyrosine protein kinase {[}EC:2.7.12.1{]}\\\\\n",
       "\t K14859 &  SSF1\\_2        &  ribosome biogenesis protein SSF1/2                             \\\\\n",
       "\t K16911 &  DDX21         &  ATP-dependent RNA helicase DDX21 {[}EC:3.6.4.13{]}                 \\\\\n",
       "\t K04412 &  STK3, MST2    &  serine/threonine kinase 3                                      \\\\\n",
       "\t K17546 &  STKLD1        &  serine/threonine kinase-like domain-containing protein STKLD1  \\\\\n",
       "\t K08433 &  GPR149        &  G protein-coupled receptor 149                                 \\\\\n",
       "\t K14593 &  CCS1          &  capsanthin/capsorubin synthase {[}EC:5.3.99.8{]}                   \\\\\n",
       "\t K08387 &  P2RY11        &  P2Y purinoceptor 11                                            \\\\\n",
       "\\end{tabular}\n"
      ],
      "text/markdown": [
       "\n",
       "A data.frame: 9 × 3\n",
       "\n",
       "| ko_id &lt;chr&gt; | symbol &lt;chr&gt; | name &lt;chr&gt; |\n",
       "|---|---|---|\n",
       "| K08838 |  STK24_25_MST4 |  serine/threonine-protein kinase 24/25/MST4 [EC:2.7.11.1]        |\n",
       "| K16288 |  DSTYK, RIPK5  |  dual serine/threonine and tyrosine protein kinase [EC:2.7.12.1] |\n",
       "| K14859 |  SSF1_2        |  ribosome biogenesis protein SSF1/2                              |\n",
       "| K16911 |  DDX21         |  ATP-dependent RNA helicase DDX21 [EC:3.6.4.13]                  |\n",
       "| K04412 |  STK3, MST2    |  serine/threonine kinase 3                                       |\n",
       "| K17546 |  STKLD1        |  serine/threonine kinase-like domain-containing protein STKLD1   |\n",
       "| K08433 |  GPR149        |  G protein-coupled receptor 149                                  |\n",
       "| K14593 |  CCS1          |  capsanthin/capsorubin synthase [EC:5.3.99.8]                    |\n",
       "| K08387 |  P2RY11        |  P2Y purinoceptor 11                                             |\n",
       "\n"
      ],
      "text/plain": [
       "  ko_id  symbol        \n",
       "1 K08838  STK24_25_MST4\n",
       "2 K16288  DSTYK, RIPK5 \n",
       "3 K14859  SSF1_2       \n",
       "4 K16911  DDX21        \n",
       "5 K04412  STK3, MST2   \n",
       "6 K17546  STKLD1       \n",
       "7 K08433  GPR149       \n",
       "8 K14593  CCS1         \n",
       "9 K08387  P2RY11       \n",
       "  name                                                            \n",
       "1  serine/threonine-protein kinase 24/25/MST4 [EC:2.7.11.1]       \n",
       "2  dual serine/threonine and tyrosine protein kinase [EC:2.7.12.1]\n",
       "3  ribosome biogenesis protein SSF1/2                             \n",
       "4  ATP-dependent RNA helicase DDX21 [EC:3.6.4.13]                 \n",
       "5  serine/threonine kinase 3                                      \n",
       "6  serine/threonine kinase-like domain-containing protein STKLD1  \n",
       "7  G protein-coupled receptor 149                                 \n",
       "8  capsanthin/capsorubin synthase [EC:5.3.99.8]                   \n",
       "9  P2Y purinoceptor 11                                            "
      ]
     },
     "metadata": {},
     "output_type": "display_data"
    },
    {
     "data": {
      "text/html": [
       "<table class=\"dataframe\">\n",
       "<caption>A data.frame: 9 × 3</caption>\n",
       "<thead>\n",
       "\t<tr><th scope=col>ko_id</th><th scope=col>symbol</th><th scope=col>name</th></tr>\n",
       "\t<tr><th scope=col>&lt;chr&gt;</th><th scope=col>&lt;chr&gt;</th><th scope=col>&lt;chr&gt;</th></tr>\n",
       "</thead>\n",
       "<tbody>\n",
       "\t<tr><td>K08838</td><td> STK24_25_MST4</td><td> serine/threonine-protein kinase 24/25/MST4 [EC:2.7.11.1]       </td></tr>\n",
       "\t<tr><td>K16288</td><td> DSTYK, RIPK5 </td><td> dual serine/threonine and tyrosine protein kinase [EC:2.7.12.1]</td></tr>\n",
       "\t<tr><td>K14859</td><td> SSF1_2       </td><td> ribosome biogenesis protein SSF1/2                             </td></tr>\n",
       "\t<tr><td>K16911</td><td> DDX21        </td><td> ATP-dependent RNA helicase DDX21 [EC:3.6.4.13]                 </td></tr>\n",
       "\t<tr><td>K04412</td><td> STK3, MST2   </td><td> serine/threonine kinase 3                                      </td></tr>\n",
       "\t<tr><td>K17546</td><td> STKLD1       </td><td> serine/threonine kinase-like domain-containing protein STKLD1  </td></tr>\n",
       "\t<tr><td>K08433</td><td> GPR149       </td><td> G protein-coupled receptor 149                                 </td></tr>\n",
       "\t<tr><td>K14593</td><td> CCS1         </td><td> capsanthin/capsorubin synthase [EC:5.3.99.8]                   </td></tr>\n",
       "\t<tr><td>K08387</td><td> P2RY11       </td><td> P2Y purinoceptor 11                                            </td></tr>\n",
       "</tbody>\n",
       "</table>\n"
      ],
      "text/latex": [
       "A data.frame: 9 × 3\n",
       "\\begin{tabular}{lll}\n",
       " ko\\_id & symbol & name\\\\\n",
       " <chr> & <chr> & <chr>\\\\\n",
       "\\hline\n",
       "\t K08838 &  STK24\\_25\\_MST4 &  serine/threonine-protein kinase 24/25/MST4 {[}EC:2.7.11.1{]}       \\\\\n",
       "\t K16288 &  DSTYK, RIPK5  &  dual serine/threonine and tyrosine protein kinase {[}EC:2.7.12.1{]}\\\\\n",
       "\t K14859 &  SSF1\\_2        &  ribosome biogenesis protein SSF1/2                             \\\\\n",
       "\t K16911 &  DDX21         &  ATP-dependent RNA helicase DDX21 {[}EC:3.6.4.13{]}                 \\\\\n",
       "\t K04412 &  STK3, MST2    &  serine/threonine kinase 3                                      \\\\\n",
       "\t K17546 &  STKLD1        &  serine/threonine kinase-like domain-containing protein STKLD1  \\\\\n",
       "\t K08433 &  GPR149        &  G protein-coupled receptor 149                                 \\\\\n",
       "\t K14593 &  CCS1          &  capsanthin/capsorubin synthase {[}EC:5.3.99.8{]}                   \\\\\n",
       "\t K08387 &  P2RY11        &  P2Y purinoceptor 11                                            \\\\\n",
       "\\end{tabular}\n"
      ],
      "text/markdown": [
       "\n",
       "A data.frame: 9 × 3\n",
       "\n",
       "| ko_id &lt;chr&gt; | symbol &lt;chr&gt; | name &lt;chr&gt; |\n",
       "|---|---|---|\n",
       "| K08838 |  STK24_25_MST4 |  serine/threonine-protein kinase 24/25/MST4 [EC:2.7.11.1]        |\n",
       "| K16288 |  DSTYK, RIPK5  |  dual serine/threonine and tyrosine protein kinase [EC:2.7.12.1] |\n",
       "| K14859 |  SSF1_2        |  ribosome biogenesis protein SSF1/2                              |\n",
       "| K16911 |  DDX21         |  ATP-dependent RNA helicase DDX21 [EC:3.6.4.13]                  |\n",
       "| K04412 |  STK3, MST2    |  serine/threonine kinase 3                                       |\n",
       "| K17546 |  STKLD1        |  serine/threonine kinase-like domain-containing protein STKLD1   |\n",
       "| K08433 |  GPR149        |  G protein-coupled receptor 149                                  |\n",
       "| K14593 |  CCS1          |  capsanthin/capsorubin synthase [EC:5.3.99.8]                    |\n",
       "| K08387 |  P2RY11        |  P2Y purinoceptor 11                                             |\n",
       "\n"
      ],
      "text/plain": [
       "  ko_id  symbol        \n",
       "1 K08838  STK24_25_MST4\n",
       "2 K16288  DSTYK, RIPK5 \n",
       "3 K14859  SSF1_2       \n",
       "4 K16911  DDX21        \n",
       "5 K04412  STK3, MST2   \n",
       "6 K17546  STKLD1       \n",
       "7 K08433  GPR149       \n",
       "8 K14593  CCS1         \n",
       "9 K08387  P2RY11       \n",
       "  name                                                            \n",
       "1  serine/threonine-protein kinase 24/25/MST4 [EC:2.7.11.1]       \n",
       "2  dual serine/threonine and tyrosine protein kinase [EC:2.7.12.1]\n",
       "3  ribosome biogenesis protein SSF1/2                             \n",
       "4  ATP-dependent RNA helicase DDX21 [EC:3.6.4.13]                 \n",
       "5  serine/threonine kinase 3                                      \n",
       "6  serine/threonine kinase-like domain-containing protein STKLD1  \n",
       "7  G protein-coupled receptor 149                                 \n",
       "8  capsanthin/capsorubin synthase [EC:5.3.99.8]                   \n",
       "9  P2Y purinoceptor 11                                            "
      ]
     },
     "metadata": {},
     "output_type": "display_data"
    }
   ],
   "source": [
    "\n",
    "orfs=filter(ko6, (orfs %in% rho6$orfs)==T)\n",
    "rho_alt_ko6=filter(ko_def, (ko_id %in% orfs$ko_id)==T)\n",
    "\n",
    "orf13=filter(ko13, (orfs%in% rho13$orfs)==T)\n",
    "rho_al_ko13=filter(ko_def, (ko_id %in% orf13$ko_id)==T)\n",
    "\n",
    "rho_alt_ko6\n",
    "rho_al_ko13"
   ]
  }
 ],
 "metadata": {
  "kernelspec": {
   "display_name": "R",
   "language": "R",
   "name": "ir"
  },
  "language_info": {
   "codemirror_mode": "r",
   "file_extension": ".r",
   "mimetype": "text/x-r-source",
   "name": "R",
   "pygments_lexer": "r",
   "version": "4.3.2"
  }
 },
 "nbformat": 4,
 "nbformat_minor": 5
}
