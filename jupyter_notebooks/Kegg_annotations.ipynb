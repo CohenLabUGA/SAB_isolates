{
 "cells": [
  {
   "cell_type": "markdown",
   "id": "9171cae8",
   "metadata": {},
   "source": [
    "# Kegg annotation tables \n",
    "\n",
    "- This notebook will use output from Eggnogmapper to create key tables used to sum ORF counts to the 'Kegg Ko gene level' and to translate Ko IDs into gene names for visualization. \n",
    "---\n",
    "## Prepare Environment"
   ]
  },
  {
   "cell_type": "code",
   "execution_count": 27,
   "id": "569719fe-78a8-4e44-8744-a2c9eb9cf706",
   "metadata": {},
   "outputs": [
    {
     "name": "stderr",
     "output_type": "stream",
     "text": [
      "Installing package into ‘/Users/lquirk/Library/R/arm64/4.3/library’\n",
      "(as ‘lib’ is unspecified)\n",
      "\n",
      "Warning message:\n",
      "“package ‘KEGGREST’ is not available for this version of R\n",
      "\n",
      "A version of this package for your version of R might be available elsewhere,\n",
      "see the ideas at\n",
      "https://cran.r-project.org/doc/manuals/r-patched/R-admin.html#Installing-packages”\n"
     ]
    },
    {
     "name": "stdout",
     "output_type": "stream",
     "text": [
      "\n",
      "Bellow Packages Successfully Loaded:\n",
      "\n",
      "tidyverse    tibble \n",
      "     TRUE      TRUE \n"
     ]
    }
   ],
   "source": [
    "source('../r_scripts/functions.R')\n",
    "checkAndLoadPackages('tidyverse','tibble','KEGGREST')"
   ]
  },
  {
   "cell_type": "markdown",
   "id": "070bb3bf",
   "metadata": {},
   "source": [
    "# 1. Read in eggnog annotation tables\n",
    "---\n",
    "The `get.eggnog` function reads in eggnog annotation tables. Changing the directory and file name to the organism number (4,8,6 or 13) is specific to how I organized my files. The only columns of interest are subset from the annotation table.  "
   ]
  },
  {
   "cell_type": "code",
   "execution_count": 28,
   "id": "66403180",
   "metadata": {},
   "outputs": [],
   "source": [
    "get.eggnog <- function(org){\n",
    "    emap <- read.csv(paste('../expression_analysis/eggnog_annotations/',org,\".emapper.annotations\", sep=\"\"),\n",
    "                 sep = \"\\t\",\n",
    "                 comment.char = \"#\",\n",
    "                 header = FALSE,\n",
    "                 na.strings = \"-\")\n",
    "    \n",
    "    colnames(emap) <- c(\n",
    "        'orfs', 'seed_ortholog', 'evalue', 'score', 'eggNOG_OGs', 'max_annot_lvl', 'COG_category', 'Description', \n",
    "        'Preferred_name', 'GOs', 'EC', 'ko_id', 'KEGG_Pathway', 'KEGG_Module', 'KEGG_Reaction', \n",
    "        'KEGG_rclass',  'BRITE', 'KEGG_TC', 'CAZy', 'BiGG_Reaction', 'PFAMs')\n",
    "    \n",
    "    emap[, c(\"orfs\", \"seed_ortholog\", \"EC\",\"GOs\",\"ko_id\",'KEGG_Pathway', 'KEGG_Module', 'KEGG_Reaction', \n",
    "       'KEGG_rclass',  'BRITE', 'KEGG_TC', 'CAZy', 'BiGG_Reaction',\"PFAMs\")]\n",
    "    }\n",
    "\n",
    "emap4 <- get.eggnog('04')\n",
    "emap8 <- get.eggnog('08')\n",
    "emap6 <- get.eggnog('06')\n",
    "emap13 <- get.eggnog('13')"
   ]
  },
  {
   "cell_type": "markdown",
   "id": "6f41c467",
   "metadata": {},
   "source": [
    "### 1.2 Create df for each organism with annotation of choice, removing the rows with NA's"
   ]
  },
  {
   "cell_type": "code",
   "execution_count": 29,
   "id": "bf728468",
   "metadata": {},
   "outputs": [],
   "source": [
    "get.anno <- function(emap, anno){\n",
    "    #extract query column and annotation of choice, ex: pfams\n",
    "    vars <- c(\"orfs\", anno)\n",
    "    df <- select(emap, all_of(vars))\n",
    "    df <- df %>% filter(is.na(df[,ncol(df)])==FALSE)\n",
    "    }\n",
    "\n",
    "ko4_ls <- get.anno(emap4,\"ko_id\")\n",
    "ko8_ls <- get.anno(emap8,\"ko_id\")\n",
    "ko6_ls <- get.anno(emap6,\"ko_id\")\n",
    "ko13_ls <- get.anno(emap13,\"ko_id\")"
   ]
  },
  {
   "cell_type": "code",
   "execution_count": 30,
   "id": "7b85a4ef-cb81-406c-8760-b6e772427773",
   "metadata": {},
   "outputs": [
    {
     "data": {
      "text/html": [
       "<table class=\"dataframe\">\n",
       "<caption>A data.frame: 6 × 2</caption>\n",
       "<thead>\n",
       "\t<tr><th></th><th scope=col>orfs</th><th scope=col>PFAMs</th></tr>\n",
       "\t<tr><th></th><th scope=col>&lt;chr&gt;</th><th scope=col>&lt;chr&gt;</th></tr>\n",
       "</thead>\n",
       "<tbody>\n",
       "\t<tr><th scope=row>1</th><td>NODE_10000_length_2085_cov_180.263917_g1941_i2.p2</td><td>Mg_trans_NIPA                               </td></tr>\n",
       "\t<tr><th scope=row>2</th><td>NODE_10000_length_2085_cov_180.263917_g1941_i2.p3</td><td>Mg_trans_NIPA                               </td></tr>\n",
       "\t<tr><th scope=row>3</th><td>NODE_10002_length_2085_cov_50.039761_g2374_i1.p2 </td><td>Exo_endo_phos,SAP                           </td></tr>\n",
       "\t<tr><th scope=row>4</th><td>NODE_10004_length_2085_cov_16.794732_g143_i20.p1 </td><td>Bac_rhamnosid6H,F5_F8_type_C,RicinB_lectin_2</td></tr>\n",
       "\t<tr><th scope=row>5</th><td>NODE_10004_length_2085_cov_16.794732_g143_i20.p4 </td><td>Bac_rhamnosid6H,F5_F8_type_C,RicinB_lectin_2</td></tr>\n",
       "\t<tr><th scope=row>6</th><td>NODE_10005_length_2085_cov_13.522366_g594_i1.p1  </td><td>PFK                                         </td></tr>\n",
       "</tbody>\n",
       "</table>\n"
      ],
      "text/latex": [
       "A data.frame: 6 × 2\n",
       "\\begin{tabular}{r|ll}\n",
       "  & orfs & PFAMs\\\\\n",
       "  & <chr> & <chr>\\\\\n",
       "\\hline\n",
       "\t1 & NODE\\_10000\\_length\\_2085\\_cov\\_180.263917\\_g1941\\_i2.p2 & Mg\\_trans\\_NIPA                               \\\\\n",
       "\t2 & NODE\\_10000\\_length\\_2085\\_cov\\_180.263917\\_g1941\\_i2.p3 & Mg\\_trans\\_NIPA                               \\\\\n",
       "\t3 & NODE\\_10002\\_length\\_2085\\_cov\\_50.039761\\_g2374\\_i1.p2  & Exo\\_endo\\_phos,SAP                           \\\\\n",
       "\t4 & NODE\\_10004\\_length\\_2085\\_cov\\_16.794732\\_g143\\_i20.p1  & Bac\\_rhamnosid6H,F5\\_F8\\_type\\_C,RicinB\\_lectin\\_2\\\\\n",
       "\t5 & NODE\\_10004\\_length\\_2085\\_cov\\_16.794732\\_g143\\_i20.p4  & Bac\\_rhamnosid6H,F5\\_F8\\_type\\_C,RicinB\\_lectin\\_2\\\\\n",
       "\t6 & NODE\\_10005\\_length\\_2085\\_cov\\_13.522366\\_g594\\_i1.p1   & PFK                                         \\\\\n",
       "\\end{tabular}\n"
      ],
      "text/markdown": [
       "\n",
       "A data.frame: 6 × 2\n",
       "\n",
       "| <!--/--> | orfs &lt;chr&gt; | PFAMs &lt;chr&gt; |\n",
       "|---|---|---|\n",
       "| 1 | NODE_10000_length_2085_cov_180.263917_g1941_i2.p2 | Mg_trans_NIPA                                |\n",
       "| 2 | NODE_10000_length_2085_cov_180.263917_g1941_i2.p3 | Mg_trans_NIPA                                |\n",
       "| 3 | NODE_10002_length_2085_cov_50.039761_g2374_i1.p2  | Exo_endo_phos,SAP                            |\n",
       "| 4 | NODE_10004_length_2085_cov_16.794732_g143_i20.p1  | Bac_rhamnosid6H,F5_F8_type_C,RicinB_lectin_2 |\n",
       "| 5 | NODE_10004_length_2085_cov_16.794732_g143_i20.p4  | Bac_rhamnosid6H,F5_F8_type_C,RicinB_lectin_2 |\n",
       "| 6 | NODE_10005_length_2085_cov_13.522366_g594_i1.p1   | PFK                                          |\n",
       "\n"
      ],
      "text/plain": [
       "  orfs                                             \n",
       "1 NODE_10000_length_2085_cov_180.263917_g1941_i2.p2\n",
       "2 NODE_10000_length_2085_cov_180.263917_g1941_i2.p3\n",
       "3 NODE_10002_length_2085_cov_50.039761_g2374_i1.p2 \n",
       "4 NODE_10004_length_2085_cov_16.794732_g143_i20.p1 \n",
       "5 NODE_10004_length_2085_cov_16.794732_g143_i20.p4 \n",
       "6 NODE_10005_length_2085_cov_13.522366_g594_i1.p1  \n",
       "  PFAMs                                       \n",
       "1 Mg_trans_NIPA                               \n",
       "2 Mg_trans_NIPA                               \n",
       "3 Exo_endo_phos,SAP                           \n",
       "4 Bac_rhamnosid6H,F5_F8_type_C,RicinB_lectin_2\n",
       "5 Bac_rhamnosid6H,F5_F8_type_C,RicinB_lectin_2\n",
       "6 PFK                                         "
      ]
     },
     "metadata": {},
     "output_type": "display_data"
    },
    {
     "data": {
      "text/html": [
       "<table class=\"dataframe\">\n",
       "<caption>A data.frame: 6 × 2</caption>\n",
       "<thead>\n",
       "\t<tr><th></th><th scope=col>orfs</th><th scope=col>ko_id</th></tr>\n",
       "\t<tr><th></th><th scope=col>&lt;chr&gt;</th><th scope=col>&lt;chr&gt;</th></tr>\n",
       "</thead>\n",
       "<tbody>\n",
       "\t<tr><th scope=row>1</th><td>NODE_10001_length_2060_cov_5.581278_g5365_i0.p1 </td><td>ko:K00914</td></tr>\n",
       "\t<tr><th scope=row>2</th><td>NODE_10002_length_2059_cov_37.920947_g5366_i0.p1</td><td>ko:K06911</td></tr>\n",
       "\t<tr><th scope=row>3</th><td>NODE_10003_length_2059_cov_28.617321_g5366_i1.p1</td><td>ko:K06911</td></tr>\n",
       "\t<tr><th scope=row>4</th><td>NODE_10009_length_2059_cov_5.150050_g5369_i0.p1 </td><td>ko:K21797</td></tr>\n",
       "\t<tr><th scope=row>5</th><td>NODE_10010_length_2058_cov_58.211083_g5370_i0.p1</td><td>ko:K18038</td></tr>\n",
       "\t<tr><th scope=row>6</th><td>NODE_10011_length_2058_cov_52.328967_g4722_i3.p3</td><td>ko:K03020</td></tr>\n",
       "</tbody>\n",
       "</table>\n"
      ],
      "text/latex": [
       "A data.frame: 6 × 2\n",
       "\\begin{tabular}{r|ll}\n",
       "  & orfs & ko\\_id\\\\\n",
       "  & <chr> & <chr>\\\\\n",
       "\\hline\n",
       "\t1 & NODE\\_10001\\_length\\_2060\\_cov\\_5.581278\\_g5365\\_i0.p1  & ko:K00914\\\\\n",
       "\t2 & NODE\\_10002\\_length\\_2059\\_cov\\_37.920947\\_g5366\\_i0.p1 & ko:K06911\\\\\n",
       "\t3 & NODE\\_10003\\_length\\_2059\\_cov\\_28.617321\\_g5366\\_i1.p1 & ko:K06911\\\\\n",
       "\t4 & NODE\\_10009\\_length\\_2059\\_cov\\_5.150050\\_g5369\\_i0.p1  & ko:K21797\\\\\n",
       "\t5 & NODE\\_10010\\_length\\_2058\\_cov\\_58.211083\\_g5370\\_i0.p1 & ko:K18038\\\\\n",
       "\t6 & NODE\\_10011\\_length\\_2058\\_cov\\_52.328967\\_g4722\\_i3.p3 & ko:K03020\\\\\n",
       "\\end{tabular}\n"
      ],
      "text/markdown": [
       "\n",
       "A data.frame: 6 × 2\n",
       "\n",
       "| <!--/--> | orfs &lt;chr&gt; | ko_id &lt;chr&gt; |\n",
       "|---|---|---|\n",
       "| 1 | NODE_10001_length_2060_cov_5.581278_g5365_i0.p1  | ko:K00914 |\n",
       "| 2 | NODE_10002_length_2059_cov_37.920947_g5366_i0.p1 | ko:K06911 |\n",
       "| 3 | NODE_10003_length_2059_cov_28.617321_g5366_i1.p1 | ko:K06911 |\n",
       "| 4 | NODE_10009_length_2059_cov_5.150050_g5369_i0.p1  | ko:K21797 |\n",
       "| 5 | NODE_10010_length_2058_cov_58.211083_g5370_i0.p1 | ko:K18038 |\n",
       "| 6 | NODE_10011_length_2058_cov_52.328967_g4722_i3.p3 | ko:K03020 |\n",
       "\n"
      ],
      "text/plain": [
       "  orfs                                             ko_id    \n",
       "1 NODE_10001_length_2060_cov_5.581278_g5365_i0.p1  ko:K00914\n",
       "2 NODE_10002_length_2059_cov_37.920947_g5366_i0.p1 ko:K06911\n",
       "3 NODE_10003_length_2059_cov_28.617321_g5366_i1.p1 ko:K06911\n",
       "4 NODE_10009_length_2059_cov_5.150050_g5369_i0.p1  ko:K21797\n",
       "5 NODE_10010_length_2058_cov_58.211083_g5370_i0.p1 ko:K18038\n",
       "6 NODE_10011_length_2058_cov_52.328967_g4722_i3.p3 ko:K03020"
      ]
     },
     "metadata": {},
     "output_type": "display_data"
    }
   ],
   "source": [
    "pfam4_ls = get.anno(emap4, 'PFAMs')\n",
    "pfam8_ls = get.anno(emap8, 'PFAMs')\n",
    "pfam6_ls = get.anno(emap6, 'PFAMs')\n",
    "pfam13_ls = get.anno(emap13, 'PFAMs')\n"
   ]
  },
  {
   "cell_type": "markdown",
   "id": "e8aa3b7a",
   "metadata": {},
   "source": [
    "# 2. Create a ko-to-orf mapping table\n",
    "---\n",
    "The ko-to-orf mapping table will associate each ORF to a Kegg Ko, and can be used as a key. Because some ORFs were assigned multiple Ko's, these will be split into multiple columns with the `split into multiple` function adapted from a stack overflow post. ORFs with multiple Ko's will appear as many times as a Ko was assigned and the ko_iteration numbers from 1-n ko's assigned. \n",
    "Then, `clean_ko` pivots the table into three columns, ORF, Ko, and Ko_iteration, dropping the Ko prefix 'Ko:'.  "
   ]
  },
  {
   "cell_type": "code",
   "execution_count": 32,
   "id": "c1440559",
   "metadata": {},
   "outputs": [
    {
     "name": "stdout",
     "output_type": "stream",
     "text": [
      "[1] \"# of values in matrix w/o NA: 14281\"\n",
      "[1] \"# rows in final df:  14281\"\n",
      "[1] \"# of values in matrix w/o NA: 35251\"\n",
      "[1] \"# rows in final df:  35251\"\n",
      "[1] \"# of values in matrix w/o NA: 12765\"\n",
      "[1] \"# rows in final df:  12765\"\n",
      "[1] \"# of values in matrix w/o NA: 30911\"\n",
      "[1] \"# rows in final df:  30911\"\n"
     ]
    },
    {
     "data": {
      "text/html": [
       "<table class=\"dataframe\">\n",
       "<caption>A tibble: 6 × 3</caption>\n",
       "<thead>\n",
       "\t<tr><th scope=col>orfs</th><th scope=col>ko_iteration</th><th scope=col>ko_id</th></tr>\n",
       "\t<tr><th scope=col>&lt;chr&gt;</th><th scope=col>&lt;chr&gt;</th><th scope=col>&lt;chr&gt;</th></tr>\n",
       "</thead>\n",
       "<tbody>\n",
       "\t<tr><td>NODE_10001_length_2060_cov_5.581278_g5365_i0.p1 </td><td>ko:_1</td><td>K00914</td></tr>\n",
       "\t<tr><td>NODE_10002_length_2059_cov_37.920947_g5366_i0.p1</td><td>ko:_1</td><td>K06911</td></tr>\n",
       "\t<tr><td>NODE_10003_length_2059_cov_28.617321_g5366_i1.p1</td><td>ko:_1</td><td>K06911</td></tr>\n",
       "\t<tr><td>NODE_10009_length_2059_cov_5.150050_g5369_i0.p1 </td><td>ko:_1</td><td>K21797</td></tr>\n",
       "\t<tr><td>NODE_10010_length_2058_cov_58.211083_g5370_i0.p1</td><td>ko:_1</td><td>K18038</td></tr>\n",
       "\t<tr><td>NODE_10011_length_2058_cov_52.328967_g4722_i3.p3</td><td>ko:_1</td><td>K03020</td></tr>\n",
       "</tbody>\n",
       "</table>\n"
      ],
      "text/latex": [
       "A tibble: 6 × 3\n",
       "\\begin{tabular}{lll}\n",
       " orfs & ko\\_iteration & ko\\_id\\\\\n",
       " <chr> & <chr> & <chr>\\\\\n",
       "\\hline\n",
       "\t NODE\\_10001\\_length\\_2060\\_cov\\_5.581278\\_g5365\\_i0.p1  & ko:\\_1 & K00914\\\\\n",
       "\t NODE\\_10002\\_length\\_2059\\_cov\\_37.920947\\_g5366\\_i0.p1 & ko:\\_1 & K06911\\\\\n",
       "\t NODE\\_10003\\_length\\_2059\\_cov\\_28.617321\\_g5366\\_i1.p1 & ko:\\_1 & K06911\\\\\n",
       "\t NODE\\_10009\\_length\\_2059\\_cov\\_5.150050\\_g5369\\_i0.p1  & ko:\\_1 & K21797\\\\\n",
       "\t NODE\\_10010\\_length\\_2058\\_cov\\_58.211083\\_g5370\\_i0.p1 & ko:\\_1 & K18038\\\\\n",
       "\t NODE\\_10011\\_length\\_2058\\_cov\\_52.328967\\_g4722\\_i3.p3 & ko:\\_1 & K03020\\\\\n",
       "\\end{tabular}\n"
      ],
      "text/markdown": [
       "\n",
       "A tibble: 6 × 3\n",
       "\n",
       "| orfs &lt;chr&gt; | ko_iteration &lt;chr&gt; | ko_id &lt;chr&gt; |\n",
       "|---|---|---|\n",
       "| NODE_10001_length_2060_cov_5.581278_g5365_i0.p1  | ko:_1 | K00914 |\n",
       "| NODE_10002_length_2059_cov_37.920947_g5366_i0.p1 | ko:_1 | K06911 |\n",
       "| NODE_10003_length_2059_cov_28.617321_g5366_i1.p1 | ko:_1 | K06911 |\n",
       "| NODE_10009_length_2059_cov_5.150050_g5369_i0.p1  | ko:_1 | K21797 |\n",
       "| NODE_10010_length_2058_cov_58.211083_g5370_i0.p1 | ko:_1 | K18038 |\n",
       "| NODE_10011_length_2058_cov_52.328967_g4722_i3.p3 | ko:_1 | K03020 |\n",
       "\n"
      ],
      "text/plain": [
       "  orfs                                             ko_iteration ko_id \n",
       "1 NODE_10001_length_2060_cov_5.581278_g5365_i0.p1  ko:_1        K00914\n",
       "2 NODE_10002_length_2059_cov_37.920947_g5366_i0.p1 ko:_1        K06911\n",
       "3 NODE_10003_length_2059_cov_28.617321_g5366_i1.p1 ko:_1        K06911\n",
       "4 NODE_10009_length_2059_cov_5.150050_g5369_i0.p1  ko:_1        K21797\n",
       "5 NODE_10010_length_2058_cov_58.211083_g5370_i0.p1 ko:_1        K18038\n",
       "6 NODE_10011_length_2058_cov_52.328967_g4722_i3.p3 ko:_1        K03020"
      ]
     },
     "metadata": {},
     "output_type": "display_data"
    }
   ],
   "source": [
    "split_into_multiple <- function(column, pattern = \",\", into_prefix){\n",
    "    #adapted from post on stack overflow\n",
    "    cols <- str_split_fixed(column, pattern, n = Inf)\n",
    "  # Replace empty matrix indicies with NA's \n",
    "    cols[which(cols == \"\")] <- NA\n",
    "  # turn matrix into a table with unique but arbitraty column names  \n",
    "    cols <- as_tibble(cols, .name_repair = make.names)\n",
    "  # where m = # columns in tibble 'cols'\n",
    "    m <- dim(cols)[2]\n",
    "  # assign column names as 'into_prefix_1', 'into_prefix_2', ..., 'into_prefix_m' \n",
    "    names(cols) <- paste(into_prefix, 1:m, sep = \"_\")\n",
    "    print(paste('# of values in matrix w/o NA:',sum(!is.na(cols)),sep=' '))\n",
    "    return(cols)\n",
    "}\n",
    "clean_ko <- function(df, org, into_prefix, value_col='ko_id',name_col='ko_iteration'){\n",
    "  # split up ko_id's into multiple columns naming each column \n",
    "  # ko:_1 to ko:_n \n",
    "  # (remember at this point we have the same number of rows but \n",
    "  # far more columns)\n",
    "    anno_iterations <- split_into_multiple(df[,2], \",\", into_prefix)\n",
    "  # select the orfs column from original df and bind to to \n",
    "  # split columns \n",
    "    df = df %>% select(orfs) %>% bind_cols(anno_iterations)\n",
    "  # now combine all ko:_n columns so all ko_id's \n",
    "  # become one column called ko_id and each column name, \n",
    "  # 'ko:_1'...'ko:_n' becomes one column called 'ko_iteration'. \n",
    "  # This tells us how many ko_id's were assigned to a particular orf\n",
    "  # the column 'orfs' will repeat values for rows with > 1 ko_iteration\n",
    "  # Drop the values from the matrix which were NA\n",
    "    df_clean = pivot_longer(df, cols = !orfs, values_drop_na = T,\n",
    "                            values_to = value_col, names_to = name_col)\n",
    "  # finally, clean up the df a bit by removing the ko_id prefixes 'ko:'\n",
    "  # we now have a 3 column table with orfs repeated in for each instance \n",
    "  # a ko_id was assigned to it by eggnog!\n",
    "    if(str_detect(colnames(df_clean[3]),'ko_id')==T){\n",
    "    df_clean$ko_id <- gsub(into_prefix, '', df_clean$ko_id)\n",
    "        }\n",
    "  # the final df should have same number of rows as sum(!na(cols))\n",
    "    print(paste('# rows in final df:',nrow(df_clean), sep='  '))\n",
    "    #write.csv(df_clean, paste('../kegg_names/ko',org, '_ls.csv', sep=''), row.names=F)\n",
    "    df_clean\n",
    "    }\n",
    "\n",
    "ko4 <- clean_ko(ko4_ls,'4','ko:')\n",
    "ko6 <- clean_ko(ko6_ls,'6','ko:')\n",
    "ko8 <- clean_ko(ko8_ls,'8','ko:')\n",
    "ko13 <- clean_ko(ko13_ls,'13','ko:')\n",
    "head(ko4)"
   ]
  },
  {
   "cell_type": "code",
   "execution_count": 33,
   "id": "0d8cd705-031e-4f22-97fc-91703f2b27f7",
   "metadata": {},
   "outputs": [
    {
     "name": "stdout",
     "output_type": "stream",
     "text": [
      "[1] \"# of values in matrix w/o NA: 44311\"\n",
      "[1] \"# rows in final df:  44311\"\n",
      "[1] \"# of values in matrix w/o NA: 37925\"\n",
      "[1] \"# rows in final df:  37925\"\n",
      "[1] \"# of values in matrix w/o NA: 68828\"\n",
      "[1] \"# rows in final df:  68828\"\n",
      "[1] \"# of values in matrix w/o NA: 61554\"\n",
      "[1] \"# rows in final df:  61554\"\n"
     ]
    }
   ],
   "source": [
    "pfam4 = clean_ko(pfam4_ls, '4','pfam', value_col = 'pfam_id',name_col = 'pfam_iteration')\n",
    "pfam8 = clean_ko(pfam8_ls, '8','pfam', value_col = 'pfam_id',name_col = 'pfam_iteration')\n",
    "pfam6 = clean_ko(pfam6_ls, '6','pfam', value_col = 'pfam_id',name_col = 'pfam_iteration')\n",
    "pfam13 = clean_ko(pfam13_ls, '13','pfam', value_col = 'pfam_id',name_col = 'pfam_iteration')\n",
    "\n",
    "write.csv(pfam4, '../expression_analysis/eggnog_annotations/pfam4.csv', row.names=F)\n",
    "write.csv(pfam8, '../expression_analysis/eggnog_annotations/pfam8.csv', row.names=F)\n",
    "write.csv(pfam6, '../expression_analysis/eggnog_annotations/pfam6.csv', row.names=F)\n",
    "write.csv(pfam13, '../expression_analysis/eggnog_annotations/pfam13.csv', row.names=F)"
   ]
  },
  {
   "cell_type": "code",
   "execution_count": 39,
   "id": "b16d6e16-30e3-4f18-b89c-f37813885f2c",
   "metadata": {},
   "outputs": [],
   "source": [
    "rho4 = filter(pfam4, pfam_id =='7tm_1') %>% mutate('org'='4')\n",
    "rho6 = filter(pfam6, pfam_id =='7tm_1')%>% mutate('org'='6')\n",
    "rho13 = filter(pfam13, pfam_id =='7tm_1')%>% mutate('org'='13')\n",
    "rho_pfam = bind_rows(rho4,rho6,rho13)\n",
    "write.csv(rho_pfam, '../expression_analysis/eggnog_annotations/rho_pfam.csv', row.names=F)"
   ]
  },
  {
   "cell_type": "markdown",
   "id": "d7cca5c9",
   "metadata": {},
   "source": [
    "## 2.1 Add ISIP transcript ORFs \n",
    "The tables created above have tidy df of query (ORF) and annotation (Ko_id) for mapping to counts, but need the ISIP annotations. To do this I: \n",
    "- Read in ISIP isoform annotations\n",
    "- Make a tidy df of all ISIP isoforms for each organism\n",
    "- Check that ISIP's were also counted by Salmon, remove any which were not"
   ]
  },
  {
   "cell_type": "code",
   "execution_count": null,
   "id": "5863d89e",
   "metadata": {},
   "outputs": [],
   "source": [
    "## read in the files\n",
    "dir <- \"/work/nclab/lucy/SAB/Annotation/eggnog/isip/pep_hit/\"\n",
    "\n",
    "read.isip <- function(org, prot){\n",
    "    f = t(read.delim(file=paste(dir, org, 'isip', prot,'_hits.txt', sep=\"\"),\n",
    "                 sep = ' ',header = F))\n",
    "    if (nrow(f) >=1){\n",
    "    f <- data.frame(\"orfs\"=f, \n",
    "                    \"ko_iteration\"=\"ko:_1\",\n",
    "                    \"ko_id\"=paste(\"isip_\", prot, sep=\"\"))}\n",
    "}\n",
    "\n",
    "i41 <- read.isip(\"04\", \"1\")\n",
    "i41a <- read.isip(\"04\", \"1a\")\n",
    "i41b <- read.isip(\"04\", \"1b\")\n",
    "i42a <- read.isip(\"04\", \"2a\")\n",
    "i43 <- read.isip(\"04\", \"3\")\n",
    "isip4 <- rbind(i41a, i41b, i42a, i43)\n",
    "isip4 <- distinct(isip4, orfs, .keep_all = T)\n",
    "\n",
    "i81 <- read.isip(\"08\", \"1\")\n",
    "i81a <- read.isip(\"08\", \"1a\")\n",
    "i81b <- read.isip(\"08\", \"1b\")\n",
    "i82a <- read.isip(\"08\", \"2a\")\n",
    "i83 <- read.isip(\"08\", \"3\")\n",
    "isip8 <- rbind( i81a, i81b, i82a, i83)  \n",
    "isip8 <- distinct(isip8, orfs, .keep_all = T)\n",
    "\n",
    "\n",
    "i61 <- read.isip(\"06\", \"1\")\n",
    "i61a <- read.isip(\"06\", \"1a\")\n",
    "i61b <- read.isip(\"06\", \"1b\")\n",
    "i62a <- read.isip(\"06\", \"2a\")\n",
    "i63 <- read.isip(\"06\", \"3\")\n",
    "isip6 <- rbind(i61a, i61b, i62a, i63)\n",
    "isip6 <- distinct(isip6, orfs, .keep_all = T)\n",
    "\n",
    "i132a <- read.isip(\"13\", \"2a\")\n",
    "i133 <- read.isip(\"13\", \"3\")\n",
    "isip13 <- rbind(i132a, i133)\n",
    "isip13 <- distinct(isip13, orfs, .keep_all = T)"
   ]
  },
  {
   "cell_type": "markdown",
   "id": "ebed5576",
   "metadata": {},
   "source": [
    "Combine ISIP proteins and ko dataframes, checking not to repeat if the orf was already annotated.\n",
    "\n",
    "1. Merge full ko definition list with ko's in organism using many-to-one merge relationship.  Organism's ko df have repeated ko_id, as the same annotation could be matched to multiple ORFs. So many rows in organisms's df may match to one row in full ko definition df. The column ko_id is named the same for both objects and will be used to merge the two dataframes. For this we use dplyr's left-join with relationship=many-to-one. \n",
    "\n",
    "2. Isip df and ko df have column query in common. We create a list of ORF's that the isip df and ko df have in common. isip rows are added to ko df for those ORFs not in common."
   ]
  },
  {
   "cell_type": "code",
   "execution_count": null,
   "id": "28e2fde7",
   "metadata": {},
   "outputs": [],
   "source": [
    "\n",
    "combine_save <- function(isip, ko_df, org){\n",
    "    \n",
    "    ko_fin <- bind_rows(ko_df, isip)\n",
    " \n",
    "    write.csv(ko_fin, paste(\"../kegg_names/ko\", org,\"_ls.csv\", sep=\"\"), row.names=F)\n",
    "    print(nrow(ko_fin))\n",
    "    print(nrow(ko_df)+nrow(isip))\n",
    "}\n",
    "\n",
    "\n",
    "ko4_def <- combine_save(isip4, ko4, \"4\")\n",
    "ko8_def <- combine_save(isip8, ko8, \"8\")\n",
    "ko6_def <- combine_save(isip6, ko6, \"6\")\n",
    "ko13_def <- combine_save(isip13, ko13, \"13\")"
   ]
  },
  {
   "cell_type": "markdown",
   "id": "b79a095a-58e6-4911-99b6-8fa877d556b8",
   "metadata": {},
   "source": [
    "# 3. Create a list of unique ko's found across all organisms. \n",
    "---\n",
    "Some formating the the list of unique ko's is made so that bash scripting can be used. This list is later used to find the name and symbol of the ko_id's and map it back to the organism-specific tables made above.  "
   ]
  },
  {
   "cell_type": "code",
   "execution_count": null,
   "id": "562e1fe0-6593-4267-98ce-475f45b74de6",
   "metadata": {},
   "outputs": [],
   "source": [
    "#create a df of all unique ko's found for all annotations\n",
    "all.ko <- bind_rows(ko4, ko6,ko8,ko13) %>% select(ko_id)\n",
    "\n",
    "all.ko <- distinct(all.ko, ko_id, .keep_all = T)\n",
    "#so that bash will read my file correctly, I need to start with ko= \n",
    "#and surround all ko_id's by a single quote\n",
    "kk=c('ko= ')\n",
    "q=c('\"')\n",
    "all.ko=rbind(kk, q, all.ko, q)\n",
    "\n",
    "#write to a .txt file with ko_id's separated by a space\n",
    "write.table(all.ko, \"../kegg_names/all.ko.txt\", quote=F, sep=\" \", eol=\" \", row.names = FALSE, col.names = FALSE)"
   ]
  },
  {
   "cell_type": "markdown",
   "id": "69dfdc59-41a8-4bb3-baca-e15a97f815bf",
   "metadata": {},
   "source": [
    "## 3.1 Run bash script `koNames.sh` in script folder\n",
    "a total of 7218 rows, or ko_id's \n",
    "\n",
    "## 3.2 Clean up ko_def table\n",
    "---\n",
    "Seperate the Ko ID, symbol, and name into different columns, add the ISIP genes and save. "
   ]
  },
  {
   "cell_type": "code",
   "execution_count": null,
   "id": "df2c4ac5",
   "metadata": {},
   "outputs": [],
   "source": [
    "#read in table with name and symbol matches to kegg ko's\n",
    "#make tidy\n",
    "ko_def <- read.delim(\"../kegg_names/ko_pathways.txt\", head=F,sep = \";\")\n",
    "id <- str_extract(ko_def$V1,'K[[:digit:]]*')\n",
    "sym <- str_remove(ko_def$V1, 'ko:K[[:digit:]]*')\n",
    "ko_def <- data.frame(ko_id = id, symbol=sym, name=ko_def$V2)\n",
    "isip=data.frame(ko_id=c('isip1a','isip_2a','isip_3'), \n",
    "                symbol=c('isip_1a','isip_2a','isip_3'),\n",
    "                name=c('Iron stress induced protein 1a',\n",
    "                       'Iron stress induced protein 2a', 'Iron stress induced protein 3'))\n",
    "ko_def=bind_rows(ko_def, isip)\n",
    "print(paste(nrow(ko_def), \"    =   all unique ko's found across organisms\"))\n",
    "write.csv(ko_def,'../kegg_names/ko_def.csv', row.names=F)\n",
    "tail(ko_def)"
   ]
  },
  {
   "cell_type": "markdown",
   "id": "dd3ea4dd",
   "metadata": {},
   "source": [
    "# Using Kegg api for Kegg annotations \n",
    "Imported csv files of modules, paths, and individual ko's, which are not associated with a path or module, have associated subcategories and broad categories which I am interested in. To get the module or path name, all of the ko's and thier names and symbols from the module or path code, we loop through each module/path code and using Kegg api, extract this information. Because pathways and modules are associated with one annother, we will keep these tables seperate\n",
    "## After running each loop, we should have a dataframe for each original file with a columns:\n",
    "- ko_id\n",
    "- name\n",
    "- symbol\n",
    "- pathway/module\n",
    "- sub_category\n",
    "- broad_category\n",
    "## Extract all ko's from tables which appear in at least one sample\n",
    "We will use the resulting tables for subsetting data later in making heat maps. We can create heat maps based on pathway, module, or category. "
   ]
  },
  {
   "cell_type": "markdown",
   "id": "b1e3cf27-d732-4eb3-89d1-662c3ee20975",
   "metadata": {},
   "source": [
    "## Pulling out pathways used for heatmaps in paper to make loop faster"
   ]
  },
  {
   "cell_type": "code",
   "execution_count": null,
   "id": "951e4edf-2ca0-40b2-a097-382db7bbbcac",
   "metadata": {},
   "outputs": [],
   "source": [
    "sub_cat_path=read.csv('../kegg_names/subcategories_path.csv')\n",
    "\n",
    "heatMapPath = filter(sub_cat_path, sub_category %in% c(\n",
    "    'Carbon fixation in photosynthetic organisms', 'Photosynthesis', \n",
    "    'Photosynthesis-antenna proteins', 'Nitrogen metabolism', 'Carotenoid biosynthesis'))\n"
   ]
  },
  {
   "cell_type": "code",
   "execution_count": null,
   "id": "979b4944-1ce8-4727-bcc9-0209a3350c31",
   "metadata": {},
   "outputs": [],
   "source": [
    "#3. pathways\n",
    "## get name for each pathway\n",
    "## add pathway name to dataframe\n",
    "## get list of all ko's for each pathway\n",
    "## get name and symbol for each ko\n",
    "\n",
    "\n",
    "url=c(\"https://rest.kegg.jp/\")\n",
    "find.path=list()\n",
    "for (i in heatMapPath$Pathway){\n",
    "    p=getURL(paste(url,'find/pathway/', i, sep=''))\n",
    "    find.path=unname(c(find.path,p))\n",
    "}\n",
    "\n",
    "path_name=data.frame('path_name'=str_remove(find.path,'path:map[[:digit:]]{5}\\t'))\n",
    "path_name$path_name=str_remove(path_name$path_name, '\\n')\n",
    "head(path_name)\n",
    "sub_path=bind_cols(heatMapPath, path_name)\n",
    "colnames(sub_path)[1]='Path'\n",
    "\n",
    "p=list()\n",
    "for (i in sub_path$Path){\n",
    "    link.ko=getURL(paste(url,'link/ko/', i, sep=''))\n",
    "    #link.ko=str_extract(p, 'ko:K[[:digit:]]+')\n",
    "    p=c(p,link.ko)\n",
    "}\n",
    "\n",
    "p=data.frame(ko_id=unlist(str_extract_all(p,'K[[:digit:]]+')), \n",
    "               path=(unlist(str_extract_all(p, 'map[[:digit:]]{5}')))) \n",
    "symbol=list()\n",
    "name=list()\n",
    "for (i in p$ko_id){\n",
    "    g=getURL(paste(url,'find/ko/', i, sep=''))\n",
    "    symbol=c(symbol,str_remove(str_extract(unname(g), '\\t.+;'), ';'))\n",
    "    name=c(name, str_remove(str_extract(unname(g),'; .*'), '; '))\n",
    "}\n",
    "path_ko=data.frame('Path'=p$path,\n",
    "                   'ko_id'=p$ko_id,\n",
    "                   'symbol'=str_remove(unlist(symbol),'\\t'),\n",
    "                   'name'= str_remove(unlist(name), '\\\\[EC:.*\\\\]'))\n",
    "\n",
    "sub_path=left_join(path_ko, sub_path, by='Path', relationship='many-to-many')\n",
    "\n",
    "head(sub_path)\n",
    "dim(sub_path)\n",
    "\n",
    "## add fld genes \n",
    "flavodoxin=data.frame(Path='map00195', ko_id=c('K03839','K03840','K21567','K00528'), \n",
    "                      symbol=c('fldA, nifF, isiB','fldB','fnr','fpr'), \n",
    "                      name=c('flavodoxin I','flavodoxin II','ferredoxin/flavodoxin---NADP+ reductase',\n",
    "                            'ferredoxin/flavodoxin---NADP+ reductase'), sub_category='Photosynthesis',\n",
    "                     broad_category='photosynthesis', path_name='Photosynthesis')\n",
    "sub_path=bind_rows(sub_path, flavodoxin) \n",
    "\n",
    "tail(sub_path)\n",
    "dim(sub_path)\n",
    "filter(sub_path, path_name=='Photosynthesis')"
   ]
  },
  {
   "cell_type": "markdown",
   "id": "b8dc412e-accc-4745-acd3-569f810b3326",
   "metadata": {},
   "source": [
    "change symbols, names, or pathways for use in heat map"
   ]
  },
  {
   "cell_type": "code",
   "execution_count": null,
   "id": "e20c6ea9-c068-4428-9bf1-62dc1ea5e833",
   "metadata": {},
   "outputs": [],
   "source": [
    "sub_path$path_name[sub_path$path_name=='Photosynthesis - antenna proteins']='Photosynthesis'\n",
    "\n",
    "sub_path[str_detect(sub_path$symbol, \"DUF\"), 'sub_category'] =  \"NADH dehydrogenase\"\n",
    "sub_path[str_detect(sub_path$symbol, \"COX|cox|CYC\"), 'sub_category'] = \"cytochrome c\"\n",
    "sub_path[str_detect(sub_path$symbol, \"ATP.*V\"),'sub_category'] = \"V-Type ATP-ase\"\n",
    "sub_path[str_detect(sub_path$symbol, \"ATP.*F\"), 'sub_category'] = \"F-Type ATP-ase\"\n",
    "\n",
    "heat.path=(filter(sub_path, (ko_id %in% ko_def$ko_id)==T))\n",
    "\n",
    "heat.path$name= str_replace_all(heat.path$name, c('light-harvesting complex I '='LHCA ','light-harvesting complex II'='LHCB',  \n",
    "                                 'chlorophyll'='Chl','photosystem I '='PSI ', 'photosystem II'='PSII',\n",
    "                                 'F-type .* subunit '='F-Type ATP-ase ', 'isip_'='Iron starvation induced protein ',\n",
    "                                 'fructose-bisphosphate aldolase'='FBA', 'ribulose-bisphosphate carboxylase'='RuBisCO',\n",
    "                                               'MFS transporter, NNP family, '=''))\n",
    "\n",
    "urea_cycle = filter(ko_def, ko_id%in%c('K00611','K01940','K01755','K01476'))\n",
    "urea_cycle = mutate(urea_cycle, 'sub_category'='Urea cycle', 'broad_category'='Nitrogen metabolism','path_name'='Nitrogen metabolism', 'Path'='map00910')\n",
    "heat.path = full_join(heat.path, urea_cycle)"
   ]
  },
  {
   "cell_type": "code",
   "execution_count": null,
   "id": "95c9ac8a-1e1e-4c73-950a-136add025d5b",
   "metadata": {},
   "outputs": [],
   "source": [
    "heat.path[str_detect(heat.path$symbol, 'MDH1'), 'name'] = 'malate dehydrogenase 1'\n",
    "heat.path[str_detect(heat.path$symbol, 'MDH2'), 'name'] = 'malate dehydrogenase 2'\n",
    "heat.path[str_detect(heat.path$symbol, 'maeB|ppdK'), 'sub_category'] = 'CAM light'\n",
    "heat.path[str_detect(heat.path$symbol, 'MDH1|MDH2|mdh|ppc'), 'sub_category'] = 'CAM dark'\n",
    "heat.path[heat.path$ko_id %in% \n",
    "          c('K00855','K00927','K01100','K01601','K01623','K01624','K01783',\n",
    "            'K01803','K01807','K01808','K02446','K03841','K11532','K00134',\n",
    "            'K00615'), 'sub_category'] = 'Calvin cycle' \n",
    "heat.path$sub_category = str_replace(heat.path$sub_category, 'Carbon fixation in photosynthetic organisms', 'C4 Dicarboxilic acid cycle')\n",
    "heat.path$name = str_remove(heat.path$name, '.(phosphorylating).')\n",
    "filter(heat.path, path_name=='Carbon fixation in photosynthetic organisms')\n"
   ]
  },
  {
   "cell_type": "code",
   "execution_count": null,
   "id": "3dae01e7-953c-4123-af59-69cfdd846cde",
   "metadata": {},
   "outputs": [],
   "source": [
    "heat.path[str_detect(heat.path$name, 'carbonic anhydrase'), 'sub_category'] = 'Carbonic anhydrase'\n",
    "heat.path[str_detect(heat.path$name, 'nitrate/nitrite transport'), 'sub_category'] = 'Nitrogen transporters'\n",
    "heat.path[str_detect(heat.path$name, 'glutamate|glutamine'), 'sub_category'] = 'GS/GOGAT and GDH'\n",
    "heat.path[str_detect(heat.path$name, 'nitrite reductase'), 'sub_category'] = 'Nitrite reductase'\n",
    "heat.path[str_detect(heat.path$name, 'nitrate reductase'), 'sub_category'] = 'Nitrite reductase'\n",
    "heat.path[str_detect(heat.path$symbol, 'CPS1'), 'sub_category'] = 'Urea cycle'\n",
    "heat.path$name = str_remove(heat.path$name, '\\\\[.*\\\\]')\n",
    "filter(heat.path, path_name=='Nitrogen metabolism')\n"
   ]
  },
  {
   "cell_type": "code",
   "execution_count": null,
   "id": "bb6ef7b5-6a4d-4990-a298-cfa272404f83",
   "metadata": {},
   "outputs": [],
   "source": [
    "heat.path[str_detect(heat.path$symbol, 'psa'), 'sub_category'] = 'PSI'\n",
    "heat.path[str_detect(heat.path$symbol, 'psb'), 'sub_category'] = 'PSII'\n",
    "heat.path[str_detect(heat.path$symbol, 'LHCA'), 'sub_category'] = 'LHCA'\n",
    "heat.path[str_detect(heat.path$symbol, 'LHCB'), 'sub_category'] = 'LHCB'\n",
    "heat.path$sub_category = str_replace(heat.path$sub_category, 'Photosynthesis', 'Electron transport chain')\n",
    "heat.path[str_detect(heat.path$sub_category, 'F-Type ATP-ase'), 'path_name'] = 'F-Type ATP-ase'\n",
    "\n",
    "filter(heat.path, path_name=='Photosynthesis')"
   ]
  },
  {
   "cell_type": "code",
   "execution_count": null,
   "id": "f467086d-d727-498f-a04b-cd348849b944",
   "metadata": {},
   "outputs": [],
   "source": [
    "heat.path[str_detect(heat.path$name, 'violaxanthin|zeaxanthin'), 'path_name'] = 'Photosynthesis'\n",
    "heat.path[str_detect(heat.path$name, 'violaxanthin|zeaxanthin'), 'sub_category'] = 'Xanthophyll cycle'\n",
    "\n",
    "filter(heat.path, path_name=='Photosynthesis')"
   ]
  },
  {
   "cell_type": "code",
   "execution_count": null,
   "id": "a9f64a83-9399-41ca-8c97-9b2911b9dde9",
   "metadata": {},
   "outputs": [],
   "source": [
    "unique(heat.path$path_name)\n",
    "write.csv(heat.path, '../kegg_names/pathwaysHeatMap.csv', row.names=F)"
   ]
  },
  {
   "cell_type": "code",
   "execution_count": null,
   "id": "4085b63a-58e3-4ccb-ae0c-776ed0bad228",
   "metadata": {},
   "outputs": [],
   "source": [
    "all(heat.path$ko_id %in% ko_def$ko_id)\n",
    "dim(heat.path)"
   ]
  }
 ],
 "metadata": {
  "kernelspec": {
   "display_name": "R",
   "language": "R",
   "name": "ir"
  },
  "language_info": {
   "codemirror_mode": "r",
   "file_extension": ".r",
   "mimetype": "text/x-r-source",
   "name": "R",
   "pygments_lexer": "r",
   "version": "4.3.2"
  }
 },
 "nbformat": 4,
 "nbformat_minor": 5
}
