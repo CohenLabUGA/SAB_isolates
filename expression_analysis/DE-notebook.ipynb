{
 "cells": [
  {
   "cell_type": "markdown",
   "id": "18f1577d",
   "metadata": {},
   "source": [
    "# Differential Expression Analysis\n",
    "Salmon was used to obtain counts and eggnog-mapper was used to obtain functional annotation. \n",
    "\n",
    "We first read in packages from Bioconductor to import the data and to use the DESeq2 package. Bioconductor requires a specific version of R to run (likely the most recent) I had troubles initially but once I created a conda environemnt with the most recent R version, Bioconductor worked fine. \n",
    "\n",
    "#note about loading and installing tidyverse -it was working but stoped working, I tried installing it to conda which took forever! Conda found some conflicts and searched all packages in my environment-"
   ]
  },
  {
   "cell_type": "code",
   "execution_count": 1,
   "id": "47cde0fd",
   "metadata": {},
   "outputs": [
    {
     "name": "stderr",
     "output_type": "stream",
     "text": [
      "Loading required package: S4Vectors\n",
      "\n",
      "Loading required package: stats4\n",
      "\n",
      "Loading required package: BiocGenerics\n",
      "\n",
      "\n",
      "Attaching package: ‘BiocGenerics’\n",
      "\n",
      "\n",
      "The following objects are masked from ‘package:stats’:\n",
      "\n",
      "    IQR, mad, sd, var, xtabs\n",
      "\n",
      "\n",
      "The following objects are masked from ‘package:base’:\n",
      "\n",
      "    anyDuplicated, aperm, append, as.data.frame, basename, cbind,\n",
      "    colnames, dirname, do.call, duplicated, eval, evalq, Filter, Find,\n",
      "    get, grep, grepl, intersect, is.unsorted, lapply, Map, mapply,\n",
      "    match, mget, order, paste, pmax, pmax.int, pmin, pmin.int,\n",
      "    Position, rank, rbind, Reduce, rownames, sapply, setdiff, sort,\n",
      "    table, tapply, union, unique, unsplit, which.max, which.min\n",
      "\n",
      "\n",
      "\n",
      "Attaching package: ‘S4Vectors’\n",
      "\n",
      "\n",
      "The following object is masked from ‘package:utils’:\n",
      "\n",
      "    findMatches\n",
      "\n",
      "\n",
      "The following objects are masked from ‘package:base’:\n",
      "\n",
      "    expand.grid, I, unname\n",
      "\n",
      "\n",
      "Loading required package: IRanges\n",
      "\n",
      "Loading required package: GenomicRanges\n",
      "\n",
      "Loading required package: GenomeInfoDb\n",
      "\n",
      "Loading required package: SummarizedExperiment\n",
      "\n",
      "Loading required package: MatrixGenerics\n",
      "\n",
      "Loading required package: matrixStats\n",
      "\n",
      "\n",
      "Attaching package: ‘MatrixGenerics’\n",
      "\n",
      "\n",
      "The following objects are masked from ‘package:matrixStats’:\n",
      "\n",
      "    colAlls, colAnyNAs, colAnys, colAvgsPerRowSet, colCollapse,\n",
      "    colCounts, colCummaxs, colCummins, colCumprods, colCumsums,\n",
      "    colDiffs, colIQRDiffs, colIQRs, colLogSumExps, colMadDiffs,\n",
      "    colMads, colMaxs, colMeans2, colMedians, colMins, colOrderStats,\n",
      "    colProds, colQuantiles, colRanges, colRanks, colSdDiffs, colSds,\n",
      "    colSums2, colTabulates, colVarDiffs, colVars, colWeightedMads,\n",
      "    colWeightedMeans, colWeightedMedians, colWeightedSds,\n",
      "    colWeightedVars, rowAlls, rowAnyNAs, rowAnys, rowAvgsPerColSet,\n",
      "    rowCollapse, rowCounts, rowCummaxs, rowCummins, rowCumprods,\n",
      "    rowCumsums, rowDiffs, rowIQRDiffs, rowIQRs, rowLogSumExps,\n",
      "    rowMadDiffs, rowMads, rowMaxs, rowMeans2, rowMedians, rowMins,\n",
      "    rowOrderStats, rowProds, rowQuantiles, rowRanges, rowRanks,\n",
      "    rowSdDiffs, rowSds, rowSums2, rowTabulates, rowVarDiffs, rowVars,\n",
      "    rowWeightedMads, rowWeightedMeans, rowWeightedMedians,\n",
      "    rowWeightedSds, rowWeightedVars\n",
      "\n",
      "\n",
      "Loading required package: Biobase\n",
      "\n",
      "Welcome to Bioconductor\n",
      "\n",
      "    Vignettes contain introductory material; view with\n",
      "    'browseVignettes()'. To cite Bioconductor, see\n",
      "    'citation(\"Biobase\")', and for packages 'citation(\"pkgname\")'.\n",
      "\n",
      "\n",
      "\n",
      "Attaching package: ‘Biobase’\n",
      "\n",
      "\n",
      "The following object is masked from ‘package:MatrixGenerics’:\n",
      "\n",
      "    rowMedians\n",
      "\n",
      "\n",
      "The following objects are masked from ‘package:matrixStats’:\n",
      "\n",
      "    anyMissing, rowMedians\n",
      "\n",
      "\n",
      "\n",
      "Attaching package: ‘tidyr’\n",
      "\n",
      "\n",
      "The following object is masked from ‘package:S4Vectors’:\n",
      "\n",
      "    expand\n",
      "\n",
      "\n"
     ]
    },
    {
     "ename": "ERROR",
     "evalue": "Error in library(\"gplots\"): there is no package called ‘gplots’\n",
     "output_type": "error",
     "traceback": [
      "Error in library(\"gplots\"): there is no package called ‘gplots’\nTraceback:\n",
      "1. library(\"gplots\")"
     ]
    }
   ],
   "source": [
    "#if (!require(\"BiocManager\", quietly = TRUE))\n",
    "  #install.packages(\"BiocManager\")\n",
    "#BiocManager::install(c(\"tximport\",\"DESeq2\"))        #I think I have already installed this an do not need to every time?\n",
    "#BiocManager::install(c(\"apeglm\"))\n",
    "library('tximport')\n",
    "library('DESeq2')\n",
    "#install.packages(c(\"dplyr\",\"tidyr\",\"ggplot2\",\"gplots\",\"NMF\",'RColorBrewer','pheatmap','hexbin'))\n",
    "library('tidyr')\n",
    "library('gplots')\n",
    "library('RColorBrewer')\n",
    "library('NMF')\n",
    "library('ggplot2')\n",
    "library(\"pheatmap\")\n",
    "library('hexbin')\n",
    "library('dplyr')"
   ]
  },
  {
   "cell_type": "markdown",
   "id": "b71cb480",
   "metadata": {},
   "source": [
    "# 1. Using the tximport function, read in the files.  \n",
    "\n",
    "The tximport will create a list of matricies. We use the column names of the counts matrix to create rownames for the samples matrix. \n",
    "\n",
    "### Locate directory with files and name it as dir. \n",
    "Create a vector called files for all salmon quantification files. Create, or read in, a csv file with sample names referencing the files in the files vector. We will create the names of each item in vector files using the samples csv. Read in the files using file.path to feed in the dir variable before each file name in the vector files.  \n",
    "\n",
    " Note: you can only read in files associated with the same reference transcriptome together.\n",
    "\n"
   ]
  },
  {
   "cell_type": "code",
   "execution_count": 2,
   "id": "ee1d7557",
   "metadata": {
    "scrolled": true
   },
   "outputs": [],
   "source": [
    "dir <-  \"/work/nclab/lucy/SAB/Assembly/04/salmon\"\n",
    "#list.files(dir)"
   ]
  },
  {
   "cell_type": "markdown",
   "id": "e2f7dcb4",
   "metadata": {},
   "source": [
    "### First, we construct a df of metadata for the transcriptome. \n",
    "This includes column 'id' with sample id's I have used in my personal notes, column 'isolate' with the isolate number (4,6,8, or 13), column 'treatment' with treatment for each, and column 'replicate'. Basically, the 2-3 columns are info from column 1 broken up. \n",
    "\n",
    "### Then, using file.path, point R to the location of all the salmon quant files for this transcriptome\n",
    "This will create a list of all the file location and names. Using the id column from sample metadata, name each file in the list. This name will better represent to us what we are looking at later. \n",
    "\n",
    "### Finally, check that all files do exist"
   ]
  },
  {
   "cell_type": "code",
   "execution_count": 3,
   "id": "1a90cb74",
   "metadata": {},
   "outputs": [
    {
     "data": {
      "text/html": [
       "TRUE"
      ],
      "text/latex": [
       "TRUE"
      ],
      "text/markdown": [
       "TRUE"
      ],
      "text/plain": [
       "[1] TRUE"
      ]
     },
     "metadata": {},
     "output_type": "display_data"
    }
   ],
   "source": [
    "counts_metadata <- data.frame(\n",
    "    id=c(\"4add_backA\",\"4add_backB\",\"4pFe21_9A\",\"4pFe21_9B\",\"4pFe21_9C\"),\n",
    "    isolate=rep_len(4,5),\n",
    "    treatment=c(rep_len(\"add_back\",2),rep_len(\"pFe21_9\",3)),\n",
    "    replicate=c('A','B','A','B','C'))\n",
    "\n",
    "\n",
    "\n",
    "files <- file.path(dir, list.files(dir, pattern=\".sf\",recursive = TRUE))\n",
    "\n",
    "names(files) <- paste0(\n",
    "    counts_metadata$id)\n",
    "\n",
    "#files\n",
    "\n",
    "all(file.exists(files))"
   ]
  },
  {
   "cell_type": "markdown",
   "id": "cca29a4d",
   "metadata": {},
   "source": [
    "### Now we can read in our list of files using tximport. \n",
    "Ensure the rownames for counts_metadata is equal to the column names of the raw_counts file you just created and check out the top few rows of the data. "
   ]
  },
  {
   "cell_type": "code",
   "execution_count": 4,
   "id": "3224d406",
   "metadata": {
    "scrolled": true
   },
   "outputs": [
    {
     "name": "stderr",
     "output_type": "stream",
     "text": [
      "reading in files with read_tsv\n",
      "\n",
      "1 \n",
      "2 \n",
      "3 \n",
      "4 \n",
      "5 \n",
      "\n",
      "\n"
     ]
    },
    {
     "data": {
      "text/html": [
       "TRUE"
      ],
      "text/latex": [
       "TRUE"
      ],
      "text/markdown": [
       "TRUE"
      ],
      "text/plain": [
       "[1] TRUE"
      ]
     },
     "metadata": {},
     "output_type": "display_data"
    }
   ],
   "source": [
    "raw_counts <- tximport(files, type='salmon',txIn=TRUE, txOut = TRUE) #should this be true? transcript level data?\n",
    "\n",
    "rownames(counts_metadata) <- colnames(raw_counts$counts)\n",
    "\n",
    "all(rownames(counts_metadata)==colnames(raw_counts))\n",
    "\n",
    "#raw_counts[,rownames(counts_metadata)]"
   ]
  },
  {
   "cell_type": "markdown",
   "id": "126e2042",
   "metadata": {},
   "source": [
    "if I sum up all counts from the open reading frames from Salmon output, there should be less than th enumber of reads I began my assembly with because about 45% of reads were mapped for quantification. "
   ]
  },
  {
   "cell_type": "code",
   "execution_count": 5,
   "id": "f3fa7f45",
   "metadata": {},
   "outputs": [
    {
     "data": {
      "text/html": [
       "<style>\n",
       ".dl-inline {width: auto; margin:0; padding: 0}\n",
       ".dl-inline>dt, .dl-inline>dd {float: none; width: auto; display: inline-block}\n",
       ".dl-inline>dt::after {content: \":\\0020\"; padding-right: .5ex}\n",
       ".dl-inline>dt:not(:first-of-type) {padding-left: .5ex}\n",
       "</style><dl class=dl-inline><dt>4add_backA</dt><dd>1283802.01</dd><dt>4add_backB</dt><dd>2350598.013</dd><dt>4pFe21_9A</dt><dd>1928237.983</dd><dt>4pFe21_9B</dt><dd>2310138.004</dd><dt>4pFe21_9C</dt><dd>1748057.992</dd></dl>\n"
      ],
      "text/latex": [
       "\\begin{description*}\n",
       "\\item[4add\\textbackslash{}\\_backA] 1283802.01\n",
       "\\item[4add\\textbackslash{}\\_backB] 2350598.013\n",
       "\\item[4pFe21\\textbackslash{}\\_9A] 1928237.983\n",
       "\\item[4pFe21\\textbackslash{}\\_9B] 2310138.004\n",
       "\\item[4pFe21\\textbackslash{}\\_9C] 1748057.992\n",
       "\\end{description*}\n"
      ],
      "text/markdown": [
       "4add_backA\n",
       ":   1283802.014add_backB\n",
       ":   2350598.0134pFe21_9A\n",
       ":   1928237.9834pFe21_9B\n",
       ":   2310138.0044pFe21_9C\n",
       ":   1748057.992\n",
       "\n"
      ],
      "text/plain": [
       "4add_backA 4add_backB  4pFe21_9A  4pFe21_9B  4pFe21_9C \n",
       "   1283802    2350598    1928238    2310138    1748058 "
      ]
     },
     "metadata": {},
     "output_type": "display_data"
    },
    {
     "data": {
      "text/html": [
       "<style>\n",
       ".dl-inline {width: auto; margin:0; padding: 0}\n",
       ".dl-inline>dt, .dl-inline>dd {float: none; width: auto; display: inline-block}\n",
       ".dl-inline>dt::after {content: \":\\0020\"; padding-right: .5ex}\n",
       ".dl-inline>dt:not(:first-of-type) {padding-left: .5ex}\n",
       "</style><dl class=dl-inline><dt>4add_backA</dt><dd>999999.999911</dd><dt>4add_backB</dt><dd>999999.999931</dd><dt>4pFe21_9A</dt><dd>1000000.000057</dd><dt>4pFe21_9B</dt><dd>999999.999975</dd><dt>4pFe21_9C</dt><dd>1000000.000007</dd></dl>\n"
      ],
      "text/latex": [
       "\\begin{description*}\n",
       "\\item[4add\\textbackslash{}\\_backA] 999999.999911\n",
       "\\item[4add\\textbackslash{}\\_backB] 999999.999931\n",
       "\\item[4pFe21\\textbackslash{}\\_9A] 1000000.000057\n",
       "\\item[4pFe21\\textbackslash{}\\_9B] 999999.999975\n",
       "\\item[4pFe21\\textbackslash{}\\_9C] 1000000.000007\n",
       "\\end{description*}\n"
      ],
      "text/markdown": [
       "4add_backA\n",
       ":   999999.9999114add_backB\n",
       ":   999999.9999314pFe21_9A\n",
       ":   1000000.0000574pFe21_9B\n",
       ":   999999.9999754pFe21_9C\n",
       ":   1000000.000007\n",
       "\n"
      ],
      "text/plain": [
       "4add_backA 4add_backB  4pFe21_9A  4pFe21_9B  4pFe21_9C \n",
       "     1e+06      1e+06      1e+06      1e+06      1e+06 "
      ]
     },
     "metadata": {},
     "output_type": "display_data"
    },
    {
     "data": {
      "text/html": [
       "<table class=\"dataframe\">\n",
       "<caption>A matrix: 6 × 5 of type dbl</caption>\n",
       "<thead>\n",
       "\t<tr><th></th><th scope=col>4add_backA</th><th scope=col>4add_backB</th><th scope=col>4pFe21_9A</th><th scope=col>4pFe21_9B</th><th scope=col>4pFe21_9C</th></tr>\n",
       "</thead>\n",
       "<tbody>\n",
       "\t<tr><th scope=row>NODE_10000_length_2060_cov_11.205335_g5364_i0.p1</th><td>16.00</td><td>35.000</td><td>14.000</td><td> 33.000</td><td>  3.000</td></tr>\n",
       "\t<tr><th scope=row>NODE_10001_length_2060_cov_5.581278_g5365_i0.p1</th><td> 8.00</td><td>38.000</td><td>22.000</td><td> 25.000</td><td>  1.000</td></tr>\n",
       "\t<tr><th scope=row>NODE_10002_length_2059_cov_37.920947_g5366_i0.p1</th><td>26.69</td><td>65.095</td><td>94.418</td><td>118.319</td><td>110.499</td></tr>\n",
       "\t<tr><th scope=row>NODE_10002_length_2059_cov_37.920947_g5366_i0.p2</th><td> 4.00</td><td>12.000</td><td>12.000</td><td> 13.000</td><td>  1.000</td></tr>\n",
       "\t<tr><th scope=row>NODE_10003_length_2059_cov_28.617321_g5366_i1.p1</th><td>15.31</td><td>14.905</td><td>34.582</td><td> 55.681</td><td>  9.501</td></tr>\n",
       "\t<tr><th scope=row>NODE_10004_length_2059_cov_25.532729_g4469_i1.p1</th><td>29.00</td><td>49.000</td><td>14.000</td><td> 18.000</td><td>  6.000</td></tr>\n",
       "</tbody>\n",
       "</table>\n"
      ],
      "text/latex": [
       "A matrix: 6 × 5 of type dbl\n",
       "\\begin{tabular}{r|lllll}\n",
       "  & 4add\\_backA & 4add\\_backB & 4pFe21\\_9A & 4pFe21\\_9B & 4pFe21\\_9C\\\\\n",
       "\\hline\n",
       "\tNODE\\_10000\\_length\\_2060\\_cov\\_11.205335\\_g5364\\_i0.p1 & 16.00 & 35.000 & 14.000 &  33.000 &   3.000\\\\\n",
       "\tNODE\\_10001\\_length\\_2060\\_cov\\_5.581278\\_g5365\\_i0.p1 &  8.00 & 38.000 & 22.000 &  25.000 &   1.000\\\\\n",
       "\tNODE\\_10002\\_length\\_2059\\_cov\\_37.920947\\_g5366\\_i0.p1 & 26.69 & 65.095 & 94.418 & 118.319 & 110.499\\\\\n",
       "\tNODE\\_10002\\_length\\_2059\\_cov\\_37.920947\\_g5366\\_i0.p2 &  4.00 & 12.000 & 12.000 &  13.000 &   1.000\\\\\n",
       "\tNODE\\_10003\\_length\\_2059\\_cov\\_28.617321\\_g5366\\_i1.p1 & 15.31 & 14.905 & 34.582 &  55.681 &   9.501\\\\\n",
       "\tNODE\\_10004\\_length\\_2059\\_cov\\_25.532729\\_g4469\\_i1.p1 & 29.00 & 49.000 & 14.000 &  18.000 &   6.000\\\\\n",
       "\\end{tabular}\n"
      ],
      "text/markdown": [
       "\n",
       "A matrix: 6 × 5 of type dbl\n",
       "\n",
       "| <!--/--> | 4add_backA | 4add_backB | 4pFe21_9A | 4pFe21_9B | 4pFe21_9C |\n",
       "|---|---|---|---|---|---|\n",
       "| NODE_10000_length_2060_cov_11.205335_g5364_i0.p1 | 16.00 | 35.000 | 14.000 |  33.000 |   3.000 |\n",
       "| NODE_10001_length_2060_cov_5.581278_g5365_i0.p1 |  8.00 | 38.000 | 22.000 |  25.000 |   1.000 |\n",
       "| NODE_10002_length_2059_cov_37.920947_g5366_i0.p1 | 26.69 | 65.095 | 94.418 | 118.319 | 110.499 |\n",
       "| NODE_10002_length_2059_cov_37.920947_g5366_i0.p2 |  4.00 | 12.000 | 12.000 |  13.000 |   1.000 |\n",
       "| NODE_10003_length_2059_cov_28.617321_g5366_i1.p1 | 15.31 | 14.905 | 34.582 |  55.681 |   9.501 |\n",
       "| NODE_10004_length_2059_cov_25.532729_g4469_i1.p1 | 29.00 | 49.000 | 14.000 |  18.000 |   6.000 |\n",
       "\n"
      ],
      "text/plain": [
       "                                                 4add_backA 4add_backB\n",
       "NODE_10000_length_2060_cov_11.205335_g5364_i0.p1 16.00      35.000    \n",
       "NODE_10001_length_2060_cov_5.581278_g5365_i0.p1   8.00      38.000    \n",
       "NODE_10002_length_2059_cov_37.920947_g5366_i0.p1 26.69      65.095    \n",
       "NODE_10002_length_2059_cov_37.920947_g5366_i0.p2  4.00      12.000    \n",
       "NODE_10003_length_2059_cov_28.617321_g5366_i1.p1 15.31      14.905    \n",
       "NODE_10004_length_2059_cov_25.532729_g4469_i1.p1 29.00      49.000    \n",
       "                                                 4pFe21_9A 4pFe21_9B 4pFe21_9C\n",
       "NODE_10000_length_2060_cov_11.205335_g5364_i0.p1 14.000     33.000     3.000  \n",
       "NODE_10001_length_2060_cov_5.581278_g5365_i0.p1  22.000     25.000     1.000  \n",
       "NODE_10002_length_2059_cov_37.920947_g5366_i0.p1 94.418    118.319   110.499  \n",
       "NODE_10002_length_2059_cov_37.920947_g5366_i0.p2 12.000     13.000     1.000  \n",
       "NODE_10003_length_2059_cov_28.617321_g5366_i1.p1 34.582     55.681     9.501  \n",
       "NODE_10004_length_2059_cov_25.532729_g4469_i1.p1 14.000     18.000     6.000  "
      ]
     },
     "metadata": {},
     "output_type": "display_data"
    }
   ],
   "source": [
    "my_counts <- raw_counts$counts \n",
    "myTPM <-  raw_counts$abundance\n",
    "\n",
    "colSums(my_counts) #total number of reads mapping to my reference (the trranslated salmon pojbect) per same\n",
    "colSums(myTPM)\n",
    "head(my_counts)\n"
   ]
  },
  {
   "cell_type": "markdown",
   "id": "536b724e",
   "metadata": {},
   "source": [
    "----------\n",
    "# 2. Create DESeq data frame\n",
    "\n",
    "We will: \n",
    "1. calculate summary stats on TPM matrix  \n",
    "2. generate a deseq data set\n",
    "2. filter by counts \n",
    "3. calculated DE and results\n",
    "4. log fold shrinkage of effect size (for visualization)\n",
    "3. pull out 100 most differentially expressed genes\n",
    "4. merge the matrix of count data with the eggnog functional annotations\n",
    "6. normalize the data"
   ]
  },
  {
   "cell_type": "code",
   "execution_count": 6,
   "id": "4b4e89c9",
   "metadata": {},
   "outputs": [],
   "source": [
    "# Calculate summary stats on the my_TPM data matrix \n",
    "myTPM_stats  <-  transform(myTPM,\n",
    "                          SD=rowSds(myTPM),\n",
    "                          AVG=rowMeans(myTPM),\n",
    "                          MED=rowMedians(myTPM))"
   ]
  },
  {
   "cell_type": "code",
   "execution_count": 7,
   "id": "5882f268",
   "metadata": {},
   "outputs": [
    {
     "data": {
      "image/png": "[encoded data removed]",
      "text/plain": [
       "plot without title"
      ]
     },
     "metadata": {
      "image/png": {
       "height": 420,
       "width": 420
      }
     },
     "output_type": "display_data"
    }
   ],
   "source": [
    "# plot the summary stats of the TPM data\n",
    "ggplot(myTPM_stats, aes(SD, MED)) +\n",
    "geom_hex(mapping = ) + labs(title=\"TPM standard deviation vs median for 04\")\n",
    "\n",
    "#we see a heteroscedasticity of the transcritps here. The transcripts expressed at\n",
    "#the highest levels have higher varience. This is why we will represent the data \n",
    "#on a log2 scale later\n",
    "\n",
    "#I am betting the transcripts with high expression and low variance are those which \n",
    "#are important diatoms in general and might be interesting to compare between \n",
    "#diatoms and haptophytes"
   ]
  },
  {
   "cell_type": "code",
   "execution_count": 6,
   "id": "1e9ea8c1",
   "metadata": {},
   "outputs": [
    {
     "name": "stderr",
     "output_type": "stream",
     "text": [
      "Warning message in DESeqDataSet(se, design = design, ignoreRank):\n",
      "“some variables in design formula are characters, converting to factors”\n",
      "using counts and average transcript lengths from tximport\n",
      "\n"
     ]
    }
   ],
   "source": [
    "dds <- DESeqDataSetFromTximport(\n",
    "  raw_counts,\n",
    "  colData=counts_metadata,\n",
    "  design = ~ treatment)\n"
   ]
  },
  {
   "cell_type": "markdown",
   "id": "3d3e1b6b",
   "metadata": {},
   "source": [
    "### Let's examine the dds object\n",
    "\n",
    "Use `assayNmes()` to print out the matrixes listed in the dds object. Let's rename the levels of the treatment column to more understandable terms from \"add_back\" and \"pFe12.9\" to \"Iron_ammendment\" and \"Low_Iron\". We are renaming the string here so we <b>must preserve the order of the levels in the original data!!!</b>. First, just print the levels of the dds then we can rename them. \n",
    "\n",
    "Use `relevel()` to set the Low_Iron treatment to the reference level. For the other organisms, we will treat High_Iron as the reference level. "
   ]
  },
  {
   "cell_type": "code",
   "execution_count": 9,
   "id": "e5e4c5e0",
   "metadata": {},
   "outputs": [
    {
     "data": {
      "text/plain": [
       "DataFrame with 5 rows and 4 columns\n",
       "                    id   isolate treatment   replicate\n",
       "           <character> <numeric>  <factor> <character>\n",
       "4add_backA  4add_backA         4  add_back           A\n",
       "4add_backB  4add_backB         4  add_back           B\n",
       "4pFe21_9A    4pFe21_9A         4  pFe21_9            A\n",
       "4pFe21_9B    4pFe21_9B         4  pFe21_9            B\n",
       "4pFe21_9C    4pFe21_9C         4  pFe21_9            C"
      ]
     },
     "metadata": {},
     "output_type": "display_data"
    },
    {
     "data": {
      "text/html": [
       "<style>\n",
       ".list-inline {list-style: none; margin:0; padding: 0}\n",
       ".list-inline>li {display: inline-block}\n",
       ".list-inline>li:not(:last-child)::after {content: \"\\00b7\"; padding: 0 .5ex}\n",
       "</style>\n",
       "<ol class=list-inline><li>'add_back'</li><li>'pFe21_9'</li></ol>\n"
      ],
      "text/latex": [
       "\\begin{enumerate*}\n",
       "\\item 'add\\_back'\n",
       "\\item 'pFe21\\_9'\n",
       "\\end{enumerate*}\n"
      ],
      "text/markdown": [
       "1. 'add_back'\n",
       "2. 'pFe21_9'\n",
       "\n",
       "\n"
      ],
      "text/plain": [
       "[1] \"add_back\" \"pFe21_9\" "
      ]
     },
     "metadata": {},
     "output_type": "display_data"
    },
    {
     "data": {
      "text/html": [
       "<style>\n",
       ".list-inline {list-style: none; margin:0; padding: 0}\n",
       ".list-inline>li {display: inline-block}\n",
       ".list-inline>li:not(:last-child)::after {content: \"\\00b7\"; padding: 0 .5ex}\n",
       "</style>\n",
       "<ol class=list-inline><li>Iron_ammendment</li><li>Iron_ammendment</li><li>Low_Iron</li><li>Low_Iron</li><li>Low_Iron</li></ol>\n",
       "\n",
       "<details>\n",
       "\t<summary style=display:list-item;cursor:pointer>\n",
       "\t\t<strong>Levels</strong>:\n",
       "\t</summary>\n",
       "\t<style>\n",
       "\t.list-inline {list-style: none; margin:0; padding: 0}\n",
       "\t.list-inline>li {display: inline-block}\n",
       "\t.list-inline>li:not(:last-child)::after {content: \"\\00b7\"; padding: 0 .5ex}\n",
       "\t</style>\n",
       "\t<ol class=list-inline><li>'Low_Iron'</li><li>'Iron_ammendment'</li></ol>\n",
       "</details>"
      ],
      "text/latex": [
       "\\begin{enumerate*}\n",
       "\\item Iron\\_ammendment\n",
       "\\item Iron\\_ammendment\n",
       "\\item Low\\_Iron\n",
       "\\item Low\\_Iron\n",
       "\\item Low\\_Iron\n",
       "\\end{enumerate*}\n",
       "\n",
       "\\emph{Levels}: \\begin{enumerate*}\n",
       "\\item 'Low\\_Iron'\n",
       "\\item 'Iron\\_ammendment'\n",
       "\\end{enumerate*}\n"
      ],
      "text/markdown": [
       "1. Iron_ammendment\n",
       "2. Iron_ammendment\n",
       "3. Low_Iron\n",
       "4. Low_Iron\n",
       "5. Low_Iron\n",
       "\n",
       "\n",
       "\n",
       "**Levels**: 1. 'Low_Iron'\n",
       "2. 'Iron_ammendment'\n",
       "\n",
       "\n"
      ],
      "text/plain": [
       "[1] Iron_ammendment Iron_ammendment Low_Iron        Low_Iron       \n",
       "[5] Low_Iron       \n",
       "Levels: Low_Iron Iron_ammendment"
      ]
     },
     "metadata": {},
     "output_type": "display_data"
    }
   ],
   "source": [
    "#dds\n",
    "#assayNames(dds) # <--this will show us the order of the count matrixes stored in the DeSeq object\n",
    "\n",
    "#head(adssay(dds),2) # <-- prints the second matrix, angTxLength\n",
    "\n",
    "#colSums(assay(dds)) #<-- sums the transcripts for each sample\n",
    "\n",
    "#rowRanges(dds) #shows the ranges of the first and last five contigs\n",
    "\n",
    "#extract the metadata from the rowRanges function\n",
    "#seqinfo(rowRanges(dds)) # <--we have none because this is a denovo analysis\n",
    "\n",
    "#metadata provided to dds object when read into tximport\n",
    "colData(dds)\n",
    "\n",
    "#if we want to rename the collomn isolate to culture, we would do so by:\n",
    "#dds$culture  <- dds$isolate\n",
    "\n",
    "#let's rename the treatement levels\n",
    "#first, we must know the order of the levels to rename them properly!!\n",
    "levels(dds$treatment)\n",
    "levels(dds$treatment)  <- c(\"Iron_ammendment\",\"Low_Iron\")\n",
    "\n",
    "#set Low Iron as the reference treatment(level) \n",
    "dds$treatment  <- relevel(dds$treatment, \"Low_Iron\")\n",
    "dds$treatment"
   ]
  },
  {
   "cell_type": "markdown",
   "id": "eb634f1b",
   "metadata": {},
   "source": [
    "### How many millions of contigs were mapped to the Salmon index for each sample?"
   ]
  },
  {
   "cell_type": "code",
   "execution_count": 7,
   "id": "e95f3842",
   "metadata": {},
   "outputs": [
    {
     "data": {
      "text/html": [
       "<style>\n",
       ".dl-inline {width: auto; margin:0; padding: 0}\n",
       ".dl-inline>dt, .dl-inline>dd {float: none; width: auto; display: inline-block}\n",
       ".dl-inline>dt::after {content: \":\\0020\"; padding-right: .5ex}\n",
       ".dl-inline>dt:not(:first-of-type) {padding-left: .5ex}\n",
       "</style><dl class=dl-inline><dt>4add_backA</dt><dd>1.3</dd><dt>4add_backB</dt><dd>2.4</dd><dt>4pFe21_9A</dt><dd>1.9</dd><dt>4pFe21_9B</dt><dd>2.3</dd><dt>4pFe21_9C</dt><dd>1.7</dd></dl>\n"
      ],
      "text/latex": [
       "\\begin{description*}\n",
       "\\item[4add\\textbackslash{}\\_backA] 1.3\n",
       "\\item[4add\\textbackslash{}\\_backB] 2.4\n",
       "\\item[4pFe21\\textbackslash{}\\_9A] 1.9\n",
       "\\item[4pFe21\\textbackslash{}\\_9B] 2.3\n",
       "\\item[4pFe21\\textbackslash{}\\_9C] 1.7\n",
       "\\end{description*}\n"
      ],
      "text/markdown": [
       "4add_backA\n",
       ":   1.34add_backB\n",
       ":   2.44pFe21_9A\n",
       ":   1.94pFe21_9B\n",
       ":   2.34pFe21_9C\n",
       ":   1.7\n",
       "\n"
      ],
      "text/plain": [
       "4add_backA 4add_backB  4pFe21_9A  4pFe21_9B  4pFe21_9C \n",
       "       1.3        2.4        1.9        2.3        1.7 "
      ]
     },
     "metadata": {},
     "output_type": "display_data"
    }
   ],
   "source": [
    "counts_mapped <- round(colSums(assay(dds))/1e6,1)\n",
    "head(counts_mapped)"
   ]
  },
  {
   "cell_type": "markdown",
   "id": "288664f9",
   "metadata": {},
   "source": [
    "### Pref-filtering Contigs with minimal expression\n",
    "We keep the contigs which at least two samples have 10 reads total. It is reccomended that number of samples (here set to 2) is that of the smalled group size. In this case there is an n=2 for Iron_ammendment. "
   ]
  },
  {
   "cell_type": "code",
   "execution_count": 8,
   "id": "d667e20d",
   "metadata": {},
   "outputs": [],
   "source": [
    "keep <- rowSums(counts(dds)>=10)>=2 #we use 2 at the end because the group\n",
    "                                                                            #with smallest n for this organism is 2\n",
    "dds <- dds[keep,]\n",
    "\n"
   ]
  },
  {
   "cell_type": "markdown",
   "id": "b9c260c4",
   "metadata": {},
   "source": [
    "# 3. Functional annotation\n",
    "------\n",
    "## Read in the eggnog-mapper functional annotations\n",
    "\n",
    "At this point, the variables/data we are working with and will move forward with are:\n",
    "- counts : dataframe of salmon count data, now containing eggnog output asociated with contigs\n",
    "- counts_metadata: experimental set up \n",
    "- dds: DESeq2 dataframe (list of matrixes)\n",
    "- res: results dataframe from DESeq2"
   ]
  },
  {
   "cell_type": "code",
   "execution_count": null,
   "id": "87c423ce",
   "metadata": {},
   "outputs": [],
   "source": [
    "dir2  <- \"/work/nclab/lucy/SAB/Annotation/eggnog/04\"\n",
    "emap <- read.csv(file.path(dir2,\"04.emapper.annotations\"),\n",
    "                 sep = \"\\t\",\n",
    "                 comment.char = \"#\",\n",
    "                 header = FALSE,\n",
    "                 na.strings = \"-\")[-c(1:4),]\n",
    "\n",
    "colnames(emap) <- c(\n",
    "        'query', 'seed_ortholog', 'evalue', 'score', 'eggNOG_OGs', 'max_annot_lvl', 'COG_category', 'Description', \n",
    "        'Preferred_name', 'GOs', 'EC', 'KEGG_ko', 'KEGG_Pathway', 'KEGG_Module', 'KEGG_Reaction', \n",
    "        'KEGG_rclass',  'BRITE', 'KEGG_TC', 'CAZy', 'BiGG_Reaction', 'PFAMs')\n",
    "\n",
    "emap <- emap[, c(\"query\", \"seed_ortholog\", \"KEGG_ko\", \"GOs\",\"PFAMs\")]\n",
    "\n",
    "kegg <- emap[,c('query','KEGG_ko')]\n",
    "\n",
    "pfams <- emap[,c('query','PFAMs')]\n",
    "str(pfams)\n",
    "\n",
    "Go  <- emap[,c(\"query\",\"GOs\")]"
   ]
  },
  {
   "cell_type": "code",
   "execution_count": null,
   "id": "0284be17",
   "metadata": {},
   "outputs": [],
   "source": []
  },
  {
   "cell_type": "markdown",
   "id": "3ce0a654",
   "metadata": {},
   "source": [
    "# 4. Data transformation for visualizations\n",
    "------------\n",
    "- VST : variance stablizing tranformations\n",
    "- rlog : regularized logarithm \n",
    "\n",
    "The point of these two transformations, the VST and the rlog, is to <b>remove the dependence of the variance on the mean</b>, particularly the high variance of the logarithm of count data when the mean is low.\n",
    "\n",
    "Both VST and rlog perform log2 scale transformations, normalied with respoect to library size or other normalization factors. We can set these transformations to `blind`, which would re-estimate the dispersions using only an intercept, ignorming sample information specified by the design formula. Using `blind = TRUE` compares samples in a wholly unbiased manor from information about treatment groups. If you expect to see differences in the treatements, it is best to use `blind = FALSE`. "
   ]
  },
  {
   "cell_type": "code",
   "execution_count": 9,
   "id": "db2ff16a",
   "metadata": {},
   "outputs": [
    {
     "name": "stderr",
     "output_type": "stream",
     "text": [
      "using 'avgTxLength' from assays(dds), correcting for library size\n",
      "\n",
      "using 'avgTxLength' from assays(dds), correcting for library size\n",
      "\n"
     ]
    }
   ],
   "source": [
    "vsd <- vst(dds,blind=FALSE)\n",
    "\n",
    "rld <- rlog(dds, blind=FALSE)\n",
    "\n",
    "counts_norm <- (assay(vsd))\n",
    "counts_norm <- as.data.frame(counts_norm) %>%\n",
    "tibble::rownames_to_column(\"query\")"
   ]
  },
  {
   "cell_type": "code",
   "execution_count": 13,
   "id": "9d6b87f4",
   "metadata": {},
   "outputs": [
    {
     "data": {
      "text/plain": [
       "DataFrame with 5 rows and 4 columns\n",
       "                    id   isolate       treatment   replicate\n",
       "           <character> <numeric>        <factor> <character>\n",
       "4add_backA  4add_backA         4 Iron_ammendment           A\n",
       "4add_backB  4add_backB         4 Iron_ammendment           B\n",
       "4pFe21_9A    4pFe21_9A         4 Low_Iron                  A\n",
       "4pFe21_9B    4pFe21_9B         4 Low_Iron                  B\n",
       "4pFe21_9C    4pFe21_9C         4 Low_Iron                  C"
      ]
     },
     "metadata": {},
     "output_type": "display_data"
    }
   ],
   "source": [
    "colData(vsd)"
   ]
  },
  {
   "cell_type": "markdown",
   "id": "4c684428",
   "metadata": {},
   "source": [
    "## 4.2 Add functional annotations to normalized counts \n"
   ]
  },
  {
   "cell_type": "code",
   "execution_count": null,
   "id": "a996f562",
   "metadata": {},
   "outputs": [],
   "source": [
    "nrow(counts_norm)\n",
    "nrow(vsd)\n",
    "nrow(dds)\n",
    "nrow(emap) ##??????how is the rows of emap > res?? Is this because res only has diff expressed contigs? \n",
    "#str(counts_norm)\n",
    "vsd_merged  <- left_join(counts_norm, emap, 'query')\n",
    "\n",
    "#head(vsd_merged)\n",
    "nrow(vsd_merged)==nrow(counts_norm)\n",
    "(nrow(vsd_merged))==(nrow(vsd))"
   ]
  },
  {
   "cell_type": "markdown",
   "id": "3b2eb3ea",
   "metadata": {},
   "source": [
    "## 4.3 Visualize effects of normalization\n",
    "Plot the first vs second sample of the dds object agains the vsd and rld normalized counts. We first must `estimteSizeFactors` on the dds to account for sequencing depth (this is automatically done with `vsd()`). Then, normalize the dds counts using the log2 function, we add 1 at the end to avoid taking the log of 0; and specify `normalized=TRUE` in the non-vsd plot. Create a df of all three normaization methods with a column at the end specifying the type of transformation performed. Plot the transformed counts using hexbin from ggplot. \n",
    "\n",
    "https://master.bioconductor.org/packages/release/workflows/vignettes/rnaseqGene/inst/doc/rnaseqGene.html#quantifying-with-salmon"
   ]
  },
  {
   "cell_type": "code",
   "execution_count": 10,
   "id": "fefbb3ae",
   "metadata": {},
   "outputs": [
    {
     "name": "stderr",
     "output_type": "stream",
     "text": [
      "using 'avgTxLength' from assays(dds), correcting for library size\n",
      "\n"
     ]
    },
    {
     "ename": "ERROR",
     "evalue": "Error in bind_rows(as.data.frame(log2(counts(dds_est, normalized = TRUE)[, : could not find function \"bind_rows\"\n",
     "output_type": "error",
     "traceback": [
      "Error in bind_rows(as.data.frame(log2(counts(dds_est, normalized = TRUE)[, : could not find function \"bind_rows\"\nTraceback:\n"
     ]
    }
   ],
   "source": [
    "dds_est <- estimateSizeFactors(dds)\n",
    "df <- bind_rows(\n",
    "                            as.data.frame(log2(counts(dds_est,  normalized = TRUE)[, 1:2]  + 1)) %>%\n",
    "                                    mutate(transformation = \"log2(x+1)\"),\n",
    "                            as.data.frame(assay(vsd)[, 1:2]) %>%\n",
    "                                     mutate(transformation = \"vst\"),\n",
    "                            as.data.frame(assay(rld)[, 1:2]) %>%\n",
    "                                    mutate(transformation = \"rlog\"))\n",
    "\n",
    "colnames(df)[1:2] <- c(\"x\",\"y\")\n",
    "\n",
    "lvls <- c(\"log2(x+1)\", \"vst\", \"rlog\")\n",
    "\n",
    "df$transformation  <- factor(df$transformation, levels=lvls)\n",
    "\n",
    "ggplot(df, aes(x=x, y=y)) + geom_hex(bins=80) + coord_fixed() + facet_wrap(~transformation)\n",
    "\n",
    "#meanSdPlot(assay(ntd))\n",
    "#meanSdPlot(assay(rld))\n",
    "#meanSdPlot(assay(vsd))"
   ]
  },
  {
   "cell_type": "markdown",
   "id": "f1a9dad6",
   "metadata": {},
   "source": [
    "Note how the bins are shifted up for the vst plot. This enables us to better vissualize the distances between smaller values in the pca plots. "
   ]
  },
  {
   "cell_type": "markdown",
   "id": "006cc9f3",
   "metadata": {},
   "source": [
    "## 4.4 Sample Distances\n",
    "Which samples are similare which are different? Does this fit with our expectations? \n",
    "\n",
    "Using the `dist()` calcualte the Euclidean distances between samples, using the VSD data to ensure equal contribution among contigs. `dist()` expects rows to be different samples columns to be the contigs, so transpose the matrix using `t()`. "
   ]
  },
  {
   "cell_type": "code",
   "execution_count": 11,
   "id": "380b0494",
   "metadata": {},
   "outputs": [
    {
     "data": {
      "text/plain": [
       "           4add_backA 4add_backB 4pFe21_9A 4pFe21_9B\n",
       "4add_backB   98.29775                               \n",
       "4pFe21_9A   142.64182  126.09792                    \n",
       "4pFe21_9B   147.18906  125.57276  69.48279          \n",
       "4pFe21_9C   146.26899  148.34284 143.20363 158.16673"
      ]
     },
     "metadata": {},
     "output_type": "display_data"
    }
   ],
   "source": [
    "vsd_dist <- dist(t(assay(vsd)))\n",
    "vsd_dist"
   ]
  },
  {
   "cell_type": "markdown",
   "id": "a675b6e5",
   "metadata": {},
   "source": [
    "Plot a heatmap of the distance matrix, arranging the rows and columns by the distances. Provide the sample distances from the vsd_dist to the `clustering_distance` argument to cluster sample which are must similar. "
   ]
  },
  {
   "cell_type": "code",
   "execution_count": 12,
   "id": "8108f7dd",
   "metadata": {},
   "outputs": [
    {
     "ename": "ERROR",
     "evalue": "Error in h(simpleError(msg, call)): error in evaluating the argument 'x' in selecting a method for function 'rev': could not find function \"brewer.pal\"\n",
     "output_type": "error",
     "traceback": [
      "Error in h(simpleError(msg, call)): error in evaluating the argument 'x' in selecting a method for function 'rev': could not find function \"brewer.pal\"\nTraceback:\n",
      "1. colorRampPalette(rev(brewer.pal(9, \"Blues\")))",
      "2. colorRamp(colors, ...)",
      "3. t(col2rgb(colors, alpha = alpha)/255)",
      "4. col2rgb(colors, alpha = alpha)",
      "5. as.character(col) %in% \"0\"",
      "6. rev(brewer.pal(9, \"Blues\"))",
      "7. .handleSimpleError(function (cond) \n . .Internal(C_tryCatchHelper(addr, 1L, cond)), \"could not find function \\\"brewer.pal\\\"\", \n .     base::quote(brewer.pal(9, \"Blues\")))",
      "8. h(simpleError(msg, call))"
     ]
    }
   ],
   "source": [
    "vsd_dist_mat <- as.matrix(vsd_dist)\n",
    "rownames(vsd_dist_mat) <- paste(vsd$id)\n",
    "\n",
    "colors <- colorRampPalette(rev(brewer.pal(9,\"Blues\")))(255)\n",
    "pheatmap(vsd_dist_mat,\n",
    "        clustering_distance_rows = vsd_dist,\n",
    "        clustering_distance_cols = vsd_dist,\n",
    "        col = colors)"
   ]
  },
  {
   "cell_type": "markdown",
   "id": "46397684",
   "metadata": {},
   "source": [
    "Here we see how similare the samples are to one annother. As expected, the two treatment types separate, but we see replicate C of low iron is different from the rest. \n",
    "\n",
    "We can also calculate a distance matrix from the original dds object using the Poisson Distance. "
   ]
  },
  {
   "cell_type": "code",
   "execution_count": 17,
   "id": "5864004e",
   "metadata": {},
   "outputs": [
    {
     "data": {
      "image/png": "[encoded data removed]",
      "text/plain": [
       "plot without title"
      ]
     },
     "metadata": {
      "image/png": {
       "height": 420,
       "width": 420
      }
     },
     "output_type": "display_data"
    }
   ],
   "source": [
    "#install.packages('PoiClaClu')\n",
    "library('PoiClaClu')\n",
    "poisd <- PoissonDistance(t(counts(dds)))\n",
    "\n",
    "poisd_mat <- as.matrix(poisd$dd)\n",
    "rownames(poisd_mat) <- dds$id\n",
    "pheatmap(poisd_mat, \n",
    "        clustering_distance_rows = poisd$dd,\n",
    "        clustering_distance_cols = poisd$dd,\n",
    "        col = colors)"
   ]
  },
  {
   "cell_type": "markdown",
   "id": "40ade9c4",
   "metadata": {},
   "source": [
    "## 4.5 The PCA plot also shows sample-to-sample distances"
   ]
  },
  {
   "cell_type": "code",
   "execution_count": 18,
   "id": "26c96bcc",
   "metadata": {
    "scrolled": true
   },
   "outputs": [
    {
     "data": {
      "image/png": "[encoded data removed]",
      "text/plain": [
       "plot without title"
      ]
     },
     "metadata": {
      "image/png": {
       "height": 420,
       "width": 420
      }
     },
     "output_type": "display_data"
    },
    {
     "data": {
      "image/png": "[encoded data removed]",
      "text/plain": [
       "plot without title"
      ]
     },
     "metadata": {
      "image/png": {
       "height": 420,
       "width": 420
      }
     },
     "output_type": "display_data"
    }
   ],
   "source": [
    "plotPCA(vsd, intgroup=c(\"treatment\",\"replicate\"))\n",
    "\n",
    "\n",
    "#using ggplot to customize PCA plots\n",
    "pcaData <- plotPCA(vsd, intgroup=c(\"treatment\", \"replicate\"), returnData=TRUE)\n",
    "\n",
    "percentVar <- round(100 * attr(pcaData, \"percentVar\"))\n",
    "\n",
    "ggplot(pcaData, aes(PC1, PC2, color=treatment, shape=replicate)) +\n",
    "  geom_point(size=3) +\n",
    "  xlab(paste0(\"PC1: \",percentVar[1],\"% variance\")) +\n",
    "  ylab(paste0(\"PC2: \",percentVar[2],\"% variance\")) + \n",
    "  coord_fixed()"
   ]
  },
  {
   "cell_type": "markdown",
   "id": "85f663d4",
   "metadata": {},
   "source": [
    "# Tests of log2 fold change above or below a threshold\n",
    "It is also possible to provide thresholds for constructing Wald tests of significance. Two arguments to the results function allow for threshold-based Wald tests: lfcThreshold, which takes a numeric of a non-negative threshold value, and altHypothesis, which specifies the kind of test. Note that the alternative hypothesis is specified by the user, i.e. those genes which the user is interested in finding, and the test provides p values for the null hypothesis, the complement of the set defined by the alternative. The altHypothesis argument can take one of the following four values, where \\(\\beta\\) is the log2 fold change specified by the name argument, and \\(x\\) is the lfcThreshold.\n",
    "\n",
    "greaterAbs - \\(|\\beta| > x\\) - tests are two-tailed\n",
    "lessAbs - \\(|\\beta| < x\\) - p values are the maximum of the upper and lower tests\n",
    "greater - \\(\\beta > x\\)\n",
    "less - \\(\\beta < -x\\)"
   ]
  },
  {
   "cell_type": "code",
   "execution_count": 19,
   "id": "1c002c1f",
   "metadata": {},
   "outputs": [
    {
     "ename": "ERROR",
     "evalue": "Error in results(dds, lfcThreshold = 0.5, altHypothesis = \"greaterAbs\"): couldn't find results. you should first run DESeq()\n",
     "output_type": "error",
     "traceback": [
      "Error in results(dds, lfcThreshold = 0.5, altHypothesis = \"greaterAbs\"): couldn't find results. you should first run DESeq()\nTraceback:\n",
      "1. results(dds, lfcThreshold = 0.5, altHypothesis = \"greaterAbs\")",
      "2. stop(\"couldn't find results. you should first run DESeq()\")"
     ]
    }
   ],
   "source": [
    "par(mfrow=c(2,2),mar=c(2,2,1,1))\n",
    "ylim <- c(-2.5,2.5)\n",
    "resGA <- results(dds, lfcThreshold=.5, altHypothesis=\"greaterAbs\")\n",
    "resLA <- results(dds, lfcThreshold=.5, altHypothesis=\"lessAbs\")\n",
    "resG <- results(dds, lfcThreshold=.5, altHypothesis=\"greater\")\n",
    "resL <- results(dds, lfcThreshold=.5, altHypothesis=\"less\")\n",
    "drawLines <- function() abline(h=c(-.5,.5),col=\"dodgerblue\",lwd=2)\n",
    "plotMA(resGA, ylim=ylim); drawLines()\n",
    "plotMA(resLA, ylim=ylim); drawLines()\n",
    "plotMA(resG, ylim=ylim); drawLines()\n",
    "plotMA(resL, ylim=ylim); drawLines()"
   ]
  },
  {
   "cell_type": "markdown",
   "id": "da23aa6d",
   "metadata": {},
   "source": [
    "# Heat map with annotations\n",
    "\n",
    "this is taken from code from https://github.com/UVa-R-Users-Group/meetup/blob/master/2015-02-19-heat-maps/heatmaps.R\n"
   ]
  },
  {
   "cell_type": "code",
   "execution_count": null,
   "id": "5a18d3fa",
   "metadata": {},
   "outputs": [],
   "source": [
    "#using gplots::heatmaps.2()\n",
    "\n",
    "\n",
    "#using 2 pallets\n",
    "pal1  <- brewer.pal(name=\"Blues\", n=9)\n",
    "pal2 <- colorRampPalette(pal1)(50)\n",
    "\n",
    "heatmap.2(as.matrix(vsd), col=pal2, \n",
    "          hclustfun=hclust2,\n",
    "          distfun=dist2,\n",
    "          scale=\"row\",\n",
    "          sepcolor=\"black\",\n",
    "          dendrogram=\"both\",\n",
    "          key=TRUE,\n",
    "          symkey=FALSE,\n",
    "          denstiy.info=\"none\",\n",
    "          trace=\"none\")"
   ]
  },
  {
   "cell_type": "code",
   "execution_count": null,
   "id": "009a9b9d",
   "metadata": {},
   "outputs": [],
   "source": [
    "select <- order(rowMeans(counts(dds,normalized=TRUE)),\n",
    "                decreasing=TRUE)\n",
    "\n",
    "df <- as.data.frame(colData(dds)[,c(\"treatment\",\"replicate\")])\n",
    "\n",
    "pheatmap(assay(ntd)[select,], cluster_rows=FALSE, show_rownames=FALSE,\n",
    "         cluster_cols=FALSE, annotation_col=df)\n",
    "\n",
    "pheatmap((vsd_merged[,2:6], cluster_rows=FALSE, show_rownames=FALSE,\n",
    "         cluster_cols=TRUE, annotation_col=df)"
   ]
  },
  {
   "cell_type": "markdown",
   "id": "c736a9f6",
   "metadata": {},
   "source": [
    "# 5 Differential expression analysis\n",
    "------------"
   ]
  },
  {
   "cell_type": "markdown",
   "id": "9cd2a5e5",
   "metadata": {},
   "source": [
    "## 5.1 DE extract results\n",
    "\n",
    "All de steps are calculated in on step, DESeq(). The results are extracted with results() giving the logfold2, p-values, and adjusted p-values. Here we identify the name of the comparison we wish to do, this is becuase DEseq automatically sets the control group to the group which is first alphabetically. \n",
    "\"\n",
    "With no additional arguments to results, the log2 fold change and Wald test p value will be for the last variable in the design formula, and if this is a factor, the comparison will be the last level of this variable over the reference level\""
   ]
  },
  {
   "cell_type": "code",
   "execution_count": 13,
   "id": "2ef384f4",
   "metadata": {},
   "outputs": [
    {
     "name": "stderr",
     "output_type": "stream",
     "text": [
      "estimating size factors\n",
      "\n",
      "using 'avgTxLength' from assays(dds), correcting for library size\n",
      "\n",
      "estimating dispersions\n",
      "\n",
      "gene-wise dispersion estimates\n",
      "\n",
      "mean-dispersion relationship\n",
      "\n",
      "final dispersion estimates\n",
      "\n",
      "fitting model and testing\n",
      "\n"
     ]
    },
    {
     "ename": "ERROR",
     "evalue": "Error: subscript contains invalid names\n",
     "output_type": "error",
     "traceback": [
      "Error: subscript contains invalid names\nTraceback:\n",
      "1. results(dds, name = \"treatment_Iron_ammendment_vs_Low_Iron\", \n .     tidy = TRUE)",
      "2. getCoef(object, name)",
      "3. mcols(object)[name]",
      "4. mcols(object)[name]",
      "5. extractCOLS(x, j)",
      "6. extractCOLS(x, j)",
      "7. normalizeSingleBracketSubscript(i, xstub)",
      "8. NSBS(i, x, exact = exact, strict.upper.bound = !allow.append, \n .     allow.NAs = allow.NAs)",
      "9. NSBS(i, x, exact = exact, strict.upper.bound = !allow.append, \n .     allow.NAs = allow.NAs)",
      "10. .subscript_error(\"subscript contains invalid \", what)",
      "11. stop(wmsg(...), call. = FALSE)"
     ]
    }
   ],
   "source": [
    "dds <- DESeq(dds)\n",
    "res <- results(dds, name=\"treatment_Iron_ammendment_vs_Low_Iron\",\n",
    "             tidy=TRUE)\n",
    "\n",
    "head(res)\n",
    "str(res)\n",
    "\n",
    "\n",
    "sum(res$padj < 0.05, na.rm=T) #sum up how many adjusted p-values are significant"
   ]
  },
  {
   "cell_type": "markdown",
   "id": "13c3d91c",
   "metadata": {},
   "source": [
    "## 5.2 Merging the eggnog-mapper annotations file with the results file of the DESeq analysis \n",
    "\n",
    "First, rename the 'row' column to query in the res file. We will merge with left_join dplyr function, this should only include rows from the emap dataframe which are also found in the res dataframe; meaning we would not loose any unannotated contigs. To assure this is the case, count the number of rows for each dataframe before merging, and checked that the merged output hase equal rows to the res datatable. "
   ]
  },
  {
   "cell_type": "code",
   "execution_count": null,
   "id": "52fa3bf0",
   "metadata": {},
   "outputs": [],
   "source": [
    "colnames(res)[1]  <- \"query\" #rename the 'row' column to 'query' so it can be merged with eggnog output\n",
    "\n",
    "nrow(res)\n",
    "nrow(emap) ##??????how is the rows of emap > res?? Is this because res only has diff expressed contigs? \n",
    "\n",
    "res_merged  <- left_join(res, emap, 'query')\n",
    "\n",
    "head(res_merged,2)\n",
    "\n",
    "(nrow(res_merged))==(nrow(res))\n"
   ]
  },
  {
   "cell_type": "markdown",
   "id": "9912e54f",
   "metadata": {},
   "source": [
    "## 5.3 Order the results by smallest p value and extract top 100 differentially expressed contigs\n",
    "\n",
    "Use sumary() to view summary stats of various results data frames.\n",
    "Create a table of the top 100 most differentially expressed contigs and call it top_100. Filter the mail results table by those which have significant expression, p-adjust < 0.05. "
   ]
  },
  {
   "cell_type": "code",
   "execution_count": null,
   "id": "0abf8b41",
   "metadata": {},
   "outputs": [],
   "source": [
    "resOrdered <- res_merged[order(res_merged$pvalue),]\n",
    "\n",
    "top_100  <- resOrdered[c(1:100),]\n",
    "head(top_100)\n",
    "#top 100 diff expressed contigs\n",
    "#summary(top_100)\n",
    "\n",
    "#unfiltered results\n",
    "#summary(res_merged)\n",
    "\n",
    "#all contigs with signigifcant adjusted p-values\n",
    "res_Sig  <-filter(res_merged, padj < 0.1, na.rm = TRUE)\n",
    "summary(res_Sig)\n",
    "\n",
    "#order the significant congits by log2FoldChange to got those with the strongest DOWN regulation\n",
    "res_Sig_down <-  res_Sig[order(res_Sig$log2FoldChange), ]\n",
    "res_100_down <- res_Sig_down[c(1:100), ]\n",
    "\n",
    "#order the significant congits by log2FoldChange to got those with the strongest UP regulation\n",
    "res_Sig_up <-  res_Sig[order(res_Sig$log2FoldChange, decreasing = TRUE), ]\n",
    "res_100_up <- res_Sig_up[c(1:100), ]\n"
   ]
  },
  {
   "cell_type": "markdown",
   "id": "90cb7627",
   "metadata": {},
   "source": [
    "## 5.4 Log Fold Change Shrinkage\n",
    "lfcShrink is helpful to <b>visualize</b> and <b>rank</b> genes. Here, we use the apelglm method to measure effect size shrinkage. We provide the function with the dds object and the name or number of the coefficient we want to shrink. \n",
    "\n",
    "We then order the results like earlier and extract the top 100 contigs"
   ]
  },
  {
   "cell_type": "code",
   "execution_count": null,
   "id": "03331203",
   "metadata": {},
   "outputs": [],
   "source": [
    "resultsNames(dds)\n",
    "resLFC <- lfcShrink(dds,coef='treatment_Iron_ammendment_vs_Low_Iron',\n",
    "                    type='apeglm')\n",
    "resLFCdf <- as.data.frame(resLFC) %>% tibble::rownames_to_column(\"query\")\n",
    "\n",
    "\n",
    "LFC_merged  <- left_join(resLFCdf, emap, 'query')\n",
    "\n",
    "(nrow(LFC_merged))==(nrow(resLFC))\n",
    "\n",
    "LFC_ordered <- LFC_merged[order(LFC_merged$pvalue),]\n",
    "topLFC_100  <- LFC_ordered[c(1:100),]\n",
    "head(topLFC_100)"
   ]
  },
  {
   "cell_type": "markdown",
   "id": "2ec75ab6",
   "metadata": {},
   "source": [
    "## 5.6 Plotting the DE data\n",
    "\n",
    "### 5.6.1 Plot Counts\n",
    "\n",
    "Here we plot counts of specific contigs, grouped by the intgroup variable. The contig may be selected by rowname (contig id) or numberic index. Here, we <b>plotted the contig with the most significant change between treatments</b>. To customize these plots using ggplot, add the argument `retunData = TRUE` to output a data frame. "
   ]
  },
  {
   "cell_type": "code",
   "execution_count": null,
   "id": "2ad376c6",
   "metadata": {
    "scrolled": true
   },
   "outputs": [],
   "source": [
    "\n",
    "plotCounts(dds, gene=which.min(res$padj), intgroup=\"treatment\", main = \"Contig with smalled pvalue\")"
   ]
  },
  {
   "cell_type": "markdown",
   "id": "3da2e0a1",
   "metadata": {},
   "source": [
    "For a particular gene, a log2 fold change of -1 for condition treated vs untreated means that the treatment induces a multiplicative change in observed gene expression level of \\(2^{-1} = 0.5\\) compared to the untreated condition. If the variable of interest is continuous-valued, then the reported log2 fold change is per unit of change of that variable.\n",
    "\n",
    "<b>Note on p-values set to NA</b>: some values in the results table can be set to NA for one of the following reasons:\n",
    "\n",
    "If within a row, all samples have zero counts, the baseMean column will be zero, and the log2 fold change estimates, p value and adjusted p value will all be set to NA.\n",
    "If a row contains a sample with an extreme count outlier then the p value and adjusted p value will be set to NA. These outlier counts are detected by Cook’s distance. Customization of this outlier filtering and description of functionality for replacement of outlier counts and refitting is described below\n",
    "If a row is filtered by automatic independent filtering, for having a low mean normalized count, then only the adjusted p value will be set to NA. Description and customization of independent filtering is described below\n",
    "\n"
   ]
  },
  {
   "cell_type": "markdown",
   "id": "9ff7900e",
   "metadata": {},
   "source": [
    "### 5.6.2 MA-plots \n",
    "Showing the distribution of estimated coefficients in the model. \n",
    "point out some of the most differentially expressed genes in ppt with arrow. Look for genes most differentially expressed and for those I am interested in to see where they are. "
   ]
  },
  {
   "cell_type": "code",
   "execution_count": null,
   "id": "387a4ec0",
   "metadata": {},
   "outputs": [],
   "source": [
    "plotMA(resLFC)"
   ]
  },
  {
   "cell_type": "markdown",
   "id": "8b4898aa",
   "metadata": {},
   "source": [
    "# Gene Clustering\n",
    "\n",
    "### We can cluster the genes like we clustered the samples by distance. In this case, we cluser contigs which have the highest variance across samples\n",
    "\n",
    "Subset the top 20 most variable contigs and call it top_var, using the normalized count data vsd. Use `rowVars` to estimate variance across rows. \n",
    "\n",
    "Center the contigs value across samples to show the amount a contigs deviates in a sample from the average across all samples.  This will generate a heatmap of relative VST-transformed values across samples. Treatment and replicate are shown with color bars at the top of the heatmap "
   ]
  },
  {
   "cell_type": "code",
   "execution_count": 19,
   "id": "8ba665b6",
   "metadata": {},
   "outputs": [
    {
     "ename": "ERROR",
     "evalue": "Error in h(simpleError(msg, call)): error in evaluating the argument 'x' in selecting a method for function 'head': error in evaluating the argument 'x' in selecting a method for function 'rowVars': error in evaluating the argument 'x' in selecting a method for function 'assay': object 'vsd' not found\n",
     "output_type": "error",
     "traceback": [
      "Error in h(simpleError(msg, call)): error in evaluating the argument 'x' in selecting a method for function 'head': error in evaluating the argument 'x' in selecting a method for function 'rowVars': error in evaluating the argument 'x' in selecting a method for function 'assay': object 'vsd' not found\nTraceback:\n",
      "1. head(order(rowVars(assay(vsd)), decreasing = TRUE), 20)",
      "2. order(rowVars(assay(vsd)), decreasing = TRUE)",
      "3. standardGeneric(\"order\")",
      "4. eval(quote(list(...)), env)",
      "5. eval(quote(list(...)), env)",
      "6. eval(quote(list(...)), env)",
      "7. rowVars(assay(vsd))",
      "8. assay(vsd)",
      "9. .handleSimpleError(function (cond) \n . .Internal(C_tryCatchHelper(addr, 1L, cond)), \"object 'vsd' not found\", \n .     base::quote(eval(expr, envir, enclos)))",
      "10. h(simpleError(msg, call))",
      "11. .handleSimpleError(function (cond) \n  . .Internal(C_tryCatchHelper(addr, 1L, cond)), \"error in evaluating the argument 'x' in selecting a method for function 'assay': object 'vsd' not found\", \n  .     base::quote(h(simpleError(msg, call))))",
      "12. h(simpleError(msg, call))",
      "13. .handleSimpleError(function (cond) \n  . .Internal(C_tryCatchHelper(addr, 1L, cond)), \"error in evaluating the argument 'x' in selecting a method for function 'rowVars': error in evaluating the argument 'x' in selecting a method for function 'assay': object 'vsd' not found\", \n  .     base::quote(h(simpleError(msg, call))))",
      "14. h(simpleError(msg, call))"
     ]
    }
   ],
   "source": [
    "top_var <- head(order(rowVars(assay(vsd)), decreasing = TRUE),20)\n",
    "\n",
    "mat_var <- assay(vsd)[top_var,] #extract count values for the most differentially expressed contigs\n",
    "#mat_var <- mat_var - rowMeans(mat_var) #center each cell in matrix by the avereage across samples (setting scale to true?)\n",
    "anno <- as.data.frame(colData(vsd)[, c(\"treatment\",\"replicate\")])\n",
    "\n",
    "pheatmap(mat_var,  annotation_col = anno, show_rownames = FALSE)"
   ]
  },
  {
   "cell_type": "code",
   "execution_count": null,
   "id": "37e1c8dc",
   "metadata": {},
   "outputs": [],
   "source": [
    "pfams  <- filter(pfams, complete.cases(PFAMs))"
   ]
  },
  {
   "cell_type": "code",
   "execution_count": null,
   "id": "c0d1f1f8",
   "metadata": {},
   "outputs": [],
   "source": [
    "vsd_df <- as.data.frame(assay(vsd)) %>% tibble::rownames_to_column('query')\n",
    "#newrows <- c(pfams$query)\n",
    "vsd_df <- vsd_df %>% filter(query %in% pfams$query)  \n",
    "vsd_df <- left_join(vsd_df, pfams, by='query')\n",
    "head(vsd_df)\n",
    "\n",
    "vsd_df <- tibble::column_to_rownames(vsd_df, var= \"query\")\n",
    "vsd_mat <- vsd_df[,-6] %>% as.matrix()\n",
    "#vsd_mat = matrix of contigs which have pfam values"
   ]
  },
  {
   "cell_type": "code",
   "execution_count": null,
   "id": "9fe73915",
   "metadata": {},
   "outputs": [],
   "source": [
    "top_var <- head(order(rowVars(vsd_mat), decreasing = TRUE),20)\n",
    "\n",
    "mat_var <- vsd_mat[top_var,] #extract count values for the most differentially expressed contigs\n",
    "mat_var <- mat_var - rowMeans(mat_var) #center each cell in matrix by the avereage across samples\n",
    "anno <- as.data.frame(colData(vsd)[, c(\"treatment\",\"replicate\")])\n",
    "\n",
    "pheatmap(mat_var,  annotation_col = anno, show_rownames = FALSE)"
   ]
  },
  {
   "cell_type": "code",
   "execution_count": null,
   "id": "d1b0bb7b",
   "metadata": {},
   "outputs": [],
   "source": [
    "order(vsd_mat,decreasing = TRUE)\n",
    "#we need \n",
    "left_join(vsd_var, pfams,by='query')"
   ]
  },
  {
   "cell_type": "markdown",
   "id": "4cc819ab",
   "metadata": {},
   "source": [
    "## Examine ratio of small p-values for binned mean normalize count of contigs\n",
    "\n",
    "As displayed in the MA plot, weakly expressed genes are not obserbed by differential expression analysis. This s because low read counts have high Poisson noise, uncertainties from low sampling rates drown out any biological effect. Use the results table subjected to the threshold to show what this looks like in a case wehen there are few tests with small p values. We will use `quantile()`  to bin contigs by base mean and use `cut` to rename the levels of the bins by the median point. Then we will calculate the ration of the p-value < 0.05 for each bin. "
   ]
  },
  {
   "cell_type": "code",
   "execution_count": null,
   "id": "194761c5",
   "metadata": {},
   "outputs": [],
   "source": [
    "qs <- c(0, quantile(res$baseMean[res$baseMean > 0], 0:6/6))\n",
    "\n",
    "bins <- cut(res$baseMean, qs)\n",
    "levels(bins) <- paste(\"~\", round(signif ( ( qs[-1] + qs[-length(qs) ]) / 2, 2 ) ) )\n",
    "fractionSig <- tapply(res$pvalue, bins, function(p)\n",
    "    mean(p < 0.05, na.rm=TRUE))\n",
    "barplot(fractionSig, xlab=\"mean normalized count\", ylab=\"fraction of small p values\")"
   ]
  },
  {
   "cell_type": "code",
   "execution_count": null,
   "id": "7139bad5",
   "metadata": {},
   "outputs": [],
   "source": []
  },
  {
   "cell_type": "code",
   "execution_count": null,
   "id": "b9670455",
   "metadata": {},
   "outputs": [],
   "source": []
  },
  {
   "cell_type": "code",
   "execution_count": null,
   "id": "cd584919",
   "metadata": {},
   "outputs": [],
   "source": [
    "sessionInfo()"
   ]
  },
  {
   "cell_type": "code",
   "execution_count": null,
   "id": "fe4e1968",
   "metadata": {},
   "outputs": [],
   "source": []
  }
 ],
 "metadata": {
  "kernelspec": {
   "display_name": "R",
   "language": "R",
   "name": "ir"
  },
  "language_info": {
   "codemirror_mode": "r",
   "file_extension": ".r",
   "mimetype": "text/x-r-source",
   "name": "R",
   "pygments_lexer": "r",
   "version": "4.3.2"
  }
 },
 "nbformat": 4,
 "nbformat_minor": 5
}
