{
 "cells": [
  {
   "cell_type": "markdown",
   "id": "9171cae8",
   "metadata": {},
   "source": [
    "Read in tables with significant DEGs and mapped annotations like GO or KEGG. Create vector of Kegg id's to match them to a descriptive name. "
   ]
  },
  {
   "cell_type": "code",
   "execution_count": 1,
   "id": "a66141cb",
   "metadata": {},
   "outputs": [
    {
     "name": "stderr",
     "output_type": "stream",
     "text": [
      "\n",
      "Attaching package: ‘dplyr’\n",
      "\n",
      "\n",
      "The following objects are masked from ‘package:stats’:\n",
      "\n",
      "    filter, lag\n",
      "\n",
      "\n",
      "The following objects are masked from ‘package:base’:\n",
      "\n",
      "    intersect, setdiff, setequal, union\n",
      "\n",
      "\n",
      "\n",
      "Attaching package: ‘RCurl’\n",
      "\n",
      "\n",
      "The following object is masked from ‘package:tidyr’:\n",
      "\n",
      "    complete\n",
      "\n",
      "\n"
     ]
    }
   ],
   "source": [
    "library('tidyr')\n",
    "library('ggplot2')\n",
    "library('stringr')\n",
    "library('dplyr')\n",
    "library(\"RCurl\")\n",
    "library('tibble')\n",
    "library('KEGGREST')\n",
    "library('RCurl')\n",
    "#library('enrichplot')\n",
    "#library('data.table')"
   ]
  },
  {
   "cell_type": "markdown",
   "id": "070bb3bf",
   "metadata": {},
   "source": [
    "# Read in kegg annotations from eggnog\n",
    "## make a list of all unique kegg_ko's from all annotations \n"
   ]
  },
  {
   "cell_type": "code",
   "execution_count": 2,
   "id": "66403180",
   "metadata": {},
   "outputs": [],
   "source": [
    "get.eggnog <- function(org){\n",
    "    dir2  <- paste(\"/work/nclab/lucy/SAB/Annotation/eggnog/\", org, sep=\"\")\n",
    "    \n",
    "    emap <- read.csv(file.path(dir2, paste(org,\".emapper.annotations\", sep=\"\")),\n",
    "                 sep = \"\\t\",\n",
    "                 comment.char = \"#\",\n",
    "                 header = FALSE,\n",
    "                 na.strings = \"-\")\n",
    "    \n",
    "    colnames(emap) <- c(\n",
    "        'orfs', 'seed_ortholog', 'evalue', 'score', 'eggNOG_OGs', 'max_annot_lvl', 'COG_category', 'Description', \n",
    "        'Preferred_name', 'GOs', 'EC', 'ko_id', 'KEGG_Pathway', 'KEGG_Module', 'KEGG_Reaction', \n",
    "        'KEGG_rclass',  'BRITE', 'KEGG_TC', 'CAZy', 'BiGG_Reaction', 'PFAMs')\n",
    "    \n",
    "    emap[, c(\"orfs\", \"seed_ortholog\", \"EC\",\"GOs\",\"ko_id\",'KEGG_Pathway', 'KEGG_Module', 'KEGG_Reaction', \n",
    "       'KEGG_rclass',  'BRITE', 'KEGG_TC', 'CAZy', 'BiGG_Reaction',\"PFAMs\")]\n",
    "    }\n",
    "\n",
    "emap4 <- get.eggnog('04')\n",
    "emap8 <- get.eggnog('08')\n",
    "emap6 <- get.eggnog('06')\n",
    "emap13 <- get.eggnog('13')"
   ]
  },
  {
   "cell_type": "markdown",
   "id": "6f41c467",
   "metadata": {},
   "source": [
    "Create df for each organism with annotation of choice, removing the rows with NA's"
   ]
  },
  {
   "cell_type": "code",
   "execution_count": 3,
   "id": "bf728468",
   "metadata": {},
   "outputs": [],
   "source": [
    "get.anno <- function(emap, anno){\n",
    "    #extract query column and annotation of choice, ex: pfams\n",
    "    vars <- c(\"orfs\", anno)\n",
    "    df <- select(emap, all_of(vars))\n",
    "    df <- df %>% filter(is.na(df[,ncol(df)])==FALSE)\n",
    "    }\n",
    "\n",
    "pfam4 <- get.anno(emap4, \"PFAMs\")\n",
    "pfam8 <- get.anno(emap8, \"PFAMs\")\n",
    "pfam6 <- get.anno(emap6, \"PFAMs\")\n",
    "pfam13 <- get.anno(emap13, \"PFAMs\")\n",
    "\n",
    "ko4_ls <- get.anno(emap4,\"ko_id\")\n",
    "ko8_ls <- get.anno(emap8,\"ko_id\")\n",
    "ko6_ls <- get.anno(emap6,\"ko_id\")\n",
    "ko13_ls <- get.anno(emap13,\"ko_id\")\n",
    "\n",
    "go4 <- get.anno(emap4, \"GOs\")\n",
    "go8 <- get.anno(emap8, \"GOs\")\n",
    "go6 <- get.anno(emap6, \"GOs\")\n",
    "go13 <- get.anno(emap13, \"GOs\")\n",
    "\n",
    "paths4 <- get.anno(emap4, c('KEGG_Module', 'KEGG_Pathway','BRITE'))\n",
    "paths8 <- get.anno(emap8, c('KEGG_Module', 'KEGG_Pathway','BRITE'))\n",
    "paths6 <- get.anno(emap6, c('KEGG_Module', 'KEGG_Pathway','BRITE'))\n",
    "paths13 <- get.anno(emap13, c('KEGG_Module', 'KEGG_Pathway','BRITE'))"
   ]
  },
  {
   "cell_type": "code",
   "execution_count": 4,
   "id": "7722c6ee-90a0-43e1-9ede-d9707ad2f4b3",
   "metadata": {},
   "outputs": [
    {
     "data": {
      "text/html": [
       "<table class=\"dataframe\">\n",
       "<caption>A data.frame: 6 × 4</caption>\n",
       "<thead>\n",
       "\t<tr><th></th><th scope=col>orfs</th><th scope=col>KEGG_Module</th><th scope=col>KEGG_Pathway</th><th scope=col>BRITE</th></tr>\n",
       "\t<tr><th></th><th scope=col>&lt;chr&gt;</th><th scope=col>&lt;chr&gt;</th><th scope=col>&lt;chr&gt;</th><th scope=col>&lt;chr&gt;</th></tr>\n",
       "</thead>\n",
       "<tbody>\n",
       "\t<tr><th scope=row>1</th><td>NODE_10001_length_2060_cov_5.581278_g5365_i0.p1 </td><td>NA           </td><td>ko00562,ko01100,ko04070,ko04136,ko04138,ko04140,ko04145,ko04371,ko05152,ko05167,map00562,map01100,map04070,map04136,map04138,map04140,map04145,map04371,map05152,map05167</td><td>ko00000,ko00001,ko01000,ko04131        </td></tr>\n",
       "\t<tr><th scope=row>2</th><td>NODE_10002_length_2059_cov_37.920947_g5366_i0.p1</td><td>NA           </td><td>NA                                                                                                                                                                       </td><td>ko00000                                </td></tr>\n",
       "\t<tr><th scope=row>3</th><td>NODE_10003_length_2059_cov_28.617321_g5366_i1.p1</td><td>NA           </td><td>NA                                                                                                                                                                       </td><td>ko00000                                </td></tr>\n",
       "\t<tr><th scope=row>4</th><td>NODE_10009_length_2059_cov_5.150050_g5369_i0.p1 </td><td>NA           </td><td>ko00562,ko01100,ko04070,map00562,map01100,map04070                                                                                                                       </td><td>ko00000,ko00001,ko01000                </td></tr>\n",
       "\t<tr><th scope=row>5</th><td>NODE_10010_length_2058_cov_58.211083_g5370_i0.p1</td><td>NA           </td><td>NA                                                                                                                                                                       </td><td>ko00000,ko01000,ko01009                </td></tr>\n",
       "\t<tr><th scope=row>6</th><td>NODE_10011_length_2058_cov_52.328967_g4722_i3.p3</td><td>M00181,M00182</td><td>ko00230,ko00240,ko01100,ko03020,ko04623,ko05169,map00230,map00240,map01100,map03020,map04623,map05169                                                                    </td><td>br01611,ko00000,ko00001,ko00002,ko03021</td></tr>\n",
       "</tbody>\n",
       "</table>\n"
      ],
      "text/latex": [
       "A data.frame: 6 × 4\n",
       "\\begin{tabular}{r|llll}\n",
       "  & orfs & KEGG\\_Module & KEGG\\_Pathway & BRITE\\\\\n",
       "  & <chr> & <chr> & <chr> & <chr>\\\\\n",
       "\\hline\n",
       "\t1 & NODE\\_10001\\_length\\_2060\\_cov\\_5.581278\\_g5365\\_i0.p1  & NA            & ko00562,ko01100,ko04070,ko04136,ko04138,ko04140,ko04145,ko04371,ko05152,ko05167,map00562,map01100,map04070,map04136,map04138,map04140,map04145,map04371,map05152,map05167 & ko00000,ko00001,ko01000,ko04131        \\\\\n",
       "\t2 & NODE\\_10002\\_length\\_2059\\_cov\\_37.920947\\_g5366\\_i0.p1 & NA            & NA                                                                                                                                                                        & ko00000                                \\\\\n",
       "\t3 & NODE\\_10003\\_length\\_2059\\_cov\\_28.617321\\_g5366\\_i1.p1 & NA            & NA                                                                                                                                                                        & ko00000                                \\\\\n",
       "\t4 & NODE\\_10009\\_length\\_2059\\_cov\\_5.150050\\_g5369\\_i0.p1  & NA            & ko00562,ko01100,ko04070,map00562,map01100,map04070                                                                                                                        & ko00000,ko00001,ko01000                \\\\\n",
       "\t5 & NODE\\_10010\\_length\\_2058\\_cov\\_58.211083\\_g5370\\_i0.p1 & NA            & NA                                                                                                                                                                        & ko00000,ko01000,ko01009                \\\\\n",
       "\t6 & NODE\\_10011\\_length\\_2058\\_cov\\_52.328967\\_g4722\\_i3.p3 & M00181,M00182 & ko00230,ko00240,ko01100,ko03020,ko04623,ko05169,map00230,map00240,map01100,map03020,map04623,map05169                                                                     & br01611,ko00000,ko00001,ko00002,ko03021\\\\\n",
       "\\end{tabular}\n"
      ],
      "text/markdown": [
       "\n",
       "A data.frame: 6 × 4\n",
       "\n",
       "| <!--/--> | orfs &lt;chr&gt; | KEGG_Module &lt;chr&gt; | KEGG_Pathway &lt;chr&gt; | BRITE &lt;chr&gt; |\n",
       "|---|---|---|---|---|\n",
       "| 1 | NODE_10001_length_2060_cov_5.581278_g5365_i0.p1  | NA            | ko00562,ko01100,ko04070,ko04136,ko04138,ko04140,ko04145,ko04371,ko05152,ko05167,map00562,map01100,map04070,map04136,map04138,map04140,map04145,map04371,map05152,map05167 | ko00000,ko00001,ko01000,ko04131         |\n",
       "| 2 | NODE_10002_length_2059_cov_37.920947_g5366_i0.p1 | NA            | NA                                                                                                                                                                        | ko00000                                 |\n",
       "| 3 | NODE_10003_length_2059_cov_28.617321_g5366_i1.p1 | NA            | NA                                                                                                                                                                        | ko00000                                 |\n",
       "| 4 | NODE_10009_length_2059_cov_5.150050_g5369_i0.p1  | NA            | ko00562,ko01100,ko04070,map00562,map01100,map04070                                                                                                                        | ko00000,ko00001,ko01000                 |\n",
       "| 5 | NODE_10010_length_2058_cov_58.211083_g5370_i0.p1 | NA            | NA                                                                                                                                                                        | ko00000,ko01000,ko01009                 |\n",
       "| 6 | NODE_10011_length_2058_cov_52.328967_g4722_i3.p3 | M00181,M00182 | ko00230,ko00240,ko01100,ko03020,ko04623,ko05169,map00230,map00240,map01100,map03020,map04623,map05169                                                                     | br01611,ko00000,ko00001,ko00002,ko03021 |\n",
       "\n"
      ],
      "text/plain": [
       "  orfs                                             KEGG_Module  \n",
       "1 NODE_10001_length_2060_cov_5.581278_g5365_i0.p1  NA           \n",
       "2 NODE_10002_length_2059_cov_37.920947_g5366_i0.p1 NA           \n",
       "3 NODE_10003_length_2059_cov_28.617321_g5366_i1.p1 NA           \n",
       "4 NODE_10009_length_2059_cov_5.150050_g5369_i0.p1  NA           \n",
       "5 NODE_10010_length_2058_cov_58.211083_g5370_i0.p1 NA           \n",
       "6 NODE_10011_length_2058_cov_52.328967_g4722_i3.p3 M00181,M00182\n",
       "  KEGG_Pathway                                                                                                                                                             \n",
       "1 ko00562,ko01100,ko04070,ko04136,ko04138,ko04140,ko04145,ko04371,ko05152,ko05167,map00562,map01100,map04070,map04136,map04138,map04140,map04145,map04371,map05152,map05167\n",
       "2 NA                                                                                                                                                                       \n",
       "3 NA                                                                                                                                                                       \n",
       "4 ko00562,ko01100,ko04070,map00562,map01100,map04070                                                                                                                       \n",
       "5 NA                                                                                                                                                                       \n",
       "6 ko00230,ko00240,ko01100,ko03020,ko04623,ko05169,map00230,map00240,map01100,map03020,map04623,map05169                                                                    \n",
       "  BRITE                                  \n",
       "1 ko00000,ko00001,ko01000,ko04131        \n",
       "2 ko00000                                \n",
       "3 ko00000                                \n",
       "4 ko00000,ko00001,ko01000                \n",
       "5 ko00000,ko01000,ko01009                \n",
       "6 br01611,ko00000,ko00001,ko00002,ko03021"
      ]
     },
     "metadata": {},
     "output_type": "display_data"
    }
   ],
   "source": [
    "head(paths4)"
   ]
  },
  {
   "cell_type": "markdown",
   "id": "e8aa3b7a",
   "metadata": {},
   "source": [
    "## Create a ko-to-orf mapping table\n",
    "#### Split columns with mulitple annotations and pivot into a long table with repeating orfs\n",
    "This will give us a 3 column table with columns 'orfs', 'ko_id', and 'ko_iteration'; which repeats orfs for rows from original table with multiple eggnog assignments. The ko_iteration increases from 1 to n for n eggnog assignmnet for a particular orf. "
   ]
  },
  {
   "cell_type": "code",
   "execution_count": 4,
   "id": "c1440559",
   "metadata": {},
   "outputs": [
    {
     "name": "stdout",
     "output_type": "stream",
     "text": [
      "[1] \"# of values in matrix w/o NA:\"\n",
      "[1] 14281\n",
      "[1] \"# rows in final df:\"\n",
      "[1] 14281\n",
      "[1] \"# of values in matrix w/o NA:\"\n",
      "[1] 35251\n",
      "[1] \"# rows in final df:\"\n",
      "[1] 35251\n",
      "[1] \"# of values in matrix w/o NA:\"\n",
      "[1] 12765\n",
      "[1] \"# rows in final df:\"\n",
      "[1] 12765\n",
      "[1] \"# of values in matrix w/o NA:\"\n",
      "[1] 30911\n",
      "[1] \"# rows in final df:\"\n",
      "[1] 30911\n"
     ]
    }
   ],
   "source": [
    "split_into_multiple <- function(column, pattern = \",\", into_prefix){\n",
    "    #adapted from post on stack overflow\n",
    "    cols <- str_split_fixed(column, pattern, n = Inf)\n",
    "  # Replace empty matrix indicies with NA's \n",
    "    cols[which(cols == \"\")] <- NA\n",
    "  # turn matrix into a table with unique but arbitraty column names  \n",
    "    cols <- as_tibble(cols, .name_repair = make.names)\n",
    "  # where m = # columns in tibble 'cols'\n",
    "    m <- dim(cols)[2]\n",
    "  # assign column names as 'into_prefix_1', 'into_prefix_2', ..., 'into_prefix_m' \n",
    "    names(cols) <- paste(into_prefix, 1:m, sep = \"_\")\n",
    "    print('# of values in matrix w/o NA:')\n",
    "    print(sum(!is.na(cols)))\n",
    "    return(cols)\n",
    "}\n",
    "\n",
    "\n",
    "\n",
    "clean_ko <- function(df, org){\n",
    "  # split up ko_id's into multiple columns naming each column \n",
    "  # ko:_1 to ko:_n \n",
    "  # (remember at this point we have the same number of rows but \n",
    "  # far more columns)\n",
    "    ko_iterations <- split_into_multiple(df$ko_id, \",\", \"ko:\")\n",
    "  # select the orfs column from original df and bind to to \n",
    "  # split columns \n",
    "    df = df %>% select(orfs) %>% bind_cols(ko_iterations)\n",
    "  # now combine all ko:_n columns so all ko_id's \n",
    "  # become one column called ko_id and each column name, \n",
    "  # 'ko:_1'...'ko:_n' becomes one column called 'ko_iteration'. \n",
    "  # This tells us how many ko_id's were assigned to a particular orf\n",
    "  # the column 'orfs' will repeat values for rows with > 1 ko_iteration\n",
    "  # Drop the values from the matrix which were NA\n",
    "    df_clean = pivot_longer(df, cols = !orfs, values_drop_na = T,\n",
    "                            values_to = 'ko_id', names_to = 'ko_iteration')\n",
    "  # finally, clean up the df a bit by removing the ko_id prefixes 'ko:'\n",
    "  # we now have a 3 column table with orfs repeated in for each instance \n",
    "  # a ko_id was assigned to it by eggnog!\n",
    "    df_clean$ko_id <- gsub('ko:', '', df_clean$ko_id)\n",
    "  # the final df should have same number of rows as sum(!na(cols))\n",
    "    print('# rows in final df:')\n",
    "    print(nrow(df_clean))\n",
    "    write.csv(df_clean, paste('../kegg_names/ko',org, '_ls.csv', sep=''), row.names=F)\n",
    "    df_clean\n",
    "    }\n",
    "\n",
    "ko4 <- clean_ko(ko4_ls,'4')\n",
    "ko6 <- clean_ko(ko6_ls,'6')\n",
    "ko8 <- clean_ko(ko8_ls,'8')\n",
    "ko13 <- clean_ko(ko13_ls,'13')"
   ]
  },
  {
   "cell_type": "markdown",
   "id": "7ec7c4cb-f4aa-41de-a8d8-b516a18ec31b",
   "metadata": {},
   "source": [
    "Create a list of all ko's found across all organisms. We will use the list to find the name and symbol of the ko_id's and map it back to the organism-specific tables made above.  "
   ]
  },
  {
   "cell_type": "code",
   "execution_count": 5,
   "id": "562e1fe0-6593-4267-98ce-475f45b74de6",
   "metadata": {},
   "outputs": [],
   "source": [
    "#create a df of all unique ko's found for all annotations\n",
    "all.ko <- bind_rows(ko4, ko6,ko8,ko13) %>% select(ko_id)\n",
    "\n",
    "all.ko <- distinct(all.ko, ko_id, .keep_all = T)\n",
    "#so that bash will read my file correctly, I need to start with ko= \n",
    "#and surround all ko_id's by a single quote\n",
    "kk=c('ko= ')\n",
    "q=c('\"')\n",
    "all.ko=rbind(kk, q, all.ko, q)\n",
    "#write to a .txt file with ko_id's separated by a space\n",
    "\n",
    "write.table(all.ko, \"../kegg_names/all.ko.txt\", quote=F, sep=\" \", eol=\" \", row.names = FALSE, col.names = FALSE)"
   ]
  },
  {
   "cell_type": "markdown",
   "id": "d390efbb-d4cc-422c-992a-8f9d5851ba9e",
   "metadata": {},
   "source": [
    "# a total of 7218 rows, or ko_id's "
   ]
  },
  {
   "cell_type": "code",
   "execution_count": 6,
   "id": "df2c4ac5",
   "metadata": {},
   "outputs": [
    {
     "name": "stdout",
     "output_type": "stream",
     "text": [
      "[1] \"7191     =   all unique ko's found across organisms\"\n"
     ]
    },
    {
     "data": {
      "text/html": [
       "<table class=\"dataframe\">\n",
       "<caption>A data.frame: 6 × 3</caption>\n",
       "<thead>\n",
       "\t<tr><th></th><th scope=col>ko_id</th><th scope=col>symbol</th><th scope=col>name</th></tr>\n",
       "\t<tr><th></th><th scope=col>&lt;chr&gt;</th><th scope=col>&lt;chr&gt;</th><th scope=col>&lt;chr&gt;</th></tr>\n",
       "</thead>\n",
       "<tbody>\n",
       "\t<tr><th scope=row>7186</th><td>K11287 </td><td> TSPYL4</td><td> TSPY-like 4                  </td></tr>\n",
       "\t<tr><th scope=row>7187</th><td>K11288 </td><td> TSPYL5</td><td> TSPY-like 5                  </td></tr>\n",
       "\t<tr><th scope=row>7188</th><td>K11289 </td><td> TSPYL6</td><td> TSPY-like 6                  </td></tr>\n",
       "\t<tr><th scope=row>7189</th><td>isip1a </td><td>isip_1a</td><td>Iron stress induced protein 1a</td></tr>\n",
       "\t<tr><th scope=row>7190</th><td>isip_2a</td><td>isip_2a</td><td>Iron stress induced protein 2a</td></tr>\n",
       "\t<tr><th scope=row>7191</th><td>isip_3 </td><td>isip_3 </td><td>Iron stress induced protein 3 </td></tr>\n",
       "</tbody>\n",
       "</table>\n"
      ],
      "text/latex": [
       "A data.frame: 6 × 3\n",
       "\\begin{tabular}{r|lll}\n",
       "  & ko\\_id & symbol & name\\\\\n",
       "  & <chr> & <chr> & <chr>\\\\\n",
       "\\hline\n",
       "\t7186 & K11287  &  TSPYL4 &  TSPY-like 4                  \\\\\n",
       "\t7187 & K11288  &  TSPYL5 &  TSPY-like 5                  \\\\\n",
       "\t7188 & K11289  &  TSPYL6 &  TSPY-like 6                  \\\\\n",
       "\t7189 & isip1a  & isip\\_1a & Iron stress induced protein 1a\\\\\n",
       "\t7190 & isip\\_2a & isip\\_2a & Iron stress induced protein 2a\\\\\n",
       "\t7191 & isip\\_3  & isip\\_3  & Iron stress induced protein 3 \\\\\n",
       "\\end{tabular}\n"
      ],
      "text/markdown": [
       "\n",
       "A data.frame: 6 × 3\n",
       "\n",
       "| <!--/--> | ko_id &lt;chr&gt; | symbol &lt;chr&gt; | name &lt;chr&gt; |\n",
       "|---|---|---|---|\n",
       "| 7186 | K11287  |  TSPYL4 |  TSPY-like 4                   |\n",
       "| 7187 | K11288  |  TSPYL5 |  TSPY-like 5                   |\n",
       "| 7188 | K11289  |  TSPYL6 |  TSPY-like 6                   |\n",
       "| 7189 | isip1a  | isip_1a | Iron stress induced protein 1a |\n",
       "| 7190 | isip_2a | isip_2a | Iron stress induced protein 2a |\n",
       "| 7191 | isip_3  | isip_3  | Iron stress induced protein 3  |\n",
       "\n"
      ],
      "text/plain": [
       "     ko_id   symbol  name                          \n",
       "7186 K11287   TSPYL4  TSPY-like 4                  \n",
       "7187 K11288   TSPYL5  TSPY-like 5                  \n",
       "7188 K11289   TSPYL6  TSPY-like 6                  \n",
       "7189 isip1a  isip_1a Iron stress induced protein 1a\n",
       "7190 isip_2a isip_2a Iron stress induced protein 2a\n",
       "7191 isip_3  isip_3  Iron stress induced protein 3 "
      ]
     },
     "metadata": {},
     "output_type": "display_data"
    }
   ],
   "source": [
    "#read in table with name and symbol matches to kegg ko's\n",
    "#make tidy\n",
    "ko_def <- read.delim(\"../kegg_names/ko_pathways.txt\", head=F,sep = \";\")\n",
    "id <- str_extract(ko_def$V1,'K[[:digit:]]*')\n",
    "sym <- str_remove(ko_def$V1, 'ko:K[[:digit:]]*')\n",
    "ko_def <- data.frame(ko_id = id, symbol=sym, name=ko_def$V2)\n",
    "isip=data.frame(ko_id=c('isip1a','isip_2a','isip_3'), \n",
    "                symbol=c('isip_1a','isip_2a','isip_3'),\n",
    "                name=c('Iron stress induced protein 1a',\n",
    "                       'Iron stress induced protein 2a', 'Iron stress induced protein 3'))\n",
    "ko_def=bind_rows(ko_def, isip)\n",
    "print(paste(nrow(ko_def), \"    =   all unique ko's found across organisms\"))\n",
    "write.csv(ko_def,'../kegg_names/ko_def.csv', row.names=F)\n",
    "tail(ko_def)"
   ]
  },
  {
   "cell_type": "markdown",
   "id": "d7cca5c9",
   "metadata": {},
   "source": [
    "# Now we have tidy df of query and annotation for mapping back to counts. We need to add the ISIP annotations though. \n",
    "## Read in isip isoform annotations and make a tidy df of all isip isoforms for each organism\n",
    "Check that isip's were also counted by Salmon, remove any which were not"
   ]
  },
  {
   "cell_type": "code",
   "execution_count": 7,
   "id": "5863d89e",
   "metadata": {},
   "outputs": [],
   "source": [
    "## read in the files\n",
    "dir <- \"/work/nclab/lucy/SAB/Annotation/eggnog/isip/pep_hit/\"\n",
    "\n",
    "read.isip <- function(org, prot){\n",
    "    f = t(read.delim(file=paste(dir, org, 'isip', prot,'_hits.txt', sep=\"\"),\n",
    "                 sep = ' ',header = F))\n",
    "    if (nrow(f) >=1){\n",
    "    f <- data.frame(\"orfs\"=f, \n",
    "                    \"ko_iteration\"=\"ko:_1\",\n",
    "                    \"ko_id\"=paste(\"isip_\", prot, sep=\"\"))}\n",
    "}\n",
    "\n",
    "i41 <- read.isip(\"04\", \"1\")\n",
    "i41a <- read.isip(\"04\", \"1a\")\n",
    "i41b <- read.isip(\"04\", \"1b\")\n",
    "i42a <- read.isip(\"04\", \"2a\")\n",
    "i43 <- read.isip(\"04\", \"3\")\n",
    "isip4 <- rbind(i41a, i41b, i42a, i43)\n",
    "isip4 <- distinct(isip4, orfs, .keep_all = T)\n",
    "\n",
    "i81 <- read.isip(\"08\", \"1\")\n",
    "i81a <- read.isip(\"08\", \"1a\")\n",
    "i81b <- read.isip(\"08\", \"1b\")\n",
    "i82a <- read.isip(\"08\", \"2a\")\n",
    "i83 <- read.isip(\"08\", \"3\")\n",
    "isip8 <- rbind( i81a, i81b, i82a, i83)  \n",
    "isip8 <- distinct(isip8, orfs, .keep_all = T)\n",
    "\n",
    "\n",
    "i61 <- read.isip(\"06\", \"1\")\n",
    "i61a <- read.isip(\"06\", \"1a\")\n",
    "i61b <- read.isip(\"06\", \"1b\")\n",
    "i62a <- read.isip(\"06\", \"2a\")\n",
    "i63 <- read.isip(\"06\", \"3\")\n",
    "isip6 <- rbind(i61a, i61b, i62a, i63)\n",
    "isip6 <- distinct(isip6, orfs, .keep_all = T)\n",
    "\n",
    "i132a <- read.isip(\"13\", \"2a\")\n",
    "i133 <- read.isip(\"13\", \"3\")\n",
    "isip13 <- rbind(i132a, i133)\n",
    "isip13 <- distinct(isip13, orfs, .keep_all = T)"
   ]
  },
  {
   "cell_type": "markdown",
   "id": "ebed5576",
   "metadata": {},
   "source": [
    "## Create df with ko_id and names mapped to ORF's of each organism\n",
    "add the isip proteins to ko dataframe, checking not to repeat if the orf was already annotated. (should I replace annotation with isip?)\n",
    "\n",
    "1. Merge full ko definition list with ko's in organism using many-to-one merge relationship.  Organism's ko df have repeated ko_id, as the same annotation could be matched to multiple ORFs. So many rows in organisms's df may match to one row in full ko definition df. The column ko_id is named the same for both objects and will be used to merge the two dataframes. For this we use dplyr's left-join with relationship=many-to-one. \n",
    "\n",
    "2. Isip df and ko df have column query in common. We create a list of ORF's that the isip df and ko df have in common. isip rows are added to ko df for those ORFs not in common."
   ]
  },
  {
   "cell_type": "code",
   "execution_count": 8,
   "id": "28e2fde7",
   "metadata": {},
   "outputs": [
    {
     "name": "stdout",
     "output_type": "stream",
     "text": [
      "[1] 14312\n",
      "[1] 14312\n",
      "[1] 12787\n",
      "[1] 12787\n",
      "[1] 35262\n",
      "[1] 35262\n",
      "[1] 30920\n",
      "[1] 30920\n"
     ]
    }
   ],
   "source": [
    "\n",
    "combine_save <- function(isip, ko_df, org){\n",
    "    \n",
    "    ko_fin <- bind_rows(ko_df, isip)\n",
    " \n",
    "    write.csv(ko_fin, paste(\"../kegg_names/ko\", org,\"_ls.csv\", sep=\"\"), row.names=F)\n",
    "    print(nrow(ko_fin))\n",
    "    print(nrow(ko_df)+nrow(isip))\n",
    "}\n",
    "\n",
    "\n",
    "ko4_def <- combine_save(isip4, ko4, \"4\")\n",
    "ko8_def <- combine_save(isip8, ko8, \"8\")\n",
    "ko6_def <- combine_save(isip6, ko6, \"6\")\n",
    "ko13_def <- combine_save(isip13, ko13, \"13\")"
   ]
  },
  {
   "cell_type": "markdown",
   "id": "0caa3fe4",
   "metadata": {},
   "source": [
    "# Now we have a df with all possible ko annotations, including the isip proteins, associated with orf's \n",
    "\n",
    "## this will be now used in creating figures. \n"
   ]
  },
  {
   "cell_type": "code",
   "execution_count": null,
   "id": "841cb6b3",
   "metadata": {
    "collapsed": true,
    "jupyter": {
     "outputs_hidden": true
    }
   },
   "outputs": [],
   "source": [
    "emap.ko4 <- emap4[,c('orfs', 'KEGG_ko')]\n",
    "ko4_def$name <- gsub(\" \\\\[EC.*\\\\]\", \"\", ko4_def$name)\n",
    "ko.sum <- ko4_def %>% group_by(orfs)%>% summarize('symbol'=str_flatten(symbol, collaps=\"; \"), 'name'= str_flatten(name, collaps=\"; \"))\n",
    "ko.na <- data.frame('orfs'=emap.ko4[(emap.ko4$orfs %in% ko.sum$orfs)==FALSE, 'orfs'], 'symbol'=NA, 'name'=NA)\n",
    "full.anno <- rbind(ko.sum, ko.na )\n",
    "nrow(emap4)\n",
    "nrow(full.anno)"
   ]
  },
  {
   "cell_type": "code",
   "execution_count": null,
   "id": "9d0b7509",
   "metadata": {},
   "outputs": [],
   "source": [
    "#read in table with name and symbol matches to kegg ko's\n",
    "#make tidy\n",
    "br_def <- read.csv(\"../kegg_names/brite_def.csv\", header = FALSE)\n",
    "head(br_def)\n",
    "id <- str_extract(br_def$V1,'K[[:digit:]]*')\n",
    "sym <- str_remove(br_def$V1, 'ko:K[[:digit:]]*')\n",
    "br_def <- data.frame(br_id = id, symbol=sym, name=br_def$V2)\n",
    "\n",
    "#write.csv(ko_def,\"../kegg_names/br_def.csv\", row.names=F)\n",
    "\n",
    "print(paste(nrow(br_def), \"     =   all unique BRITEs found across organisms\"))\n",
    "dim(br_def)\n",
    "head(br_def)"
   ]
  },
  {
   "cell_type": "code",
   "execution_count": null,
   "id": "b6db8a3f",
   "metadata": {
    "collapsed": true,
    "jupyter": {
     "outputs_hidden": true
    }
   },
   "outputs": [],
   "source": [
    "clean_br <- function(df){\n",
    "    df <- df %>% bind_cols(split_into_multiple(.$BRITE, \",\", \"br:\")) %>%\n",
    "           select(\"orfs\", starts_with(\"br:_\", ))\n",
    "paste(head(df))\n",
    "    df_clean <- pivot_longer(df, cols = !orfs, names_to = 'br_iteration',\n",
    "                         values_to ='br_id' , values_drop_na=TRUE)\n",
    "        df_clean$br_id <- gsub('br:', '', df_clean$br_id)\n",
    "    df_clean\n",
    "    }\n",
    "\n",
    "clean_mods <- function(df){\n",
    "    df <- df %>% bind_cols(split_into_multiple(.$KEGG_Module, \",\", \"mo:\")) %>%\n",
    "           select(\"orfs\", starts_with(\"mo:_\", ))\n",
    "paste(head(df))\n",
    "    df_clean <- pivot_longer(df, cols = !orfs, names_to = 'mo_iteration',\n",
    "                         values_to ='mo_id' , values_drop_na=TRUE)\n",
    "        df_clean$mo_id <- gsub('mo:', '', df_clean$mo_id)\n",
    "    df_clean\n",
    "    }\n",
    "\n",
    "clean_paths <- function(df){\n",
    "    df <- df %>% bind_cols(split_into_multiple(.$KEGG_Pathway, \",\", \"path:\")) %>%\n",
    "           select(\"orfs\", starts_with(\"path:_\", ))\n",
    "paste(head(df))\n",
    "    df_clean <- pivot_longer(df, cols = !orfs, names_to = 'path_iteration',\n",
    "                         values_to ='path_id' , values_drop_na=TRUE)\n",
    "        df_clean$path_id <- gsub('path:', '', df_clean$path_id)\n",
    "    df_clean\n",
    "    }\n",
    "\n",
    "br4 <- clean_br(paths4)\n",
    "br8 <- clean_br(paths8)\n",
    "br6 <- clean_br(paths6)\n",
    "br13 <- clean_br(paths13)\n",
    "\n",
    "all.br <- bind_rows(br4, br6, br8, br13) %>% select(br_id)\n",
    "all.br <- distinct(all.br, br_id)\n",
    "#write to a .txt file with path_id's separated by a space \n",
    " write.table(paste(\"brite=\", paste(all.br$br_id, sep=\" \", collapse = \" \")), \"all.brite.txt\", row.names = FALSE, col.names = FALSE)\n",
    "\n",
    "\n",
    "mo4 <- clean_mods(paths4)\n",
    "mo8 <- clean_mods(paths8)\n",
    "mo6 <- clean_mods(paths6)\n",
    "mo13 <- clean_mods(paths13)\n",
    "\n",
    "all.mo <- bind_rows(mo4, mo6, mo8, mo13) %>% select(mo_id)\n",
    "all.mo <- distinct(all.mo, mo_id)\n",
    "#write to a .txt file with path_id's separated by a space \n",
    " write.table(paste(\"module=\", paste(all.mo$mo_id, sep=\" \", collapse = \" \")), \"all.modules.txt\", row.names = FALSE, col.names = FALSE)\n",
    "\n",
    "\n",
    "pa4 <- clean_paths(paths4)\n",
    "pa8 <- clean_paths(paths8)\n",
    "pa6 <- clean_paths(paths6)\n",
    "pa13 <- clean_paths(paths13)\n",
    "\n",
    "all.path <- bind_rows(pa4, pa6,pa8,pa13) %>% select(path_id)\n",
    "all.path <- distinct(all.path, path_id)\n",
    "#write to a .txt file with path_id's separated by a space \n",
    " write.table(paste(\"pathway=\", paste(all.path$path_id, sep=\" \", collapse = \" \")), \"all.path.txt\", row.names = FALSE, col.names = FALSE)\n"
   ]
  },
  {
   "cell_type": "markdown",
   "id": "dd3ea4dd",
   "metadata": {},
   "source": [
    "# Using Kegg api for Kegg annotations \n",
    "Imported csv files of modules, paths, and individual ko's, which are not associated with a path or module, have associated subcategories and broad categories which I am interested in. To get the module or path name, all of the ko's and thier names and symbols from the module or path code, we loop through each module/path code and using Kegg api, extract this information. Because pathways and modules are associated with one annother, we will keep these tables seperate\n",
    "## After running each loop, we should have a dataframe for each original file with a columns:\n",
    "- ko_id\n",
    "- name\n",
    "- symbol\n",
    "- pathway/module\n",
    "- sub_category\n",
    "- broad_category\n",
    "## Extract all ko's from tables which appear in at least one sample\n",
    "We will use the resulting tables for subsetting data later in making heat maps. We can create heat maps based on pathway, module, or category. "
   ]
  },
  {
   "cell_type": "code",
   "execution_count": 9,
   "id": "a7c99e65-77c5-48fa-ab8d-92d05727f870",
   "metadata": {},
   "outputs": [
    {
     "data": {
      "text/html": [
       "<table class=\"dataframe\">\n",
       "<caption>A data.frame: 6 × 3</caption>\n",
       "<thead>\n",
       "\t<tr><th></th><th scope=col>ko_id</th><th scope=col>sub_category</th><th scope=col>broad_category</th></tr>\n",
       "\t<tr><th></th><th scope=col>&lt;chr&gt;</th><th scope=col>&lt;chr&gt;</th><th scope=col>&lt;chr&gt;</th></tr>\n",
       "</thead>\n",
       "<tbody>\n",
       "\t<tr><th scope=row>1</th><td>K11959</td><td>Urea transporter          </td><td>Nitrogen Metabolism</td></tr>\n",
       "\t<tr><th scope=row>2</th><td>K08907</td><td>Light harvesting complex I</td><td>Photosynthesis     </td></tr>\n",
       "\t<tr><th scope=row>3</th><td>K08908</td><td>Light harvesting complex I</td><td>Photosynthesis     </td></tr>\n",
       "\t<tr><th scope=row>4</th><td>K08909</td><td>Light harvesting complex I</td><td>Photosynthesis     </td></tr>\n",
       "\t<tr><th scope=row>5</th><td>K08910</td><td>Light harvesting complex I</td><td>Photosynthesis     </td></tr>\n",
       "\t<tr><th scope=row>6</th><td>K08911</td><td>Light harvesting complex I</td><td>Photosynthesis     </td></tr>\n",
       "</tbody>\n",
       "</table>\n"
      ],
      "text/latex": [
       "A data.frame: 6 × 3\n",
       "\\begin{tabular}{r|lll}\n",
       "  & ko\\_id & sub\\_category & broad\\_category\\\\\n",
       "  & <chr> & <chr> & <chr>\\\\\n",
       "\\hline\n",
       "\t1 & K11959 & Urea transporter           & Nitrogen Metabolism\\\\\n",
       "\t2 & K08907 & Light harvesting complex I & Photosynthesis     \\\\\n",
       "\t3 & K08908 & Light harvesting complex I & Photosynthesis     \\\\\n",
       "\t4 & K08909 & Light harvesting complex I & Photosynthesis     \\\\\n",
       "\t5 & K08910 & Light harvesting complex I & Photosynthesis     \\\\\n",
       "\t6 & K08911 & Light harvesting complex I & Photosynthesis     \\\\\n",
       "\\end{tabular}\n"
      ],
      "text/markdown": [
       "\n",
       "A data.frame: 6 × 3\n",
       "\n",
       "| <!--/--> | ko_id &lt;chr&gt; | sub_category &lt;chr&gt; | broad_category &lt;chr&gt; |\n",
       "|---|---|---|---|\n",
       "| 1 | K11959 | Urea transporter           | Nitrogen Metabolism |\n",
       "| 2 | K08907 | Light harvesting complex I | Photosynthesis      |\n",
       "| 3 | K08908 | Light harvesting complex I | Photosynthesis      |\n",
       "| 4 | K08909 | Light harvesting complex I | Photosynthesis      |\n",
       "| 5 | K08910 | Light harvesting complex I | Photosynthesis      |\n",
       "| 6 | K08911 | Light harvesting complex I | Photosynthesis      |\n",
       "\n"
      ],
      "text/plain": [
       "  ko_id  sub_category               broad_category     \n",
       "1 K11959 Urea transporter           Nitrogen Metabolism\n",
       "2 K08907 Light harvesting complex I Photosynthesis     \n",
       "3 K08908 Light harvesting complex I Photosynthesis     \n",
       "4 K08909 Light harvesting complex I Photosynthesis     \n",
       "5 K08910 Light harvesting complex I Photosynthesis     \n",
       "6 K08911 Light harvesting complex I Photosynthesis     "
      ]
     },
     "metadata": {},
     "output_type": "display_data"
    }
   ],
   "source": [
    "mod_man=read.csv('../kegg_names//subcategories_ko.csv')[,1:3]\n",
    "head(mod_man)"
   ]
  },
  {
   "cell_type": "code",
   "execution_count": 15,
   "id": "dfe19184-1b23-48ed-aba4-b89b66adc975",
   "metadata": {},
   "outputs": [
    {
     "data": {
      "text/html": [
       "<style>\n",
       ".list-inline {list-style: none; margin:0; padding: 0}\n",
       ".list-inline>li {display: inline-block}\n",
       ".list-inline>li:not(:last-child)::after {content: \"\\00b7\"; padding: 0 .5ex}\n",
       "</style>\n",
       "<ol class=list-inline><li>26</li><li>3</li></ol>\n"
      ],
      "text/latex": [
       "\\begin{enumerate*}\n",
       "\\item 26\n",
       "\\item 3\n",
       "\\end{enumerate*}\n"
      ],
      "text/markdown": [
       "1. 26\n",
       "2. 3\n",
       "\n",
       "\n"
      ],
      "text/plain": [
       "[1] 26  3"
      ]
     },
     "metadata": {},
     "output_type": "display_data"
    },
    {
     "data": {
      "text/html": [
       "<table class=\"dataframe\">\n",
       "<caption>A data.frame: 6 × 7</caption>\n",
       "<thead>\n",
       "\t<tr><th></th><th scope=col>ko_id</th><th scope=col>sub_category</th><th scope=col>broad_category</th><th scope=col>symbol</th><th scope=col>name</th><th scope=col>Path</th><th scope=col>path_name</th></tr>\n",
       "\t<tr><th></th><th scope=col>&lt;chr&gt;</th><th scope=col>&lt;chr&gt;</th><th scope=col>&lt;chr&gt;</th><th scope=col>&lt;chr&gt;</th><th scope=col>&lt;chr&gt;</th><th scope=col>&lt;lgl&gt;</th><th scope=col>&lt;chr&gt;</th></tr>\n",
       "</thead>\n",
       "<tbody>\n",
       "\t<tr><th scope=row>1</th><td>K11959</td><td>Urea transporter          </td><td>Nitrogen Metabolism</td><td>urtA </td><td>urea transport system substrate-binding protein             </td><td>NA</td><td>Urea transporter          </td></tr>\n",
       "\t<tr><th scope=row>2</th><td>K08907</td><td>Light harvesting complex I</td><td>Photosynthesis     </td><td>LHCA1</td><td>light-harvesting complex I chlorophyll a/b binding protein 1</td><td>NA</td><td>Light harvesting complex I</td></tr>\n",
       "\t<tr><th scope=row>3</th><td>K08908</td><td>Light harvesting complex I</td><td>Photosynthesis     </td><td>LHCA2</td><td>light-harvesting complex I chlorophyll a/b binding protein 2</td><td>NA</td><td>Light harvesting complex I</td></tr>\n",
       "\t<tr><th scope=row>4</th><td>K08909</td><td>Light harvesting complex I</td><td>Photosynthesis     </td><td>LHCA3</td><td>light-harvesting complex I chlorophyll a/b binding protein 3</td><td>NA</td><td>Light harvesting complex I</td></tr>\n",
       "\t<tr><th scope=row>5</th><td>K08910</td><td>Light harvesting complex I</td><td>Photosynthesis     </td><td>LHCA4</td><td>light-harvesting complex I chlorophyll a/b binding protein 4</td><td>NA</td><td>Light harvesting complex I</td></tr>\n",
       "\t<tr><th scope=row>6</th><td>K08911</td><td>Light harvesting complex I</td><td>Photosynthesis     </td><td>LHCA5</td><td>light-harvesting complex I chlorophyll a/b binding protein 5</td><td>NA</td><td>Light harvesting complex I</td></tr>\n",
       "</tbody>\n",
       "</table>\n"
      ],
      "text/latex": [
       "A data.frame: 6 × 7\n",
       "\\begin{tabular}{r|lllllll}\n",
       "  & ko\\_id & sub\\_category & broad\\_category & symbol & name & Path & path\\_name\\\\\n",
       "  & <chr> & <chr> & <chr> & <chr> & <chr> & <lgl> & <chr>\\\\\n",
       "\\hline\n",
       "\t1 & K11959 & Urea transporter           & Nitrogen Metabolism & urtA  & urea transport system substrate-binding protein              & NA & Urea transporter          \\\\\n",
       "\t2 & K08907 & Light harvesting complex I & Photosynthesis      & LHCA1 & light-harvesting complex I chlorophyll a/b binding protein 1 & NA & Light harvesting complex I\\\\\n",
       "\t3 & K08908 & Light harvesting complex I & Photosynthesis      & LHCA2 & light-harvesting complex I chlorophyll a/b binding protein 2 & NA & Light harvesting complex I\\\\\n",
       "\t4 & K08909 & Light harvesting complex I & Photosynthesis      & LHCA3 & light-harvesting complex I chlorophyll a/b binding protein 3 & NA & Light harvesting complex I\\\\\n",
       "\t5 & K08910 & Light harvesting complex I & Photosynthesis      & LHCA4 & light-harvesting complex I chlorophyll a/b binding protein 4 & NA & Light harvesting complex I\\\\\n",
       "\t6 & K08911 & Light harvesting complex I & Photosynthesis      & LHCA5 & light-harvesting complex I chlorophyll a/b binding protein 5 & NA & Light harvesting complex I\\\\\n",
       "\\end{tabular}\n"
      ],
      "text/markdown": [
       "\n",
       "A data.frame: 6 × 7\n",
       "\n",
       "| <!--/--> | ko_id &lt;chr&gt; | sub_category &lt;chr&gt; | broad_category &lt;chr&gt; | symbol &lt;chr&gt; | name &lt;chr&gt; | Path &lt;lgl&gt; | path_name &lt;chr&gt; |\n",
       "|---|---|---|---|---|---|---|---|\n",
       "| 1 | K11959 | Urea transporter           | Nitrogen Metabolism | urtA  | urea transport system substrate-binding protein              | NA | Urea transporter           |\n",
       "| 2 | K08907 | Light harvesting complex I | Photosynthesis      | LHCA1 | light-harvesting complex I chlorophyll a/b binding protein 1 | NA | Light harvesting complex I |\n",
       "| 3 | K08908 | Light harvesting complex I | Photosynthesis      | LHCA2 | light-harvesting complex I chlorophyll a/b binding protein 2 | NA | Light harvesting complex I |\n",
       "| 4 | K08909 | Light harvesting complex I | Photosynthesis      | LHCA3 | light-harvesting complex I chlorophyll a/b binding protein 3 | NA | Light harvesting complex I |\n",
       "| 5 | K08910 | Light harvesting complex I | Photosynthesis      | LHCA4 | light-harvesting complex I chlorophyll a/b binding protein 4 | NA | Light harvesting complex I |\n",
       "| 6 | K08911 | Light harvesting complex I | Photosynthesis      | LHCA5 | light-harvesting complex I chlorophyll a/b binding protein 5 | NA | Light harvesting complex I |\n",
       "\n"
      ],
      "text/plain": [
       "  ko_id  sub_category               broad_category      symbol\n",
       "1 K11959 Urea transporter           Nitrogen Metabolism urtA  \n",
       "2 K08907 Light harvesting complex I Photosynthesis      LHCA1 \n",
       "3 K08908 Light harvesting complex I Photosynthesis      LHCA2 \n",
       "4 K08909 Light harvesting complex I Photosynthesis      LHCA3 \n",
       "5 K08910 Light harvesting complex I Photosynthesis      LHCA4 \n",
       "6 K08911 Light harvesting complex I Photosynthesis      LHCA5 \n",
       "  name                                                         Path\n",
       "1 urea transport system substrate-binding protein              NA  \n",
       "2 light-harvesting complex I chlorophyll a/b binding protein 1 NA  \n",
       "3 light-harvesting complex I chlorophyll a/b binding protein 2 NA  \n",
       "4 light-harvesting complex I chlorophyll a/b binding protein 3 NA  \n",
       "5 light-harvesting complex I chlorophyll a/b binding protein 4 NA  \n",
       "6 light-harvesting complex I chlorophyll a/b binding protein 5 NA  \n",
       "  path_name                 \n",
       "1 Urea transporter          \n",
       "2 Light harvesting complex I\n",
       "3 Light harvesting complex I\n",
       "4 Light harvesting complex I\n",
       "5 Light harvesting complex I\n",
       "6 Light harvesting complex I"
      ]
     },
     "metadata": {},
     "output_type": "display_data"
    },
    {
     "data": {
      "text/html": [
       "<table class=\"dataframe\">\n",
       "<caption>A data.frame: 6 × 7</caption>\n",
       "<thead>\n",
       "\t<tr><th></th><th scope=col>ko_id</th><th scope=col>sub_category</th><th scope=col>broad_category</th><th scope=col>symbol</th><th scope=col>name</th><th scope=col>Path</th><th scope=col>path_name</th></tr>\n",
       "\t<tr><th></th><th scope=col>&lt;chr&gt;</th><th scope=col>&lt;chr&gt;</th><th scope=col>&lt;chr&gt;</th><th scope=col>&lt;chr&gt;</th><th scope=col>&lt;chr&gt;</th><th scope=col>&lt;lgl&gt;</th><th scope=col>&lt;chr&gt;</th></tr>\n",
       "</thead>\n",
       "<tbody>\n",
       "\t<tr><th scope=row>21</th><td>K26552</td><td>Nirate/Nitrite transport</td><td>Nitrogen Metabolism</td><td>NPF2, GTR, NRT1 </td><td>MFS transporter, POT/PTR family, nitrate/chloride/glucosinolate transporter</td><td>NA</td><td>Nirate/Nitrite transport</td></tr>\n",
       "\t<tr><th scope=row>22</th><td>K26553</td><td>Nirate/Nitrite transport</td><td>Nitrogen Metabolism</td><td>NPF3, NITR, NRT1</td><td>MFS transporter, POT/PTR family, nitrite transporter                       </td><td>NA</td><td>Nirate/Nitrite transport</td></tr>\n",
       "\t<tr><th scope=row>23</th><td>K26548</td><td>Nirate/Nitrite transport</td><td>Nitrogen Metabolism</td><td>NPF4, NRT1      </td><td>MFS transporter, POT/PTR family, nitrate transporter                       </td><td>NA</td><td>Nirate/Nitrite transport</td></tr>\n",
       "\t<tr><th scope=row>24</th><td>K26562</td><td>Nirate/Nitrite transport</td><td>Nitrogen Metabolism</td><td>NPF5, NRT1, NAET</td><td>MFS transporter, POT/PTR family, peptide/nitrate/nicotianamine transporter </td><td>NA</td><td>Nirate/Nitrite transport</td></tr>\n",
       "\t<tr><th scope=row>25</th><td>K26549</td><td>Nirate/Nitrite transport</td><td>Nitrogen Metabolism</td><td>NPF6, NRT1      </td><td>MFS transporter, POT/PTR family, nitrate transporter                       </td><td>NA</td><td>Nirate/Nitrite transport</td></tr>\n",
       "\t<tr><th scope=row>26</th><td>K26554</td><td>Nirate/Nitrite transport</td><td>Nitrogen Metabolism</td><td>NPF7, NRT1      </td><td>MFS transporter, POT/PTR family, low-affinity nitrate transporter          </td><td>NA</td><td>Nirate/Nitrite transport</td></tr>\n",
       "</tbody>\n",
       "</table>\n"
      ],
      "text/latex": [
       "A data.frame: 6 × 7\n",
       "\\begin{tabular}{r|lllllll}\n",
       "  & ko\\_id & sub\\_category & broad\\_category & symbol & name & Path & path\\_name\\\\\n",
       "  & <chr> & <chr> & <chr> & <chr> & <chr> & <lgl> & <chr>\\\\\n",
       "\\hline\n",
       "\t21 & K26552 & Nirate/Nitrite transport & Nitrogen Metabolism & NPF2, GTR, NRT1  & MFS transporter, POT/PTR family, nitrate/chloride/glucosinolate transporter & NA & Nirate/Nitrite transport\\\\\n",
       "\t22 & K26553 & Nirate/Nitrite transport & Nitrogen Metabolism & NPF3, NITR, NRT1 & MFS transporter, POT/PTR family, nitrite transporter                        & NA & Nirate/Nitrite transport\\\\\n",
       "\t23 & K26548 & Nirate/Nitrite transport & Nitrogen Metabolism & NPF4, NRT1       & MFS transporter, POT/PTR family, nitrate transporter                        & NA & Nirate/Nitrite transport\\\\\n",
       "\t24 & K26562 & Nirate/Nitrite transport & Nitrogen Metabolism & NPF5, NRT1, NAET & MFS transporter, POT/PTR family, peptide/nitrate/nicotianamine transporter  & NA & Nirate/Nitrite transport\\\\\n",
       "\t25 & K26549 & Nirate/Nitrite transport & Nitrogen Metabolism & NPF6, NRT1       & MFS transporter, POT/PTR family, nitrate transporter                        & NA & Nirate/Nitrite transport\\\\\n",
       "\t26 & K26554 & Nirate/Nitrite transport & Nitrogen Metabolism & NPF7, NRT1       & MFS transporter, POT/PTR family, low-affinity nitrate transporter           & NA & Nirate/Nitrite transport\\\\\n",
       "\\end{tabular}\n"
      ],
      "text/markdown": [
       "\n",
       "A data.frame: 6 × 7\n",
       "\n",
       "| <!--/--> | ko_id &lt;chr&gt; | sub_category &lt;chr&gt; | broad_category &lt;chr&gt; | symbol &lt;chr&gt; | name &lt;chr&gt; | Path &lt;lgl&gt; | path_name &lt;chr&gt; |\n",
       "|---|---|---|---|---|---|---|---|\n",
       "| 21 | K26552 | Nirate/Nitrite transport | Nitrogen Metabolism | NPF2, GTR, NRT1  | MFS transporter, POT/PTR family, nitrate/chloride/glucosinolate transporter | NA | Nirate/Nitrite transport |\n",
       "| 22 | K26553 | Nirate/Nitrite transport | Nitrogen Metabolism | NPF3, NITR, NRT1 | MFS transporter, POT/PTR family, nitrite transporter                        | NA | Nirate/Nitrite transport |\n",
       "| 23 | K26548 | Nirate/Nitrite transport | Nitrogen Metabolism | NPF4, NRT1       | MFS transporter, POT/PTR family, nitrate transporter                        | NA | Nirate/Nitrite transport |\n",
       "| 24 | K26562 | Nirate/Nitrite transport | Nitrogen Metabolism | NPF5, NRT1, NAET | MFS transporter, POT/PTR family, peptide/nitrate/nicotianamine transporter  | NA | Nirate/Nitrite transport |\n",
       "| 25 | K26549 | Nirate/Nitrite transport | Nitrogen Metabolism | NPF6, NRT1       | MFS transporter, POT/PTR family, nitrate transporter                        | NA | Nirate/Nitrite transport |\n",
       "| 26 | K26554 | Nirate/Nitrite transport | Nitrogen Metabolism | NPF7, NRT1       | MFS transporter, POT/PTR family, low-affinity nitrate transporter           | NA | Nirate/Nitrite transport |\n",
       "\n"
      ],
      "text/plain": [
       "   ko_id  sub_category             broad_category      symbol          \n",
       "21 K26552 Nirate/Nitrite transport Nitrogen Metabolism NPF2, GTR, NRT1 \n",
       "22 K26553 Nirate/Nitrite transport Nitrogen Metabolism NPF3, NITR, NRT1\n",
       "23 K26548 Nirate/Nitrite transport Nitrogen Metabolism NPF4, NRT1      \n",
       "24 K26562 Nirate/Nitrite transport Nitrogen Metabolism NPF5, NRT1, NAET\n",
       "25 K26549 Nirate/Nitrite transport Nitrogen Metabolism NPF6, NRT1      \n",
       "26 K26554 Nirate/Nitrite transport Nitrogen Metabolism NPF7, NRT1      \n",
       "   name                                                                       \n",
       "21 MFS transporter, POT/PTR family, nitrate/chloride/glucosinolate transporter\n",
       "22 MFS transporter, POT/PTR family, nitrite transporter                       \n",
       "23 MFS transporter, POT/PTR family, nitrate transporter                       \n",
       "24 MFS transporter, POT/PTR family, peptide/nitrate/nicotianamine transporter \n",
       "25 MFS transporter, POT/PTR family, nitrate transporter                       \n",
       "26 MFS transporter, POT/PTR family, low-affinity nitrate transporter          \n",
       "   Path path_name               \n",
       "21 NA   Nirate/Nitrite transport\n",
       "22 NA   Nirate/Nitrite transport\n",
       "23 NA   Nirate/Nitrite transport\n",
       "24 NA   Nirate/Nitrite transport\n",
       "25 NA   Nirate/Nitrite transport\n",
       "26 NA   Nirate/Nitrite transport"
      ]
     },
     "metadata": {},
     "output_type": "display_data"
    }
   ],
   "source": [
    "#1. for manually made modules ko's\n",
    "## find name and symbol for each\n",
    "## add name and symbol to dataframe\n",
    "mod_man=read.csv('../kegg_names//subcategories_ko.csv')[,1:3]\n",
    "dim(mod_man)\n",
    "url=c(\"https://rest.kegg.jp/\")\n",
    "symbol=list()\n",
    "ko_id=list()\n",
    "name=list()\n",
    "\n",
    "for (i in mod_man$ko_id){\n",
    "    #m=c(keggFind('ko',i))\n",
    "    m = getURL(paste(url,'find/ko/', i, sep=''))\n",
    "    m = str_remove(m, 'ko:K[[:digit:]]{5}\\t')\n",
    "    ko_id=c(ko_id,i)\n",
    "    symbol=c(symbol, str_remove(str_extract(string = m, pattern = '.+.*;'),';'))\n",
    "    name=c(name,str_remove(str_extract(string = m, pattern = '; [[:alnum:]]+.*'),'; '))\n",
    "    }\n",
    "\n",
    "mod_ko=data.frame('ko_id'=unlist(ko_id),\n",
    "                  'symbol'= unlist(symbol),\n",
    "                  'name'= str_remove(unlist(name),'\\n'))\n",
    "mod_man=left_join(mod_man,mod_ko, by='ko_id')\n",
    "mod_man=mutate(mod_man, Path=NA, path_name=mod_man$sub_category)\n",
    "head(mod_man)\n",
    "tail(mod_man)"
   ]
  },
  {
   "cell_type": "code",
   "execution_count": 4,
   "id": "2bfbca2a-d18c-44b6-824b-d1a4549418d3",
   "metadata": {},
   "outputs": [
    {
     "data": {
      "text/html": [
       "14"
      ],
      "text/latex": [
       "14"
      ],
      "text/markdown": [
       "14"
      ],
      "text/plain": [
       "[1] 14"
      ]
     },
     "metadata": {},
     "output_type": "display_data"
    },
    {
     "data": {
      "text/html": [
       "<table class=\"dataframe\">\n",
       "<caption>A data.frame: 6 × 7</caption>\n",
       "<thead>\n",
       "\t<tr><th></th><th scope=col>Module</th><th scope=col>ko_id</th><th scope=col>symbol</th><th scope=col>name</th><th scope=col>sub_category</th><th scope=col>broad_category</th><th scope=col>module_name</th></tr>\n",
       "\t<tr><th></th><th scope=col>&lt;chr&gt;</th><th scope=col>&lt;chr&gt;</th><th scope=col>&lt;chr&gt;</th><th scope=col>&lt;chr&gt;</th><th scope=col>&lt;chr&gt;</th><th scope=col>&lt;chr&gt;</th><th scope=col>&lt;chr&gt;</th></tr>\n",
       "</thead>\n",
       "<tbody>\n",
       "\t<tr><th scope=row>1</th><td>M00161</td><td>ko:K02703</td><td>psbA</td><td>photosystem II P680 reaction center D1 protein [EC:1.10.3.9]</td><td>Photosystem II</td><td>photosynthesis</td><td>Photosystem II\n",
       "</td></tr>\n",
       "\t<tr><th scope=row>2</th><td>M00161</td><td>ko:K02706</td><td>psbD</td><td>photosystem II P680 reaction center D2 protein [EC:1.10.3.9]</td><td>Photosystem II</td><td>photosynthesis</td><td>Photosystem II\n",
       "</td></tr>\n",
       "\t<tr><th scope=row>3</th><td>M00161</td><td>ko:K02705</td><td>psbC</td><td>photosystem II CP43 chlorophyll apoprotein                  </td><td>Photosystem II</td><td>photosynthesis</td><td>Photosystem II\n",
       "</td></tr>\n",
       "\t<tr><th scope=row>4</th><td>M00161</td><td>ko:K02704</td><td>psbB</td><td>photosystem II CP47 chlorophyll apoprotein                  </td><td>Photosystem II</td><td>photosynthesis</td><td>Photosystem II\n",
       "</td></tr>\n",
       "\t<tr><th scope=row>5</th><td>M00161</td><td>ko:K02707</td><td>psbE</td><td>photosystem II cytochrome b559 subunit alpha                </td><td>Photosystem II</td><td>photosynthesis</td><td>Photosystem II\n",
       "</td></tr>\n",
       "\t<tr><th scope=row>6</th><td>M00161</td><td>ko:K02708</td><td>psbF</td><td>photosystem II cytochrome b559 subunit beta                 </td><td>Photosystem II</td><td>photosynthesis</td><td>Photosystem II\n",
       "</td></tr>\n",
       "</tbody>\n",
       "</table>\n"
      ],
      "text/latex": [
       "A data.frame: 6 × 7\n",
       "\\begin{tabular}{r|lllllll}\n",
       "  & Module & ko\\_id & symbol & name & sub\\_category & broad\\_category & module\\_name\\\\\n",
       "  & <chr> & <chr> & <chr> & <chr> & <chr> & <chr> & <chr>\\\\\n",
       "\\hline\n",
       "\t1 & M00161 & ko:K02703 & psbA & photosystem II P680 reaction center D1 protein {[}EC:1.10.3.9{]} & Photosystem II & photosynthesis & Photosystem II\n",
       "\\\\\n",
       "\t2 & M00161 & ko:K02706 & psbD & photosystem II P680 reaction center D2 protein {[}EC:1.10.3.9{]} & Photosystem II & photosynthesis & Photosystem II\n",
       "\\\\\n",
       "\t3 & M00161 & ko:K02705 & psbC & photosystem II CP43 chlorophyll apoprotein                   & Photosystem II & photosynthesis & Photosystem II\n",
       "\\\\\n",
       "\t4 & M00161 & ko:K02704 & psbB & photosystem II CP47 chlorophyll apoprotein                   & Photosystem II & photosynthesis & Photosystem II\n",
       "\\\\\n",
       "\t5 & M00161 & ko:K02707 & psbE & photosystem II cytochrome b559 subunit alpha                 & Photosystem II & photosynthesis & Photosystem II\n",
       "\\\\\n",
       "\t6 & M00161 & ko:K02708 & psbF & photosystem II cytochrome b559 subunit beta                  & Photosystem II & photosynthesis & Photosystem II\n",
       "\\\\\n",
       "\\end{tabular}\n"
      ],
      "text/markdown": [
       "\n",
       "A data.frame: 6 × 7\n",
       "\n",
       "| <!--/--> | Module &lt;chr&gt; | ko_id &lt;chr&gt; | symbol &lt;chr&gt; | name &lt;chr&gt; | sub_category &lt;chr&gt; | broad_category &lt;chr&gt; | module_name &lt;chr&gt; |\n",
       "|---|---|---|---|---|---|---|---|\n",
       "| 1 | M00161 | ko:K02703 | psbA | photosystem II P680 reaction center D1 protein [EC:1.10.3.9] | Photosystem II | photosynthesis | Photosystem II\n",
       " |\n",
       "| 2 | M00161 | ko:K02706 | psbD | photosystem II P680 reaction center D2 protein [EC:1.10.3.9] | Photosystem II | photosynthesis | Photosystem II\n",
       " |\n",
       "| 3 | M00161 | ko:K02705 | psbC | photosystem II CP43 chlorophyll apoprotein                   | Photosystem II | photosynthesis | Photosystem II\n",
       " |\n",
       "| 4 | M00161 | ko:K02704 | psbB | photosystem II CP47 chlorophyll apoprotein                   | Photosystem II | photosynthesis | Photosystem II\n",
       " |\n",
       "| 5 | M00161 | ko:K02707 | psbE | photosystem II cytochrome b559 subunit alpha                 | Photosystem II | photosynthesis | Photosystem II\n",
       " |\n",
       "| 6 | M00161 | ko:K02708 | psbF | photosystem II cytochrome b559 subunit beta                  | Photosystem II | photosynthesis | Photosystem II\n",
       " |\n",
       "\n"
      ],
      "text/plain": [
       "  Module ko_id     symbol\n",
       "1 M00161 ko:K02703 psbA  \n",
       "2 M00161 ko:K02706 psbD  \n",
       "3 M00161 ko:K02705 psbC  \n",
       "4 M00161 ko:K02704 psbB  \n",
       "5 M00161 ko:K02707 psbE  \n",
       "6 M00161 ko:K02708 psbF  \n",
       "  name                                                         sub_category  \n",
       "1 photosystem II P680 reaction center D1 protein [EC:1.10.3.9] Photosystem II\n",
       "2 photosystem II P680 reaction center D2 protein [EC:1.10.3.9] Photosystem II\n",
       "3 photosystem II CP43 chlorophyll apoprotein                   Photosystem II\n",
       "4 photosystem II CP47 chlorophyll apoprotein                   Photosystem II\n",
       "5 photosystem II cytochrome b559 subunit alpha                 Photosystem II\n",
       "6 photosystem II cytochrome b559 subunit beta                  Photosystem II\n",
       "  broad_category module_name     \n",
       "1 photosynthesis Photosystem II\\n\n",
       "2 photosynthesis Photosystem II\\n\n",
       "3 photosynthesis Photosystem II\\n\n",
       "4 photosynthesis Photosystem II\\n\n",
       "5 photosynthesis Photosystem II\\n\n",
       "6 photosynthesis Photosystem II\\n"
      ]
     },
     "metadata": {},
     "output_type": "display_data"
    }
   ],
   "source": [
    "#2. Kegg modules\n",
    "## Get name for each module\n",
    "## add module name to dataframe\n",
    "## get list of all ko's for each module\n",
    "## get ko name and symbol for each module\n",
    "sub_module=read.csv(\"../kegg_names/subcategories_module.csv\")\n",
    "nrow(sub_module)\n",
    "url=c(\"https://rest.kegg.jp/\")\n",
    "\n",
    "find.mod=list()\n",
    "for (i in sub_module$Module){\n",
    "    #p=keggFind('module', i)\n",
    "    p=getURL(paste(url,'find/module/', i, sep=''))\n",
    "    find.mod=unname(c(find.mod,str_remove(p, \", .*\")))\n",
    "    #module=unname(c(module,str_remove(p, \", .*\"))) #str_extract(p, '[[:alpha:]]+.*'))\n",
    "}\n",
    "\n",
    "module_name=data.frame('module_name'=str_remove(find.mod,'md:M[[:digit:]]{5}\\t'))\n",
    "sub_mod=bind_cols(sub_module, module_name)\n",
    "colnames(sub_mod)[1]='Module'\n",
    "\n",
    "p=list()\n",
    "for (i in sub_mod$Module){\n",
    "    link.ko=getURL(paste(url,'link/ko/', i, sep=''))\n",
    "    p=c(p,link.ko)\n",
    "    #p=c(p,keggLink('ko', i))\n",
    "}\n",
    "\n",
    "p=data.frame(ko_id=unlist(str_extract_all(p,'ko:K[[:digit:]]+')), \n",
    "               module=(unlist(str_extract_all(p, 'M[[:digit:]]{5}'))))\n",
    "\n",
    "symbol=list()\n",
    "name=list()\n",
    "for (i in p$ko_id){\n",
    "     g=getURL(paste(url,'find/ko/', i, sep=''))\n",
    "   # g=keggFind('ko', i)\n",
    "    symbol=c(symbol,str_remove(str_extract(unname(g), '\\t.+;'), ';'))\n",
    "    name=c(name, str_remove(str_extract(unname(g),'; .*'), '; '))\n",
    "}\n",
    "\n",
    "mod_ko=data.frame('Module'=p$module,\n",
    "                  'ko_id'=p$ko_id,\n",
    "                  'symbol'=str_remove(unlist(symbol),'\\t'),\n",
    "                  'name'=unlist(name))\n",
    "sub_mod=left_join(mod_ko, sub_mod, by='Module')\n",
    "head(sub_mod)"
   ]
  },
  {
   "cell_type": "code",
   "execution_count": 2,
   "id": "979b4944-1ce8-4727-bcc9-0209a3350c31",
   "metadata": {},
   "outputs": [
    {
     "data": {
      "text/html": [
       "27"
      ],
      "text/latex": [
       "27"
      ],
      "text/markdown": [
       "27"
      ],
      "text/plain": [
       "[1] 27"
      ]
     },
     "metadata": {},
     "output_type": "display_data"
    }
   ],
   "source": [
    "#3. pathways\n",
    "## get name for each pathway\n",
    "## add pathway name to dataframe\n",
    "## get list of all ko's for each pathway\n",
    "## get name and symbol for each ko\n",
    "sub_cat_path=read.csv('../kegg_names/subcategories_path.csv')\n",
    "nrow(sub_cat_path)\n",
    "\n",
    "url=c(\"https://rest.kegg.jp/\")\n",
    "find.path=list()\n",
    "for (i in sub_cat_path$Pathway){\n",
    "    p=getURL(paste(url,'find/pathway/', i, sep=''))\n",
    "    find.path=unname(c(find.path,p))\n",
    "}\n",
    "\n",
    "path_name=data.frame('path_name'=str_remove(find.path,'path:map[[:digit:]]{5}\\t'))\n",
    "\n",
    "sub_path=bind_cols(sub_cat_path, path_name)\n",
    "colnames(sub_path)[1]='Path'\n",
    "\n",
    "p=list()\n",
    "for (i in sub_path$Path){\n",
    "    link.ko=getURL(paste(url,'link/ko/', i, sep=''))\n",
    "    #link.ko=str_extract(p, 'ko:K[[:digit:]]+')\n",
    "    p=c(p,link.ko)\n",
    "}\n",
    "\n",
    "p=data.frame(ko_id=unlist(str_extract_all(p,'K[[:digit:]]+')), \n",
    "               path=(unlist(str_extract_all(p, 'map[[:digit:]]{5}')))) \n",
    "symbol=list()\n",
    "name=list()\n",
    "for (i in p$ko_id){\n",
    "    g=getURL(paste(url,'find/ko/', i, sep=''))\n",
    "    symbol=c(symbol,str_remove(str_extract(unname(g), '\\t.+;'), ';'))\n",
    "    name=c(name, str_remove(str_extract(unname(g),'; .*'), '; '))\n",
    "}\n",
    "path_ko=data.frame('Path'=p$path,\n",
    "                   'ko_id'=p$ko_id,\n",
    "                   'symbol'=str_remove(unlist(symbol),'\\t'),\n",
    "                   'name'=unlist(name))\n",
    "head(path_ko)\n",
    "head(sub_path)\n",
    "sub_path=left_join(path_ko, sub_path, by='Path', relationship='many-to-many')\n",
    "\n",
    "colnames(sub_path[1])='Path.Mod'\n",
    "\n",
    "head(sub_path)\n",
    "\n",
    "flavodoxin=data.frame(Path='map00195', ko_id=c('K03839','K03840','K21567','K00528'), \n",
    "                      symbol=c('fldA, nifF, isiB','fldB','fnr','fpr'), \n",
    "                      name=c('flavodoxin I','flavodoxin II','ferredoxin/flavodoxin---NADP+ reductase',\n",
    "                            'ferredoxin/flavodoxin---NADP+ reductase'), sub_category='Photosynthesis',\n",
    "                     broad_category='photosynthesis', path_name='Photosynthesis')\n",
    "sub_path=bind_rows(sub_path, flavodoxin) "
   ]
  },
  {
   "cell_type": "markdown",
   "id": "43b7eb78-fade-422b-b861-f0e5024f3365",
   "metadata": {},
   "source": [
    "## Combine kegg module and manual module tables "
   ]
  },
  {
   "cell_type": "markdown",
   "id": "23de9c26-07d9-460e-9328-31e3192c0521",
   "metadata": {},
   "source": [
    "### Now I have mod/path code and name, sub and broad categorie and ko_id, name and symbol for each\n",
    "using the ko_id find matches in my data, some ko's might be repeated in different categories so make sure they are repeated in each category\n",
    "\n",
    "## in the end I want a df with links of ko's in my data, name, symbol, path/module code and name, subcategory, broad category\n",
    "i can use this when refering to data for plotting\n",
    "## Make sure to check that genes i am interested in like lhp and ferredoxin actually showed up! check differences in length between original list and those in data."
   ]
  },
  {
   "cell_type": "code",
   "execution_count": 8,
   "id": "107d7dc0-d423-4aad-ac2d-7584ed554a1a",
   "metadata": {
    "scrolled": true
   },
   "outputs": [
    {
     "data": {
      "text/html": [
       "<table class=\"dataframe\">\n",
       "<caption>A data.frame: 6 × 3</caption>\n",
       "<thead>\n",
       "\t<tr><th></th><th scope=col>orfs</th><th scope=col>ko_iteration</th><th scope=col>ko_id</th></tr>\n",
       "\t<tr><th></th><th scope=col>&lt;chr&gt;</th><th scope=col>&lt;chr&gt;</th><th scope=col>&lt;chr&gt;</th></tr>\n",
       "</thead>\n",
       "<tbody>\n",
       "\t<tr><th scope=row>1</th><td>NODE_10000_length_2085_cov_180.263917_g1941_i2.p2</td><td>ko:_1</td><td>K19364</td></tr>\n",
       "\t<tr><th scope=row>2</th><td>NODE_10000_length_2085_cov_180.263917_g1941_i2.p3</td><td>ko:_1</td><td>K19364</td></tr>\n",
       "\t<tr><th scope=row>3</th><td>NODE_10002_length_2085_cov_50.039761_g2374_i1.p2 </td><td>ko:_1</td><td>K01142</td></tr>\n",
       "\t<tr><th scope=row>4</th><td>NODE_10002_length_2085_cov_50.039761_g2374_i1.p2 </td><td>ko:_2</td><td>K01930</td></tr>\n",
       "\t<tr><th scope=row>5</th><td>NODE_10002_length_2085_cov_50.039761_g2374_i1.p2 </td><td>ko:_3</td><td>K10771</td></tr>\n",
       "\t<tr><th scope=row>6</th><td>NODE_10005_length_2085_cov_13.522366_g594_i1.p1  </td><td>ko:_1</td><td>K00850</td></tr>\n",
       "</tbody>\n",
       "</table>\n"
      ],
      "text/latex": [
       "A data.frame: 6 × 3\n",
       "\\begin{tabular}{r|lll}\n",
       "  & orfs & ko\\_iteration & ko\\_id\\\\\n",
       "  & <chr> & <chr> & <chr>\\\\\n",
       "\\hline\n",
       "\t1 & NODE\\_10000\\_length\\_2085\\_cov\\_180.263917\\_g1941\\_i2.p2 & ko:\\_1 & K19364\\\\\n",
       "\t2 & NODE\\_10000\\_length\\_2085\\_cov\\_180.263917\\_g1941\\_i2.p3 & ko:\\_1 & K19364\\\\\n",
       "\t3 & NODE\\_10002\\_length\\_2085\\_cov\\_50.039761\\_g2374\\_i1.p2  & ko:\\_1 & K01142\\\\\n",
       "\t4 & NODE\\_10002\\_length\\_2085\\_cov\\_50.039761\\_g2374\\_i1.p2  & ko:\\_2 & K01930\\\\\n",
       "\t5 & NODE\\_10002\\_length\\_2085\\_cov\\_50.039761\\_g2374\\_i1.p2  & ko:\\_3 & K10771\\\\\n",
       "\t6 & NODE\\_10005\\_length\\_2085\\_cov\\_13.522366\\_g594\\_i1.p1   & ko:\\_1 & K00850\\\\\n",
       "\\end{tabular}\n"
      ],
      "text/markdown": [
       "\n",
       "A data.frame: 6 × 3\n",
       "\n",
       "| <!--/--> | orfs &lt;chr&gt; | ko_iteration &lt;chr&gt; | ko_id &lt;chr&gt; |\n",
       "|---|---|---|---|\n",
       "| 1 | NODE_10000_length_2085_cov_180.263917_g1941_i2.p2 | ko:_1 | K19364 |\n",
       "| 2 | NODE_10000_length_2085_cov_180.263917_g1941_i2.p3 | ko:_1 | K19364 |\n",
       "| 3 | NODE_10002_length_2085_cov_50.039761_g2374_i1.p2  | ko:_1 | K01142 |\n",
       "| 4 | NODE_10002_length_2085_cov_50.039761_g2374_i1.p2  | ko:_2 | K01930 |\n",
       "| 5 | NODE_10002_length_2085_cov_50.039761_g2374_i1.p2  | ko:_3 | K10771 |\n",
       "| 6 | NODE_10005_length_2085_cov_13.522366_g594_i1.p1   | ko:_1 | K00850 |\n",
       "\n"
      ],
      "text/plain": [
       "  orfs                                              ko_iteration ko_id \n",
       "1 NODE_10000_length_2085_cov_180.263917_g1941_i2.p2 ko:_1        K19364\n",
       "2 NODE_10000_length_2085_cov_180.263917_g1941_i2.p3 ko:_1        K19364\n",
       "3 NODE_10002_length_2085_cov_50.039761_g2374_i1.p2  ko:_1        K01142\n",
       "4 NODE_10002_length_2085_cov_50.039761_g2374_i1.p2  ko:_2        K01930\n",
       "5 NODE_10002_length_2085_cov_50.039761_g2374_i1.p2  ko:_3        K10771\n",
       "6 NODE_10005_length_2085_cov_13.522366_g594_i1.p1   ko:_1        K00850"
      ]
     },
     "metadata": {},
     "output_type": "display_data"
    }
   ],
   "source": [
    "ko4=read.csv('../kegg_names/ko4_ls.csv')\n",
    "ko8=read.csv('../kegg_names/ko8_ls.csv')\n",
    "ko6=read.csv('../kegg_names/ko6_ls.csv')\n",
    "ko13=read.csv('../kegg_names/ko13_ls.csv')\n",
    "head(ko13)"
   ]
  },
  {
   "cell_type": "code",
   "execution_count": 6,
   "id": "aba63206-ccbe-415e-906a-2ab41fa52dac",
   "metadata": {},
   "outputs": [
    {
     "data": {
      "text/html": [
       "627"
      ],
      "text/latex": [
       "627"
      ],
      "text/markdown": [
       "627"
      ],
      "text/plain": [
       "[1] 627"
      ]
     },
     "metadata": {},
     "output_type": "display_data"
    },
    {
     "data": {
      "text/html": [
       "562"
      ],
      "text/latex": [
       "562"
      ],
      "text/markdown": [
       "562"
      ],
      "text/plain": [
       "[1] 562"
      ]
     },
     "metadata": {},
     "output_type": "display_data"
    },
    {
     "data": {
      "text/html": [
       "549"
      ],
      "text/latex": [
       "549"
      ],
      "text/markdown": [
       "549"
      ],
      "text/plain": [
       "[1] 549"
      ]
     },
     "metadata": {},
     "output_type": "display_data"
    },
    {
     "data": {
      "text/html": [
       "556"
      ],
      "text/latex": [
       "556"
      ],
      "text/markdown": [
       "556"
      ],
      "text/plain": [
       "[1] 556"
      ]
     },
     "metadata": {},
     "output_type": "display_data"
    },
    {
     "data": {
      "text/html": [
       "709"
      ],
      "text/latex": [
       "709"
      ],
      "text/markdown": [
       "709"
      ],
      "text/plain": [
       "[1] 709"
      ]
     },
     "metadata": {},
     "output_type": "display_data"
    },
    {
     "data": {
      "text/html": [
       "623"
      ],
      "text/latex": [
       "623"
      ],
      "text/markdown": [
       "623"
      ],
      "text/plain": [
       "[1] 623"
      ]
     },
     "metadata": {},
     "output_type": "display_data"
    },
    {
     "data": {
      "text/html": [
       "865"
      ],
      "text/latex": [
       "865"
      ],
      "text/markdown": [
       "865"
      ],
      "text/plain": [
       "[1] 865"
      ]
     },
     "metadata": {},
     "output_type": "display_data"
    },
    {
     "data": {
      "text/html": [
       "1092"
      ],
      "text/latex": [
       "1092"
      ],
      "text/markdown": [
       "1092"
      ],
      "text/plain": [
       "[1] 1092"
      ]
     },
     "metadata": {},
     "output_type": "display_data"
    },
    {
     "data": {
      "text/html": [
       "867"
      ],
      "text/latex": [
       "867"
      ],
      "text/markdown": [
       "867"
      ],
      "text/plain": [
       "[1] 867"
      ]
     },
     "metadata": {},
     "output_type": "display_data"
    }
   ],
   "source": [
    "a=unique(ko4$ko_id)\n",
    "a=a[a%in%sub_path$ko_id]\n",
    "\n",
    "b=unique(ko8$ko_id)\n",
    "b=b[b%in%sub_path$ko_id]\n",
    "\n",
    "c=unique(ko6$ko_id)\n",
    "c=c[c%in%sub_path$ko_id]\n",
    "\n",
    "d=unique(ko13$ko_id)\n",
    "d=d[d%in%sub_path$ko_id]\n",
    "\n",
    "\n",
    "length(b)\n",
    "length(c)\n",
    "length(d)\n",
    "length(a)\n",
    "x=union(a,b)\n",
    "y=union(c,d)\n",
    "z=union(x,y)\n",
    "\n",
    "length(x)\n",
    "length(y)\n",
    "length(z)\n",
    "st=sub_path[(sub_path$ko_id)%in%z,]\n",
    "nrow(st)\n",
    "length(unique(sub_path$ko_id))"
   ]
  },
  {
   "cell_type": "code",
   "execution_count": 7,
   "id": "766da7ee-2603-43d4-acb0-625ea4b20fa6",
   "metadata": {},
   "outputs": [],
   "source": [
    "mod.path=function(df,ko){\n",
    "    inner_join(x = ko, y=df,by = 'ko_id', relationship='many-to-many')\n",
    "    }\n",
    "\n",
    "path4=mod.path(sub_path, ko4)\n",
    "path8=mod.path(sub_path, ko8)\n",
    "path6=mod.path(sub_path, ko6)\n",
    "path13=mod.path(sub_path, ko13)\n",
    "\n",
    "write.csv(path4,'../kegg_names/path4.csv',row.names=FALSE)\n",
    "write.csv(path8,'../kegg_names/path8.csv',row.names=FALSE)\n",
    "write.csv(path6,'../kegg_names/path6.csv',row.names=FALSE)\n",
    "write.csv(path13,'../kegg_names/path13.csv',row.names=FALSE)\n",
    "\n",
    "all.path=bind_rows(path4,path8,path6,path13)\n",
    "all.path=all.path[,-c(1:2)] %>% distinct()\n",
    "\n",
    "write.csv(all.path,'../kegg_names/all.path.csv', row.names=F)"
   ]
  },
  {
   "cell_type": "code",
   "execution_count": null,
   "id": "1904f47d-08c0-428b-948a-35196b161fb1",
   "metadata": {},
   "outputs": [],
   "source": [
    "mod4=mod.path(sub_mod_all, ko4)\n",
    "mod8=mod.path(sub_mod_all, ko8)\n",
    "mod6=mod.path(sub_mod_all, ko6)\n",
    "mod13=mod.path(sub_mod_all, ko13)\n",
    "\n",
    "write.csv(mod4,'../kegg_names/mod4.csv',row.names=FALSE)\n",
    "write.csv(mod8,'../kegg_names/mod8.csv',row.names=FALSE)\n",
    "write.csv(mod6,'../kegg_names/mod6.csv',row.names=FALSE)\n",
    "write.csv(mod13,'../kegg_names/mod13.csv',row.names=FALSE)\n",
    "\n",
    "#now rewriting sub_cat table so only genes found in my organisms show up\n",
    "all.mod=bind_rows(mod4,mod8,mod6,mod13)\n",
    "all.mod=all.mod[,-c(1:2)] %>% distinct()\n",
    "\n",
    "write.csv(all.mod,'../kegg_names/all.mod.csv', row.names=F)"
   ]
  },
  {
   "cell_type": "markdown",
   "id": "4f66db89-72ab-42a6-a435-1031081bd95b",
   "metadata": {},
   "source": [
    "----\n",
    "# Old way of extracting pathways of interest"
   ]
  },
  {
   "cell_type": "code",
   "execution_count": 5,
   "id": "a9118847",
   "metadata": {},
   "outputs": [
    {
     "data": {
      "text/html": [
       "<ol>\n",
       "\t<li><style>\n",
       ".list-inline {list-style: none; margin:0; padding: 0}\n",
       ".list-inline>li {display: inline-block}\n",
       ".list-inline>li:not(:last-child)::after {content: \"\\00b7\"; padding: 0 .5ex}\n",
       "</style>\n",
       "<ol class=list-inline><li>'map00910'</li><li>'map00195'</li><li>'map00190'</li><li>'map00196'</li><li>'map00710'</li><li>'map00680'</li><li>'map00920'</li><li>'map00020'</li><li>'map00010'</li><li>'map02010'</li><li>'map02060'</li></ol>\n",
       "</li>\n",
       "</ol>\n"
      ],
      "text/latex": [
       "\\begin{enumerate}\n",
       "\\item \\begin{enumerate*}\n",
       "\\item 'map00910'\n",
       "\\item 'map00195'\n",
       "\\item 'map00190'\n",
       "\\item 'map00196'\n",
       "\\item 'map00710'\n",
       "\\item 'map00680'\n",
       "\\item 'map00920'\n",
       "\\item 'map00020'\n",
       "\\item 'map00010'\n",
       "\\item 'map02010'\n",
       "\\item 'map02060'\n",
       "\\end{enumerate*}\n",
       "\n",
       "\\end{enumerate}\n"
      ],
      "text/markdown": [
       "1. 1. 'map00910'\n",
       "2. 'map00195'\n",
       "3. 'map00190'\n",
       "4. 'map00196'\n",
       "5. 'map00710'\n",
       "6. 'map00680'\n",
       "7. 'map00920'\n",
       "8. 'map00020'\n",
       "9. 'map00010'\n",
       "10. 'map02010'\n",
       "11. 'map02060'\n",
       "\n",
       "\n",
       "\n",
       "\n",
       "\n"
      ],
      "text/plain": [
       "[[1]]\n",
       " [1] \"map00910\" \"map00195\" \"map00190\" \"map00196\" \"map00710\" \"map00680\"\n",
       " [7] \"map00920\" \"map00020\" \"map00010\" \"map02010\" \"map02060\"\n"
      ]
     },
     "metadata": {},
     "output_type": "display_data"
    }
   ],
   "source": [
    "## List of pathways of interest with ko-id's associated. \n",
    "## find orfs and counts within pathways and plot on heatmap\n",
    "## add name of pathway in df by joinging pathways dataframes\n",
    "\n",
    "select.paths <- data.frame(Name=c('Nitrogen Metabolism', \n",
    "                                'Photosynthesis', \n",
    "                                'Oxidative Phosphorylation', \n",
    "                                'Photosynthesis-antenna Proteins', \n",
    "                                'Carbon Fixation',\n",
    "                               'Methan Metabolism', \n",
    "                                'Sulfur Metabolism',\n",
    "                                'Citrate Cycle', \n",
    "                                'Glycolysis', \n",
    "                                'ABC Transport', \n",
    "                                'Phosphotransferase System'),\n",
    "                      path_id=c('map00910', 'map00195', 'map00190','map00196', 'map00710',\n",
    "                              'map00680', 'map00920', 'map00020', 'map00010', 'map02010', 'map02060'))\n",
    "#keggLink('ko', 'map00910')\n",
    "\n",
    "code <- list(select.paths$path_id)\n",
    "head(code)\n",
    "for (i in code){\n",
    "   #print(keggList(i))\n",
    "    pathways <- as.matrix(keggLink('ko', i))\n",
    "}\n",
    "pathways <- data.frame('ko_id'=pathways) %>% rownames_to_column('path_id')  \n",
    "pathways$path_id <- gsub('path.', '', pathways$path_id)\n",
    "pathways$ko_id <- gsub('ko:','', pathways$ko_id)\n",
    "pathways$path_id <- str_remove(pathways$path_id, '\\\\.[[:digit:]]+')\n",
    "pathways <- pathways %>% group_by(path_id)\n",
    "\n",
    "select.pathways <- left_join(pathways, select.paths, by='path_id')\n",
    "write.csv(select.pathways, '../kegg_names/select.pathways.csv', row.names=FALSE)"
   ]
  }
 ],
 "metadata": {
  "kernelspec": {
   "display_name": "R_deseq",
   "language": "R",
   "name": "ir"
  },
  "language_info": {
   "codemirror_mode": "r",
   "file_extension": ".r",
   "mimetype": "text/x-r-source",
   "name": "R",
   "pygments_lexer": "r",
   "version": "4.3.1"
  }
 },
 "nbformat": 4,
 "nbformat_minor": 5
}
