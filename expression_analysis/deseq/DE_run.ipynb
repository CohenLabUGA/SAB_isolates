{
 "cells": [
  {
   "cell_type": "markdown",
   "id": "2eeabfee",
   "metadata": {},
   "source": [
    "# Differential gene expression\n",
    "### Prepare environment\n",
    "----"
   ]
  },
  {
   "cell_type": "code",
   "execution_count": 1,
   "id": "da4d6982",
   "metadata": {
    "editable": true,
    "slideshow": {
     "slide_type": ""
    },
    "tags": []
   },
   "outputs": [
    {
     "name": "stderr",
     "output_type": "stream",
     "text": [
      "\n",
      "Attaching package: ‘BiocGenerics’\n",
      "\n",
      "\n",
      "The following objects are masked from ‘package:stats’:\n",
      "\n",
      "    IQR, mad, sd, var, xtabs\n",
      "\n",
      "\n",
      "The following objects are masked from ‘package:base’:\n",
      "\n",
      "    anyDuplicated, aperm, append, as.data.frame, basename, cbind,\n",
      "    colnames, dirname, do.call, duplicated, eval, evalq, Filter, Find,\n",
      "    get, grep, grepl, intersect, is.unsorted, lapply, Map, mapply,\n",
      "    match, mget, order, paste, pmax, pmax.int, pmin, pmin.int,\n",
      "    Position, rank, rbind, Reduce, rownames, sapply, setdiff, sort,\n",
      "    table, tapply, union, unique, unsplit, which.max, which.min\n",
      "\n",
      "\n",
      "\n",
      "Attaching package: ‘S4Vectors’\n",
      "\n",
      "\n",
      "The following object is masked from ‘package:utils’:\n",
      "\n",
      "    findMatches\n",
      "\n",
      "\n",
      "The following objects are masked from ‘package:base’:\n",
      "\n",
      "    expand.grid, I, unname\n",
      "\n",
      "\n",
      "\n",
      "Attaching package: ‘MatrixGenerics’\n",
      "\n",
      "\n",
      "The following objects are masked from ‘package:matrixStats’:\n",
      "\n",
      "    colAlls, colAnyNAs, colAnys, colAvgsPerRowSet, colCollapse,\n",
      "    colCounts, colCummaxs, colCummins, colCumprods, colCumsums,\n",
      "    colDiffs, colIQRDiffs, colIQRs, colLogSumExps, colMadDiffs,\n",
      "    colMads, colMaxs, colMeans2, colMedians, colMins, colOrderStats,\n",
      "    colProds, colQuantiles, colRanges, colRanks, colSdDiffs, colSds,\n",
      "    colSums2, colTabulates, colVarDiffs, colVars, colWeightedMads,\n",
      "    colWeightedMeans, colWeightedMedians, colWeightedSds,\n",
      "    colWeightedVars, rowAlls, rowAnyNAs, rowAnys, rowAvgsPerColSet,\n",
      "    rowCollapse, rowCounts, rowCummaxs, rowCummins, rowCumprods,\n",
      "    rowCumsums, rowDiffs, rowIQRDiffs, rowIQRs, rowLogSumExps,\n",
      "    rowMadDiffs, rowMads, rowMaxs, rowMeans2, rowMedians, rowMins,\n",
      "    rowOrderStats, rowProds, rowQuantiles, rowRanges, rowRanks,\n",
      "    rowSdDiffs, rowSds, rowSums2, rowTabulates, rowVarDiffs, rowVars,\n",
      "    rowWeightedMads, rowWeightedMeans, rowWeightedMedians,\n",
      "    rowWeightedSds, rowWeightedVars\n",
      "\n",
      "\n",
      "Welcome to Bioconductor\n",
      "\n",
      "    Vignettes contain introductory material; view with\n",
      "    'browseVignettes()'. To cite Bioconductor, see\n",
      "    'citation(\"Biobase\")', and for packages 'citation(\"pkgname\")'.\n",
      "\n",
      "\n",
      "\n",
      "Attaching package: ‘Biobase’\n",
      "\n",
      "\n",
      "The following object is masked from ‘package:MatrixGenerics’:\n",
      "\n",
      "    rowMedians\n",
      "\n",
      "\n",
      "The following objects are masked from ‘package:matrixStats’:\n",
      "\n",
      "    anyMissing, rowMedians\n",
      "\n",
      "\n",
      "── \u001b[1mAttaching core tidyverse packages\u001b[22m ────────────────────────────────────────────────────────────────────── tidyverse 2.0.0 ──\n",
      "\u001b[32m✔\u001b[39m \u001b[34mdplyr    \u001b[39m 1.1.4     \u001b[32m✔\u001b[39m \u001b[34mpurrr    \u001b[39m 1.0.2\n",
      "\u001b[32m✔\u001b[39m \u001b[34mforcats  \u001b[39m 1.0.0     \u001b[32m✔\u001b[39m \u001b[34mreadr    \u001b[39m 2.1.5\n",
      "\u001b[32m✔\u001b[39m \u001b[34mggplot2  \u001b[39m 3.4.4     \u001b[32m✔\u001b[39m \u001b[34mstringr  \u001b[39m 1.5.1\n",
      "\u001b[32m✔\u001b[39m \u001b[34mlubridate\u001b[39m 1.9.3     \u001b[32m✔\u001b[39m \u001b[34mtidyr    \u001b[39m 1.3.0\n",
      "── \u001b[1mConflicts\u001b[22m ──────────────────────────────────────────────────────────────────────────────────────── tidyverse_conflicts() ──\n",
      "\u001b[31m✖\u001b[39m \u001b[34mlubridate\u001b[39m::\u001b[32m%within%()\u001b[39m masks \u001b[34mIRanges\u001b[39m::%within%()\n",
      "\u001b[31m✖\u001b[39m \u001b[34mdplyr\u001b[39m::\u001b[32mcollapse()\u001b[39m     masks \u001b[34mIRanges\u001b[39m::collapse()\n",
      "\u001b[31m✖\u001b[39m \u001b[34mdplyr\u001b[39m::\u001b[32mcombine()\u001b[39m      masks \u001b[34mBiobase\u001b[39m::combine(), \u001b[34mBiocGenerics\u001b[39m::combine()\n",
      "\u001b[31m✖\u001b[39m \u001b[34mdplyr\u001b[39m::\u001b[32mcount()\u001b[39m        masks \u001b[34mmatrixStats\u001b[39m::count()\n",
      "\u001b[31m✖\u001b[39m \u001b[34mdplyr\u001b[39m::\u001b[32mdesc()\u001b[39m         masks \u001b[34mIRanges\u001b[39m::desc()\n",
      "\u001b[31m✖\u001b[39m \u001b[34mtidyr\u001b[39m::\u001b[32mexpand()\u001b[39m       masks \u001b[34mS4Vectors\u001b[39m::expand()\n",
      "\u001b[31m✖\u001b[39m \u001b[34mdplyr\u001b[39m::\u001b[32mfilter()\u001b[39m       masks \u001b[34mstats\u001b[39m::filter()\n",
      "\u001b[31m✖\u001b[39m \u001b[34mdplyr\u001b[39m::\u001b[32mfirst()\u001b[39m        masks \u001b[34mS4Vectors\u001b[39m::first()\n",
      "\u001b[31m✖\u001b[39m \u001b[34mdplyr\u001b[39m::\u001b[32mlag()\u001b[39m          masks \u001b[34mstats\u001b[39m::lag()\n",
      "\u001b[31m✖\u001b[39m \u001b[34mggplot2\u001b[39m::\u001b[32mPosition()\u001b[39m   masks \u001b[34mBiocGenerics\u001b[39m::Position(), \u001b[34mbase\u001b[39m::Position()\n",
      "\u001b[31m✖\u001b[39m \u001b[34mpurrr\u001b[39m::\u001b[32mreduce()\u001b[39m       masks \u001b[34mGenomicRanges\u001b[39m::reduce(), \u001b[34mIRanges\u001b[39m::reduce()\n",
      "\u001b[31m✖\u001b[39m \u001b[34mdplyr\u001b[39m::\u001b[32mrename()\u001b[39m       masks \u001b[34mS4Vectors\u001b[39m::rename()\n",
      "\u001b[31m✖\u001b[39m \u001b[34mlubridate\u001b[39m::\u001b[32msecond()\u001b[39m   masks \u001b[34mS4Vectors\u001b[39m::second()\n",
      "\u001b[31m✖\u001b[39m \u001b[34mlubridate\u001b[39m::\u001b[32msecond<-()\u001b[39m masks \u001b[34mS4Vectors\u001b[39m::second<-()\n",
      "\u001b[31m✖\u001b[39m \u001b[34mdplyr\u001b[39m::\u001b[32mslice()\u001b[39m        masks \u001b[34mIRanges\u001b[39m::slice()\n",
      "\u001b[36mℹ\u001b[39m Use the conflicted package (\u001b[3m\u001b[34m<http://conflicted.r-lib.org/>\u001b[39m\u001b[23m) to force all conflicts to become errors\n"
     ]
    }
   ],
   "source": [
    "library('tximport', quietly=T)\n",
    "library('DESeq2',quietly=T)\n",
    "library('ashr',quietly=T)\n",
    "library('tibble',quietly=T)\n",
    "library('tidyverse',quietly=T)"
   ]
  },
  {
   "cell_type": "markdown",
   "id": "cbdaeac3",
   "metadata": {},
   "source": [
    "# This notebook will create and save two data types:\n",
    "1. matrix of significant differentially expressed orf's from the results of the differential expression analysis\n",
    "2. matrix of VSD normalized counts ordered by variance across samples\n",
    "## Both of these files will be created for transcript-level data and \"gene-level\" data using only transcripts with Kegg annotations and summing by Kegg annotation. \n",
    "#### The second method will result in data with rownames as Kegg annotations, meaning each annotation appears once in the matrix. "
   ]
  },
  {
   "cell_type": "markdown",
   "id": "c10b8cd6",
   "metadata": {},
   "source": [
    "# 1. Read in Salmon Counts\n",
    "----"
   ]
  },
  {
   "cell_type": "code",
   "execution_count": 2,
   "id": "020b7d25-9166-4aad-b31a-b6522d94eaf5",
   "metadata": {},
   "outputs": [
    {
     "name": "stderr",
     "output_type": "stream",
     "text": [
      "reading in files with read_tsv\n",
      "\n",
      "1 \n",
      "2 \n",
      "3 \n",
      "4 \n",
      "5 \n",
      "\n",
      "\n"
     ]
    },
    {
     "name": "stdout",
     "output_type": "stream",
     "text": [
      "         id isolate treatment rep\n",
      "1 add_backA      04  Add_Back   A\n",
      "2 add_backB      04  Add_Back   B\n",
      "3  pFe21_9A      04  Low_Iron   A\n",
      "4  pFe21_9B      04  Low_Iron   B\n",
      "5  pFe21_9C      04  Low_Iron   C\n"
     ]
    },
    {
     "name": "stderr",
     "output_type": "stream",
     "text": [
      "reading in files with read_tsv\n",
      "\n",
      "1 \n",
      "2 \n",
      "3 \n",
      "4 \n",
      "5 \n",
      "6 \n",
      "7 \n",
      "8 \n",
      "\n",
      "\n"
     ]
    },
    {
     "name": "stdout",
     "output_type": "stream",
     "text": [
      "         id isolate treatment rep\n",
      "1 add_backB      08  Add_Back   B\n",
      "2 add_backC      08  Add_Back   C\n",
      "3  pFe21_9A      08  Low_Iron   A\n",
      "4    pFe19A      08 High_Iron   A\n",
      "5    pFe19B      08 High_Iron   B\n",
      "6    pFe19C      08 High_Iron   C\n",
      "7  pFe21_9B      08  Low_Iron   B\n",
      "8  pFe21_9C      08  Low_Iron   C\n"
     ]
    },
    {
     "name": "stderr",
     "output_type": "stream",
     "text": [
      "reading in files with read_tsv\n",
      "\n",
      "1 \n",
      "2 \n",
      "3 \n",
      "4 \n",
      "5 \n",
      "6 \n",
      "7 \n",
      "8 \n",
      "9 \n",
      "\n",
      "\n"
     ]
    },
    {
     "name": "stdout",
     "output_type": "stream",
     "text": [
      "         id isolate treatment rep\n",
      "1 add_backA      06  Add_Back   A\n",
      "2 add_backB      06  Add_Back   B\n",
      "3 add_backC      06  Add_Back   C\n",
      "4    pFe19A      06 High_Iron   A\n",
      "5    pFe19B      06 High_Iron   B\n",
      "6    pFe19C      06 High_Iron   C\n",
      "7  pFe21_9A      06  Low_Iron   A\n",
      "8  pFe21_9B      06  Low_Iron   B\n",
      "9  pFe21_9C      06  Low_Iron   C\n"
     ]
    },
    {
     "name": "stderr",
     "output_type": "stream",
     "text": [
      "reading in files with read_tsv\n",
      "\n",
      "1 \n",
      "2 \n",
      "3 \n",
      "4 \n",
      "5 \n",
      "6 \n",
      "7 \n",
      "8 \n",
      "9 \n",
      "\n",
      "\n"
     ]
    },
    {
     "name": "stdout",
     "output_type": "stream",
     "text": [
      "         id isolate treatment rep\n",
      "1 add_backA      13  Add_Back   A\n",
      "2 add_backB      13  Add_Back   B\n",
      "3 add_backC      13  Add_Back   C\n",
      "4    pFe19A      13 High_Iron   A\n",
      "5    pFe19B      13 High_Iron   B\n",
      "6    pFe19C      13 High_Iron   C\n",
      "7  pFe21_9A      13  Low_Iron   A\n",
      "8  pFe21_9B      13  Low_Iron   B\n",
      "9  pFe21_9C      13  Low_Iron   C\n"
     ]
    },
    {
     "data": {
      "text/html": [
       "<table class=\"dataframe\">\n",
       "<caption>A matrix: 6 × 8 of type dbl</caption>\n",
       "<thead>\n",
       "\t<tr><th></th><th scope=col>add_backB</th><th scope=col>add_backC</th><th scope=col>pFe21_9A</th><th scope=col>pFe19A</th><th scope=col>pFe19B</th><th scope=col>pFe19C</th><th scope=col>pFe21_9B</th><th scope=col>pFe21_9C</th></tr>\n",
       "</thead>\n",
       "<tbody>\n",
       "\t<tr><th scope=row>NODE_10000_length_1734_cov_7.947622_g6638_i0.p1</th><td> 34.000</td><td> 15.000</td><td> 9.000</td><td> 5.000</td><td> 7.000</td><td>15.000</td><td> 10.000</td><td>  1.000</td></tr>\n",
       "\t<tr><th scope=row>NODE_10001_length_1733_cov_212.025904_g6639_i0.p1</th><td>677.000</td><td>263.878</td><td>49.000</td><td>37.000</td><td>30.000</td><td>58.000</td><td>108.000</td><td>141.237</td></tr>\n",
       "\t<tr><th scope=row>NODE_10002_length_1733_cov_138.864458_g1003_i6.p1</th><td>165.923</td><td> 88.899</td><td>28.753</td><td>14.298</td><td>16.228</td><td>44.130</td><td> 12.042</td><td> 26.511</td></tr>\n",
       "\t<tr><th scope=row>NODE_10003_length_1733_cov_40.357229_g5975_i1.p2</th><td>  6.055</td><td>  1.363</td><td> 1.001</td><td> 1.098</td><td> 0.000</td><td> 3.387</td><td>  9.037</td><td>  4.809</td></tr>\n",
       "\t<tr><th scope=row>NODE_10003_length_1733_cov_40.357229_g5975_i1.p1</th><td>  4.000</td><td>  2.000</td><td> 4.000</td><td> 1.000</td><td> 0.000</td><td> 7.000</td><td>  4.000</td><td>  1.000</td></tr>\n",
       "\t<tr><th scope=row>NODE_10004_length_1733_cov_25.593373_g6640_i0.p1</th><td> 70.000</td><td> 40.000</td><td>11.000</td><td>11.000</td><td> 5.000</td><td> 9.000</td><td> 34.000</td><td> 17.000</td></tr>\n",
       "</tbody>\n",
       "</table>\n"
      ],
      "text/latex": [
       "A matrix: 6 × 8 of type dbl\n",
       "\\begin{tabular}{r|llllllll}\n",
       "  & add\\_backB & add\\_backC & pFe21\\_9A & pFe19A & pFe19B & pFe19C & pFe21\\_9B & pFe21\\_9C\\\\\n",
       "\\hline\n",
       "\tNODE\\_10000\\_length\\_1734\\_cov\\_7.947622\\_g6638\\_i0.p1 &  34.000 &  15.000 &  9.000 &  5.000 &  7.000 & 15.000 &  10.000 &   1.000\\\\\n",
       "\tNODE\\_10001\\_length\\_1733\\_cov\\_212.025904\\_g6639\\_i0.p1 & 677.000 & 263.878 & 49.000 & 37.000 & 30.000 & 58.000 & 108.000 & 141.237\\\\\n",
       "\tNODE\\_10002\\_length\\_1733\\_cov\\_138.864458\\_g1003\\_i6.p1 & 165.923 &  88.899 & 28.753 & 14.298 & 16.228 & 44.130 &  12.042 &  26.511\\\\\n",
       "\tNODE\\_10003\\_length\\_1733\\_cov\\_40.357229\\_g5975\\_i1.p2 &   6.055 &   1.363 &  1.001 &  1.098 &  0.000 &  3.387 &   9.037 &   4.809\\\\\n",
       "\tNODE\\_10003\\_length\\_1733\\_cov\\_40.357229\\_g5975\\_i1.p1 &   4.000 &   2.000 &  4.000 &  1.000 &  0.000 &  7.000 &   4.000 &   1.000\\\\\n",
       "\tNODE\\_10004\\_length\\_1733\\_cov\\_25.593373\\_g6640\\_i0.p1 &  70.000 &  40.000 & 11.000 & 11.000 &  5.000 &  9.000 &  34.000 &  17.000\\\\\n",
       "\\end{tabular}\n"
      ],
      "text/markdown": [
       "\n",
       "A matrix: 6 × 8 of type dbl\n",
       "\n",
       "| <!--/--> | add_backB | add_backC | pFe21_9A | pFe19A | pFe19B | pFe19C | pFe21_9B | pFe21_9C |\n",
       "|---|---|---|---|---|---|---|---|---|\n",
       "| NODE_10000_length_1734_cov_7.947622_g6638_i0.p1 |  34.000 |  15.000 |  9.000 |  5.000 |  7.000 | 15.000 |  10.000 |   1.000 |\n",
       "| NODE_10001_length_1733_cov_212.025904_g6639_i0.p1 | 677.000 | 263.878 | 49.000 | 37.000 | 30.000 | 58.000 | 108.000 | 141.237 |\n",
       "| NODE_10002_length_1733_cov_138.864458_g1003_i6.p1 | 165.923 |  88.899 | 28.753 | 14.298 | 16.228 | 44.130 |  12.042 |  26.511 |\n",
       "| NODE_10003_length_1733_cov_40.357229_g5975_i1.p2 |   6.055 |   1.363 |  1.001 |  1.098 |  0.000 |  3.387 |   9.037 |   4.809 |\n",
       "| NODE_10003_length_1733_cov_40.357229_g5975_i1.p1 |   4.000 |   2.000 |  4.000 |  1.000 |  0.000 |  7.000 |   4.000 |   1.000 |\n",
       "| NODE_10004_length_1733_cov_25.593373_g6640_i0.p1 |  70.000 |  40.000 | 11.000 | 11.000 |  5.000 |  9.000 |  34.000 |  17.000 |\n",
       "\n"
      ],
      "text/plain": [
       "                                                  add_backB add_backC pFe21_9A\n",
       "NODE_10000_length_1734_cov_7.947622_g6638_i0.p1    34.000    15.000    9.000  \n",
       "NODE_10001_length_1733_cov_212.025904_g6639_i0.p1 677.000   263.878   49.000  \n",
       "NODE_10002_length_1733_cov_138.864458_g1003_i6.p1 165.923    88.899   28.753  \n",
       "NODE_10003_length_1733_cov_40.357229_g5975_i1.p2    6.055     1.363    1.001  \n",
       "NODE_10003_length_1733_cov_40.357229_g5975_i1.p1    4.000     2.000    4.000  \n",
       "NODE_10004_length_1733_cov_25.593373_g6640_i0.p1   70.000    40.000   11.000  \n",
       "                                                  pFe19A pFe19B pFe19C pFe21_9B\n",
       "NODE_10000_length_1734_cov_7.947622_g6638_i0.p1    5.000  7.000 15.000  10.000 \n",
       "NODE_10001_length_1733_cov_212.025904_g6639_i0.p1 37.000 30.000 58.000 108.000 \n",
       "NODE_10002_length_1733_cov_138.864458_g1003_i6.p1 14.298 16.228 44.130  12.042 \n",
       "NODE_10003_length_1733_cov_40.357229_g5975_i1.p2   1.098  0.000  3.387   9.037 \n",
       "NODE_10003_length_1733_cov_40.357229_g5975_i1.p1   1.000  0.000  7.000   4.000 \n",
       "NODE_10004_length_1733_cov_25.593373_g6640_i0.p1  11.000  5.000  9.000  34.000 \n",
       "                                                  pFe21_9C\n",
       "NODE_10000_length_1734_cov_7.947622_g6638_i0.p1     1.000 \n",
       "NODE_10001_length_1733_cov_212.025904_g6639_i0.p1 141.237 \n",
       "NODE_10002_length_1733_cov_138.864458_g1003_i6.p1  26.511 \n",
       "NODE_10003_length_1733_cov_40.357229_g5975_i1.p2    4.809 \n",
       "NODE_10003_length_1733_cov_40.357229_g5975_i1.p1    1.000 \n",
       "NODE_10004_length_1733_cov_25.593373_g6640_i0.p1   17.000 "
      ]
     },
     "metadata": {},
     "output_type": "display_data"
    }
   ],
   "source": [
    "#fixing tximport function \n",
    "\n",
    "pattern='[[:alpha:]]+([[:digit:]]{2}|_)(_9[[:alpha:]]|[[:alpha:]]*)'\n",
    "\n",
    "read.in <- function(org){\n",
    "    dir <- paste(\"/work/nclab/lucy/SAB/Assembly/\",org,\"/salmon\",sep='')\n",
    "    files <- file.path(dir,list.files(dir,pattern=\".sf\",recursive=TRUE))\n",
    "    \n",
    "    names(files)=str_extract(files,pattern)\n",
    "    names(files)=str_replace(names(files),'oFe', 'pFe') #correct a sample for 08 from oFe to pFe\n",
    "\n",
    "    if (all(file.exists(files)) == FALSE) {\n",
    "        print(\"ERROR IN FILE NAMES, not all files exist\")\n",
    "        print(paste(\"Directory:\", dir, sep=\"/n\"))\n",
    "        print(paste(\"Files:\", files, sep='/n'))\n",
    "    }\n",
    "    \n",
    "    raw_counts <- tximport(files, type='salmon', txOut = TRUE) \n",
    "}\n",
    "\n",
    "create.metadata=function(org){\n",
    "    dir <- paste(\"/work/nclab/lucy/SAB/Assembly/\",org,\"/salmon\",sep='')\n",
    "    files <- file.path(dir,list.files(dir,pattern=\".sf\",recursive=TRUE))\n",
    "    \n",
    "    id=str_extract(files,pattern)\n",
    "    id=str_replace(id,'oFe', 'pFe')\n",
    "    metadata=data.frame('id'=id,'isolate'=org,'treatment'=str_extract(id,'[[:alpha:]]+(19|21_9|_back)'),'rep'=str_extract(id, 'A|B|C'))\n",
    "    metadata$treatment=str_replace_all(metadata$treatment, c('pFe19'='High_Iron', 'pFe21_9'='Low_Iron','add_back'='Add_Back'))\n",
    "    metadata\n",
    "    print(metadata)                    \n",
    "}\n",
    "counts_4=read.in('04')\n",
    "metadata_4=create.metadata('04')\n",
    "\n",
    "counts_8=read.in('08')\n",
    "metadata_8=create.metadata('08')\n",
    "\n",
    "counts_6=read.in('06')\n",
    "metadata_6=create.metadata('06')\n",
    "\n",
    "counts_13=read.in('13')\n",
    "metadata_13=create.metadata('13')\n",
    "head(counts_8$counts)"
   ]
  },
  {
   "cell_type": "markdown",
   "id": "6eb40913",
   "metadata": {},
   "source": [
    "# 2. Create DeSeq object\n",
    "---------\n",
    "## Create deseq2 object normalize the counts object for plotting later, and run the differential expression\n",
    "We should have four kinds of objects for each sample now, dds (deseq object), normalized dds, differential expression analysis object (de), and the differential expression results (res)\n",
    "## 2.1 create dds"
   ]
  },
  {
   "cell_type": "code",
   "execution_count": 31,
   "id": "21c648de-7e0c-477f-93ad-70b5d3a52b4c",
   "metadata": {
    "scrolled": true
   },
   "outputs": [
    {
     "name": "stderr",
     "output_type": "stream",
     "text": [
      "Warning message in DESeqDataSet(se, design = design, ignoreRank):\n",
      "“some variables in design formula are characters, converting to factors”\n",
      "using counts and average transcript lengths from tximport\n",
      "\n"
     ]
    },
    {
     "name": "stdout",
     "output_type": "stream",
     "text": [
      "[1] 40907\n",
      "[1] 27159\n"
     ]
    },
    {
     "name": "stderr",
     "output_type": "stream",
     "text": [
      "Warning message in DESeqDataSet(se, design = design, ignoreRank):\n",
      "“some variables in design formula are characters, converting to factors”\n",
      "using counts and average transcript lengths from tximport\n",
      "\n"
     ]
    },
    {
     "name": "stdout",
     "output_type": "stream",
     "text": [
      "[1] 37958\n",
      "[1] 23714\n"
     ]
    },
    {
     "name": "stderr",
     "output_type": "stream",
     "text": [
      "Warning message in DESeqDataSet(se, design = design, ignoreRank):\n",
      "“some variables in design formula are characters, converting to factors”\n",
      "using counts and average transcript lengths from tximport\n",
      "\n"
     ]
    },
    {
     "name": "stdout",
     "output_type": "stream",
     "text": [
      "[1] 53342\n",
      "[1] 35097\n"
     ]
    },
    {
     "name": "stderr",
     "output_type": "stream",
     "text": [
      "Warning message in DESeqDataSet(se, design = design, ignoreRank):\n",
      "“some variables in design formula are characters, converting to factors”\n",
      "using counts and average transcript lengths from tximport\n",
      "\n"
     ]
    },
    {
     "name": "stdout",
     "output_type": "stream",
     "text": [
      "[1] 48089\n",
      "[1] 29014\n"
     ]
    },
    {
     "data": {
      "text/plain": [
       "List of length 2\n",
       "names(2): counts avgTxLength"
      ]
     },
     "metadata": {},
     "output_type": "display_data"
    }
   ],
   "source": [
    "dds <- function(raw_counts, metadata, n){\n",
    "    dds <- DESeqDataSetFromTximport( raw_counts,\n",
    "                             colData=metadata,\n",
    "                             design=~treatment)\n",
    "    dds$treatment <- relevel(dds$treatment, ref = \"Low_Iron\")\n",
    "    keep <- rowSums(counts(dds) >=5) >= n #filter out rows with too low expression\n",
    "    print(nrow(dds))\n",
    "    dds <- dds[keep, ]\n",
    "    print(nrow(dds))\n",
    "    dds\n",
    "}\n",
    "\n",
    "dds4 <- dds(counts_4, metadata_4, 2)\n",
    "dds8 <- dds(counts_8, metadata_8, 2)\n",
    "dds6 <- dds(counts_6, metadata_6, 3)\n",
    "dds13 <- dds(counts_13, metadata_13, 3)\n",
    "head(assays(dds13))"
   ]
  },
  {
   "cell_type": "markdown",
   "id": "d0e3b6ef-43fb-44f9-91c4-de42e2b3d142",
   "metadata": {},
   "source": [
    "## Below are flavodoxin genes to look for with kegg annotations to make sure they are not lost later"
   ]
  },
  {
   "cell_type": "code",
   "execution_count": 32,
   "id": "12e89890-7158-42b6-8936-241f59c39f25",
   "metadata": {},
   "outputs": [
    {
     "data": {
      "text/html": [
       "<table class=\"dataframe\">\n",
       "<caption>A data.frame: 1 × 10</caption>\n",
       "<thead>\n",
       "\t<tr><th scope=col>orfs</th><th scope=col>add_backA</th><th scope=col>add_backB</th><th scope=col>add_backC</th><th scope=col>pFe19A</th><th scope=col>pFe19B</th><th scope=col>pFe19C</th><th scope=col>pFe21_9A</th><th scope=col>pFe21_9B</th><th scope=col>pFe21_9C</th></tr>\n",
       "\t<tr><th scope=col>&lt;chr&gt;</th><th scope=col>&lt;int&gt;</th><th scope=col>&lt;int&gt;</th><th scope=col>&lt;int&gt;</th><th scope=col>&lt;int&gt;</th><th scope=col>&lt;int&gt;</th><th scope=col>&lt;int&gt;</th><th scope=col>&lt;int&gt;</th><th scope=col>&lt;int&gt;</th><th scope=col>&lt;int&gt;</th></tr>\n",
       "</thead>\n",
       "<tbody>\n",
       "\t<tr><td>NODE_19011_length_1508_cov_60.425087_g9146_i1.p1</td><td>42</td><td>60</td><td>3</td><td>116</td><td>103</td><td>64</td><td>38</td><td>35</td><td>22</td></tr>\n",
       "</tbody>\n",
       "</table>\n"
      ],
      "text/latex": [
       "A data.frame: 1 × 10\n",
       "\\begin{tabular}{llllllllll}\n",
       " orfs & add\\_backA & add\\_backB & add\\_backC & pFe19A & pFe19B & pFe19C & pFe21\\_9A & pFe21\\_9B & pFe21\\_9C\\\\\n",
       " <chr> & <int> & <int> & <int> & <int> & <int> & <int> & <int> & <int> & <int>\\\\\n",
       "\\hline\n",
       "\t NODE\\_19011\\_length\\_1508\\_cov\\_60.425087\\_g9146\\_i1.p1 & 42 & 60 & 3 & 116 & 103 & 64 & 38 & 35 & 22\\\\\n",
       "\\end{tabular}\n"
      ],
      "text/markdown": [
       "\n",
       "A data.frame: 1 × 10\n",
       "\n",
       "| orfs &lt;chr&gt; | add_backA &lt;int&gt; | add_backB &lt;int&gt; | add_backC &lt;int&gt; | pFe19A &lt;int&gt; | pFe19B &lt;int&gt; | pFe19C &lt;int&gt; | pFe21_9A &lt;int&gt; | pFe21_9B &lt;int&gt; | pFe21_9C &lt;int&gt; |\n",
       "|---|---|---|---|---|---|---|---|---|---|\n",
       "| NODE_19011_length_1508_cov_60.425087_g9146_i1.p1 | 42 | 60 | 3 | 116 | 103 | 64 | 38 | 35 | 22 |\n",
       "\n"
      ],
      "text/plain": [
       "  orfs                                             add_backA add_backB\n",
       "1 NODE_19011_length_1508_cov_60.425087_g9146_i1.p1 42        60       \n",
       "  add_backC pFe19A pFe19B pFe19C pFe21_9A pFe21_9B pFe21_9C\n",
       "1 3         116    103    64     38       35       22      "
      ]
     },
     "metadata": {},
     "output_type": "display_data"
    },
    {
     "data": {
      "text/html": [
       "<table class=\"dataframe\">\n",
       "<caption>A data.frame: 1 × 10</caption>\n",
       "<thead>\n",
       "\t<tr><th scope=col>orfs</th><th scope=col>add_backA</th><th scope=col>add_backB</th><th scope=col>add_backC</th><th scope=col>pFe19A</th><th scope=col>pFe19B</th><th scope=col>pFe19C</th><th scope=col>pFe21_9A</th><th scope=col>pFe21_9B</th><th scope=col>pFe21_9C</th></tr>\n",
       "\t<tr><th scope=col>&lt;chr&gt;</th><th scope=col>&lt;int&gt;</th><th scope=col>&lt;int&gt;</th><th scope=col>&lt;int&gt;</th><th scope=col>&lt;int&gt;</th><th scope=col>&lt;int&gt;</th><th scope=col>&lt;int&gt;</th><th scope=col>&lt;int&gt;</th><th scope=col>&lt;int&gt;</th><th scope=col>&lt;int&gt;</th></tr>\n",
       "</thead>\n",
       "<tbody>\n",
       "\t<tr><td>NODE_32738_length_942_cov_54.683544_g18313_i0.p1</td><td>0</td><td>0</td><td>0</td><td>0</td><td>0</td><td>0</td><td>102</td><td>121</td><td>97</td></tr>\n",
       "</tbody>\n",
       "</table>\n"
      ],
      "text/latex": [
       "A data.frame: 1 × 10\n",
       "\\begin{tabular}{llllllllll}\n",
       " orfs & add\\_backA & add\\_backB & add\\_backC & pFe19A & pFe19B & pFe19C & pFe21\\_9A & pFe21\\_9B & pFe21\\_9C\\\\\n",
       " <chr> & <int> & <int> & <int> & <int> & <int> & <int> & <int> & <int> & <int>\\\\\n",
       "\\hline\n",
       "\t NODE\\_32738\\_length\\_942\\_cov\\_54.683544\\_g18313\\_i0.p1 & 0 & 0 & 0 & 0 & 0 & 0 & 102 & 121 & 97\\\\\n",
       "\\end{tabular}\n"
      ],
      "text/markdown": [
       "\n",
       "A data.frame: 1 × 10\n",
       "\n",
       "| orfs &lt;chr&gt; | add_backA &lt;int&gt; | add_backB &lt;int&gt; | add_backC &lt;int&gt; | pFe19A &lt;int&gt; | pFe19B &lt;int&gt; | pFe19C &lt;int&gt; | pFe21_9A &lt;int&gt; | pFe21_9B &lt;int&gt; | pFe21_9C &lt;int&gt; |\n",
       "|---|---|---|---|---|---|---|---|---|---|\n",
       "| NODE_32738_length_942_cov_54.683544_g18313_i0.p1 | 0 | 0 | 0 | 0 | 0 | 0 | 102 | 121 | 97 |\n",
       "\n"
      ],
      "text/plain": [
       "  orfs                                             add_backA add_backB\n",
       "1 NODE_32738_length_942_cov_54.683544_g18313_i0.p1 0         0        \n",
       "  add_backC pFe19A pFe19B pFe19C pFe21_9A pFe21_9B pFe21_9C\n",
       "1 0         0      0      0      102      121      97      "
      ]
     },
     "metadata": {},
     "output_type": "display_data"
    },
    {
     "data": {
      "text/html": [
       "<table class=\"dataframe\">\n",
       "<caption>A data.frame: 1 × 10</caption>\n",
       "<thead>\n",
       "\t<tr><th scope=col>orfs</th><th scope=col>add_backA</th><th scope=col>add_backB</th><th scope=col>add_backC</th><th scope=col>pFe19A</th><th scope=col>pFe19B</th><th scope=col>pFe19C</th><th scope=col>pFe21_9A</th><th scope=col>pFe21_9B</th><th scope=col>pFe21_9C</th></tr>\n",
       "\t<tr><th scope=col>&lt;chr&gt;</th><th scope=col>&lt;int&gt;</th><th scope=col>&lt;int&gt;</th><th scope=col>&lt;int&gt;</th><th scope=col>&lt;int&gt;</th><th scope=col>&lt;int&gt;</th><th scope=col>&lt;int&gt;</th><th scope=col>&lt;int&gt;</th><th scope=col>&lt;int&gt;</th><th scope=col>&lt;int&gt;</th></tr>\n",
       "</thead>\n",
       "<tbody>\n",
       "\t<tr><td>NODE_34623_length_873_cov_1933.596250_g19622_i0.p1</td><td>0</td><td>0</td><td>0</td><td>0</td><td>0</td><td>0</td><td>3619</td><td>3036</td><td>2551</td></tr>\n",
       "</tbody>\n",
       "</table>\n"
      ],
      "text/latex": [
       "A data.frame: 1 × 10\n",
       "\\begin{tabular}{llllllllll}\n",
       " orfs & add\\_backA & add\\_backB & add\\_backC & pFe19A & pFe19B & pFe19C & pFe21\\_9A & pFe21\\_9B & pFe21\\_9C\\\\\n",
       " <chr> & <int> & <int> & <int> & <int> & <int> & <int> & <int> & <int> & <int>\\\\\n",
       "\\hline\n",
       "\t NODE\\_34623\\_length\\_873\\_cov\\_1933.596250\\_g19622\\_i0.p1 & 0 & 0 & 0 & 0 & 0 & 0 & 3619 & 3036 & 2551\\\\\n",
       "\\end{tabular}\n"
      ],
      "text/markdown": [
       "\n",
       "A data.frame: 1 × 10\n",
       "\n",
       "| orfs &lt;chr&gt; | add_backA &lt;int&gt; | add_backB &lt;int&gt; | add_backC &lt;int&gt; | pFe19A &lt;int&gt; | pFe19B &lt;int&gt; | pFe19C &lt;int&gt; | pFe21_9A &lt;int&gt; | pFe21_9B &lt;int&gt; | pFe21_9C &lt;int&gt; |\n",
       "|---|---|---|---|---|---|---|---|---|---|\n",
       "| NODE_34623_length_873_cov_1933.596250_g19622_i0.p1 | 0 | 0 | 0 | 0 | 0 | 0 | 3619 | 3036 | 2551 |\n",
       "\n"
      ],
      "text/plain": [
       "  orfs                                               add_backA add_backB\n",
       "1 NODE_34623_length_873_cov_1933.596250_g19622_i0.p1 0         0        \n",
       "  add_backC pFe19A pFe19B pFe19C pFe21_9A pFe21_9B pFe21_9C\n",
       "1 0         0      0      0      3619     3036     2551    "
      ]
     },
     "metadata": {},
     "output_type": "display_data"
    }
   ],
   "source": [
    "\n",
    "#isip2a:\n",
    "\n",
    "d13=as.data.frame(assay(dds13)) %>% rownames_to_column('orfs')\n",
    "\n",
    "filter(d13, orfs=='NODE_19011_length_1508_cov_60.425087_g9146_i1.p1') \n",
    "filter(d13, orfs=='NODE_32738_length_942_cov_54.683544_g18313_i0.p1')\n",
    "filter(d13, orfs=='NODE_34623_length_873_cov_1933.596250_g19622_i0.p1')"
   ]
  },
  {
   "cell_type": "markdown",
   "id": "7f976821",
   "metadata": {},
   "source": [
    "### 2.2 VSD Normalize counts \n",
    "---\n",
    "Order rows by variance across treatment. Top rows will have highest variance in normalized counts between treatments. Save in vsd folder. "
   ]
  },
  {
   "cell_type": "code",
   "execution_count": 33,
   "id": "744d73cc",
   "metadata": {},
   "outputs": [
    {
     "name": "stderr",
     "output_type": "stream",
     "text": [
      "using 'avgTxLength' from assays(dds), correcting for library size\n",
      "\n",
      "using 'avgTxLength' from assays(dds), correcting for library size\n",
      "\n",
      "using 'avgTxLength' from assays(dds), correcting for library size\n",
      "\n",
      "using 'avgTxLength' from assays(dds), correcting for library size\n",
      "\n"
     ]
    },
    {
     "name": "stdout",
     "output_type": "stream",
     "text": [
      "[1] \"saving 04\"\n",
      "[1] \"saving 08\"\n",
      "[1] \"saving 06\"\n",
      "[1] \"saving 13\"\n"
     ]
    }
   ],
   "source": [
    "vsd.norm <- function(dds){\n",
    "    vst(dds,blind=FALSE)\n",
    "    }\n",
    "\n",
    "#full vsd deseq2 objects:\n",
    "vsd4 <- vsd.norm(dds4)\n",
    "vsd8 <- vsd.norm(dds8)\n",
    "vsd6 <- vsd.norm(dds6)\n",
    "vsd13 <- vsd.norm(dds13)\n",
    "\n",
    "## order the df's by decreasing variance. top rows have highest varience between \n",
    "## samples. write dataframe\n",
    "write.vsd <- function(vsd, org){\n",
    "    vsd <- assay(vsd)\n",
    "    vsd_order <- order(rowVars(vsd), decreasing=T)\n",
    "    vsd_new <- vsd[vsd_order, ]\n",
    "    print(paste('saving',org,sep=' '))\n",
    "    vsd_new <- as.data.frame(vsd_new) %>% rownames_to_column(\"orfs\")\n",
    "    write.csv(vsd_new, paste('./vsd_files/', org, \"vsd.csv\", sep=\"\"), row.names=FALSE)\n",
    "}\n",
    "\n",
    "write.vsd(vsd4, \"04\")\n",
    "write.vsd(vsd8, \"08\")\n",
    "write.vsd(vsd6, \"06\")\n",
    "write.vsd(vsd13, \"13\")"
   ]
  },
  {
   "cell_type": "markdown",
   "id": "d5b3e46f",
   "metadata": {},
   "source": [
    "## 2.3 Differential Expression from DESeq\n",
    "---\n",
    "Run the differential expression. \n",
    "\n",
    "Extract the results using res() and specifying the contrast, or which treatments we wish to compare.  "
   ]
  },
  {
   "cell_type": "code",
   "execution_count": 34,
   "id": "b1905ec4-f496-41de-b9c4-854b83dcbc63",
   "metadata": {},
   "outputs": [
    {
     "name": "stderr",
     "output_type": "stream",
     "text": [
      "estimating size factors\n",
      "\n",
      "using 'avgTxLength' from assays(dds), correcting for library size\n",
      "\n",
      "estimating dispersions\n",
      "\n",
      "gene-wise dispersion estimates\n",
      "\n",
      "mean-dispersion relationship\n",
      "\n",
      "final dispersion estimates\n",
      "\n",
      "fitting model and testing\n",
      "\n",
      "estimating size factors\n",
      "\n",
      "using 'avgTxLength' from assays(dds), correcting for library size\n",
      "\n",
      "estimating dispersions\n",
      "\n",
      "gene-wise dispersion estimates\n",
      "\n",
      "mean-dispersion relationship\n",
      "\n",
      "final dispersion estimates\n",
      "\n",
      "fitting model and testing\n",
      "\n",
      "estimating size factors\n",
      "\n",
      "using 'avgTxLength' from assays(dds), correcting for library size\n",
      "\n",
      "estimating dispersions\n",
      "\n",
      "gene-wise dispersion estimates\n",
      "\n",
      "mean-dispersion relationship\n",
      "\n",
      "final dispersion estimates\n",
      "\n",
      "fitting model and testing\n",
      "\n",
      "estimating size factors\n",
      "\n",
      "using 'avgTxLength' from assays(dds), correcting for library size\n",
      "\n",
      "estimating dispersions\n",
      "\n",
      "gene-wise dispersion estimates\n",
      "\n",
      "mean-dispersion relationship\n",
      "\n",
      "final dispersion estimates\n",
      "\n",
      "fitting model and testing\n",
      "\n"
     ]
    }
   ],
   "source": [
    "de4 <- DESeq(dds4)\n",
    "de8 <- DESeq(dds8)\n",
    "de6 <- DESeq(dds6)\n",
    "de13 <- DESeq(dds13)"
   ]
  },
  {
   "cell_type": "code",
   "execution_count": 35,
   "id": "f311e5d6",
   "metadata": {},
   "outputs": [
    {
     "name": "stderr",
     "output_type": "stream",
     "text": [
      "estimating size factors\n",
      "\n",
      "using 'avgTxLength' from assays(dds), correcting for library size\n",
      "\n",
      "estimating dispersions\n",
      "\n",
      "gene-wise dispersion estimates\n",
      "\n",
      "mean-dispersion relationship\n",
      "\n",
      "final dispersion estimates\n",
      "\n",
      "fitting model and testing\n",
      "\n",
      "estimating size factors\n",
      "\n",
      "using 'avgTxLength' from assays(dds), correcting for library size\n",
      "\n",
      "estimating dispersions\n",
      "\n",
      "gene-wise dispersion estimates\n",
      "\n",
      "mean-dispersion relationship\n",
      "\n",
      "final dispersion estimates\n",
      "\n",
      "fitting model and testing\n",
      "\n",
      "estimating size factors\n",
      "\n",
      "using 'avgTxLength' from assays(dds), correcting for library size\n",
      "\n",
      "estimating dispersions\n",
      "\n",
      "gene-wise dispersion estimates\n",
      "\n",
      "mean-dispersion relationship\n",
      "\n",
      "final dispersion estimates\n",
      "\n",
      "fitting model and testing\n",
      "\n",
      "estimating size factors\n",
      "\n",
      "using 'avgTxLength' from assays(dds), correcting for library size\n",
      "\n",
      "estimating dispersions\n",
      "\n",
      "gene-wise dispersion estimates\n",
      "\n",
      "mean-dispersion relationship\n",
      "\n",
      "final dispersion estimates\n",
      "\n",
      "fitting model and testing\n",
      "\n"
     ]
    }
   ],
   "source": [
    "\n",
    "de4 <- DESeq(dds4)\n",
    "de8 <- DESeq(dds8)\n",
    "de6 <- DESeq(dds6)\n",
    "de13 <- DESeq(dds13)\n",
    "\n",
    "#contrasts\n",
    "HvL <- c(\"treatment\", \"High_Iron\", \"Low_Iron\")\n",
    "AvL <- c(\"treatment\", \"Add_Back\", \"Low_Iron\")\n",
    "\n",
    "#results from Low Iron vs Iron ammendment\n",
    "AvL4 <- results(de4, contrast=AvL, tidy=TRUE)\n",
    "AvL8 <- results(de8, contrast=AvL, tidy=T)\n",
    "AvL6 <- results(de6, contrast=AvL, tidy=TRUE)\n",
    "AvL13 <- results(de13, contrast=AvL, tidy=TRUE)\n",
    "\n",
    "#results from High Iron vs Low Iron\n",
    "HvL8  <- results(de8, contrast=HvL, tidy=TRUE)\n",
    "HvL6  <- results(de6, contrast=HvL,  tidy=TRUE)\n",
    "HvL13  <- results(de13,contrast=HvL, tidy=TRUE)\n",
    "\n",
    "colnames(AvL4)[1]  <- \"orfs\"\n",
    "colnames(AvL8)[1]  <- \"orfs\"\n",
    "colnames(AvL6)[1]  <- \"orfs\"\n",
    "colnames(AvL13)[1]  <- \"orfs\"\n",
    "\n",
    "colnames(HvL8)[1]  <- \"orfs\"\n",
    "colnames(HvL6)[1]  <- \"orfs\"\n",
    "colnames(HvL13)[1]  <- \"orfs\""
   ]
  },
  {
   "cell_type": "code",
   "execution_count": 51,
   "id": "4c52c378-b59e-40ac-af9f-21a6ebbf7137",
   "metadata": {},
   "outputs": [
    {
     "data": {
      "text/plain": [
       "DataFrame with 5 rows and 1 column\n",
       "              isolate\n",
       "          <character>\n",
       "add_backA          04\n",
       "add_backB          04\n",
       "pFe21_9A           04\n",
       "pFe21_9B           04\n",
       "pFe21_9C           04"
      ]
     },
     "metadata": {},
     "output_type": "display_data"
    }
   ],
   "source": [
    "colData(de4)[2]"
   ]
  },
  {
   "cell_type": "code",
   "execution_count": 38,
   "id": "7caacfa0-6a61-435d-a459-91293f39ef42",
   "metadata": {},
   "outputs": [
    {
     "data": {
      "text/html": [
       "<table class=\"dataframe\">\n",
       "<caption>A data.frame: 7 × 4</caption>\n",
       "<thead>\n",
       "\t<tr><th scope=col>Contrast</th><th scope=col>Organism</th><th scope=col>num.de</th><th scope=col>percent.de</th></tr>\n",
       "\t<tr><th scope=col>&lt;chr&gt;</th><th scope=col>&lt;chr&gt;</th><th scope=col>&lt;int&gt;</th><th scope=col>&lt;dbl&gt;</th></tr>\n",
       "</thead>\n",
       "<tbody>\n",
       "\t<tr><td>Add_Back </td><td>C. closterium UGA4</td><td> 880</td><td>3.240178</td></tr>\n",
       "\t<tr><td>High_Iron</td><td>C. closterium UGA8</td><td>1649</td><td>6.953698</td></tr>\n",
       "\t<tr><td>Add_Back </td><td>C. closterium UGA8</td><td>1910</td><td>8.054314</td></tr>\n",
       "\t<tr><td>High_Iron</td><td>G. oceanica       </td><td>3177</td><td>9.052056</td></tr>\n",
       "\t<tr><td>Add_Back </td><td>G. oceanica       </td><td>2202</td><td>6.274041</td></tr>\n",
       "\t<tr><td>High_Iron</td><td>G. huxleyi        </td><td>1783</td><td>6.145309</td></tr>\n",
       "\t<tr><td>Add_Back </td><td>G. huxleyi        </td><td>2032</td><td>7.003516</td></tr>\n",
       "</tbody>\n",
       "</table>\n"
      ],
      "text/latex": [
       "A data.frame: 7 × 4\n",
       "\\begin{tabular}{llll}\n",
       " Contrast & Organism & num.de & percent.de\\\\\n",
       " <chr> & <chr> & <int> & <dbl>\\\\\n",
       "\\hline\n",
       "\t Add\\_Back  & C. closterium UGA4 &  880 & 3.240178\\\\\n",
       "\t High\\_Iron & C. closterium UGA8 & 1649 & 6.953698\\\\\n",
       "\t Add\\_Back  & C. closterium UGA8 & 1910 & 8.054314\\\\\n",
       "\t High\\_Iron & G. oceanica        & 3177 & 9.052056\\\\\n",
       "\t Add\\_Back  & G. oceanica        & 2202 & 6.274041\\\\\n",
       "\t High\\_Iron & G. huxleyi         & 1783 & 6.145309\\\\\n",
       "\t Add\\_Back  & G. huxleyi         & 2032 & 7.003516\\\\\n",
       "\\end{tabular}\n"
      ],
      "text/markdown": [
       "\n",
       "A data.frame: 7 × 4\n",
       "\n",
       "| Contrast &lt;chr&gt; | Organism &lt;chr&gt; | num.de &lt;int&gt; | percent.de &lt;dbl&gt; |\n",
       "|---|---|---|---|\n",
       "| Add_Back  | C. closterium UGA4 |  880 | 3.240178 |\n",
       "| High_Iron | C. closterium UGA8 | 1649 | 6.953698 |\n",
       "| Add_Back  | C. closterium UGA8 | 1910 | 8.054314 |\n",
       "| High_Iron | G. oceanica        | 3177 | 9.052056 |\n",
       "| Add_Back  | G. oceanica        | 2202 | 6.274041 |\n",
       "| High_Iron | G. huxleyi         | 1783 | 6.145309 |\n",
       "| Add_Back  | G. huxleyi         | 2032 | 7.003516 |\n",
       "\n"
      ],
      "text/plain": [
       "  Contrast  Organism           num.de percent.de\n",
       "1 Add_Back  C. closterium UGA4  880   3.240178  \n",
       "2 High_Iron C. closterium UGA8 1649   6.953698  \n",
       "3 Add_Back  C. closterium UGA8 1910   8.054314  \n",
       "4 High_Iron G. oceanica        3177   9.052056  \n",
       "5 Add_Back  G. oceanica        2202   6.274041  \n",
       "6 High_Iron G. huxleyi         1783   6.145309  \n",
       "7 Add_Back  G. huxleyi         2032   7.003516  "
      ]
     },
     "metadata": {},
     "output_type": "display_data"
    }
   ],
   "source": [
    "contrast = list('HvL' = c(\"treatment\", \"High_Iron\", \"Low_Iron\"),\n",
    "                'AvL' =c(\"treatment\", \"Add_Back\", \"Low_Iron\"))\n",
    "de_output = data.frame('Contrast'=as.character(), 'Organism'=as.character(), \n",
    "                       'num.de'=as.numeric(), 'percent de'=as.numeric())\n",
    "organism = list(de4, de8, de6, de13)\n",
    "\n",
    "for (o in organism) {\n",
    "     if (colData(o)[1,2] == colData(de4)[1,2]) {\n",
    "        isolate='C. closterium UGA4'\n",
    "    }else if (colData(o)[1,2] == colData(de8)[1,2]) {\n",
    "        isolate='C. closterium UGA8'\n",
    "    }else if (colData(o)[1,2] == colData(de6)[1,2]) {\n",
    "           isolate='G. oceanica'\n",
    "    }else if (colData(o)[1,2] == colData(de13)[1,2]) {            \n",
    "        isolate='G. huxleyi'}\n",
    "    for (c in contrast) {\n",
    "        if (isolate =='C. closterium UGA4' & c[2]=='High_Iron'){\n",
    "            next\n",
    "        }\n",
    "        de.c = results(o, contrast=c, tidy=TRUE)\n",
    "        de.percent = (nrow(filter(de.c,(padj < 0.05)==T))/nrow(o)*100)\n",
    "        de.num = nrow(filter(de.c,(padj < 0.05) ==T))\n",
    "        deAdd = data.frame('Contrast'= c[2], 'Organism'=isolate, 'num.de'=de.num, 'percent de'=de.percent)\n",
    "        de_output = rbind(de_output, deAdd)\n",
    "    }\n",
    "              }\n",
    "\n",
    "de_output\n",
    "write.csv(de_output, './de_res_files/de_output.csv', row.names=F)"
   ]
  },
  {
   "cell_type": "markdown",
   "id": "600371d8",
   "metadata": {},
   "source": [
    "## Logfold 2 shrinkage"
   ]
  },
  {
   "cell_type": "code",
   "execution_count": 39,
   "id": "18018ff5",
   "metadata": {},
   "outputs": [
    {
     "name": "stderr",
     "output_type": "stream",
     "text": [
      "using 'ashr' for LFC shrinkage. If used in published research, please cite:\n",
      "    Stephens, M. (2016) False discovery rates: a new deal. Biostatistics, 18:2.\n",
      "    https://doi.org/10.1093/biostatistics/kxw041\n",
      "\n",
      "using 'ashr' for LFC shrinkage. If used in published research, please cite:\n",
      "    Stephens, M. (2016) False discovery rates: a new deal. Biostatistics, 18:2.\n",
      "    https://doi.org/10.1093/biostatistics/kxw041\n",
      "\n",
      "using 'ashr' for LFC shrinkage. If used in published research, please cite:\n",
      "    Stephens, M. (2016) False discovery rates: a new deal. Biostatistics, 18:2.\n",
      "    https://doi.org/10.1093/biostatistics/kxw041\n",
      "\n",
      "using 'ashr' for LFC shrinkage. If used in published research, please cite:\n",
      "    Stephens, M. (2016) False discovery rates: a new deal. Biostatistics, 18:2.\n",
      "    https://doi.org/10.1093/biostatistics/kxw041\n",
      "\n",
      "using 'ashr' for LFC shrinkage. If used in published research, please cite:\n",
      "    Stephens, M. (2016) False discovery rates: a new deal. Biostatistics, 18:2.\n",
      "    https://doi.org/10.1093/biostatistics/kxw041\n",
      "\n",
      "using 'ashr' for LFC shrinkage. If used in published research, please cite:\n",
      "    Stephens, M. (2016) False discovery rates: a new deal. Biostatistics, 18:2.\n",
      "    https://doi.org/10.1093/biostatistics/kxw041\n",
      "\n",
      "using 'ashr' for LFC shrinkage. If used in published research, please cite:\n",
      "    Stephens, M. (2016) False discovery rates: a new deal. Biostatistics, 18:2.\n",
      "    https://doi.org/10.1093/biostatistics/kxw041\n",
      "\n"
     ]
    }
   ],
   "source": [
    "## log fold change shrinkage and save file\n",
    "\n",
    "logFC = function(de, contrast, file_name){\n",
    "    lfc.de <- lfcShrink(de, contrast=contrast, type='ashr')\n",
    "    lfc.de <- lfc.de %>% as.data.frame() %>% rownames_to_column(\"ko_id\") \n",
    "    write.csv(lfc.de, paste(\"./de_res_files/lfc\",file_name,\"csv\",sep=''), row.names=F)\n",
    "}\n",
    "\n",
    "lfc4.AvL <- lfcShrink(de4,  contrast=c(\"treatment\", \"Add_Back\", \"Low_Iron\"), type='ashr')\n",
    "lfc4.AvL <- lfc4.AvL %>% as.data.frame() %>% rownames_to_column(\"orfs\") \n",
    "write.csv(lfc4.AvL, \"./de_res_files/lfc4.AvL.csv\", row.names=F)\n",
    "\n",
    "lfc8.AvL <- lfcShrink(de8, contrast=c(\"treatment\", \"Add_Back\", \"Low_Iron\"), type='ashr')\n",
    "lfc8.AvL <- lfc8.AvL %>% as.data.frame() %>% rownames_to_column(\"orfs\") \n",
    "write.csv(lfc8.AvL, \"./de_res_files/lfc8.AvL.csv\", row.names=F)\n",
    "\n",
    "lfc6.AvL <- lfcShrink(de6, contrast=c(\"treatment\", \"Add_Back\", \"Low_Iron\"), type='ashr')\n",
    "lfc6.AvL <- lfc6.AvL %>% as.data.frame() %>% rownames_to_column(\"orfs\") \n",
    "write.csv(lfc6.AvL, \"./de_res_files/lfc6.AvL.csv\", row.names=F)\n",
    "\n",
    "lfc13.AvL <- lfcShrink(de13,  contrast=c(\"treatment\", \"Add_Back\", \"Low_Iron\"), type='ashr')\n",
    "lfc13.AvL <- lfc13.AvL %>% as.data.frame() %>% rownames_to_column(\"orfs\") \n",
    "write.csv(lfc13.AvL, \"./de_res_files/lfc13.AvL.csv\", row.names=F)\n",
    "\n",
    "lfc8.HvL <- lfcShrink(de8, contrast=c(\"treatment\", \"High_Iron\", \"Low_Iron\"), type='ashr')\n",
    "lfc8.HvL <- lfc8.HvL %>% as.data.frame() %>% rownames_to_column(\"orfs\") \n",
    "write.csv(lfc8.HvL, \"./de_res_files/lfc8.HvL.csv\", row.names=F)\n",
    "\n",
    "lfc6.HvL <- lfcShrink(de6, contrast=c(\"treatment\", \"High_Iron\", \"Low_Iron\"), type='ashr')\n",
    "lfc6.HvL <- lfc6.HvL %>% as.data.frame() %>% rownames_to_column(\"orfs\") \n",
    "write.csv(lfc6.HvL, \"./de_res_files/lfc6.HvL.csv\", row.names=F)\n",
    "\n",
    "lfc13.HvL <- lfcShrink(de13,  contrast=c(\"treatment\", \"High_Iron\", \"Low_Iron\"), type='ashr')\n",
    "lfc13.HvL <- lfc13.HvL %>% as.data.frame() %>% rownames_to_column(\"orfs\") \n",
    "write.csv(lfc13.HvL, \"./de_res_files/lfc13.HvL.csv\", row.names=F)"
   ]
  },
  {
   "cell_type": "markdown",
   "id": "ffdbed7d",
   "metadata": {},
   "source": [
    "## 2.4 Subset results tables by significance and save\n",
    "df's made into a list and looped through to order rows by adjusted p value and pull out significant rows. saving both files. Sorting the _res files positive or negative log2fold change will enable me to get the up regulated and down regulated genes."
   ]
  },
  {
   "cell_type": "code",
   "execution_count": 13,
   "id": "888d9e80",
   "metadata": {},
   "outputs": [
    {
     "name": "stdout",
     "output_type": "stream",
     "text": [
      "[1] \"contrast  HvL  for  4  not found\"\n",
      "[1] \"contrast  AvH  for  4  not found\"\n"
     ]
    }
   ],
   "source": [
    "df.names <- list()\n",
    "samples <- c('4','8','6','13')\n",
    "contrasts <- c('AvL','HvL')\n",
    "\n",
    "for (s in samples){\n",
    "    for (c in contrasts){\n",
    "        if (exists(paste(c,s, sep=\"\")) == FALSE){\n",
    "            print(paste('contrast ', c, ' for ', s, ' not found'))\n",
    "            next}\n",
    "        df.names <- append(df.names, paste(s,c,sep=''))\n",
    "    }\n",
    "}\n",
    "\n",
    "res.ls <- list(AvL4, AvL8, AvL6, AvL13, HvL8, HvL6, HvL13, AvH8, AvH6, AvH13)\n",
    "names(res.ls) <- df.names\n",
    "\n",
    "res.ls <- lapply(res.ls, function(df){   #order each df in list by p.value\n",
    "    arrange(df, padj)\n",
    "})\n",
    "\n",
    "#save each df ordered by p.value\n",
    "walk2(res.ls, paste0(\"./de_res_files/\", names(res.ls), \"_res.csv\", sep=\"\"), write.csv,row.names=F)\n",
    "\n",
    "res.ls.sig <- lapply(res.ls, function(df){   #pull out significant DE's\n",
    "    filter(df, padj<=0.05)\n",
    "})\n",
    "\n",
    "#save significant de's for each df\n",
    "walk2(res.ls.sig, paste0(\"./de_res_files/\", names(res.ls), \"sig_res.csv\", sep=\"\"), write.csv,row.names=F)"
   ]
  },
  {
   "cell_type": "markdown",
   "id": "19a18b86-f770-4232-befd-4f36218a362a",
   "metadata": {},
   "source": [
    "# Make table of % kegg annotated orfs and other functional annotation info"
   ]
  },
  {
   "cell_type": "code",
   "execution_count": 40,
   "id": "96f79e8d",
   "metadata": {},
   "outputs": [
    {
     "data": {
      "text/html": [
       "<table class=\"dataframe\">\n",
       "<caption>A data.frame: 4 × 2</caption>\n",
       "<thead>\n",
       "\t<tr><th></th><th scope=col>Organism</th><th scope=col>Anotated.orfs....</th></tr>\n",
       "\t<tr><th></th><th scope=col>&lt;chr&gt;</th><th scope=col>&lt;dbl&gt;</th></tr>\n",
       "</thead>\n",
       "<tbody>\n",
       "\t<tr><th scope=row>1</th><td>C. closterium 4</td><td>45.27044</td></tr>\n",
       "\t<tr><th scope=row>2</th><td>C. closterium 8</td><td>46.33550</td></tr>\n",
       "\t<tr><th scope=row>3</th><td>G. oceanica    </td><td>66.00849</td></tr>\n",
       "\t<tr><th scope=row>4</th><td>G. huxleyi     </td><td>70.26608</td></tr>\n",
       "</tbody>\n",
       "</table>\n"
      ],
      "text/latex": [
       "A data.frame: 4 × 2\n",
       "\\begin{tabular}{r|ll}\n",
       "  & Organism & Anotated.orfs....\\\\\n",
       "  & <chr> & <dbl>\\\\\n",
       "\\hline\n",
       "\t1 & C. closterium 4 & 45.27044\\\\\n",
       "\t2 & C. closterium 8 & 46.33550\\\\\n",
       "\t3 & G. oceanica     & 66.00849\\\\\n",
       "\t4 & G. huxleyi      & 70.26608\\\\\n",
       "\\end{tabular}\n"
      ],
      "text/markdown": [
       "\n",
       "A data.frame: 4 × 2\n",
       "\n",
       "| <!--/--> | Organism &lt;chr&gt; | Anotated.orfs.... &lt;dbl&gt; |\n",
       "|---|---|---|\n",
       "| 1 | C. closterium 4 | 45.27044 |\n",
       "| 2 | C. closterium 8 | 46.33550 |\n",
       "| 3 | G. oceanica     | 66.00849 |\n",
       "| 4 | G. huxleyi      | 70.26608 |\n",
       "\n"
      ],
      "text/plain": [
       "  Organism        Anotated.orfs....\n",
       "1 C. closterium 4 45.27044         \n",
       "2 C. closterium 8 46.33550         \n",
       "3 G. oceanica     66.00849         \n",
       "4 G. huxleyi      70.26608         "
      ]
     },
     "metadata": {},
     "output_type": "display_data"
    }
   ],
   "source": [
    "ko4_ls=read.csv('../kegg_names/ko4_ls.csv')\n",
    "ko8_ls=read.csv('../kegg_names/ko8_ls.csv')\n",
    "ko6_ls=read.csv('../kegg_names/ko6_ls.csv')\n",
    "ko13_ls=read.csv('../kegg_names/ko13_ls.csv')\n",
    "\n",
    "\n",
    "#make sure to REMOVE ORFS NOT COUNTED BY SALMON!\n",
    "ko_annotated=data.frame('Organism'=c('C. closterium 4', 'C. closterium 8', 'G. oceanica', 'G. huxleyi'),\n",
    "                        'Anotated orfs (%)'=c(\n",
    "                            (nrow(filter(ko4_ls, ko_iteration=='ko:_1'))/nrow(de4)*100),\n",
    "                            (nrow(filter(ko8_ls, ko_iteration=='ko:_1'))/nrow(de8)*100),\n",
    "                            (nrow(filter(ko6_ls, ko_iteration=='ko:_1'))/nrow(de6)*100),\n",
    "                            (nrow(filter(ko13_ls, ko_iteration=='ko:_1'))/nrow(de13)*100)))\n",
    "head(ko_annotated)\n",
    "write.csv(ko_annotated, './de_res_files/ko_anotat_de.csv', row.names=F)"
   ]
  },
  {
   "cell_type": "markdown",
   "id": "4d8645be",
   "metadata": {},
   "source": [
    "# Now repeat steps but summarize to 'kegg gene level'\n",
    "## 1. Make df of raw counts which are summed to kegg level.\n",
    "#### Read in the list of ORF-to-Ko's for each sample \n",
    "This list repeates orfs when multiple ko's were assigned to a single orf by eggnog. Using the 'orf' column from the organism specific ko list, we want to map the counts to each row of the orf-to-ko list. This will automatically repeat the counts for each repeated orf in the list and allow us to sum orfs with matching ko's later. \n",
    "\n",
    "<b/> Remember, not all rows from the counts table will have a ko assigned and thus will not appear in the orf-to-ko list. Additionally, not all orfs annotated by eggnog were counted by salmon. Thus we must remove any rows from the orf-to-ko table for which orfs are not found </b>\n",
    "\n",
    "Because some orfs had multiple ko assignments the merging relationship will be many-to-one, many orf-ko rows matching to one counts row. \"Each row in x (orf-to-ko list) matches at most 1 row in y (counts table).\"\n",
    "\n",
    "Once the two tables are merged, we can group by ko_id and sum counts which have the same ko_id. The result is a new raw counts table (matrix) which we can used in deseq. "
   ]
  },
  {
   "cell_type": "markdown",
   "id": "1c7c5671-7ff3-4409-9511-8556966c14df",
   "metadata": {},
   "source": [
    "# Split counts by Ko"
   ]
  },
  {
   "cell_type": "code",
   "execution_count": 3,
   "id": "7ae6e821-074a-4cce-87d5-7b86e8214f28",
   "metadata": {},
   "outputs": [],
   "source": [
    "ko.def=read.csv('../kegg_names/ko_def.csv')\n",
    "\n",
    "split.sum.kegg <- function(org, counts.raw){\n",
    "    ko_df= read.csv(paste('../kegg_names/ko', org,'_ls.csv', sep=''))\n",
    "    ko_df$ko_iteration = as.numeric(str_remove(ko_df$ko_iteration, 'ko:_'))\n",
    "    ko_df = ko_df %>% group_by(orfs) %>% mutate(max_ko=max(ko_iteration))\n",
    "    \n",
    "    # make raw counts matrix into a tibble\n",
    "    counts <- as_tibble(counts.raw$counts, rownames = \"orfs\")\n",
    "    \n",
    "    # merge the two, so orfs and thier counts are repeated when they match to multiple ko's\n",
    "    b <- left_join(x=ko_df, y=counts, by='orfs', relationship=\"many-to-one\")\n",
    "\n",
    "    #group by orf and split counts for each ko_id\n",
    "    split_count = b %>% mutate(across(c(4:(ncol(b)-1)),.fns = ~./max_ko)) \n",
    "    #group by ko and sum counts\n",
    "    sum_count = split_count %>% ungroup() %>% na.omit() %>% select(!c(orfs, ko_iteration, max_ko)) %>%  \n",
    "        group_by(ko_id) %>% summarise(across(everything(), sum)) %>%\n",
    "        column_to_rownames(\"ko_id\") %>% as.matrix\n",
    "    \n",
    "    mode(sum_count) <- 'integer'\n",
    "    sum_count\n",
    "    }\n",
    "\n",
    "split_counts_4 <- split.sum.kegg('4', counts_4)\n",
    "split_counts_8 <- split.sum.kegg('8', counts_8)\n",
    "split_counts_6 <- split.sum.kegg('6', counts_6)\n",
    "split_counts_13 <- split.sum.kegg('13', counts_13)"
   ]
  },
  {
   "cell_type": "code",
   "execution_count": 4,
   "id": "7d3f2f79-4253-46fd-8bd8-2b5decb48b98",
   "metadata": {},
   "outputs": [
    {
     "name": "stderr",
     "output_type": "stream",
     "text": [
      "Warning message in DESeqDataSet(se, design = design, ignoreRank):\n",
      "“some variables in design formula are characters, converting to factors”\n",
      "Warning message in DESeqDataSet(se, design = design, ignoreRank):\n",
      "“some variables in design formula are characters, converting to factors”\n",
      "Warning message in DESeqDataSet(se, design = design, ignoreRank):\n",
      "“some variables in design formula are characters, converting to factors”\n",
      "Warning message in DESeqDataSet(se, design = design, ignoreRank):\n",
      "“some variables in design formula are characters, converting to factors”\n"
     ]
    }
   ],
   "source": [
    "## create deseq object from matrix\n",
    "kegg.dds <- function(split.counts, metadata,n){\n",
    "    #n = lowest number of reps in any treatment\n",
    "   dds <-  DESeqDataSetFromMatrix(\n",
    "       countData = split.counts, \n",
    "       colData = metadata, \n",
    "       design=~treatment)\n",
    "    dds$treatment <- relevel(dds$treatment, ref = \"Low_Iron\")\n",
    "    keep <- rowSums(counts(dds) >=10) >= n #filter out rows with too low expression\n",
    "    dds <- dds[keep, ]\n",
    "    dds}\n",
    "\n",
    "kegg.dds4 <- kegg.dds(split_counts_4, metadata_4, 2)\n",
    "kegg.dds8 <- kegg.dds(split_counts_8, metadata_8, 2)\n",
    "kegg.dds6 <- kegg.dds(split_counts_6, metadata_6, 3)\n",
    "kegg.dds13 <- kegg.dds(split_counts_13, metadata_13, 3)"
   ]
  },
  {
   "cell_type": "code",
   "execution_count": 5,
   "id": "14e17f68-f314-4ac2-9493-e27134f4f1ef",
   "metadata": {},
   "outputs": [],
   "source": [
    "## vsd normalize and save ordered by variance\n",
    "vsd.norm <- function(dds){\n",
    "    vst(dds,blind=FALSE)\n",
    "    }\n",
    "kegg.vsd4 <- vsd.norm(kegg.dds4)\n",
    "kegg.vsd8 <- vsd.norm(kegg.dds8)\n",
    "kegg.vsd6 <- vsd.norm(kegg.dds6)\n",
    "kegg.vsd13 <- vsd.norm(kegg.dds13)\n",
    "\n",
    "write.vsd.kegg <- function(vsd, org){\n",
    "    vsd <- assay(vsd)\n",
    "    vsd_order <- order(rowVars(vsd), decreasing=T)\n",
    "    vsd_new <- vsd[vsd_order, ]\n",
    "    vsd_new = vsd_new %>% as.data.frame() %>% rownames_to_column('ko_id')\n",
    "    #colnames(vsd_new)[1] = 'ko_id'\n",
    "    write.csv(vsd_new, paste('./vsd_files/vsd.', org, \".kegg.csv\", sep=\"\"))\n",
    "}\n",
    "\n",
    "write.vsd.kegg(kegg.vsd4, '04')\n",
    "write.vsd.kegg(kegg.vsd8, '08')\n",
    "write.vsd.kegg(kegg.vsd6, '06')\n",
    "write.vsd.kegg(kegg.vsd13, '13')"
   ]
  },
  {
   "cell_type": "code",
   "execution_count": 6,
   "id": "e89c8717-e339-448a-af3d-32772225b459",
   "metadata": {},
   "outputs": [
    {
     "name": "stderr",
     "output_type": "stream",
     "text": [
      "estimating size factors\n",
      "\n",
      "estimating dispersions\n",
      "\n",
      "gene-wise dispersion estimates\n",
      "\n",
      "mean-dispersion relationship\n",
      "\n",
      "final dispersion estimates\n",
      "\n",
      "fitting model and testing\n",
      "\n",
      "estimating size factors\n",
      "\n",
      "estimating dispersions\n",
      "\n",
      "gene-wise dispersion estimates\n",
      "\n",
      "mean-dispersion relationship\n",
      "\n",
      "final dispersion estimates\n",
      "\n",
      "fitting model and testing\n",
      "\n",
      "estimating size factors\n",
      "\n",
      "estimating dispersions\n",
      "\n",
      "gene-wise dispersion estimates\n",
      "\n",
      "mean-dispersion relationship\n",
      "\n",
      "final dispersion estimates\n",
      "\n",
      "fitting model and testing\n",
      "\n",
      "estimating size factors\n",
      "\n",
      "estimating dispersions\n",
      "\n",
      "gene-wise dispersion estimates\n",
      "\n",
      "mean-dispersion relationship\n",
      "\n",
      "final dispersion estimates\n",
      "\n",
      "fitting model and testing\n",
      "\n"
     ]
    }
   ],
   "source": [
    "## run differential expression analysis\n",
    "de4.kegg <- DESeq(kegg.dds4)\n",
    "de8.kegg <- DESeq(kegg.dds8)\n",
    "de6.kegg <- DESeq(kegg.dds6)\n",
    "de13.kegg <- DESeq(kegg.dds13)\n",
    "\n",
    "#extract results\n",
    "HvL <- c(\"treatment\", \"High_Iron\", \"Low_Iron\")\n",
    "AvL <- c(\"treatment\", \"Add_Back\", \"Low_Iron\")\n",
    "\n",
    "#results from Low Iron vs Iron ammendment\n",
    "AvL4.kegg <- results(de4.kegg, contrast=AvL, tidy=TRUE)\n",
    "AvL8.kegg <- results(de8.kegg, contrast=AvL, tidy=T)\n",
    "AvL6.kegg <- results(de6.kegg, contrast=AvL, tidy=TRUE)\n",
    "AvL13.kegg <- results(de13.kegg, contrast=AvL, tidy=TRUE)\n",
    "\n",
    "#results from High Iron vs Low Iron\n",
    "HvL8.kegg <- results(de8.kegg, contrast=HvL, tidy=TRUE)\n",
    "HvL6.kegg <- results(de6.kegg, contrast=HvL,  tidy=TRUE)\n",
    "HvL13.kegg <- results(de13.kegg,contrast=HvL, tidy=TRUE)\n",
    "\n",
    "colnames(AvL4.kegg)[1]  <- \"ko_id\"\n",
    "colnames(AvL8.kegg)[1]  <- \"ko_id\"\n",
    "colnames(AvL6.kegg)[1]  <- \"ko_id\"\n",
    "colnames(AvL13.kegg)[1]  <- \"ko_id\"\n",
    "\n",
    "colnames(HvL8.kegg)[1]  <- \"ko_id\"\n",
    "colnames(HvL6.kegg)[1]  <- \"ko_id\"\n",
    "colnames(HvL13.kegg)[1]  <- \"ko_id\"\n",
    "\n",
    "#save deseq results\n",
    "\n",
    "AvL4.kegg %>% na.omit() %>% write.csv('./de_res_files/AvL4.kegg.csv', row.names=F)\n",
    "AvL8.kegg %>% na.omit() %>% write.csv('./de_res_files/AvL8.kegg.csv', row.names=F)\n",
    "AvL6.kegg %>% na.omit() %>% write.csv('./de_res_files/AvL6.kegg.csv', row.names=F)\n",
    "AvL13.kegg %>% na.omit() %>% write.csv('./de_res_files/AvL13.kegg.csv', row.names=F)\n",
    "\n",
    "HvL8.kegg %>% na.omit() %>% write.csv('./de_res_files/HvL8.kegg.csv', row.names=F)\n",
    "HvL6.kegg %>% na.omit() %>% write.csv('./de_res_files/HvL6.kegg.csv', row.names=F)\n",
    "HvL13.kegg %>% na.omit() %>% write.csv('./de_res_files/HvL13.kegg.csv', row.names=F)\n",
    "\n"
   ]
  },
  {
   "cell_type": "code",
   "execution_count": 7,
   "id": "729d73e8-d1b1-4fa6-81ab-08711cfe55df",
   "metadata": {},
   "outputs": [
    {
     "name": "stderr",
     "output_type": "stream",
     "text": [
      "using 'ashr' for LFC shrinkage. If used in published research, please cite:\n",
      "    Stephens, M. (2016) False discovery rates: a new deal. Biostatistics, 18:2.\n",
      "    https://doi.org/10.1093/biostatistics/kxw041\n",
      "\n",
      "using 'ashr' for LFC shrinkage. If used in published research, please cite:\n",
      "    Stephens, M. (2016) False discovery rates: a new deal. Biostatistics, 18:2.\n",
      "    https://doi.org/10.1093/biostatistics/kxw041\n",
      "\n",
      "using 'ashr' for LFC shrinkage. If used in published research, please cite:\n",
      "    Stephens, M. (2016) False discovery rates: a new deal. Biostatistics, 18:2.\n",
      "    https://doi.org/10.1093/biostatistics/kxw041\n",
      "\n",
      "using 'ashr' for LFC shrinkage. If used in published research, please cite:\n",
      "    Stephens, M. (2016) False discovery rates: a new deal. Biostatistics, 18:2.\n",
      "    https://doi.org/10.1093/biostatistics/kxw041\n",
      "\n",
      "using 'ashr' for LFC shrinkage. If used in published research, please cite:\n",
      "    Stephens, M. (2016) False discovery rates: a new deal. Biostatistics, 18:2.\n",
      "    https://doi.org/10.1093/biostatistics/kxw041\n",
      "\n",
      "using 'ashr' for LFC shrinkage. If used in published research, please cite:\n",
      "    Stephens, M. (2016) False discovery rates: a new deal. Biostatistics, 18:2.\n",
      "    https://doi.org/10.1093/biostatistics/kxw041\n",
      "\n",
      "using 'ashr' for LFC shrinkage. If used in published research, please cite:\n",
      "    Stephens, M. (2016) False discovery rates: a new deal. Biostatistics, 18:2.\n",
      "    https://doi.org/10.1093/biostatistics/kxw041\n",
      "\n"
     ]
    }
   ],
   "source": [
    "## log fold change shrinkage and save file\n",
    "\n",
    "logFC = function(de, contrast, file_name){\n",
    "    lfc.de <- lfcShrink(de, contrast=contrast, type='ashr')\n",
    "    lfc.de <- lfc.de %>% as.data.frame() %>% rownames_to_column(\"ko_id\") \n",
    "    write.csv(lfc.de, paste(\"./de_res_files/lfc\",file_name,\".csv\",sep=''), row.names=F)\n",
    "}\n",
    "\n",
    "logFC(de4.kegg, contrast=AvL, file_name='4.AvL.kegg') \n",
    "logFC(de8.kegg, contrast=AvL, file_name='8.AvL.kegg') \n",
    "logFC(de8.kegg, contrast=HvL, file_name='8.HvL.kegg') \n",
    "logFC(de6.kegg, contrast=AvL, file_name='6.AvL.kegg') \n",
    "logFC(de6.kegg, contrast=HvL, file_name='6.HvL.kegg') \n",
    "logFC(de13.kegg, contrast=AvL, file_name='13.AvL.kegg') \n",
    "logFC(de13.kegg, contrast=HvL, file_name='13.HvL.kegg') \n",
    "\n"
   ]
  },
  {
   "cell_type": "code",
   "execution_count": 27,
   "id": "20856698-d480-4e0f-b5af-94d0a94d2205",
   "metadata": {},
   "outputs": [
    {
     "data": {
      "text/html": [
       "6.65546218487395"
      ],
      "text/latex": [
       "6.65546218487395"
      ],
      "text/markdown": [
       "6.65546218487395"
      ],
      "text/plain": [
       "[1] 6.655462"
      ]
     },
     "metadata": {},
     "output_type": "display_data"
    },
    {
     "data": {
      "text/html": [
       "198"
      ],
      "text/latex": [
       "198"
      ],
      "text/markdown": [
       "198"
      ],
      "text/plain": [
       "[1] 198"
      ]
     },
     "metadata": {},
     "output_type": "display_data"
    },
    {
     "data": {
      "text/html": [
       "9.00070871722183"
      ],
      "text/latex": [
       "9.00070871722183"
      ],
      "text/markdown": [
       "9.00070871722183"
      ],
      "text/plain": [
       "[1] 9.000709"
      ]
     },
     "metadata": {},
     "output_type": "display_data"
    },
    {
     "data": {
      "text/html": [
       "254"
      ],
      "text/latex": [
       "254"
      ],
      "text/markdown": [
       "254"
      ],
      "text/plain": [
       "[1] 254"
      ]
     },
     "metadata": {},
     "output_type": "display_data"
    }
   ],
   "source": [
    "avl4.perc=(nrow(filter(AvL4.kegg,(padj < 0.05)==T))/nrow(de4.kegg))*100\n",
    "avl4=nrow(filter(AvL4.kegg,(padj < 0.05)==T))\n",
    "\n",
    "avl8.perc=(nrow(filter(HvL8.kegg,(padj < 0.05)==T))/nrow(de8.kegg))*100\n",
    "avl8=nrow(filter(HvL8.kegg,(padj < 0.05)==T))\n",
    "\n",
    "avl4.perc\n",
    "avl4\n",
    "\n",
    "avl8.perc\n",
    "avl8"
   ]
  },
  {
   "cell_type": "code",
   "execution_count": 10,
   "id": "191efbc4-6b0f-41db-a1a4-e873b3d60dce",
   "metadata": {},
   "outputs": [
    {
     "data": {
      "text/html": [
       "<table class=\"dataframe\">\n",
       "<caption>A data.frame: 7 × 4</caption>\n",
       "<thead>\n",
       "\t<tr><th scope=col>Contrast</th><th scope=col>Organism</th><th scope=col>num.de.ko</th><th scope=col>percent.de.ko</th></tr>\n",
       "\t<tr><th scope=col>&lt;chr&gt;</th><th scope=col>&lt;chr&gt;</th><th scope=col>&lt;int&gt;</th><th scope=col>&lt;dbl&gt;</th></tr>\n",
       "</thead>\n",
       "<tbody>\n",
       "\t<tr><td>Add_Back </td><td>C. closterium UGA4</td><td> 198</td><td> 6.655462</td></tr>\n",
       "\t<tr><td>High_Iron</td><td>C. closterium UGA8</td><td> 254</td><td> 9.000709</td></tr>\n",
       "\t<tr><td>Add_Back </td><td>C. closterium UGA8</td><td> 799</td><td>28.313253</td></tr>\n",
       "\t<tr><td>High_Iron</td><td>G. oceanica       </td><td>1186</td><td>25.159101</td></tr>\n",
       "\t<tr><td>Add_Back </td><td>G. oceanica       </td><td>1109</td><td>23.525668</td></tr>\n",
       "\t<tr><td>High_Iron</td><td>G. huxleyi        </td><td>1089</td><td>25.732514</td></tr>\n",
       "\t<tr><td>Add_Back </td><td>G. huxleyi        </td><td>1022</td><td>24.149338</td></tr>\n",
       "</tbody>\n",
       "</table>\n"
      ],
      "text/latex": [
       "A data.frame: 7 × 4\n",
       "\\begin{tabular}{llll}\n",
       " Contrast & Organism & num.de.ko & percent.de.ko\\\\\n",
       " <chr> & <chr> & <int> & <dbl>\\\\\n",
       "\\hline\n",
       "\t Add\\_Back  & C. closterium UGA4 &  198 &  6.655462\\\\\n",
       "\t High\\_Iron & C. closterium UGA8 &  254 &  9.000709\\\\\n",
       "\t Add\\_Back  & C. closterium UGA8 &  799 & 28.313253\\\\\n",
       "\t High\\_Iron & G. oceanica        & 1186 & 25.159101\\\\\n",
       "\t Add\\_Back  & G. oceanica        & 1109 & 23.525668\\\\\n",
       "\t High\\_Iron & G. huxleyi         & 1089 & 25.732514\\\\\n",
       "\t Add\\_Back  & G. huxleyi         & 1022 & 24.149338\\\\\n",
       "\\end{tabular}\n"
      ],
      "text/markdown": [
       "\n",
       "A data.frame: 7 × 4\n",
       "\n",
       "| Contrast &lt;chr&gt; | Organism &lt;chr&gt; | num.de.ko &lt;int&gt; | percent.de.ko &lt;dbl&gt; |\n",
       "|---|---|---|---|\n",
       "| Add_Back  | C. closterium UGA4 |  198 |  6.655462 |\n",
       "| High_Iron | C. closterium UGA8 |  254 |  9.000709 |\n",
       "| Add_Back  | C. closterium UGA8 |  799 | 28.313253 |\n",
       "| High_Iron | G. oceanica        | 1186 | 25.159101 |\n",
       "| Add_Back  | G. oceanica        | 1109 | 23.525668 |\n",
       "| High_Iron | G. huxleyi         | 1089 | 25.732514 |\n",
       "| Add_Back  | G. huxleyi         | 1022 | 24.149338 |\n",
       "\n"
      ],
      "text/plain": [
       "  Contrast  Organism           num.de.ko percent.de.ko\n",
       "1 Add_Back  C. closterium UGA4  198       6.655462    \n",
       "2 High_Iron C. closterium UGA8  254       9.000709    \n",
       "3 Add_Back  C. closterium UGA8  799      28.313253    \n",
       "4 High_Iron G. oceanica        1186      25.159101    \n",
       "5 Add_Back  G. oceanica        1109      23.525668    \n",
       "6 High_Iron G. huxleyi         1089      25.732514    \n",
       "7 Add_Back  G. huxleyi         1022      24.149338    "
      ]
     },
     "metadata": {},
     "output_type": "display_data"
    }
   ],
   "source": [
    "contrast = list('HvL' = c(\"treatment\", \"High_Iron\", \"Low_Iron\"),\n",
    "                'AvL' =c(\"treatment\", \"Add_Back\", \"Low_Iron\"))\n",
    "de_ko_output = data.frame('Contrast'=as.character(), 'Organism'=as.character(), \n",
    "                       'num.de.ko'=as.numeric(), 'percent.de.ko'=as.numeric())\n",
    "organism = list(de4.kegg, de8.kegg, de6.kegg, de13.kegg)\n",
    "\n",
    "for (o in organism) {\n",
    "     if (colData(o)[1,2] == colData(de4.kegg)[1,2]) {\n",
    "        isolate='C. closterium UGA4'\n",
    "    }else if (colData(o)[1,2] == colData(de8.kegg)[1,2]) {\n",
    "        isolate='C. closterium UGA8'\n",
    "    }else if (colData(o)[1,2] == colData(de6.kegg)[1,2]) {\n",
    "           isolate='G. oceanica'\n",
    "    }else if (colData(o)[1,2] == colData(de13.kegg)[1,2]) {            \n",
    "        isolate='G. huxleyi'}\n",
    "    for (c in contrast) {\n",
    "        if (isolate =='C. closterium UGA4' & c[2]=='High_Iron'){\n",
    "            next\n",
    "        }\n",
    "        de.c = results(o, contrast=c, tidy=TRUE)\n",
    "        de.percent = (nrow(filter(de.c,(padj < 0.05)==T))/nrow(o)*100)\n",
    "        de.num = nrow(filter(de.c,(padj < 0.05) ==T))\n",
    "        deAdd = data.frame('Contrast'= c[2], 'Organism'=isolate, 'num.de.ko'=de.num, 'percent.de.ko'=de.percent)\n",
    "        de_ko_output = rbind(de_ko_output, deAdd)\n",
    "    }\n",
    "        }\n",
    "write.csv(de_ko_output,'./de_res_files/de_ko_output.csv')\n",
    "de_ko_output"
   ]
  },
  {
   "cell_type": "markdown",
   "id": "d599de3a",
   "metadata": {},
   "source": [
    "## Now we have ordered vsd file and results file (for each comparison) for both transcript level and counts summarized at kegg annotation level. \n",
    "#### Taking these files we will create plots. \n",
    "## It might be best to use transcript level for ma plots and 'gene' level for clusterProfiler?"
   ]
  }
 ],
 "metadata": {
  "kernelspec": {
   "display_name": "R",
   "language": "R",
   "name": "ir"
  },
  "language_info": {
   "codemirror_mode": "r",
   "file_extension": ".r",
   "mimetype": "text/x-r-source",
   "name": "R",
   "pygments_lexer": "r",
   "version": "4.3.2"
  }
 },
 "nbformat": 4,
 "nbformat_minor": 5
}
